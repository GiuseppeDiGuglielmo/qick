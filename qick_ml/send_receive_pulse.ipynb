{
 "cells": [
  {
   "cell_type": "markdown",
   "metadata": {},
   "source": [
    "This notebook is based on the [send-receive-pulse demo](../qick_demos/00_Send_receive_pulse.ipynb)."
   ]
  },
  {
   "cell_type": "code",
   "execution_count": 1,
   "metadata": {},
   "outputs": [
    {
     "data": {
      "application/javascript": [
       "\n",
       "try {\n",
       "require(['notebook/js/codecell'], function(codecell) {\n",
       "  codecell.CodeCell.options_default.highlight_modes[\n",
       "      'magic_text/x-csrc'] = {'reg':[/^%%microblaze/]};\n",
       "  Jupyter.notebook.events.one('kernel_ready.Kernel', function(){\n",
       "      Jupyter.notebook.get_cells().map(function(cell){\n",
       "          if (cell.cell_type == 'code'){ cell.auto_highlight(); } }) ;\n",
       "  });\n",
       "});\n",
       "} catch (e) {};\n"
      ]
     },
     "metadata": {},
     "output_type": "display_data"
    },
    {
     "data": {
      "application/javascript": [
       "\n",
       "try {\n",
       "require(['notebook/js/codecell'], function(codecell) {\n",
       "  codecell.CodeCell.options_default.highlight_modes[\n",
       "      'magic_text/x-csrc'] = {'reg':[/^%%pybind11/]};\n",
       "  Jupyter.notebook.events.one('kernel_ready.Kernel', function(){\n",
       "      Jupyter.notebook.get_cells().map(function(cell){\n",
       "          if (cell.cell_type == 'code'){ cell.auto_highlight(); } }) ;\n",
       "  });\n",
       "});\n",
       "} catch (e) {};\n"
      ]
     },
     "metadata": {},
     "output_type": "display_data"
    },
    {
     "name": "stdout",
     "output_type": "stream",
     "text": [
      "Populating the interactive namespace from numpy and matplotlib\n"
     ]
    }
   ],
   "source": [
    "# Import the QICK drivers and auxiliary libraries\n",
    "from qick import *\n",
    "%pylab inline"
   ]
  },
  {
   "cell_type": "code",
   "execution_count": 2,
   "metadata": {},
   "outputs": [
    {
     "name": "stdout",
     "output_type": "stream",
     "text": [
      "Custom bitsream: /home/xilinx/jupyter_notebooks/qick/qick_ml/qick_216.bit\n"
     ]
    }
   ],
   "source": [
    "import os\n",
    "\n",
    "# Custom bistream\n",
    "FERMILAB_BIT = 'qick_216.bit'\n",
    "\n",
    "# Normalize path\n",
    "FERMILAB_BIT = os.path.normpath(os.getcwd() + '/' + FERMILAB_BIT)\n",
    "\n",
    "print('Custom bitsream:', FERMILAB_BIT)"
   ]
  },
  {
   "cell_type": "code",
   "execution_count": 3,
   "metadata": {},
   "outputs": [
    {
     "name": "stdout",
     "output_type": "stream",
     "text": [
      "\n",
      "QICK configuration:\n",
      "\n",
      "\tBoard: ZCU216\n",
      "\n",
      "\tSoftware version: 0.2.175\n",
      "\tFirmware timestamp: Tue Aug 29 10:29:03 2023\n",
      "\n",
      "\tGlobal clocks (MHz): tProcessor 430.080, RF reference 245.760\n",
      "\n",
      "\t7 signal generator channels:\n",
      "\t0:\taxis_signal_gen_v6 - tProc output 1, envelope memory 65536 samples\n",
      "\t\tDAC tile 2, blk 0, 32-bit DDS, fabric=430.080 MHz, f_dds=6881.280 MHz\n",
      "\t1:\taxis_signal_gen_v6 - tProc output 2, envelope memory 65536 samples\n",
      "\t\tDAC tile 2, blk 1, 32-bit DDS, fabric=430.080 MHz, f_dds=6881.280 MHz\n",
      "\t2:\taxis_signal_gen_v6 - tProc output 3, envelope memory 65536 samples\n",
      "\t\tDAC tile 2, blk 2, 32-bit DDS, fabric=430.080 MHz, f_dds=6881.280 MHz\n",
      "\t3:\taxis_signal_gen_v6 - tProc output 4, envelope memory 65536 samples\n",
      "\t\tDAC tile 2, blk 3, 32-bit DDS, fabric=430.080 MHz, f_dds=6881.280 MHz\n",
      "\t4:\taxis_signal_gen_v6 - tProc output 5, envelope memory 65536 samples\n",
      "\t\tDAC tile 3, blk 0, 32-bit DDS, fabric=430.080 MHz, f_dds=6881.280 MHz\n",
      "\t5:\taxis_signal_gen_v6 - tProc output 6, envelope memory 65536 samples\n",
      "\t\tDAC tile 3, blk 1, 32-bit DDS, fabric=430.080 MHz, f_dds=6881.280 MHz\n",
      "\t6:\taxis_signal_gen_v6 - tProc output 7, envelope memory 65536 samples\n",
      "\t\tDAC tile 3, blk 2, 32-bit DDS, fabric=430.080 MHz, f_dds=6881.280 MHz\n",
      "\n",
      "\t2 readout channels:\n",
      "\t0:\taxis_readout_v2 - controlled by PYNQ\n",
      "\t\tADC tile 2, blk 0, 32-bit DDS, fabric=307.200 MHz, fs=2457.600 MHz\n",
      "\t\tmaxlen 16384 (avg) 1024 (decimated)\n",
      "\t\ttriggered by output 0, pin 14, feedback to tProc input 0\n",
      "\t1:\taxis_readout_v2 - controlled by PYNQ\n",
      "\t\tADC tile 2, blk 2, 32-bit DDS, fabric=307.200 MHz, fs=2457.600 MHz\n",
      "\t\tmaxlen 16384 (avg) 1024 (decimated)\n",
      "\t\ttriggered by output 0, pin 15, feedback to tProc input 1\n",
      "\n",
      "\t7 DACs:\n",
      "\t\tDAC tile 2, blk 0 is 0_230, on JHC3\n",
      "\t\tDAC tile 2, blk 1 is 1_230, on JHC4\n",
      "\t\tDAC tile 2, blk 2 is 2_230, on JHC3\n",
      "\t\tDAC tile 2, blk 3 is 3_230, on JHC4\n",
      "\t\tDAC tile 3, blk 0 is 0_231, on JHC3\n",
      "\t\tDAC tile 3, blk 1 is 1_231, on JHC4\n",
      "\t\tDAC tile 3, blk 2 is 2_231, on JHC3\n",
      "\n",
      "\t2 ADCs:\n",
      "\t\tADC tile 2, blk 0 is 0_226, on JHC7\n",
      "\t\tADC tile 2, blk 2 is 2_226, on JHC7\n",
      "\n",
      "\t8 digital output pins:\n",
      "\t0:\tPMOD0_0_LS (output 0, pin 0)\n",
      "\t1:\tPMOD0_1_LS (output 0, pin 1)\n",
      "\t2:\tPMOD0_2_LS (output 0, pin 2)\n",
      "\t3:\tPMOD0_3_LS (output 0, pin 3)\n",
      "\t4:\tPMOD0_4_LS (output 0, pin 4)\n",
      "\t5:\tPMOD0_5_LS (output 0, pin 5)\n",
      "\t6:\tPMOD0_6_LS (output 0, pin 6)\n",
      "\t7:\tPMOD0_7_LS (output 0, pin 7)\n",
      "\n",
      "\ttProc axis_tproc64x32_x8: program memory 8192 words, data memory 4096 words\n",
      "\t\texternal start pin: PMOD1_0_LS\n"
     ]
    }
   ],
   "source": [
    "# Load bitstream with custom overlay\n",
    "soc = QickSoc(bitfile=FERMILAB_BIT)\n",
    "# Since we're running locally on the QICK, we don't need a separate QickConfig object.\n",
    "# If running remotely, you could generate a QickConfig from the QickSoc:\n",
    "#     soccfg = QickConfig(soc.get_cfg())\n",
    "# or save the config to file, and load it later:\n",
    "#     with open(\"qick_config.json\", \"w\") as f:\n",
    "#         f.write(soc.dump_cfg())\n",
    "#     soccfg = QickConfig(\"qick_config.json\")\n",
    "soccfg = soc\n",
    "print(soccfg)"
   ]
  },
  {
   "cell_type": "markdown",
   "metadata": {},
   "source": [
    "### Hardware Configuration\n",
    "\n",
    "generator channel 6   : DAC 229 CH3  <-> Readout channel 0 : ADC 224 CH0"
   ]
  },
  {
   "cell_type": "code",
   "execution_count": 4,
   "metadata": {},
   "outputs": [],
   "source": [
    "class LoopbackProgram(AveragerProgram):\n",
    "    def initialize(self):\n",
    "        cfg=self.cfg   \n",
    "        res_ch = cfg[\"res_ch\"]\n",
    "\n",
    "        # set the nyquist zone\n",
    "        self.declare_gen(ch=cfg[\"res_ch\"], nqz=1)\n",
    "        \n",
    "        # configure the readout lengths and downconversion frequencies (ensuring it is an available DAC frequency)\n",
    "        for ch in cfg[\"ro_chs\"]:\n",
    "            self.declare_readout(ch=ch, length=self.cfg[\"readout_length\"],\n",
    "                                 freq=self.cfg[\"pulse_freq\"], gen_ch=cfg[\"res_ch\"])\n",
    "\n",
    "        # convert frequency to DAC frequency (ensuring it is an available ADC frequency)\n",
    "        freq = self.freq2reg(cfg[\"pulse_freq\"],gen_ch=res_ch, ro_ch=cfg[\"ro_chs\"][0])\n",
    "        phase = self.deg2reg(cfg[\"res_phase\"], gen_ch=res_ch)\n",
    "        gain = cfg[\"pulse_gain\"]\n",
    "        self.default_pulse_registers(ch=res_ch, freq=freq, phase=phase, gain=gain)\n",
    "\n",
    "        style=self.cfg[\"pulse_style\"]\n",
    "\n",
    "        if style in [\"flat_top\",\"arb\"]:\n",
    "            sigma = cfg[\"sigma\"]\n",
    "            self.add_gauss(ch=res_ch, name=\"measure\", sigma=sigma, length=sigma*5)\n",
    "            \n",
    "        if style == \"const\":\n",
    "            self.set_pulse_registers(ch=res_ch, style=style, length=cfg[\"length\"])\n",
    "        elif style == \"flat_top\":\n",
    "            # The first half of the waveform ramps up the pulse, the second half ramps down the pulse\n",
    "            self.set_pulse_registers(ch=res_ch, style=style, waveform=\"measure\", length=cfg[\"length\"])\n",
    "        elif style == \"arb\":\n",
    "            self.set_pulse_registers(ch=res_ch, style=style, waveform=\"measure\")\n",
    "        \n",
    "        self.synci(200)  # give processor some time to configure pulses\n",
    "    \n",
    "    def body(self):\n",
    "        # fire the pulse\n",
    "        # trigger all declared ADCs\n",
    "        # pulse PMOD0_0 for a scope trigger\n",
    "        # pause the tProc until readout is done\n",
    "        # increment the time counter to give some time before the next measurement\n",
    "        # (the syncdelay also lets the tProc get back ahead of the clock)\n",
    "        self.measure(pulse_ch=self.cfg[\"res_ch\"], \n",
    "                     adcs=self.ro_chs,\n",
    "                     pins=[0], \n",
    "                     adc_trig_offset=self.cfg[\"adc_trig_offset\"],\n",
    "                     wait=True,\n",
    "                     syncdelay=self.us2cycles(self.cfg[\"relax_delay\"]))\n",
    "        \n",
    "        # equivalent to the following:\n",
    "#         self.trigger(adcs=self.ro_chs,\n",
    "#                      pins=[0], \n",
    "#                      adc_trig_offset=self.cfg[\"adc_trig_offset\"])\n",
    "#         self.pulse(ch=self.cfg[\"res_ch\"])\n",
    "#         self.wait_all()\n",
    "#         self.sync_all(self.us2cycles(self.cfg[\"relax_delay\"]))"
   ]
  },
  {
   "cell_type": "markdown",
   "metadata": {},
   "source": [
    "### Load an excited state"
   ]
  },
  {
   "cell_type": "code",
   "execution_count": 5,
   "metadata": {},
   "outputs": [
    {
     "data": {
      "application/vnd.jupyter.widget-view+json": {
       "model_id": "cb8b545979734691bf2fec8818946d28",
       "version_major": 2,
       "version_minor": 0
      },
      "text/plain": [
       "  0%|          | 0/1 [00:00<?, ?it/s]"
      ]
     },
     "metadata": {},
     "output_type": "display_data"
    }
   ],
   "source": [
    "config={\"res_ch\":6, # --Fixed\n",
    "        \"ro_chs\":[0], # --Fixed\n",
    "        \"reps\":1, # --Fixed\n",
    "        \"relax_delay\":1.0, # --us\n",
    "        \"res_phase\":45, # --degrees\n",
    "        \"pulse_style\": \"const\", # --Fixed\n",
    "        \n",
    "        \"length\":100, # [Clock ticks]\n",
    "        # Try varying length from 10-100 clock ticks\n",
    "        \n",
    "        \"readout_length\":200, # [Clock ticks]\n",
    "        # Try varying readout_length from 50-1000 clock ticks\n",
    "\n",
    "        \"pulse_gain\":6000, # [DAC units]\n",
    "        # Try varying pulse_gain from 500 to 30000 DAC units\n",
    "\n",
    "        \"pulse_freq\": 100, # [MHz]\n",
    "        # In this program the signal is up and downconverted digitally so you won't see any frequency\n",
    "        # components in the I/Q traces below. But since the signal gain depends on frequency, \n",
    "        # if you lower pulse_freq you will see an increased gain.\n",
    "\n",
    "        \"adc_trig_offset\": 100, # [Clock ticks]\n",
    "        # Try varying adc_trig_offset from 100 to 220 clock ticks\n",
    "\n",
    "        \"soft_avgs\":1\n",
    "        # Try varying soft_avgs from 1 to 200 averages\n",
    "\n",
    "       }\n",
    "\n",
    "###################\n",
    "# Try it yourself !\n",
    "###################\n",
    "\n",
    "prog =LoopbackProgram(soccfg, config)\n",
    "iq_list = prog.acquire_decimated(soc, load_pulses=True, progress=True, debug=False)"
   ]
  },
  {
   "cell_type": "code",
   "execution_count": 6,
   "metadata": {},
   "outputs": [
    {
     "data": {
      "image/png": "[encoded data removed]",
      "text/plain": [
       "<Figure size 432x288 with 1 Axes>"
      ]
     },
     "metadata": {
      "needs_background": "light"
     },
     "output_type": "display_data"
    }
   ],
   "source": [
    "# Plot results.\n",
    "plt.figure(1)\n",
    "for ii, iq in enumerate(iq_list):\n",
    "    plt.plot(iq[0], label=\"I value, ADC %d\"%(config['ro_chs'][ii]))\n",
    "    plt.plot(iq[1], label=\"Q value, ADC %d\"%(config['ro_chs'][ii]))\n",
    "    plt.plot(np.abs(iq[0]+1j*iq[1]), label=\"mag, ADC %d\"%(config['ro_chs'][ii]))\n",
    "plt.ylabel(\"a.u.\")\n",
    "plt.xlabel(\"Clock ticks\")\n",
    "plt.title(\"Averages = \" + str(config[\"soft_avgs\"]))\n",
    "plt.legend()\n",
    "plt.savefig(\"images/Send_recieve_pulse_const.pdf\", dpi=350)"
   ]
  },
  {
   "cell_type": "code",
   "execution_count": 7,
   "metadata": {},
   "outputs": [
    {
     "name": "stdout",
     "output_type": "stream",
     "text": [
      "Prediction: ground state\n",
      "Logit values as int: [ 1076887552 , 0 ]\n",
      "Logit values as hex: [ 0x40300000 , 0x0 ]\n",
      "Logit values as flt: [ 2.75 , 0.0 ]\n"
     ]
    }
   ],
   "source": [
    "from ctypes import *\n",
    "def to_float(i):\n",
    "    cp = pointer(c_int(i))\n",
    "    fp = cast(cp, POINTER(c_float))\n",
    "    return fp.contents.value\n",
    "\n",
    "from pynq import MMIO\n",
    "\n",
    "base_address = 0x00_A013_0000\n",
    "bram_size = 64\n",
    "\n",
    "mmio = MMIO(base_address, bram_size)\n",
    "ground_state_logit = mmio.read(0)\n",
    "excited_state_logit = mmio.read(4)\n",
    "if (ground_state_logit > excited_state_logit):\n",
    "    print(\"Prediction: ground state\")\n",
    "else:\n",
    "    print(\"Prediction: excited state\")\n",
    "print('Logit values as int: [', ground_state_logit, ',', excited_state_logit, ']')\n",
    "print('Logit values as hex: [', hex(ground_state_logit), ',', hex(excited_state_logit), ']')\n",
    "print('Logit values as flt: [', to_float(ground_state_logit), ',', to_float(excited_state_logit), ']')\n"
   ]
  },
  {
   "cell_type": "markdown",
   "metadata": {},
   "source": [
    "### Rep-to-rep consistency\n",
    "In this notebook we mostly use decimated readout (we acquire a full waveform, not just a single accumulated value). To avoid exhausting the waveform buffer, we usually run with reps=1 (the tProcessor program only fires+reads one pulse, and we run the program `soft_avgs` times).\n",
    "\n",
    "However, it's important to check that if you run a tProcessor loop with reps>1, the pulse looks the same in each iteration of the loop. So let's do a decimated readout with multiple reps; the 1024-sample buffer will allow for 10 reps of 100 samples each.\n",
    "\n",
    "Try changing the relax_delay to 0. You will see that the first rep appears in the same place, but the others are delayed by a bit because the tProcessor didn't have enough time between waiting for the measurement in one rep and firing the pulse in the next rep."
   ]
  },
  {
   "cell_type": "raw",
   "metadata": {},
   "source": [
    "config={\"res_ch\":6, # --Fixed\n",
    "        \"ro_chs\":[0], # --Fixed\n",
    "        \"reps\":10, # --Fixed\n",
    "        \"relax_delay\":1.0, # --us\n",
    "        \"res_phase\":0, # --degrees\n",
    "        \"pulse_style\": \"const\", # --Fixed\n",
    "        \n",
    "        \"length\":20, # [Clock ticks]\n",
    "        # Try varying length from 10-100 clock ticks\n",
    "        \n",
    "        \"readout_length\":100, # [Clock ticks]\n",
    "        # Try varying readout_length from 50-1000 clock ticks\n",
    "\n",
    "        \"pulse_gain\":3000, # [DAC units]\n",
    "        # Try varying pulse_gain from 500 to 30000 DAC units\n",
    "\n",
    "        \"pulse_freq\": 100, # [MHz]\n",
    "        # In this program the signal is up and downconverted digitally so you won't see any frequency\n",
    "        # components in the I/Q traces below. But since the signal gain depends on frequency, \n",
    "        # if you lower pulse_freq you will see an increased gain.\n",
    "\n",
    "        \"adc_trig_offset\": 100, # [Clock ticks]\n",
    "        # Try varying adc_trig_offset from 100 to 220 clock ticks\n",
    "\n",
    "        \"soft_avgs\":100\n",
    "        # Try varying soft_avgs from 1 to 200 averages\n",
    "\n",
    "       }\n",
    "\n",
    "###################\n",
    "# Try it yourself !\n",
    "###################\n",
    "\n",
    "prog =LoopbackProgram(soccfg, config)\n",
    "iq_list = prog.acquire_decimated(soc, load_pulses=True, progress=True, debug=False)\n",
    "\n",
    "plt.figure(1)\n",
    "for ii, iq in enumerate(iq_list[0]):\n",
    "#     plt.plot(iq[0], label=\"I value, rep %d\"%(ii))\n",
    "#     plt.plot(iq[1], label=\"Q value, rep %d\"%(ii))\n",
    "    plt.plot(np.abs(iq[0]+1j*iq[1]), label=\"mag, rep %d\"%(ii))\n",
    "plt.ylabel(\"a.u.\")\n",
    "plt.xlabel(\"Clock ticks\")\n",
    "plt.title(\"Averages = \" + str(config[\"soft_avgs\"]))\n",
    "plt.legend()\n"
   ]
  },
  {
   "cell_type": "markdown",
   "metadata": {},
   "source": [
    "### Multiple triggers\n",
    "You can send multiple triggers inside a loop. The `acquire()` and `acquire_decimated()` methods take a `readouts_per_experiment` parameter which must equal the number of triggers.\n",
    "\n",
    "Let's check the rep-to-rep consistency as well as the consistency between the first and second trigger."
   ]
  },
  {
   "cell_type": "raw",
   "metadata": {},
   "source": [
    "class DoubleTriggerProgram(AveragerProgram):\n",
    "    def initialize(self):\n",
    "        cfg=self.cfg   \n",
    "        res_ch = cfg[\"res_ch\"]\n",
    "\n",
    "        # set the nyquist zone\n",
    "        self.declare_gen(ch=cfg[\"res_ch\"], nqz=1)\n",
    "        \n",
    "        # configure the readout lengths and downconversion frequencies (ensuring it is an available DAC frequency)\n",
    "        for ch in cfg[\"ro_chs\"]:\n",
    "            self.declare_readout(ch=ch, length=self.cfg[\"readout_length\"],\n",
    "                                 freq=self.cfg[\"pulse_freq\"], gen_ch=cfg[\"res_ch\"])\n",
    "\n",
    "        # convert frequency to DAC frequency (ensuring it is an available ADC frequency)\n",
    "        freq = self.freq2reg(cfg[\"pulse_freq\"],gen_ch=res_ch, ro_ch=cfg[\"ro_chs\"][0])\n",
    "        phase = self.deg2reg(cfg[\"res_phase\"], gen_ch=res_ch)\n",
    "        gain = cfg[\"pulse_gain\"]\n",
    "        self.default_pulse_registers(ch=res_ch, freq=freq, phase=phase, gain=gain)\n",
    "\n",
    "        style=self.cfg[\"pulse_style\"]\n",
    "\n",
    "        if style in [\"flat_top\",\"arb\"]:\n",
    "            sigma = cfg[\"sigma\"]\n",
    "            self.add_gauss(ch=res_ch, name=\"measure\", sigma=sigma, length=sigma*5)\n",
    "            \n",
    "        if style == \"const\":\n",
    "            self.set_pulse_registers(ch=res_ch, style=style, length=cfg[\"length\"])\n",
    "        elif style == \"flat_top\":\n",
    "            # The first half of the waveform ramps up the pulse, the second half ramps down the pulse\n",
    "            self.set_pulse_registers(ch=res_ch, style=style, waveform=\"measure\", length=cfg[\"length\"])\n",
    "        elif style == \"arb\":\n",
    "            self.set_pulse_registers(ch=res_ch, style=style, waveform=\"measure\")\n",
    "        \n",
    "        self.synci(200)  # give processor some time to configure pulses\n",
    "    \n",
    "    def body(self):\n",
    "        # fire the same pulse+trigger twice, with 100 tProc clock ticks in between\n",
    "        # with the first ADC trigger, pulse PMOD0_0 for a scope trigger\n",
    "        # after the second pulse, pause the tProc until readout is done\n",
    "        # and increment the time counter to give some time before the next measurement\n",
    "        # (the syncdelay also lets the tProc get back ahead of the clock)\n",
    "        self.measure(pulse_ch=self.cfg[\"res_ch\"], \n",
    "                     adcs=self.ro_chs,\n",
    "                     pins=[0], \n",
    "                     adc_trig_offset=self.cfg[\"adc_trig_offset\"],\n",
    "                     syncdelay=100)\n",
    "        self.measure(pulse_ch=self.cfg[\"res_ch\"], \n",
    "                     adcs=self.ro_chs,\n",
    "                     adc_trig_offset=self.cfg[\"adc_trig_offset\"],\n",
    "                     wait=True,\n",
    "                     syncdelay=self.us2cycles(self.cfg[\"relax_delay\"]))\n",
    "\n",
    "config={\"res_ch\":6, # --Fixed\n",
    "        \"ro_chs\":[0], # --Fixed\n",
    "        \"reps\":5, # --Fixed\n",
    "        \"relax_delay\":1.0, # --us\n",
    "        \"res_phase\":0, # --degrees\n",
    "        \"pulse_style\": \"const\", # --Fixed\n",
    "        \n",
    "        \"length\":20, # [Clock ticks]\n",
    "        # Try varying length from 10-100 clock ticks\n",
    "        \n",
    "        \"readout_length\":100, # [Clock ticks]\n",
    "        # Try varying readout_length from 50-1000 clock ticks\n",
    "\n",
    "        \"pulse_gain\":3000, # [DAC units]\n",
    "        # Try varying pulse_gain from 500 to 30000 DAC units\n",
    "\n",
    "        \"pulse_freq\": 100, # [MHz]\n",
    "        # In this program the signal is up and downconverted digitally so you won't see any frequency\n",
    "        # components in the I/Q traces below. But since the signal gain depends on frequency, \n",
    "        # if you lower pulse_freq you will see an increased gain.\n",
    "\n",
    "        \"adc_trig_offset\": 100, # [Clock ticks]\n",
    "        # Try varying adc_trig_offset from 100 to 220 clock ticks\n",
    "\n",
    "        \"soft_avgs\":100\n",
    "        # Try varying soft_avgs from 1 to 200 averages\n",
    "       }\n",
    "\n",
    "prog = DoubleTriggerProgram(soccfg, config)\n",
    "# print(prog.acquire(soc, readouts_per_experiment=1))\n",
    "# print(prog.di_buf)\n",
    "iq_list = prog.acquire_decimated(soc, readouts_per_experiment=2)\n",
    "\n",
    "plt.figure(1)\n",
    "for rep in range(config['reps']):\n",
    "    for trig in range(2):\n",
    "        plt.plot(np.abs(iq_list[0][rep][trig][0]+1j*iq_list[0][rep][trig][1]), label=\"mag, rep %d trig %d\"%(rep, trig))\n",
    "plt.ylabel(\"a.u.\")\n",
    "plt.xlabel(\"Clock ticks\")\n",
    "plt.title(\"Averages = \" + str(config[\"soft_avgs\"]))\n",
    "plt.legend()"
   ]
  },
  {
   "cell_type": "markdown",
   "metadata": {},
   "source": [
    "### Multiple pulses\n",
    "\n",
    "Here's an example of playing multiple pulses from the same generator, with a 90-degree shift in the carrier phase between the two pulses."
   ]
  },
  {
   "cell_type": "raw",
   "metadata": {},
   "source": [
    "class DoublePulseProgram(AveragerProgram):\n",
    "    def initialize(self):\n",
    "        cfg=self.cfg   \n",
    "        res_ch = cfg[\"res_ch\"]\n",
    "\n",
    "        # set the nyquist zone\n",
    "        self.declare_gen(ch=cfg[\"res_ch\"], nqz=1)\n",
    "        \n",
    "        # configure the readout lengths and downconversion frequencies (ensuring it is an available DAC frequency)\n",
    "        for ch in cfg[\"ro_chs\"]:\n",
    "            self.declare_readout(ch=ch, length=self.cfg[\"readout_length\"],\n",
    "                                 freq=self.cfg[\"pulse_freq\"], gen_ch=cfg[\"res_ch\"])\n",
    "\n",
    "        # convert frequency to DAC frequency (ensuring it is an available ADC frequency)\n",
    "        freq = self.freq2reg(cfg[\"pulse_freq\"],gen_ch=res_ch, ro_ch=cfg[\"ro_chs\"][0])\n",
    "        gain = cfg[\"pulse_gain\"]\n",
    "\n",
    "        style=self.cfg[\"pulse_style\"]\n",
    "\n",
    "        if style in [\"flat_top\",\"arb\"]:\n",
    "            sigma = cfg[\"sigma\"]\n",
    "            self.add_gauss(ch=res_ch, name=\"measure\", sigma=sigma, length=sigma*5)\n",
    "            \n",
    "        if style == \"const\":\n",
    "            self.default_pulse_registers(ch=res_ch, style=style, freq=freq, gain=gain, \n",
    "                                         length=cfg[\"length\"])\n",
    "        elif style == \"flat_top\":\n",
    "            # The first half of the waveform ramps up the pulse, the second half ramps down the pulse\n",
    "            self.default_pulse_registers(ch=res_ch, style=style, freq=freq, gain=gain, \n",
    "                                         waveform=\"measure\", length=cfg[\"length\"])\n",
    "        elif style == \"arb\":\n",
    "            self.default_pulse_registers(ch=res_ch, style=style, freq=freq, gain=gain, \n",
    "                                         waveform=\"measure\")\n",
    "        \n",
    "        self.synci(200)  # give processor some time to configure pulses\n",
    "    \n",
    "    def body(self):\n",
    "        phase1 = self.deg2reg(self.cfg[\"res_phase\"], gen_ch=self.cfg[\"res_ch\"])\n",
    "        phase2 = self.deg2reg(self.cfg[\"res_phase\"]+90, gen_ch=self.cfg[\"res_ch\"])\n",
    "        # fire a single trigger, but two pulses offset by 200 tProc clock ticks\n",
    "        # with the first ADC trigger, pulse PMOD0_0 for a scope trigger\n",
    "        # after the full sequence is set up, pause the tProc until readout is done\n",
    "        # and increment the time counter to give some time before the next measurement\n",
    "        # (the syncdelay also lets the tProc get back ahead of the clock)\n",
    "        self.trigger(adcs=self.ro_chs,\n",
    "                     pins=[0], \n",
    "                     adc_trig_offset=self.cfg[\"adc_trig_offset\"])\n",
    "        self.set_pulse_registers(ch=self.cfg[\"res_ch\"], phase=phase1)\n",
    "        self.pulse(ch=self.cfg[\"res_ch\"], t=0)\n",
    "        self.set_pulse_registers(ch=self.cfg[\"res_ch\"], phase=phase2)\n",
    "        self.pulse(ch=self.cfg[\"res_ch\"], t=200)\n",
    "        self.wait_all()\n",
    "        self.sync_all(self.us2cycles(self.cfg[\"relax_delay\"]))\n",
    "\n",
    "config={\"res_ch\":6, # --Fixed\n",
    "        \"ro_chs\":[0], # --Fixed\n",
    "        \"reps\":1, # --Fixed\n",
    "        \"relax_delay\":1.0, # --us\n",
    "        \"res_phase\":0, # --degrees\n",
    "        \"pulse_style\": \"const\", # --Fixed\n",
    "        \n",
    "        \"length\":20, # [Clock ticks]\n",
    "        # Try varying length from 10-100 clock ticks\n",
    "        \n",
    "        \"readout_length\":400, # [Clock ticks]\n",
    "        # Try varying readout_length from 50-1000 clock ticks\n",
    "\n",
    "        \"pulse_gain\":3000, # [DAC units]\n",
    "        # Try varying pulse_gain from 500 to 30000 DAC units\n",
    "\n",
    "        \"pulse_freq\": 100, # [MHz]\n",
    "        # In this program the signal is up and downconverted digitally so you won't see any frequency\n",
    "        # components in the I/Q traces below. But since the signal gain depends on frequency, \n",
    "        # if you lower pulse_freq you will see an increased gain.\n",
    "\n",
    "        \"adc_trig_offset\": 100, # [Clock ticks]\n",
    "        # Try varying adc_trig_offset from 100 to 220 clock ticks\n",
    "\n",
    "        \"soft_avgs\":100\n",
    "        # Try varying soft_avgs from 1 to 200 averages\n",
    "       }\n",
    "\n",
    "prog = DoublePulseProgram(soccfg, config)\n",
    "# print(prog.acquire(soc))\n",
    "# print(prog.di_buf)\n",
    "iq_list = prog.acquire_decimated(soc)\n",
    "\n",
    "plt.figure(1)\n",
    "for ii, iq in enumerate(iq_list):\n",
    "    plt.plot(iq[0], label=\"I value, ADC %d\"%(config['ro_chs'][ii]))\n",
    "    plt.plot(iq[1], label=\"Q value, ADC %d\"%(config['ro_chs'][ii]))\n",
    "    plt.plot(np.abs(iq[0]+1j*iq[1]), label=\"mag, ADC %d\"%(config['ro_chs'][ii]))\n",
    "plt.ylabel(\"a.u.\")\n",
    "plt.xlabel(\"Clock ticks\")\n",
    "plt.title(\"Averages = \" + str(config[\"soft_avgs\"]))\n",
    "plt.legend()"
   ]
  },
  {
   "cell_type": "markdown",
   "metadata": {},
   "source": [
    "### Send/receive a pulse with <code> pulse_style </code> = <code> flat_top </code>"
   ]
  },
  {
   "cell_type": "raw",
   "metadata": {},
   "source": [
    "config={\"res_ch\":6, # --Fixed\n",
    "        \"ro_chs\":[0], # --Fixed\n",
    "        \"reps\":1, # --Fixed\n",
    "        \"relax_delay\":1.0, # --us\n",
    "        \"res_phase\":0, # --degrees\n",
    "        \"pulse_style\": \"flat_top\", # --Fixed\n",
    "        \"length\": 50, # [Clock ticks]\n",
    "        # Try varying  length from 10-100 clock ticks\n",
    "        \"sigma\": 30, # [Clock ticks]\n",
    "        # Try varying sigma from 10-50 clock ticks\n",
    "        \n",
    "        \"readout_length\":300, # [Clock ticks]\n",
    "        # Try varying readout_length from 50-1000 clock ticks\n",
    "\n",
    "        \"pulse_gain\":5000, # [DAC units]\n",
    "        # Try varying pulse_gain from 500 to 30000 DAC units\n",
    "\n",
    "        \"pulse_freq\": 100, # [MHz]\n",
    "        # In this program the signal is up and downconverted digitally so you won't see any frequency\n",
    "        # components in the I/Q traces below. But since the signal gain depends on frequency, \n",
    "        # if you lower pulse_freq you will see an increased gain.\n",
    "\n",
    "        \"adc_trig_offset\": 100, # [Clock ticks]\n",
    "        # Try varying adc_trig_offset from 100 to 220 clock ticks\n",
    "\n",
    "        \"soft_avgs\":100\n",
    "        # Try varying soft_avgs from 1 to 200 averages\n",
    "\n",
    "       }\n",
    "\n",
    "###################\n",
    "# Try it yourself !\n",
    "###################\n",
    "\n",
    "prog =LoopbackProgram(soccfg, config)\n",
    "iq_list = prog.acquire_decimated(soc, load_pulses=True, progress=True, debug=False)\n"
   ]
  },
  {
   "cell_type": "raw",
   "metadata": {},
   "source": [
    "# Plot results.\n",
    "plt.figure(1)\n",
    "for ii, iq in enumerate(iq_list):\n",
    "    plt.plot(iq[0], label=\"I value, ADC %d\"%(config['ro_chs'][ii]))\n",
    "    plt.plot(iq[1], label=\"Q value, ADC %d\"%(config['ro_chs'][ii]))\n",
    "    plt.plot(np.abs(iq[0]+1j*iq[1]), label=\"mag, ADC %d\"%(config['ro_chs'][ii]))\n",
    "plt.ylabel(\"a.u.\")\n",
    "plt.xlabel(\"Clock ticks\")\n",
    "plt.title(\"Averages = \" + str(config[\"soft_avgs\"]))\n",
    "plt.legend()\n",
    "plt.savefig(\"images/Send_recieve_pulse_flattop.pdf\", dpi=350)"
   ]
  },
  {
   "cell_type": "markdown",
   "metadata": {},
   "source": [
    "### Send/receive a pulse with <code> pulse_style </code> = <code> arb </code>"
   ]
  },
  {
   "cell_type": "code",
   "execution_count": null,
   "metadata": {},
   "outputs": [],
   "source": [
    "config={\"res_ch\":6, # --Fixed\n",
    "        \"ro_chs\":[0], # --Fixed\n",
    "        \"reps\":1, # --Fixed\n",
    "        \"relax_delay\":1.0, # --us\n",
    "        \"res_phase\":0, # --degrees\n",
    "        \"pulse_style\": \"arb\", # --Fixed\n",
    "        \n",
    "        \"sigma\": 30, # [Clock ticks]\n",
    "        # Try varying sigma from 10-50 clock ticks\n",
    "        \n",
    "        \"readout_length\":300, # [Clock ticks]\n",
    "        # Try varying readout_length from 50-1000 clock ticks\n",
    "\n",
    "        \"pulse_gain\":5000, # [DAC units]\n",
    "        # Try varying pulse_gain from 500 to 30000 DAC units\n",
    "\n",
    "        \"pulse_freq\": 100, # [MHz]\n",
    "        # In this program the signal is up and downconverted digitally so you won't see any frequency\n",
    "        # components in the I/Q traces below. But since the signal gain depends on frequency, \n",
    "        # if you lower pulse_freq you will see an increased gain.\n",
    "\n",
    "        \"adc_trig_offset\": 100, # [Clock ticks]\n",
    "        # Try varying adc_trig_offset from 100 to 220 clock ticks\n",
    "\n",
    "        \"soft_avgs\":100\n",
    "        # Try varying soft_avgs from 1 to 200 averages\n",
    "\n",
    "       }\n",
    "\n",
    "###################\n",
    "# Try it yourself !\n",
    "###################\n",
    "\n",
    "prog =LoopbackProgram(soccfg, config)\n",
    "iq_list = prog.acquire_decimated(soc, load_pulses=True, progress=True, debug=False)\n"
   ]
  },
  {
   "cell_type": "code",
   "execution_count": null,
   "metadata": {},
   "outputs": [],
   "source": [
    "# Plot results.\n",
    "plt.figure(1)\n",
    "for ii, iq in enumerate(iq_list):\n",
    "    plt.plot(iq[0], label=\"I value, ADC %d\"%(config['ro_chs'][ii]))\n",
    "    plt.plot(iq[1], label=\"Q value, ADC %d\"%(config['ro_chs'][ii]))\n",
    "    plt.plot(np.abs(iq[0]+1j*iq[1]), label=\"mag, ADC %d\"%(config['ro_chs'][ii]))\n",
    "plt.ylabel(\"a.u.\")\n",
    "plt.xlabel(\"Clock ticks\")\n",
    "plt.title(\"Averages = \" + str(config[\"soft_avgs\"]))\n",
    "plt.legend()\n",
    "plt.savefig(\"images/Send_recieve_pulse_arb.pdf\", dpi=350)"
   ]
  },
  {
   "cell_type": "markdown",
   "metadata": {},
   "source": [
    "### Compare the two main ways of acquiring data: <code>prog.acquire_decimated</code> and <code>prog.acquire</code>\n",
    "\n",
    "In the previous two demonstrations we used <code>prog.acquire_decimated</code> which uses the QICK decimated buffer (acquiring a whole time trace of data for every measurement shot. The QICK accumulated buffer is used in <code>prog.acquire</code>, which acquires a single I/Q data point per measurement shot- the average of the I/Q values in the decimated buffer. In qubit experiments we will be mainly using <code>prog.acquire</code> since for every shot we only need one I/Q value to assess the state of the qubit. So let's verify that <code>prog.acquire_decimated</code> and <code>prog.acquire</code> produce similar results (to within +/- 1 DAC units)."
   ]
  },
  {
   "cell_type": "code",
   "execution_count": null,
   "metadata": {},
   "outputs": [],
   "source": [
    "# First, lets collect the results with the decimated buffer as we did before.\n",
    "config={\"res_ch\":6, # --Fixed\n",
    "        \"ro_chs\":[0], # --Fixed\n",
    "        \"reps\":1, # --Fixed\n",
    "        \"relax_delay\":1, # --Fixed\n",
    "        \"res_phase\":0, # --Fixed\n",
    "        \"pulse_style\": \"const\", # --Fixed\n",
    "        \"length\":20, # [Clock ticks]        \n",
    "        \"readout_length\":200, # [Clock ticks]\n",
    "        \"pulse_gain\":10000, # [DAC units]\n",
    "        \"pulse_freq\": 100, # [MHz]\n",
    "        \"adc_trig_offset\": 100, # [Clock ticks]\n",
    "        \"soft_avgs\":100\n",
    "       }\n",
    "\n",
    "prog =LoopbackProgram(soccfg, config)\n",
    "iq_list = prog.acquire_decimated(soc, load_pulses=True, progress=True, debug=False)\n"
   ]
  },
  {
   "cell_type": "code",
   "execution_count": null,
   "metadata": {},
   "outputs": [],
   "source": [
    "print(\"I value; ADC 0; Decimated buffer: \",  np.mean(iq_list[0][0]))\n",
    "print(\"Q value; ADC 0; Decimated buffer: \", np.mean(iq_list[0][1]))\n"
   ]
  },
  {
   "cell_type": "code",
   "execution_count": null,
   "metadata": {},
   "outputs": [],
   "source": [
    "# Now, lets collect the results with the accumulated buffer. \n",
    "config[\"reps\"] = 100; # Set reps equal to soft_avgs in the prior acquisition method\n",
    "\n",
    "prog =LoopbackProgram(soccfg, config)\n",
    "avgi, avgq = prog.acquire(soc, load_pulses=True)"
   ]
  },
  {
   "cell_type": "code",
   "execution_count": null,
   "metadata": {
    "scrolled": true
   },
   "outputs": [],
   "source": [
    "print(\"I value; ADC 0; Accumulated buffer: \", avgi[0])\n",
    "print(\"Q value; ADC 0; Accumulated buffer: \", avgq[0])\n"
   ]
  },
  {
   "cell_type": "markdown",
   "metadata": {},
   "source": [
    "### Printing the program\n",
    "It's sometimes useful to print the program in ASM format, to get a feeling for what's going on."
   ]
  },
  {
   "cell_type": "code",
   "execution_count": null,
   "metadata": {
    "scrolled": false
   },
   "outputs": [],
   "source": [
    "print(prog)"
   ]
  }
 ],
 "metadata": {
  "kernelspec": {
   "display_name": "Python 3",
   "language": "python",
   "name": "python3"
  },
  "language_info": {
   "codemirror_mode": {
    "name": "ipython",
    "version": 3
   },
   "file_extension": ".py",
   "mimetype": "text/x-python",
   "name": "python",
   "nbconvert_exporter": "python",
   "pygments_lexer": "ipython3",
   "version": "3.8.2"
  }
 },
 "nbformat": 4,
 "nbformat_minor": 2
}
