{
 "cells": [
  {
   "cell_type": "markdown",
   "metadata": {},
   "source": [
    "# Send and receive a pulse "
   ]
  },
  {
   "cell_type": "markdown",
   "metadata": {},
   "source": [
    "This notebook is based on the [send-receive-pulse demo](../qick_demos/00_Send_receive_pulse.ipynb)."
   ]
  },
  {
   "cell_type": "code",
   "execution_count": 1,
   "metadata": {},
   "outputs": [
    {
     "data": {
      "application/javascript": [
       "\n",
       "try {\n",
       "require(['notebook/js/codecell'], function(codecell) {\n",
       "  codecell.CodeCell.options_default.highlight_modes[\n",
       "      'magic_text/x-csrc'] = {'reg':[/^%%microblaze/]};\n",
       "  Jupyter.notebook.events.one('kernel_ready.Kernel', function(){\n",
       "      Jupyter.notebook.get_cells().map(function(cell){\n",
       "          if (cell.cell_type == 'code'){ cell.auto_highlight(); } }) ;\n",
       "  });\n",
       "});\n",
       "} catch (e) {};\n"
      ]
     },
     "metadata": {},
     "output_type": "display_data"
    },
    {
     "data": {
      "application/javascript": [
       "\n",
       "try {\n",
       "require(['notebook/js/codecell'], function(codecell) {\n",
       "  codecell.CodeCell.options_default.highlight_modes[\n",
       "      'magic_text/x-csrc'] = {'reg':[/^%%pybind11/]};\n",
       "  Jupyter.notebook.events.one('kernel_ready.Kernel', function(){\n",
       "      Jupyter.notebook.get_cells().map(function(cell){\n",
       "          if (cell.cell_type == 'code'){ cell.auto_highlight(); } }) ;\n",
       "  });\n",
       "});\n",
       "} catch (e) {};\n"
      ]
     },
     "metadata": {},
     "output_type": "display_data"
    },
    {
     "name": "stdout",
     "output_type": "stream",
     "text": [
      "Populating the interactive namespace from numpy and matplotlib\n"
     ]
    }
   ],
   "source": [
    "# Import the QICK drivers and auxiliary libraries\n",
    "from qick import *\n",
    "%pylab inline"
   ]
  },
  {
   "cell_type": "code",
   "execution_count": 2,
   "metadata": {},
   "outputs": [
    {
     "name": "stdout",
     "output_type": "stream",
     "text": [
      "Custom bitsream: /home/xilinx/jupyter_notebooks/qick/qick_ml/216/qick_216.bit\n"
     ]
    }
   ],
   "source": [
    "import os\n",
    "\n",
    "# Custom bistream\n",
    "\n",
    "# QICK\n",
    "#CUSTOM_BIT = '216/qick_216_orig.bit'\n",
    "#CUSTOM_BIT = '111_rfbv2/qick_111_rfbv2_orig.bit'\n",
    "\n",
    "# QICK + ILAs\n",
    "#CUSTOM_BIT = '216/qick_216_ila.bit'\n",
    "#CUSTOM_BIT = '111_rfbv2/qick_111_rfbv2_ila.bit'\n",
    "\n",
    "# QICK + NN + ILAs\n",
    "CUSTOM_BIT = '216/qick_216.bit'\n",
    "#CUSTOM_BIT = '111_rfbv2/qick.bit'\n",
    "\n",
    "# Normalize path\n",
    "CUSTOM_BIT_FULL_PATH = os.path.normpath(os.getcwd() + '/' + CUSTOM_BIT)\n",
    "\n",
    "print('Custom bitsream:', CUSTOM_BIT_FULL_PATH)"
   ]
  },
  {
   "cell_type": "code",
   "execution_count": 3,
   "metadata": {},
   "outputs": [
    {
     "name": "stdout",
     "output_type": "stream",
     "text": [
      "\n",
      "QICK configuration:\n",
      "\n",
      "\tBoard: ZCU216\n",
      "\n",
      "\tSoftware version: 0.2.199\n",
      "\tFirmware timestamp: Mon Aug 21 11:09:34 2023\n",
      "\n",
      "\tGlobal clocks (MHz): tProcessor 430.080, RF reference 245.760\n",
      "\n",
      "\t7 signal generator channels:\n",
      "\t0:\taxis_signal_gen_v6 - tProc output 1, envelope memory 65536 samples\n",
      "\t\tDAC tile 2, blk 0, 32-bit DDS, fabric=430.080 MHz, f_dds=6881.280 MHz\n",
      "\t1:\taxis_signal_gen_v6 - tProc output 2, envelope memory 65536 samples\n",
      "\t\tDAC tile 2, blk 1, 32-bit DDS, fabric=430.080 MHz, f_dds=6881.280 MHz\n",
      "\t2:\taxis_signal_gen_v6 - tProc output 3, envelope memory 65536 samples\n",
      "\t\tDAC tile 2, blk 2, 32-bit DDS, fabric=430.080 MHz, f_dds=6881.280 MHz\n",
      "\t3:\taxis_signal_gen_v6 - tProc output 4, envelope memory 65536 samples\n",
      "\t\tDAC tile 2, blk 3, 32-bit DDS, fabric=430.080 MHz, f_dds=6881.280 MHz\n",
      "\t4:\taxis_signal_gen_v6 - tProc output 5, envelope memory 65536 samples\n",
      "\t\tDAC tile 3, blk 0, 32-bit DDS, fabric=430.080 MHz, f_dds=6881.280 MHz\n",
      "\t5:\taxis_signal_gen_v6 - tProc output 6, envelope memory 65536 samples\n",
      "\t\tDAC tile 3, blk 1, 32-bit DDS, fabric=430.080 MHz, f_dds=6881.280 MHz\n",
      "\t6:\taxis_signal_gen_v6 - tProc output 7, envelope memory 65536 samples\n",
      "\t\tDAC tile 3, blk 2, 32-bit DDS, fabric=430.080 MHz, f_dds=6881.280 MHz\n",
      "\n",
      "\t2 readout channels:\n",
      "\t0:\taxis_readout_v2 - controlled by PYNQ\n",
      "\t\tADC tile 2, blk 0, 32-bit DDS, fabric=307.200 MHz, f_dds=2457.600 MHz\n",
      "\t\tmaxlen 16384 (avg) 1024 (decimated)\n",
      "\t\ttriggered by output 0, pin 14, feedback to tProc input 0\n",
      "\t1:\taxis_readout_v2 - controlled by PYNQ\n",
      "\t\tADC tile 2, blk 2, 32-bit DDS, fabric=307.200 MHz, f_dds=2457.600 MHz\n",
      "\t\tmaxlen 16384 (avg) 1024 (decimated)\n",
      "\t\ttriggered by output 0, pin 15, feedback to tProc input 1\n",
      "\n",
      "\t7 DACs:\n",
      "\t\tDAC tile 2, blk 0 is 0_230, on JHC3\n",
      "\t\tDAC tile 2, blk 1 is 1_230, on JHC4\n",
      "\t\tDAC tile 2, blk 2 is 2_230, on JHC3\n",
      "\t\tDAC tile 2, blk 3 is 3_230, on JHC4\n",
      "\t\tDAC tile 3, blk 0 is 0_231, on JHC3\n",
      "\t\tDAC tile 3, blk 1 is 1_231, on JHC4\n",
      "\t\tDAC tile 3, blk 2 is 2_231, on JHC3\n",
      "\n",
      "\t2 ADCs:\n",
      "\t\tADC tile 2, blk 0 is 0_226, on JHC7\n",
      "\t\tADC tile 2, blk 2 is 2_226, on JHC7\n",
      "\n",
      "\t8 digital output pins:\n",
      "\t0:\tPMOD0_0_LS (output 0, pin 0)\n",
      "\t1:\tPMOD0_1_LS (output 0, pin 1)\n",
      "\t2:\tPMOD0_2_LS (output 0, pin 2)\n",
      "\t3:\tPMOD0_3_LS (output 0, pin 3)\n",
      "\t4:\tPMOD0_4_LS (output 0, pin 4)\n",
      "\t5:\tPMOD0_5_LS (output 0, pin 5)\n",
      "\t6:\tPMOD0_6_LS (output 0, pin 6)\n",
      "\t7:\tPMOD0_7_LS (output 0, pin 7)\n",
      "\n",
      "\ttProc axis_tproc64x32_x8: program memory 8192 words, data memory 4096 words\n",
      "\t\texternal start pin: PMOD1_0_LS\n",
      "\n",
      "\tDDR4 memory buffer: 1073741824 samples, 128 samples/transfer\n",
      "\t\twired to readouts [0, 1], triggered by output 0, pin 13\n",
      "\n",
      "\tMR buffer: 8192 samples, wired to readouts [0, 1], triggered by output 0, pin 12\n"
     ]
    }
   ],
   "source": [
    "# Load bitstream with custom overlay\n",
    "#soc = QickSoc(bitfile=CUSTOM_BIT_FULL_PATH)\n",
    "soc = QickSoc()\n",
    "# Since we're running locally on the QICK, we don't need a separate QickConfig object.\n",
    "# If running remotely, you could generate a QickConfig from the QickSoc:\n",
    "#     soccfg = QickConfig(soc.get_cfg())\n",
    "# or save the config to file, and load it later:\n",
    "#     with open(\"qick_config.json\", \"w\") as f:\n",
    "#         f.write(soc.dump_cfg())\n",
    "#     soccfg = QickConfig(\"qick_config.json\")\n",
    "soccfg = soc\n",
    "print(soccfg)"
   ]
  },
  {
   "cell_type": "code",
   "execution_count": 4,
   "metadata": {},
   "outputs": [
    {
     "name": "stdout",
     "output_type": "stream",
     "text": [
      "Loaded bitstream: /home/xilinx/jupyter_notebooks/qick/qick_lib/qick/qick_216.bit\n"
     ]
    }
   ],
   "source": [
    "print('Loaded bitstream:', soccfg.bitfile_name)"
   ]
  },
  {
   "cell_type": "markdown",
   "metadata": {},
   "source": [
    "### Hardware Configuration\n",
    "\n",
    "generator channel 6   : DAC 229 CH3  <-> Readout channel 0 : ADC 224 CH0"
   ]
  },
  {
   "cell_type": "code",
   "execution_count": 5,
   "metadata": {},
   "outputs": [],
   "source": [
    "class LoopbackProgram(AveragerProgram):\n",
    "    def initialize(self):\n",
    "        cfg=self.cfg   \n",
    "        res_ch = cfg[\"res_ch\"]\n",
    "\n",
    "        # set the nyquist zone\n",
    "        self.declare_gen(ch=cfg[\"res_ch\"], nqz=1)\n",
    "        \n",
    "        # configure the readout lengths and downconversion frequencies (ensuring it is an available DAC frequency)\n",
    "        for ch in cfg[\"ro_chs\"]:\n",
    "            self.declare_readout(ch=ch, length=self.cfg[\"readout_length\"],\n",
    "                                 freq=self.cfg[\"pulse_freq\"], gen_ch=cfg[\"res_ch\"])\n",
    "\n",
    "        # convert frequency to DAC frequency (ensuring it is an available ADC frequency)\n",
    "        freq = self.freq2reg(cfg[\"pulse_freq\"],gen_ch=res_ch, ro_ch=cfg[\"ro_chs\"][0])\n",
    "        phase = self.deg2reg(cfg[\"res_phase\"], gen_ch=res_ch)\n",
    "        gain = cfg[\"pulse_gain\"]\n",
    "        self.default_pulse_registers(ch=res_ch, freq=freq, phase=phase, gain=gain)\n",
    "\n",
    "        style=self.cfg[\"pulse_style\"]\n",
    "\n",
    "        if style in [\"flat_top\",\"arb\"]:\n",
    "            sigma = cfg[\"sigma\"]\n",
    "            self.add_gauss(ch=res_ch, name=\"measure\", sigma=sigma, length=sigma*5)\n",
    "            \n",
    "        if style == \"const\":\n",
    "            self.set_pulse_registers(ch=res_ch, style=style, length=cfg[\"length\"])\n",
    "        elif style == \"flat_top\":\n",
    "            # The first half of the waveform ramps up the pulse, the second half ramps down the pulse\n",
    "            self.set_pulse_registers(ch=res_ch, style=style, waveform=\"measure\", length=cfg[\"length\"])\n",
    "        elif style == \"arb\":\n",
    "            self.set_pulse_registers(ch=res_ch, style=style, waveform=\"measure\")\n",
    "        \n",
    "        self.synci(200)  # give processor some time to configure pulses\n",
    "    \n",
    "    def body(self):\n",
    "        # fire the pulse\n",
    "        # trigger all declared ADCs\n",
    "        # pulse PMOD0_0 for a scope trigger\n",
    "        # pause the tProc until readout is done\n",
    "        # increment the time counter to give some time before the next measurement\n",
    "        # (the syncdelay also lets the tProc get back ahead of the clock)\n",
    "        self.measure(pulse_ch=self.cfg[\"res_ch\"], \n",
    "                     adcs=self.ro_chs,\n",
    "                     pins=[0], \n",
    "                     adc_trig_offset=self.cfg[\"adc_trig_offset\"],\n",
    "                     wait=True,\n",
    "                     syncdelay=self.us2cycles(self.cfg[\"relax_delay\"]))\n",
    "        \n",
    "        # equivalent to the following:\n",
    "#         self.trigger(adcs=self.ro_chs,\n",
    "#                      pins=[0], \n",
    "#                      adc_trig_offset=self.cfg[\"adc_trig_offset\"])\n",
    "#         self.pulse(ch=self.cfg[\"res_ch\"])\n",
    "#         self.wait_all()\n",
    "#         self.sync_all(self.us2cycles(self.cfg[\"relax_delay\"]))"
   ]
  },
  {
   "cell_type": "markdown",
   "metadata": {},
   "source": [
    "### Load an excited state"
   ]
  },
  {
   "cell_type": "code",
   "execution_count": 6,
   "metadata": {},
   "outputs": [],
   "source": [
    "config={\"res_ch\": 6, # --Fixed\n",
    "        \"ro_chs\": [0], # --Fixed\n",
    "        \"reps\": 1, # --Fixed\n",
    "        \"relax_delay\": 1.0, # --us\n",
    "        \"res_phase\": 0, # --degrees\n",
    "        \"pulse_style\": \"const\", # --Fixed\n",
    "\n",
    "        \"length\":20, # [Clock ticks]\n",
    "        # Try varying length from 10-100 clock ticks\n",
    "        \n",
    "        \"readout_length\":100, # [Clock ticks]\n",
    "        # Try varying readout_length from 50-1000 clock ticks\n",
    "\n",
    "        \"pulse_gain\":3000, # [DAC units]\n",
    "        # Try varying pulse_gain from 500 to 30000 DAC units\n",
    "\n",
    "        \"pulse_freq\": 250, # [MHz]\n",
    "        # In this program the signal is up and downconverted digitally so you won't see any frequency\n",
    "        # components in the I/Q traces below. But since the signal gain depends on frequency, \n",
    "        # if you lower pulse_freq you will see an increased gain.\n",
    "\n",
    "        \"adc_trig_offset\": 100, # [Clock ticks]\n",
    "        # Try varying adc_trig_offset from 100 to 220 clock ticks\n",
    "\n",
    "        \"soft_avgs\": 100\n",
    "        # Try varying soft_avgs from 1 to 200 averages        \n",
    "        \n",
    "       }"
   ]
  },
  {
   "cell_type": "code",
   "execution_count": 7,
   "metadata": {},
   "outputs": [],
   "source": [
    "#########################################################\n",
    "# If you are running Vivado ILA, it is time to arm them #\n",
    "#########################################################"
   ]
  },
  {
   "cell_type": "code",
   "execution_count": 8,
   "metadata": {},
   "outputs": [
    {
     "data": {
      "application/vnd.jupyter.widget-view+json": {
       "model_id": "bfe251279f4043c4a72f718a985ff695",
       "version_major": 2,
       "version_minor": 0
      },
      "text/plain": [
       "  0%|          | 0/100 [00:00<?, ?it/s]"
      ]
     },
     "metadata": {},
     "output_type": "display_data"
    },
    {
     "data": {
      "image/png": "[encoded data removed]",
      "text/plain": [
       "<Figure size 432x288 with 1 Axes>"
      ]
     },
     "metadata": {
      "needs_background": "light"
     },
     "output_type": "display_data"
    }
   ],
   "source": [
    "prog =LoopbackProgram(soccfg, config)\n",
    "    \n",
    "iq_list = prog.acquire_decimated(soc, progress=True)\n",
    "    \n",
    "# Plot results.\n",
    "for ii, iq in enumerate(iq_list):\n",
    "    plt.plot(iq[0], label=\"I value, ADC %d\"%(config['ro_chs'][ii]), color='C0')\n",
    "    plt.plot(iq[1], label=\"Q value, ADC %d\"%(config['ro_chs'][ii]), color='C1')\n",
    "    #plt.plot(np.abs(iq[0]+1j*iq[1]), label=\"mag, ADC %d\"%(config['ro_chs'][ii]))\n",
    "    plt.ylabel(\"a.u.\")\n",
    "    plt.xlabel(\"Clock ticks\")\n",
    "    plt.title(\"Averages = \" + str(config[\"soft_avgs\"]))\n",
    "    #plt.legend()\n",
    "    #plt.show()\n",
    "plt.savefig(\"images/send_receive_pulse_const.png\", dpi=350)    "
   ]
  },
  {
   "cell_type": "code",
   "execution_count": 9,
   "metadata": {},
   "outputs": [
    {
     "name": "stdout",
     "output_type": "stream",
     "text": [
      "Sequence length: 200\n",
      "I (lo, data[15:0])\n",
      "[ 4.0000e-02 -1.3000e-01 -1.7000e-01  1.5000e-01  1.3000e-01  1.0000e-01\n",
      "  7.0000e-02  2.0000e-02  5.0000e-02  1.0000e-01  5.0000e-02  1.4000e-01\n",
      "  1.0000e-02 -1.0000e-01 -6.0000e-02 -3.0000e-02  6.0000e-02  1.3000e-01\n",
      " -3.0000e-02  1.0000e-02 -2.0000e-02 -9.0000e-02  7.0000e-02 -3.0000e-02\n",
      " -2.1000e-01 -1.0000e-01 -2.0000e-02  8.0000e-02 -1.1000e-01 -1.3000e-01\n",
      "  4.0000e-02 -1.5000e-01 -8.0000e-02  2.2000e-01  4.0000e-02 -4.0000e-02\n",
      " -6.0000e-02 -2.0000e-01 -6.0000e-02  1.0000e-02 -4.0000e-02  8.0000e-02\n",
      "  3.0000e-02 -1.2000e-01 -1.0000e-01 -1.0000e-02  1.0000e-01  5.0000e-02\n",
      "  6.0000e-02  1.3000e-01  8.0000e-02  4.0000e-02  8.0000e-02 -4.0000e-02\n",
      " -1.1000e-01  3.0000e-02  1.4000e-01 -4.0000e-02  3.3000e-01  3.6600e+00\n",
      "  3.6800e+00  8.0000e-02  8.6300e+00 -4.1700e+00  1.2330e+01  1.3346e+02\n",
      "  2.0972e+02  1.9532e+02  1.9659e+02  2.0029e+02  1.9630e+02  1.9948e+02\n",
      "  2.0103e+02  1.9885e+02  1.9664e+02  2.0099e+02  1.9460e+02  1.9888e+02\n",
      "  2.0469e+02  1.0690e+02  2.2000e-01  1.0000e-02  7.4000e+00  1.0000e-01\n",
      "  4.2000e+00  2.7300e+00  1.9000e-01  1.1000e-01 -1.0000e-02 -1.0000e-02\n",
      "  4.0000e-02 -4.0000e-02 -6.0000e-02 -2.0000e-02  2.0000e-02 -7.0000e-02\n",
      " -1.3000e-01 -1.9000e-01 -7.0000e-02  6.0000e-02]\n",
      "Q (hi, data[31:16])\n",
      "[-2.000e-01 -1.200e-01  5.000e-02 -8.000e-02 -1.400e-01 -7.000e-02\n",
      " -9.000e-02  1.500e-01  1.100e-01 -9.000e-02  5.000e-02  1.800e-01\n",
      "  1.300e-01  3.000e-02  3.000e-02 -7.000e-02 -1.900e-01  2.000e-02\n",
      "  7.000e-02 -1.700e-01  0.000e+00  2.700e-01  1.800e-01  5.000e-02\n",
      "  1.300e-01 -4.000e-02  7.000e-02  1.300e-01  1.000e-02  4.000e-02\n",
      " -1.700e-01 -3.100e-01 -8.000e-02  4.000e-02 -8.000e-02 -1.500e-01\n",
      "  6.000e-02  9.000e-02  6.000e-02 -7.000e-02 -2.200e-01 -9.000e-02\n",
      " -9.000e-02 -8.000e-02 -4.000e-02 -1.400e-01 -5.000e-02 -3.000e-02\n",
      " -2.000e-02  1.000e-01  1.300e-01  4.000e-02  4.000e-02 -1.100e-01\n",
      " -8.000e-02 -1.000e-02 -7.000e-02  1.000e-02 -5.000e-02 -1.090e+00\n",
      " -9.000e-01 -1.300e-01 -2.570e+00  1.940e+00 -5.440e+00 -4.300e+01\n",
      " -6.247e+01 -5.748e+01 -5.865e+01 -5.945e+01 -5.839e+01 -5.928e+01\n",
      " -5.986e+01 -5.900e+01 -5.821e+01 -5.981e+01 -5.762e+01 -5.927e+01\n",
      " -6.077e+01 -3.016e+01  3.400e-01 -6.400e-01 -1.950e+00 -6.000e-02\n",
      " -1.420e+00 -4.700e-01  1.100e-01 -1.900e-01 -6.000e-02  2.100e-01\n",
      "  3.000e-01  9.000e-02 -8.000e-02  1.100e-01  0.000e+00  2.000e-02\n",
      " -1.100e-01 -8.000e-02  1.300e-01  3.000e-02]\n",
      "[0, 0, 0, 0, 0, 0, 0, 0, 0, 0, 0, 0, 0, 0, 0, 0, 0, 0, 0, 0, 0, 0, 0, 0, 0, 0, 0, 0, 0, 0, 0, 0, 0, 0, 0, 0, 0, 0, 0, 0, 0, 0, 0, 0, 0, 0, 0, 0, 0, 0, 0, 0, 0, 0, 0, 0, 0, 0, 0, 0, 0, 0, 0, 0, 0, 0, 0, 0, 0, 0, 0, 0, 0, 0, 0, 0, 0, 0, 0, 0, 0, 0, 0, 0, 0, 0, 0, 0, 0, 0, 0, 0, 0, 0, 0, 0, 0, 0, 0, 0, 0, 0, 0, 0, 0, 0, 0, 0, 0, 0, 0, 0, 0, 0, 0, 0, 0, 0, 3, -1, 3, 0, 0, 0, 8, -2, -4, 1, 12, -5, 133, -43, 209, -62, 195, -57, 196, -58, 200, -59, 196, -58, 199, -59, 201, -59, 198, -59, 196, -58, 200, -59, 194, -57, 198, -59, 204, -60, 106, -30, 0, 0, 0, 0, 7, -1, 0, 0, 4, -1, 2, 0, 0, 0, 0, 0, 0, 0, 0, 0, 0, 0, 0, 0, 0, 0, 0, 0, 0, 0, 0, 0, 0, 0, 0, 0, 0, 0, 0, 0]\n"
     ]
    }
   ],
   "source": [
    "import struct\n",
    "def float_to_hex32(f):\n",
    "    return format(struct.unpack('!I', struct.pack('!f', f))[0], '08x')\n",
    "\n",
    "def int_to_twos_complement_hex32(n):\n",
    "    # If the number is negative, get its two's complement\n",
    "    if n < 0:\n",
    "        n = (1 << 32) + n  # \"Wrap around\" to get 32-bit two's complement\n",
    "    return format(n, '08x')\n",
    "\n",
    "# Save trace.\n",
    "iq = iq_list[0]\n",
    "\n",
    "# Shows I and Q sequence\n",
    "iq_sequence = [list(item) for item in zip(*iq)]\n",
    "iq_sequence = [int(item) for sublist in iq_sequence for item in sublist]\n",
    "\n",
    "# Float value as hex\n",
    "#hex_iq_sequence_flt = [float_to_hex32(num) for num in iq_sequence]\n",
    "\n",
    "# Float -> Int value as hex\n",
    "#hex_iq_sequence_dec = [int_to_twos_complement_hex32(int(i)) for i in iq_sequence]\n",
    "\n",
    "print('Sequence length:', len(iq_sequence))\n",
    "print('I (lo, data[15:0])')\n",
    "print(iq[0])\n",
    "print('Q (hi, data[31:16])')\n",
    "print(iq[1])\n",
    "\n",
    "print(iq_sequence)\n",
    "\n",
    "#print(hex_iq_sequence_flt)\n",
    "#print(hex_iq_sequence_dec)\n",
    "\n",
    "#for i in range(0,len(iq_sequence),2):\n",
    "#    print(\"I {:4.0f} {} {}\".format(iq_sequence[i], hex_iq_sequence_flt[i], hex_iq_sequence_dec[i]))\n",
    "#    print(\"Q {:4.0f} {} {}\".format(iq_sequence[i+1], hex_iq_sequence_flt[i+1], hex_iq_sequence_dec[i+1]))"
   ]
  },
  {
   "cell_type": "raw",
   "metadata": {},
   "source": [
    "from ctypes import *\n",
    "def to_float(i):\n",
    "    cp = pointer(c_int(i))\n",
    "    fp = cast(cp, POINTER(c_float))\n",
    "    return fp.contents.value\n",
    "\n",
    "from pynq import MMIO\n",
    "\n",
    "base_address = 0x00_A013_0000\n",
    "bram_size = 64\n",
    "\n",
    "mmio = MMIO(base_address, bram_size)\n",
    "ground_state_logit = mmio.read(0)\n",
    "excited_state_logit = mmio.read(4)\n",
    "\n",
    "if (ground_state_logit > excited_state_logit):\n",
    "    print(\"Prediction: ground state\")\n",
    "else:\n",
    "    print(\"Prediction: excited state\")\n",
    "print('Logit values as int: [', ground_state_logit, ',', excited_state_logit, ']')\n",
    "print('Logit values as hex: [', hex(ground_state_logit), ',', hex(excited_state_logit), ']')\n",
    "print('Logit values as flt: [', to_float(ground_state_logit), ',', to_float(excited_state_logit), ']')"
   ]
  }
 ],
 "metadata": {
  "kernelspec": {
   "display_name": "Python 3",
   "language": "python",
   "name": "python3"
  },
  "language_info": {
   "codemirror_mode": {
    "name": "ipython",
    "version": 3
   },
   "file_extension": ".py",
   "mimetype": "text/x-python",
   "name": "python",
   "nbconvert_exporter": "python",
   "pygments_lexer": "ipython3",
   "version": "3.8.2"
  }
 },
 "nbformat": 4,
 "nbformat_minor": 2
}
