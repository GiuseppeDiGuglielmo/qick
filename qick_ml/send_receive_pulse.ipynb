{
 "cells": [
  {
   "cell_type": "markdown",
   "metadata": {},
   "source": [
    "# Send and receive a pulse "
   ]
  },
  {
   "cell_type": "markdown",
   "metadata": {},
   "source": [
    "This notebook is based on the [send-receive-pulse demo](../qick_demos/00_Send_receive_pulse.ipynb)."
   ]
  },
  {
   "cell_type": "code",
   "execution_count": null,
   "metadata": {},
   "outputs": [],
   "source": [
    "# You should be on the ml branch of https://github.com/GiuseppeDiGuglielmo/qick\n",
    "!git branch"
   ]
  },
  {
   "cell_type": "code",
   "execution_count": null,
   "metadata": {},
   "outputs": [],
   "source": [
    "!echo -n \"git rev:  \"; git rev-parse --short HEAD\n",
    "!echo -n \"git date: \"; git log -1 --format=%cd"
   ]
  },
  {
   "cell_type": "code",
   "execution_count": null,
   "metadata": {},
   "outputs": [],
   "source": [
    "import subprocess\n",
    "branch_name = subprocess.getoutput(\"git rev-parse --abbrev-ref HEAD\")\n",
    "print(branch_name)"
   ]
  },
  {
   "cell_type": "code",
   "execution_count": null,
   "metadata": {},
   "outputs": [],
   "source": [
    "# Import the QICK drivers and auxiliary libraries\n",
    "from qick import *\n",
    "%pylab inline"
   ]
  },
  {
   "cell_type": "code",
   "execution_count": null,
   "metadata": {},
   "outputs": [],
   "source": [
    "# Current directory\n",
    "!pwd"
   ]
  },
  {
   "cell_type": "code",
   "execution_count": null,
   "metadata": {},
   "outputs": [],
   "source": [
    "# List custom bitstreams\n",
    "!ls -l 216/$branch_name/'00000000'"
   ]
  },
  {
   "cell_type": "code",
   "execution_count": null,
   "metadata": {},
   "outputs": [],
   "source": [
    "!ls -l 216/$branch_name/'20240501'"
   ]
  },
  {
   "cell_type": "code",
   "execution_count": null,
   "metadata": {},
   "outputs": [],
   "source": [
    "# Choose custom bistreams\n",
    "\n",
    "DATASET_DATE = '00000000'\n",
    "#DATASET_DATE = '20240501'\n",
    "\n",
    "# QICK\n",
    "#CUSTOM_BIT = '216/{}/qick_216_orig.bit'.format(branch_name)\n",
    "#HAS_NN = 0\n",
    "\n",
    "# QICK + ILAs + syn/imp optimizations\n",
    "# CUSTOM_BIT = '216/ml-dev/qick_216_ila.bit'\n",
    "# HAS_NN = 0\n",
    "\n",
    "# QICK + NN + syn/imp optimizations\n",
    "#CUSTOM_BIT = '216/{}/{}/qick_216_nn_285_385.bit'.format(branch_name, DATASET_DATE)\n",
    "CUSTOM_BIT = '216/{}/{}/qick_216_nn_150_550_updated.bit'.format(branch_name, DATASET_DATE)\n",
    "#CUSTOM_BIT = '216/{}/{}/qick_216_nn_0_770.bit'.format(branch_name, DATASET_DATE)\n",
    "HAS_NN = 1\n",
    "\n",
    "# Configure channels\n",
    "GEN_CH = 0\n",
    "RO_CH = 0"
   ]
  },
  {
   "cell_type": "code",
   "execution_count": null,
   "metadata": {},
   "outputs": [],
   "source": [
    "# Load bitstream with custom overlay\n",
    "if not 'CUSTOM_BIT' in locals():\n",
    "    soc = QickSoc()\n",
    "else:\n",
    "    import os\n",
    "    # Normalize path\n",
    "    CUSTOM_BIT_FULL_PATH = os.path.normpath(os.getcwd() + '/' + CUSTOM_BIT)\n",
    "    print('Custom bitsream:', CUSTOM_BIT_FULL_PATH)\n",
    "    \n",
    "    soc = QickSoc(bitfile=CUSTOM_BIT_FULL_PATH)\n",
    "\n",
    "soccfg = soc\n",
    "print(soccfg)"
   ]
  },
  {
   "cell_type": "code",
   "execution_count": null,
   "metadata": {},
   "outputs": [],
   "source": [
    "print('Loaded bitstream:', soccfg.bitfile_name)"
   ]
  },
  {
   "cell_type": "markdown",
   "metadata": {},
   "source": [
    "### Hardware Configuration\n",
    "\n",
    "<!--generator channel 6 : DAC 229 CH3  <-> Readout channel 0 : ADC 224 CH0-->"
   ]
  },
  {
   "cell_type": "code",
   "execution_count": null,
   "metadata": {},
   "outputs": [],
   "source": [
    "print('Generator channel: {}'.format(GEN_CH))\n",
    "print('Readout channel  : {}'.format(RO_CH))"
   ]
  },
  {
   "cell_type": "code",
   "execution_count": null,
   "metadata": {},
   "outputs": [],
   "source": [
    "class LoopbackProgram(AveragerProgram):\n",
    "    def initialize(self):\n",
    "        cfg=self.cfg   \n",
    "        res_ch = cfg[\"res_ch\"]\n",
    "\n",
    "        # set the nyquist zone\n",
    "        self.declare_gen(ch=cfg[\"res_ch\"], nqz=1)\n",
    "        \n",
    "        # configure the readout lengths and downconversion frequencies (ensuring it is an available DAC frequency)\n",
    "        for ch in cfg[\"ro_chs\"]:\n",
    "            self.declare_readout(ch=ch, length=self.cfg[\"readout_length\"],\n",
    "                                 freq=self.cfg[\"pulse_freq\"], gen_ch=cfg[\"res_ch\"])\n",
    "\n",
    "        # convert frequency to DAC frequency (ensuring it is an available ADC frequency)\n",
    "        freq = self.freq2reg(cfg[\"pulse_freq\"],gen_ch=res_ch, ro_ch=cfg[\"ro_chs\"][0])\n",
    "        phase = self.deg2reg(cfg[\"res_phase\"], gen_ch=res_ch)\n",
    "        gain = cfg[\"pulse_gain\"]\n",
    "        self.default_pulse_registers(ch=res_ch, freq=freq, phase=phase, gain=gain)\n",
    "\n",
    "        style=self.cfg[\"pulse_style\"]\n",
    "\n",
    "        if style in [\"flat_top\",\"arb\"]:\n",
    "            sigma = cfg[\"sigma\"]\n",
    "            self.add_gauss(ch=res_ch, name=\"measure\", sigma=sigma, length=sigma*5)\n",
    "            \n",
    "        if style == \"const\":\n",
    "            self.set_pulse_registers(ch=res_ch, style=style, length=cfg[\"length\"])\n",
    "        elif style == \"flat_top\":\n",
    "            # The first half of the waveform ramps up the pulse, the second half ramps down the pulse\n",
    "            self.set_pulse_registers(ch=res_ch, style=style, waveform=\"measure\", length=cfg[\"length\"])\n",
    "        elif style == \"arb\":\n",
    "            self.set_pulse_registers(ch=res_ch, style=style, waveform=\"measure\")\n",
    "        \n",
    "        self.synci(200)  # give processor some time to configure pulses\n",
    "    \n",
    "    def body(self):\n",
    "        # fire the pulse\n",
    "        # trigger all declared ADCs\n",
    "        # pulse PMOD0_0 for a scope trigger\n",
    "        # pause the tProc until readout is done\n",
    "        # increment the time counter to give some time before the next measurement\n",
    "        # (the syncdelay also lets the tProc get back ahead of the clock)\n",
    "        self.measure(pulse_ch=self.cfg[\"res_ch\"], \n",
    "                     adcs=self.ro_chs,\n",
    "                     pins=[0], \n",
    "                     adc_trig_offset=self.cfg[\"adc_trig_offset\"],\n",
    "                     wait=True,\n",
    "                     syncdelay=self.us2cycles(self.cfg[\"relax_delay\"]))\n",
    "        \n",
    "        # equivalent to the following:\n",
    "#         self.trigger(adcs=self.ro_chs,\n",
    "#                      pins=[0], \n",
    "#                      adc_trig_offset=self.cfg[\"adc_trig_offset\"])\n",
    "#         self.pulse(ch=self.cfg[\"res_ch\"])\n",
    "#         self.wait_all()\n",
    "#         self.sync_all(self.us2cycles(self.cfg[\"relax_delay\"]))"
   ]
  },
  {
   "cell_type": "markdown",
   "metadata": {},
   "source": [
    "### NN scaler setup"
   ]
  },
  {
   "cell_type": "markdown",
   "metadata": {},
   "source": [
    "### Load an excited state"
   ]
  },
  {
   "cell_type": "code",
   "execution_count": null,
   "metadata": {},
   "outputs": [],
   "source": [
    "config={\"res_ch\": GEN_CH, #6, # --Fixed\n",
    "        \"ro_chs\": [RO_CH], # --Fixed\n",
    "        \"reps\": 1, # --Fixed\n",
    "        \"relax_delay\": 1.0, # --us\n",
    "        \"res_phase\": 0, # --degrees\n",
    "        \"pulse_style\": \"const\", # --Fixed\n",
    "\n",
    "        \"length\":100, # [Clock ticks]\n",
    "        # Try varying length from 10-100 clock ticks\n",
    "        \n",
    "        \"readout_length\":770, # [Clock ticks]\n",
    "        # Try varying readout_length from 50-1000 clock ticks\n",
    "\n",
    "        \"pulse_gain\":3000, # [DAC units]\n",
    "        # Try varying pulse_gain from 500 to 30000 DAC units\n",
    "\n",
    "        \"pulse_freq\": 250, # [MHz]\n",
    "        # In this program the signal is up and downconverted digitally so you won't see any frequency\n",
    "        # components in the I/Q traces below. But since the signal gain depends on frequency, \n",
    "        # if you lower pulse_freq you will see an increased gain.\n",
    "\n",
    "        \"adc_trig_offset\": 100, # [Clock ticks]\n",
    "        # Try varying adc_trig_offset from 100 to 220 clock ticks\n",
    "\n",
    "        \"soft_avgs\": 1\n",
    "        # Try varying soft_avgs from 1 to 200 averages        \n",
    "        \n",
    "       }"
   ]
  },
  {
   "cell_type": "code",
   "execution_count": null,
   "metadata": {},
   "outputs": [],
   "source": [
    "#########################################################\n",
    "# If you are running Vivado ILA, it is time to arm them #\n",
    "#########################################################"
   ]
  },
  {
   "cell_type": "code",
   "execution_count": null,
   "metadata": {},
   "outputs": [],
   "source": [
    "from pynq import MMIO\n",
    "\n",
    "def configure_classifier(scaling_factor, trigger_delay):\n",
    "    mmio_nn = MMIO(soccfg.NN_0.mmio.base_addr, soccfg.NN_0.mmio.length)\n",
    "    mmio_nn.write(soccfg.NN_0.register_map.scaling_factor.address, scaling_factor)\n",
    "    mmio_nn.write(soccfg.NN_0.register_map.trigger_delay.address, trigger_delay)\n",
    "\n",
    "def reset_classifier(deep_reset = False, index_lo = 0, index_hi = 0):\n",
    "    RESET_HI = 255\n",
    "    RESET_LO = 0\n",
    "    mmio_nn = MMIO(soccfg.NN_0.mmio.base_addr, soccfg.NN_0.mmio.length)\n",
    "    # This sends a \"reset pulse\"\n",
    "    mmio_nn.write(soccfg.NN_0.register_map.out_reset.address, RESET_HI)\n",
    "    mmio_nn.write(soccfg.NN_0.register_map.out_reset.address, RESET_LO)\n",
    "\n",
    "    if (deep_reset):\n",
    "        # Reset in software, in hardware may be more efficient (TBD)\n",
    "        print('WARNING: This may run for some time... use only for debugging')\n",
    "        entry_count = ((index_hi - index_lo) + 1) * 2\n",
    "        for i in range(entry_count):\n",
    "            soccfg.axi_blk_bram_ctrl_0.mmio.array[i] = 0\n",
    "\n",
    "def get_classifier_prediction_count():\n",
    "    mmio_nn = MMIO(soccfg.NN_0.mmio.base_addr, soccfg.NN_0.mmio.length)\n",
    "    prediction_count = mmio_nn.read(soccfg.NN_0.register_map.out_offset.address)\n",
    "    return prediction_count\n",
    "\n",
    "def get_classifier_prediction(index = 0):\n",
    "    WORD_SIZE_BYTE = 4\n",
    "    WORD_COUNT_PER_PREDICTION = 2\n",
    "    mmio_bram = MMIO(soccfg.axi_blk_bram_ctrl_0.base_address, soccfg.axi_blk_bram_ctrl_0.size)\n",
    "    ground_state_logit = mmio_bram.read(index*WORD_COUNT_PER_PREDICTION*WORD_SIZE_BYTE + 0)\n",
    "    excited_state_logit = mmio_bram.read(index*WORD_COUNT_PER_PREDICTION*WORD_SIZE_BYTE + WORD_SIZE_BYTE)\n",
    "    return ground_state_logit, excited_state_logit\n",
    "\n",
    "def get_classifier_predictions(index_lo = 0, index_hi = 0):\n",
    "    WORD_SIZE_BYTE = 4\n",
    "    WORD_COUNT_PER_PREDICTION = 2\n",
    "    mmio_bram = MMIO(soccfg.axi_blk_bram_ctrl_0.base_address, soccfg.axi_blk_bram_ctrl_0.size)\n",
    "    # TODO: You can read the whole memory area rather then one element at a time and append\n",
    "    predictions = []\n",
    "    for index in range(index_lo, index_hi+1):\n",
    "        ground_state_logit = mmio_bram.read(index*WORD_COUNT_PER_PREDICTION*WORD_SIZE_BYTE + 0)\n",
    "        excited_state_logit = mmio_bram.read(index*WORD_COUNT_PER_PREDICTION*WORD_SIZE_BYTE + WORD_SIZE_BYTE)\n",
    "        predictions.append([ground_state_logit, excited_state_logit])\n",
    "    return predictions\n",
    "\n",
    "def print_classifier_buffer(index_lo, index_hi):\n",
    "    prediction_count = get_classifier_prediction_count()\n",
    "    buffer_size = len(soccfg.axi_blk_bram_ctrl_0.mmio.array)\n",
    "    \n",
    "    print('INFO: prediction count: {:6}'.format(prediction_count))\n",
    "    print('INFO: buffer size     : {:6}'.format(buffer_size))\n",
    "    print('INFO:')\n",
    "    for i in range((index_hi - index_lo) + 1):\n",
    "        ground_state_logit, excited_state_logit = get_classifier_prediction(i)\n",
    "        print('INFO: [{:5d}] {:08x} {}'.format(i, ground_state_logit, '<<<' if prediction_count == i else ''))\n",
    "        print('INFO: [{:5d}] {:08x} {}'.format(i, excited_state_logit, '<<<' if prediction_count == i else ''))"
   ]
  },
  {
   "cell_type": "code",
   "execution_count": null,
   "metadata": {},
   "outputs": [],
   "source": [
    "len(soccfg.axi_blk_bram_ctrl_0.mmio.array)\n",
    "#8192"
   ]
  },
  {
   "cell_type": "code",
   "execution_count": null,
   "metadata": {},
   "outputs": [],
   "source": [
    "#\n",
    "# ATTENTION: if the cell fails, please make sure that\n",
    "#            the base_address matches the associated\n",
    "#            value in the address editor of the Vivado\n",
    "#            project.\n",
    "# \n",
    "if HAS_NN:\n",
    "    from pynq import MMIO\n",
    "    #\n",
    "    # Programming the NN\n",
    "    #\n",
    "    SCALING_FACTOR = 1\n",
    "    TRIGGER_DELAY = 1\n",
    "    \n",
    "    reset_classifier()\n",
    "    configure_classifier(SCALING_FACTOR, TRIGGER_DELAY)"
   ]
  },
  {
   "cell_type": "code",
   "execution_count": null,
   "metadata": {},
   "outputs": [],
   "source": [
    "if HAS_NN:\n",
    "    print_classifier_buffer(index_lo=0, index_hi=10)"
   ]
  },
  {
   "cell_type": "code",
   "execution_count": null,
   "metadata": {},
   "outputs": [],
   "source": [
    "for i in range(1):\n",
    "    prog = LoopbackProgram(soccfg, config)\n",
    "    \n",
    "    iq_list = prog.acquire_decimated(soc, progress=True)\n",
    "    \n",
    "    # Plot results.\n",
    "    for ii, iq in enumerate(iq_list):\n",
    "        plt.plot(iq[0], label=\"I value, ADC %d\"%(config['ro_chs'][ii]), color='C0')\n",
    "        plt.plot(iq[1], label=\"Q value, ADC %d\"%(config['ro_chs'][ii]), color='C1')\n",
    "        #plt.plot(np.abs(iq[0]+1j*iq[1]), label=\"mag, ADC %d\"%(config['ro_chs'][ii]))\n",
    "        plt.ylabel(\"a.u.\")\n",
    "        plt.xlabel(\"Clock ticks\")\n",
    "        plt.title(\"Averages = \" + str(config[\"soft_avgs\"]))\n",
    "        #plt.legend()\n",
    "        #plt.show()\n",
    "    #plt.savefig(\"images/send_receive_pulse_const.png\", dpi=350)\n",
    "    np.set_printoptions(threshold=np.inf)\n",
    "    #print([int(element) for pair in zip(*iq_list[0]) for element in pair])\n",
    "    #import time\n",
    "    #time.sleep(1)"
   ]
  },
  {
   "cell_type": "code",
   "execution_count": null,
   "metadata": {
    "scrolled": true
   },
   "outputs": [],
   "source": [
    "import struct\n",
    "def float_to_hex32(f):\n",
    "    return format(struct.unpack('!I', struct.pack('!f', f))[0], '08x')\n",
    "\n",
    "def int_to_twos_complement_hex32(n):\n",
    "    # If the number is negative, get its two's complement\n",
    "    if n < 0:\n",
    "        n = (1 << 32) + n  # \"Wrap around\" to get 32-bit two's complement\n",
    "    return format(n, '08x')\n",
    "\n",
    "# Save trace.\n",
    "iq = iq_list[0]\n",
    "\n",
    "# Shows I and Q sequence\n",
    "iq_sequence = [list(item) for item in zip(*iq)]\n",
    "iq_sequence = [int(item) for sublist in iq_sequence for item in sublist]\n",
    "\n",
    "# Float value as hex\n",
    "#hex_iq_sequence_flt = [float_to_hex32(num) for num in iq_sequence]\n",
    "\n",
    "# Float -> Int value as hex\n",
    "#hex_iq_sequence_dec = [int_to_twos_complement_hex32(int(i)) for i in iq_sequence]\n",
    "\n",
    "# print('Sequence length:', len(iq_sequence))\n",
    "# print('I (lo, data[15:0])')\n",
    "# print(iq[0])\n",
    "# print('Q (hi, data[31:16])')\n",
    "# print(iq[1])\n",
    "\n",
    "# print(iq_sequence)\n",
    "\n",
    "#print(hex_iq_sequence_flt)\n",
    "#print(hex_iq_sequence_dec)\n",
    "\n",
    "#for i in range(0,len(iq_sequence),2):\n",
    "#    print(\"I {:4.0f} {} {}\".format(iq_sequence[i], hex_iq_sequence_flt[i], hex_iq_sequence_dec[i]))\n",
    "#    print(\"Q {:4.0f} {} {}\".format(iq_sequence[i+1], hex_iq_sequence_flt[i+1], hex_iq_sequence_dec[i+1]))"
   ]
  },
  {
   "cell_type": "code",
   "execution_count": null,
   "metadata": {},
   "outputs": [],
   "source": [
    "#print(iq_sequence[285*2:(285+100)*2])\n",
    "print(iq_sequence)"
   ]
  },
  {
   "cell_type": "code",
   "execution_count": null,
   "metadata": {},
   "outputs": [],
   "source": [
    "#\n",
    "# ATTENTION: if the cell fails, please make sure that\n",
    "#            the base_address matches the associated\n",
    "#            value in the address editor of the Vivado\n",
    "#            project.\n",
    "# \n",
    "if HAS_NN:\n",
    "    from ctypes import *\n",
    "    def to_float(i):\n",
    "        cp = pointer(c_int(i))\n",
    "        fp = cast(cp, POINTER(c_float))\n",
    "        return fp.contents.value\n",
    "\n",
    "    ground_state_logit, excited_state_logit = get_classifier_prediction()\n",
    "\n",
    "    if (ground_state_logit > excited_state_logit):\n",
    "       print(\"Prediction: ground state\")\n",
    "    else:\n",
    "       print(\"Prediction: excited state\")\n",
    "    print('Logit values as int: [', ground_state_logit, ',', excited_state_logit, ']')\n",
    "    print('Logit values as hex: [', hex(ground_state_logit), ',', hex(excited_state_logit), ']')\n",
    "    print('Logit values as flt: [', to_float(ground_state_logit), ',', to_float(excited_state_logit), ']')\n",
    "else:\n",
    "    print('No NN in this bitstream!')"
   ]
  },
  {
   "cell_type": "code",
   "execution_count": null,
   "metadata": {},
   "outputs": [],
   "source": [
    "if HAS_NN:\n",
    "    print_classifier_buffer(index_lo=0, index_hi=63)"
   ]
  },
  {
   "cell_type": "code",
   "execution_count": null,
   "metadata": {},
   "outputs": [],
   "source": [
    "if HAS_NN:\n",
    "    reset_classifier(deep_reset=True, index_hi=7)"
   ]
  },
  {
   "cell_type": "code",
   "execution_count": null,
   "metadata": {},
   "outputs": [],
   "source": [
    "if HAS_NN:\n",
    "    print_classifier_buffer(index_lo=0, index_hi=63)"
   ]
  },
  {
   "cell_type": "code",
   "execution_count": null,
   "metadata": {},
   "outputs": [],
   "source": [
    "if HAS_NN:\n",
    "    print('Readout count: {}'.format(get_classifier_prediction_count()))"
   ]
  },
  {
   "cell_type": "raw",
   "metadata": {},
   "source": [
    "!rm dev_X_fpga.csv dev_y_fpga.csv"
   ]
  },
  {
   "cell_type": "raw",
   "metadata": {},
   "source": [
    "if HAS_NN:\n",
    "    import csv\n",
    "    import pandas as pd\n",
    "\n",
    "    A_fpga_csv_file = 'dev_A_fpga.csv'\n",
    "    X_fpga_csv_file = 'dev_X_fpga.csv'\n",
    "    y_fpga_csv_file = 'dev_y_fpga.csv'\n",
    "\n",
    "    with open(A_fpga_csv_file, mode='a', newline='') as file:\n",
    "        writer = csv.writer(file)\n",
    "        writer.writerows([iq_sequence])\n",
    "\n",
    "    # Convert data to DataFrame for easier display\n",
    "    df = pd.read_csv(A_fpga_csv_file, header=None)\n",
    "\n",
    "    _ = display(df)\n",
    "\n",
    "    with open(X_fpga_csv_file, mode='a', newline='') as file:\n",
    "        writer = csv.writer(file)\n",
    "        writer.writerows([iq_sequence[285*2:(285+100)*2]])\n",
    "\n",
    "    # Convert data to DataFrame for easier display\n",
    "    df = pd.read_csv(X_fpga_csv_file, header=None)\n",
    "\n",
    "    _ = display(df)\n",
    "\n",
    "    with open(y_fpga_csv_file, mode='a', newline='') as file:\n",
    "        writer = csv.writer(file)\n",
    "        writer.writerows([[ground_state_logit, excited_state_logit]])\n",
    "\n",
    "    # Convert data to DataFrame for easier display\n",
    "    df = pd.read_csv(y_fpga_csv_file, header=None)\n",
    "\n",
    "    _ = display(df)\n",
    "\n",
    "    vectorized_convert = np.vectorize(to_float)\n",
    "    _ = display(pd.DataFrame(vectorized_convert(df.values)))"
   ]
  },
  {
   "cell_type": "raw",
   "metadata": {},
   "source": [
    "#\n",
    "# JUST FOR TESTING\n",
    "# Running multiple times the square pulse and observe how consistent the traces are\n",
    "#\n",
    "for _i in range(100):\n",
    "    prog = LoopbackProgram(soccfg, config)\n",
    "    \n",
    "    iq_list = prog.acquire_decimated(soc, progress=True)\n",
    "    \n",
    "    # Plot results.\n",
    "    for ii, iq in enumerate(iq_list):\n",
    "        plt.plot(iq[0], label=\"I value, ADC %d\"%(config['ro_chs'][ii]), color='C0')\n",
    "        plt.plot(iq[1], label=\"Q value, ADC %d\"%(config['ro_chs'][ii]), color='C1')\n",
    "        #plt.plot(np.abs(iq[0]+1j*iq[1]), label=\"mag, ADC %d\"%(config['ro_chs'][ii]))\n",
    "        plt.ylabel(\"a.u.\")\n",
    "        plt.xlabel(\"Clock ticks\")\n",
    "        plt.title(\"Averages = \" + str(config[\"soft_avgs\"]))\n",
    "        #plt.legend()\n",
    "        #plt.show()\n",
    "    #plt.savefig(\"images/send_receive_pulse_const_{}.png\".format(_i), dpi=350) "
   ]
  }
 ],
 "metadata": {
  "kernelspec": {
   "display_name": "Python 3",
   "language": "python",
   "name": "python3"
  },
  "language_info": {
   "codemirror_mode": {
    "name": "ipython",
    "version": 3
   },
   "file_extension": ".py",
   "mimetype": "text/x-python",
   "name": "python",
   "nbconvert_exporter": "python",
   "pygments_lexer": "ipython3",
   "version": "3.8.2"
  }
 },
 "nbformat": 4,
 "nbformat_minor": 2
}
