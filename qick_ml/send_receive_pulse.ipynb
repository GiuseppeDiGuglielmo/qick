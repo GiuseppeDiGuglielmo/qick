{
 "cells": [
  {
   "cell_type": "markdown",
   "metadata": {},
   "source": [
    "# Send and receive a pulse "
   ]
  },
  {
   "cell_type": "markdown",
   "metadata": {},
   "source": [
    "This notebook is based on the [send-receive-pulse demo](../qick_demos/00_Send_receive_pulse.ipynb)."
   ]
  },
  {
   "cell_type": "code",
   "execution_count": 1,
   "metadata": {},
   "outputs": [
    {
     "name": "stdout",
     "output_type": "stream",
     "text": [
      "  main\u001b[m\r\n",
      "* \u001b[32mml-dev\u001b[m\r\n",
      "  ml-dev-origin\u001b[m\r\n"
     ]
    }
   ],
   "source": [
    "# You should be on the ml branch of https://github.com/GiuseppeDiGuglielmo/qick\n",
    "!git branch"
   ]
  },
  {
   "cell_type": "code",
   "execution_count": 2,
   "metadata": {},
   "outputs": [
    {
     "name": "stdout",
     "output_type": "stream",
     "text": [
      "git rev:  28e9a41\n",
      "git date: Fri May 17 23:19:33 2024 -0500\n"
     ]
    }
   ],
   "source": [
    "!echo -n \"git rev:  \"; git rev-parse --short HEAD\n",
    "!echo -n \"git date: \"; git log -1 --format=%cd"
   ]
  },
  {
   "cell_type": "code",
   "execution_count": 3,
   "metadata": {},
   "outputs": [
    {
     "name": "stdout",
     "output_type": "stream",
     "text": [
      "ml-dev\n"
     ]
    }
   ],
   "source": [
    "import subprocess\n",
    "branch_name = subprocess.getoutput(\"git rev-parse --abbrev-ref HEAD\")\n",
    "print(branch_name)"
   ]
  },
  {
   "cell_type": "code",
   "execution_count": 4,
   "metadata": {},
   "outputs": [
    {
     "data": {
      "application/javascript": [
       "\n",
       "try {\n",
       "require(['notebook/js/codecell'], function(codecell) {\n",
       "  codecell.CodeCell.options_default.highlight_modes[\n",
       "      'magic_text/x-csrc'] = {'reg':[/^%%microblaze/]};\n",
       "  Jupyter.notebook.events.one('kernel_ready.Kernel', function(){\n",
       "      Jupyter.notebook.get_cells().map(function(cell){\n",
       "          if (cell.cell_type == 'code'){ cell.auto_highlight(); } }) ;\n",
       "  });\n",
       "});\n",
       "} catch (e) {};\n"
      ]
     },
     "metadata": {},
     "output_type": "display_data"
    },
    {
     "data": {
      "application/javascript": [
       "\n",
       "try {\n",
       "require(['notebook/js/codecell'], function(codecell) {\n",
       "  codecell.CodeCell.options_default.highlight_modes[\n",
       "      'magic_text/x-csrc'] = {'reg':[/^%%pybind11/]};\n",
       "  Jupyter.notebook.events.one('kernel_ready.Kernel', function(){\n",
       "      Jupyter.notebook.get_cells().map(function(cell){\n",
       "          if (cell.cell_type == 'code'){ cell.auto_highlight(); } }) ;\n",
       "  });\n",
       "});\n",
       "} catch (e) {};\n"
      ]
     },
     "metadata": {},
     "output_type": "display_data"
    },
    {
     "name": "stdout",
     "output_type": "stream",
     "text": [
      "Populating the interactive namespace from numpy and matplotlib\n"
     ]
    }
   ],
   "source": [
    "# Import the QICK drivers and auxiliary libraries\n",
    "from qick import *\n",
    "%pylab inline"
   ]
  },
  {
   "cell_type": "code",
   "execution_count": 5,
   "metadata": {},
   "outputs": [
    {
     "name": "stdout",
     "output_type": "stream",
     "text": [
      "/home/xilinx/jupyter_notebooks/qick_dev/qick_ml\r\n"
     ]
    }
   ],
   "source": [
    "# Current directory\n",
    "!pwd"
   ]
  },
  {
   "cell_type": "code",
   "execution_count": 6,
   "metadata": {},
   "outputs": [
    {
     "name": "stdout",
     "output_type": "stream",
     "text": [
      "total 104776\r\n",
      "drwxrwxr-x 2 xilinx xilinx     4096 May 19 13:07 OLD\r\n",
      "-rw-rw-r-- 1 xilinx xilinx 34437473 May 19 20:54 qick_216_nn_w100.bit\r\n",
      "-rw-rw-r-- 1 xilinx xilinx  1322232 May 19 20:54 qick_216_nn_w100.hwh\r\n",
      "-rw-rw-r-- 1 xilinx xilinx 34437473 May 19 20:10 qick_216_nn_w200.bit\r\n",
      "-rw-rw-r-- 1 xilinx xilinx  1322232 May 19 20:10 qick_216_nn_w200.hwh\r\n",
      "-rw-rw-r-- 1 xilinx xilinx 34437473 May 19 14:42 qick_216_nn_w400.bit\r\n",
      "-rw-rw-r-- 1 xilinx xilinx  1322232 May 19 14:42 qick_216_nn_w400.hwh\r\n"
     ]
    }
   ],
   "source": [
    "# List custom bitstreams\n",
    "!ls -l 216/$branch_name/'00000000'"
   ]
  },
  {
   "cell_type": "code",
   "execution_count": 7,
   "metadata": {},
   "outputs": [
    {
     "name": "stdout",
     "output_type": "stream",
     "text": [
      "total 4\r\n",
      "drwxrwxr-x 2 xilinx xilinx 4096 May 19 13:07 OLD\r\n"
     ]
    }
   ],
   "source": [
    "!ls -l 216/$branch_name/'20240501'"
   ]
  },
  {
   "cell_type": "code",
   "execution_count": 8,
   "metadata": {},
   "outputs": [],
   "source": [
    "# Choose custom bistreams\n",
    "\n",
    "DATASET_DATE = '00000000'\n",
    "#DATASET_DATE = '20240501'\n",
    "\n",
    "# QICK\n",
    "#CUSTOM_BIT = '216/{}/qick_216_orig.bit'.format(branch_name)\n",
    "#HAS_NN = 0\n",
    "\n",
    "# QICK + ILAs + syn/imp optimizations\n",
    "# CUSTOM_BIT = '216/ml-dev/qick_216_ila.bit'\n",
    "# HAS_NN = 0\n",
    "\n",
    "# QICK + NN + syn/imp optimizations\n",
    "CUSTOM_BIT = '216/{}/{}/qick_216_nn_w400.bit'.format(branch_name, DATASET_DATE)\n",
    "HAS_NN = 1\n",
    "\n",
    "# Configure channels\n",
    "GEN_CH = 0\n",
    "RO_CH = 0"
   ]
  },
  {
   "cell_type": "code",
   "execution_count": 9,
   "metadata": {},
   "outputs": [
    {
     "name": "stdout",
     "output_type": "stream",
     "text": [
      "Custom bitsream: /home/xilinx/jupyter_notebooks/qick_dev/qick_ml/216/ml-dev/00000000/qick_216_nn_w400.bit\n",
      "\n",
      "QICK configuration:\n",
      "\n",
      "\tBoard: ZCU216\n",
      "\n",
      "\tSoftware version: 0.2.249\n",
      "\tFirmware timestamp: Sun May 19 11:47:12 2024\n",
      "\n",
      "\tGlobal clocks (MHz): tProcessor 430.080, RF reference 245.760\n",
      "\n",
      "\t2 signal generator channels:\n",
      "\t0:\taxis_signal_gen_v6 - envelope memory 65536 samples (9.524 us)\n",
      "\t\tfs=6881.280 MHz, fabric=430.080 MHz, 32-bit DDS, range=6881.280 MHz\n",
      "\t\tDAC tile 2, blk 0 is 0_230, on JHC3\n",
      "\t1:\taxis_signal_gen_v6 - envelope memory 65536 samples (9.524 us)\n",
      "\t\tfs=6881.280 MHz, fabric=430.080 MHz, 32-bit DDS, range=6881.280 MHz\n",
      "\t\tDAC tile 2, blk 2 is 2_230, on JHC3\n",
      "\n",
      "\t2 readout channels:\n",
      "\t0:\taxis_readout_v2 - controlled by PYNQ\n",
      "\t\tfs=2457.600 MHz, fabric=307.200 MHz, 32-bit DDS, range=2457.600 MHz\n",
      "\t\tmaxlen 16384 accumulated, 1024 decimated (3.333 us)\n",
      "\t\ttriggered by output 0, pin 8, feedback to tProc input -1\n",
      "\t\tADC tile 2, blk 0 is 0_226, on JHC7\n",
      "\t1:\taxis_readout_v2 - controlled by PYNQ\n",
      "\t\tfs=2457.600 MHz, fabric=307.200 MHz, 32-bit DDS, range=2457.600 MHz\n",
      "\t\tmaxlen 16384 accumulated, 1024 decimated (3.333 us)\n",
      "\t\ttriggered by output 0, pin 9, feedback to tProc input -1\n",
      "\t\tADC tile 2, blk 2 is 2_226, on JHC7\n",
      "\n",
      "\t8 digital output pins:\n",
      "\t0:\tPMOD0_0_LS\n",
      "\t1:\tPMOD0_1_LS\n",
      "\t2:\tPMOD0_2_LS\n",
      "\t3:\tPMOD0_3_LS\n",
      "\t4:\tPMOD0_4_LS\n",
      "\t5:\tPMOD0_5_LS\n",
      "\t6:\tPMOD0_6_LS\n",
      "\t7:\tPMOD0_7_LS\n",
      "\n",
      "\ttProc axis_tproc64x32_x8: program memory 8192 words, data memory 4096 words\n",
      "\t\texternal start pin: None\n"
     ]
    }
   ],
   "source": [
    "# Load bitstream with custom overlay\n",
    "if not 'CUSTOM_BIT' in locals():\n",
    "    soc = QickSoc()\n",
    "else:\n",
    "    import os\n",
    "    # Normalize path\n",
    "    CUSTOM_BIT_FULL_PATH = os.path.normpath(os.getcwd() + '/' + CUSTOM_BIT)\n",
    "    print('Custom bitsream:', CUSTOM_BIT_FULL_PATH)\n",
    "    \n",
    "    soc = QickSoc(bitfile=CUSTOM_BIT_FULL_PATH)\n",
    "\n",
    "soccfg = soc\n",
    "print(soccfg)"
   ]
  },
  {
   "cell_type": "code",
   "execution_count": 10,
   "metadata": {},
   "outputs": [
    {
     "name": "stdout",
     "output_type": "stream",
     "text": [
      "Loaded bitstream: /home/xilinx/jupyter_notebooks/qick_dev/qick_ml/216/ml-dev/00000000/qick_216_nn_w400.bit\n"
     ]
    }
   ],
   "source": [
    "print('Loaded bitstream:', soccfg.bitfile_name)"
   ]
  },
  {
   "cell_type": "markdown",
   "metadata": {},
   "source": [
    "### Hardware Configuration\n",
    "\n",
    "<!--generator channel 6 : DAC 229 CH3  <-> Readout channel 0 : ADC 224 CH0-->"
   ]
  },
  {
   "cell_type": "code",
   "execution_count": 11,
   "metadata": {},
   "outputs": [
    {
     "name": "stdout",
     "output_type": "stream",
     "text": [
      "Generator channel: 0\n",
      "Readout channel  : 0\n"
     ]
    }
   ],
   "source": [
    "print('Generator channel: {}'.format(GEN_CH))\n",
    "print('Readout channel  : {}'.format(RO_CH))"
   ]
  },
  {
   "cell_type": "code",
   "execution_count": 12,
   "metadata": {},
   "outputs": [],
   "source": [
    "class LoopbackProgram(AveragerProgram):\n",
    "    def initialize(self):\n",
    "        cfg=self.cfg   \n",
    "        res_ch = cfg[\"res_ch\"]\n",
    "\n",
    "        # set the nyquist zone\n",
    "        self.declare_gen(ch=cfg[\"res_ch\"], nqz=1)\n",
    "        \n",
    "        # configure the readout lengths and downconversion frequencies (ensuring it is an available DAC frequency)\n",
    "        for ch in cfg[\"ro_chs\"]:\n",
    "            self.declare_readout(ch=ch, length=self.cfg[\"readout_length\"],\n",
    "                                 freq=self.cfg[\"pulse_freq\"], gen_ch=cfg[\"res_ch\"])\n",
    "\n",
    "        # convert frequency to DAC frequency (ensuring it is an available ADC frequency)\n",
    "        freq = self.freq2reg(cfg[\"pulse_freq\"],gen_ch=res_ch, ro_ch=cfg[\"ro_chs\"][0])\n",
    "        phase = self.deg2reg(cfg[\"res_phase\"], gen_ch=res_ch)\n",
    "        gain = cfg[\"pulse_gain\"]\n",
    "        self.default_pulse_registers(ch=res_ch, freq=freq, phase=phase, gain=gain)\n",
    "\n",
    "        style=self.cfg[\"pulse_style\"]\n",
    "\n",
    "        if style in [\"flat_top\",\"arb\"]:\n",
    "            sigma = cfg[\"sigma\"]\n",
    "            self.add_gauss(ch=res_ch, name=\"measure\", sigma=sigma, length=sigma*5)\n",
    "            \n",
    "        if style == \"const\":\n",
    "            self.set_pulse_registers(ch=res_ch, style=style, length=cfg[\"length\"])\n",
    "        elif style == \"flat_top\":\n",
    "            # The first half of the waveform ramps up the pulse, the second half ramps down the pulse\n",
    "            self.set_pulse_registers(ch=res_ch, style=style, waveform=\"measure\", length=cfg[\"length\"])\n",
    "        elif style == \"arb\":\n",
    "            self.set_pulse_registers(ch=res_ch, style=style, waveform=\"measure\")\n",
    "        \n",
    "        self.synci(200)  # give processor some time to configure pulses\n",
    "    \n",
    "    def body(self):\n",
    "        # fire the pulse\n",
    "        # trigger all declared ADCs\n",
    "        # pulse PMOD0_0 for a scope trigger\n",
    "        # pause the tProc until readout is done\n",
    "        # increment the time counter to give some time before the next measurement\n",
    "        # (the syncdelay also lets the tProc get back ahead of the clock)\n",
    "        self.measure(pulse_ch=self.cfg[\"res_ch\"], \n",
    "                     adcs=self.ro_chs,\n",
    "                     pins=[0], \n",
    "                     adc_trig_offset=self.cfg[\"adc_trig_offset\"],\n",
    "                     wait=True,\n",
    "                     syncdelay=self.us2cycles(self.cfg[\"relax_delay\"]))\n",
    "        \n",
    "        # equivalent to the following:\n",
    "#         self.trigger(adcs=self.ro_chs,\n",
    "#                      pins=[0], \n",
    "#                      adc_trig_offset=self.cfg[\"adc_trig_offset\"])\n",
    "#         self.pulse(ch=self.cfg[\"res_ch\"])\n",
    "#         self.wait_all()\n",
    "#         self.sync_all(self.us2cycles(self.cfg[\"relax_delay\"]))"
   ]
  },
  {
   "cell_type": "markdown",
   "metadata": {},
   "source": [
    "### NN scaler setup"
   ]
  },
  {
   "cell_type": "markdown",
   "metadata": {},
   "source": [
    "### Load an excited state"
   ]
  },
  {
   "cell_type": "code",
   "execution_count": 13,
   "metadata": {},
   "outputs": [],
   "source": [
    "config={\"res_ch\": GEN_CH, #6, # --Fixed\n",
    "        \"ro_chs\": [RO_CH], # --Fixed\n",
    "        \"reps\": 1, # --Fixed\n",
    "        \"relax_delay\": 1.0, # --us\n",
    "        \"res_phase\": 0, # --degrees\n",
    "        \"pulse_style\": \"const\", # --Fixed\n",
    "\n",
    "        \"length\":400, # [Clock ticks]\n",
    "        # Try varying length from 10-100 clock ticks\n",
    "        \n",
    "        \"readout_length\":770, # [Clock ticks]\n",
    "        # Try varying readout_length from 50-1000 clock ticks\n",
    "\n",
    "        \"pulse_gain\":3000, # [DAC units]\n",
    "        # Try varying pulse_gain from 500 to 30000 DAC units\n",
    "\n",
    "        \"pulse_freq\": 250, # [MHz]\n",
    "        # In this program the signal is up and downconverted digitally so you won't see any frequency\n",
    "        # components in the I/Q traces below. But since the signal gain depends on frequency, \n",
    "        # if you lower pulse_freq you will see an increased gain.\n",
    "\n",
    "        \"adc_trig_offset\": 100, # [Clock ticks]\n",
    "        # Try varying adc_trig_offset from 100 to 220 clock ticks\n",
    "\n",
    "        \"soft_avgs\": 3\n",
    "        # Try varying soft_avgs from 1 to 200 averages        \n",
    "        \n",
    "       }"
   ]
  },
  {
   "cell_type": "code",
   "execution_count": 14,
   "metadata": {},
   "outputs": [],
   "source": [
    "#########################################################\n",
    "# If you are running Vivado ILA, it is time to arm them #\n",
    "#########################################################"
   ]
  },
  {
   "cell_type": "code",
   "execution_count": 15,
   "metadata": {},
   "outputs": [],
   "source": [
    "from ctypes import *\n",
    "\n",
    "def to_float(w):\n",
    "    \"\"\"\n",
    "    Convert a 32b memory word to a floating-point number using ctypes.\n",
    "    \n",
    "    Args:\n",
    "        w (int): The 32b word to convert.\n",
    "        \n",
    "    Returns:\n",
    "        float: The converted floating-point number.\n",
    "    \"\"\"\n",
    "    cp = pointer(c_int(w))\n",
    "    fp = cast(cp, POINTER(c_float))\n",
    "    return fp.contents.value\n",
    "\n",
    "from pynq import MMIO\n",
    "\n",
    "def reset_classifier(deep_reset = False, index_lo = 0, index_hi = 0):\n",
    "    \"\"\"\n",
    "    Reset the classifier. Optionally perform a deep reset.\n",
    "    \n",
    "    Args:\n",
    "        deep_reset (bool): If True, perform a deep reset by setting specific memory locations to zero. Default is False.\n",
    "        index_lo (int): The lower index for the deep reset range. Default is 0.\n",
    "        index_hi (int): The upper index for the deep reset range. Default is 0.\n",
    "    \"\"\"\n",
    "    RESET_HI = 255\n",
    "    RESET_LO = 0\n",
    "    # Access the MMIO interface of the classifier\n",
    "    mmio_nn = MMIO(soccfg.NN_0.mmio.base_addr, soccfg.NN_0.mmio.length)\n",
    "    # This sends a \"reset pulse\" to the classifier\n",
    "    mmio_nn.write(soccfg.NN_0.register_map.out_reset.address, RESET_HI)\n",
    "    mmio_nn.write(soccfg.NN_0.register_map.out_reset.address, RESET_LO)\n",
    "    if deep_reset:\n",
    "        # Perform a deep reset by setting specific memory locations to zero\n",
    "        # Warning: This may run for a long time; use only for debugging\n",
    "        print('WARNING: Deep reset may run for some time... use only for debugging')\n",
    "        entry_count = ((index_hi - index_lo) + 1) * 2\n",
    "        for i in range(entry_count):\n",
    "            soccfg.axi_blk_bram_ctrl_0.mmio.array[i] = 0\n",
    "\n",
    "def configure_classifier(window_size, window_offset, scaling_factor, trigger_delay, debug = False):\n",
    "    \"\"\"\n",
    "    Configure the classifier with the specified parameters.\n",
    "    \n",
    "    Args:\n",
    "        window_size (int): The size of the window for classification.\n",
    "        window_offset (int): The offset of the window for classification.\n",
    "        scaling_factor (int): The scaling factor for classification.\n",
    "        trigger_delay (int): The delay for triggering classification.\n",
    "        debug (bool): If True, print debug information. Default is False.\n",
    "    \"\"\"\n",
    "    if debug:\n",
    "        # Print debug information about the classifier configuration\n",
    "        print('INFO: classifier MMIO')\n",
    "        print('INFO:   - base address:   @{:08x}'.format(soccfg.NN_0.mmio.base_addr))\n",
    "        print('INFO:   - window_size:    @{} = {}'.format('??', window_size))\n",
    "        print('INFO:   - window_offset:  @{:04x} = {}'.format(soccfg.NN_0.register_map.window_offset.address, window_offset))\n",
    "        print('INFO:   - scaling_factor: @{:04x} = {}'.format(soccfg.NN_0.register_map.scaling_factor.address, scaling_factor))\n",
    "        print('INFO:   - trigger_delay:  @{:04x} = {}'.format(soccfg.NN_0.register_map.trigger_delay.address, trigger_delay))\n",
    "    # Access the MMIO interface of the classifier and configure it\n",
    "    mmio_nn = MMIO(soccfg.NN_0.mmio.base_addr, soccfg.NN_0.mmio.length)\n",
    "    mmio_nn.write(soccfg.NN_0.register_map.window_offset.address, window_offset)\n",
    "    mmio_nn.write(soccfg.NN_0.register_map.scaling_factor.address, scaling_factor)\n",
    "    mmio_nn.write(soccfg.NN_0.register_map.trigger_delay.address, trigger_delay)\n",
    "\n",
    "def get_classifier_prediction_count():\n",
    "    \"\"\"\n",
    "    Get how many predictions (pulses) have run through the classifier. This is 0 at the very beginning or if you reset the classifier.\n",
    "    \n",
    "    Returns:\n",
    "        int: The number of predictions made by the classifier.\n",
    "    \"\"\"\n",
    "    # Access the MMIO interface of the classifier\n",
    "    mmio_nn = MMIO(soccfg.NN_0.mmio.base_addr, soccfg.NN_0.mmio.length)\n",
    "    # Read and return the prediction count\n",
    "    prediction_count = mmio_nn.read(soccfg.NN_0.register_map.out_offset.address)\n",
    "    return prediction_count\n",
    "\n",
    "def get_classifier_prediction(index = 0):\n",
    "    \"\"\"\n",
    "    Get the classifier prediction for a specific index of the buffer.\n",
    "    \n",
    "    Args:\n",
    "        index (int): The index of the prediction to retrieve. Default is 0.\n",
    "        \n",
    "    Returns:\n",
    "        tuple: A tuple containing the ground state logit and the excited state logit.\n",
    "    \"\"\"\n",
    "    WORD_SIZE_BYTE = 4\n",
    "    WORD_COUNT_PER_PREDICTION = 2\n",
    "    # Access the MMIO interface of the BRAM\n",
    "    mmio_bram = MMIO(soccfg.axi_blk_bram_ctrl_0.base_address, soccfg.axi_blk_bram_ctrl_0.size)\n",
    "    # Read the logits for the ground state and excited state\n",
    "    ground_state_logit = mmio_bram.read(index * WORD_COUNT_PER_PREDICTION * WORD_SIZE_BYTE + 0)\n",
    "    excited_state_logit = mmio_bram.read(index * WORD_COUNT_PER_PREDICTION * WORD_SIZE_BYTE + WORD_SIZE_BYTE)\n",
    "    return ground_state_logit, excited_state_logit\n",
    "\n",
    "def get_classifier_predictions(index_lo = 0, index_hi = 0):\n",
    "    \"\"\"\n",
    "    Get a range of classifier predictions from the buffer.\n",
    "    \n",
    "    Args:\n",
    "        index_lo (int): The lower index of the range of predictions to retrieve. Default is 0.\n",
    "        index_hi (int): The upper index of the range of predictions to retrieve. Default is 0.\n",
    "        \n",
    "    Returns:\n",
    "        list: A list of tuples, each containing the ground state logit and the excited state logit.\n",
    "    \"\"\"\n",
    "    WORD_SIZE_BYTE = 4\n",
    "    WORD_COUNT_PER_PREDICTION = 2\n",
    "    # Access the MMIO interface of the BRAM\n",
    "    mmio_bram = MMIO(soccfg.axi_blk_bram_ctrl_0.base_address, soccfg.axi_blk_bram_ctrl_0.size)\n",
    "    # TODO: You can read the whole memory area rather than one element at a time and append\n",
    "    predictions = []\n",
    "    for index in range(index_lo, index_hi + 1):\n",
    "        ground_state_logit = mmio_bram.read(index * WORD_COUNT_PER_PREDICTION * WORD_SIZE_BYTE + 0)\n",
    "        excited_state_logit = mmio_bram.read(index * WORD_COUNT_PER_PREDICTION * WORD_SIZE_BYTE + WORD_SIZE_BYTE)\n",
    "        predictions.append([ground_state_logit, excited_state_logit])\n",
    "    return predictions\n",
    "\n",
    "def print_classifier_buffer(index_lo, index_hi):\n",
    "    \"\"\"\n",
    "    Print the classifier buffer for a range of indices.\n",
    "    \n",
    "    Args:\n",
    "        index_lo (int): The lower index of the range to print.\n",
    "        index_hi (int): The upper index of the range to print.\n",
    "    \"\"\"\n",
    "    # Get the prediction count and buffer size\n",
    "    prediction_count = get_classifier_prediction_count()\n",
    "    buffer_size = len(soccfg.axi_blk_bram_ctrl_0.mmio.array)\n",
    "    print('INFO: prediction count: {:6}'.format(prediction_count))\n",
    "    print('INFO: buffer size     : {:6}'.format(buffer_size))\n",
    "    print('INFO:')\n",
    "    for i in range(index_lo, index_hi + 1):\n",
    "        # Get the logits for each prediction and print them\n",
    "        ground_state_logit, excited_state_logit = get_classifier_prediction(i)\n",
    "        print('INFO: [{:5d}] {:08x} ({}) {}'.format(i, ground_state_logit, to_float(ground_state_logit), '<<<' if prediction_count == i else ''))\n",
    "        print('INFO: [{:5d}] {:08x} ({}) {}'.format(i, excited_state_logit, to_float(excited_state_logit), '<<<' if prediction_count == i else ''))"
   ]
  },
  {
   "cell_type": "code",
   "execution_count": 16,
   "metadata": {},
   "outputs": [
    {
     "name": "stdout",
     "output_type": "stream",
     "text": [
      "WARNING: Deep reset may run for some time... use only for debugging\n",
      "INFO: classifier MMIO\n",
      "INFO:   - base address:   @a0020000\n",
      "INFO:   - window_size:    @?? = 400\n",
      "INFO:   - window_offset:  @0010 = 150\n",
      "INFO:   - scaling_factor: @0018 = 1\n",
      "INFO:   - trigger_delay:  @0020 = 0\n",
      "CPU times: user 1.63 s, sys: 49.8 ms, total: 1.68 s\n",
      "Wall time: 1.64 s\n"
     ]
    }
   ],
   "source": [
    "%%time\n",
    "if HAS_NN:\n",
    "    WINDOW_SIZE = 400\n",
    "    WINDOW_OFFSET = 150\n",
    "    SCALING_FACTOR = 1\n",
    "    TRIGGER_DELAY = 0\n",
    "    \n",
    "    # Reset the classifier in deep mode (first 16 elements of the buffer are set to 0)\n",
    "    reset_classifier(deep_reset = True, index_lo = 0, index_hi = 15)\n",
    "    \n",
    "    # The NN IP ignores the WINDOW_SIZE for now\n",
    "    configure_classifier(WINDOW_SIZE, WINDOW_OFFSET, SCALING_FACTOR, TRIGGER_DELAY, debug=True)"
   ]
  },
  {
   "cell_type": "code",
   "execution_count": 17,
   "metadata": {},
   "outputs": [
    {
     "name": "stdout",
     "output_type": "stream",
     "text": [
      "INFO: prediction count:      0\n",
      "INFO: buffer size     :  32768\n",
      "INFO:\n",
      "INFO: [    0] 00000000 (0.0) <<<\n",
      "INFO: [    0] 00000000 (0.0) <<<\n",
      "INFO: [    1] 00000000 (0.0) \n",
      "INFO: [    1] 00000000 (0.0) \n",
      "INFO: [    2] 00000000 (0.0) \n",
      "INFO: [    2] 00000000 (0.0) \n",
      "INFO: [    3] 00000000 (0.0) \n",
      "INFO: [    3] 00000000 (0.0) \n",
      "INFO: [    4] 00000000 (0.0) \n",
      "INFO: [    4] 00000000 (0.0) \n",
      "INFO: [    5] 00000000 (0.0) \n",
      "INFO: [    5] 00000000 (0.0) \n",
      "INFO: [    6] 00000000 (0.0) \n",
      "INFO: [    6] 00000000 (0.0) \n",
      "INFO: [    7] 00000000 (0.0) \n",
      "INFO: [    7] 00000000 (0.0) \n"
     ]
    }
   ],
   "source": [
    "if HAS_NN:\n",
    "    print_classifier_buffer(index_lo=0, index_hi=7)"
   ]
  },
  {
   "cell_type": "code",
   "execution_count": 18,
   "metadata": {},
   "outputs": [
    {
     "data": {
      "application/vnd.jupyter.widget-view+json": {
       "model_id": "e9ccc83334604e668e96f3e1e5874e7d",
       "version_major": 2,
       "version_minor": 0
      },
      "text/plain": [
       "  0%|          | 0/3 [00:00<?, ?it/s]"
      ]
     },
     "metadata": {},
     "output_type": "display_data"
    },
    {
     "name": "stdout",
     "output_type": "stream",
     "text": [
      "CPU times: user 355 ms, sys: 10.9 ms, total: 366 ms\n",
      "Wall time: 283 ms\n"
     ]
    },
    {
     "data": {
      "image/png": "[encoded data removed]",
      "text/plain": [
       "<Figure size 432x288 with 1 Axes>"
      ]
     },
     "metadata": {
      "needs_background": "light"
     },
     "output_type": "display_data"
    }
   ],
   "source": [
    "%%time\n",
    "for i in range(1):\n",
    "    prog = LoopbackProgram(soccfg, config)\n",
    "    \n",
    "    iq_list = prog.acquire_decimated(soc, progress=True)\n",
    "    \n",
    "    \n",
    "    ###########################################################\n",
    "    axvline(WINDOW_OFFSET, ls = '--', color = 'red')\n",
    "    axvline(WINDOW_OFFSET+WINDOW_SIZE, ls = '--', color = 'red')\n",
    "    ###########################################################\n",
    "    \n",
    "    # Plot results.\n",
    "    for ii, iq in enumerate(iq_list):\n",
    "        plt.plot(iq[0], label=\"I value, ADC %d\"%(config['ro_chs'][ii]), color='C0')\n",
    "        plt.plot(iq[1], label=\"Q value, ADC %d\"%(config['ro_chs'][ii]), color='C1')\n",
    "        #plt.plot(np.abs(iq[0]+1j*iq[1]), label=\"mag, ADC %d\"%(config['ro_chs'][ii]))\n",
    "        plt.ylabel(\"a.u.\")\n",
    "        plt.xlabel(\"Clock ticks\")\n",
    "        plt.title(\"Averages = \" + str(config[\"soft_avgs\"]))\n",
    "        #plt.legend()\n",
    "        #plt.show()\n",
    "    #plt.savefig(\"images/send_receive_pulse_const.png\", dpi=350)\n",
    "    np.set_printoptions(threshold=np.inf)\n",
    "    #print([int(element) for pair in zip(*iq_list[0]) for element in pair])\n",
    "    #import time\n",
    "    #time.sleep(1)"
   ]
  },
  {
   "cell_type": "code",
   "execution_count": 19,
   "metadata": {
    "scrolled": true
   },
   "outputs": [],
   "source": [
    "import struct\n",
    "def float_to_hex32(f):\n",
    "    return format(struct.unpack('!I', struct.pack('!f', f))[0], '08x')\n",
    "\n",
    "def int_to_twos_complement_hex32(n):\n",
    "    # If the number is negative, get its two's complement\n",
    "    if n < 0:\n",
    "        n = (1 << 32) + n  # \"Wrap around\" to get 32-bit two's complement\n",
    "    return format(n, '08x')\n",
    "\n",
    "# Save trace.\n",
    "iq = iq_list[0]\n",
    "\n",
    "# Shows I and Q sequence\n",
    "iq_sequence = [list(item) for item in zip(*iq)]\n",
    "iq_sequence = [int(item) for sublist in iq_sequence for item in sublist]\n",
    "\n",
    "# Float value as hex\n",
    "#hex_iq_sequence_flt = [float_to_hex32(num) for num in iq_sequence]\n",
    "\n",
    "# Float -> Int value as hex\n",
    "#hex_iq_sequence_dec = [int_to_twos_complement_hex32(int(i)) for i in iq_sequence]\n",
    "\n",
    "# print('Sequence length:', len(iq_sequence))\n",
    "# print('I (lo, data[15:0])')\n",
    "# print(iq[0])\n",
    "# print('Q (hi, data[31:16])')\n",
    "# print(iq[1])\n",
    "\n",
    "# print(iq_sequence)\n",
    "\n",
    "#print(hex_iq_sequence_flt)\n",
    "#print(hex_iq_sequence_dec)\n",
    "\n",
    "#for i in range(0,len(iq_sequence),2):\n",
    "#    print(\"I {:4.0f} {} {}\".format(iq_sequence[i], hex_iq_sequence_flt[i], hex_iq_sequence_dec[i]))\n",
    "#    print(\"Q {:4.0f} {} {}\".format(iq_sequence[i+1], hex_iq_sequence_flt[i+1], hex_iq_sequence_dec[i+1]))"
   ]
  },
  {
   "cell_type": "code",
   "execution_count": 20,
   "metadata": {},
   "outputs": [
    {
     "name": "stdout",
     "output_type": "stream",
     "text": [
      "[0, 0, 0, 0, 1, 0, 1, 0, 0, 0, 0, 0, 0, 1, 0, 0, 0, 0, 0, 0, 0, 0, 0, 0, 0, 0, 0, -1, 0, 0, 1, 0, 0, 0, 0, 0, 1, 0, 1, 0, 0, 1, 1, 0, 1, 0, 0, 0, 0, 0, 0, 0, 0, 0, 0, 0, 0, 0, 0, 0, -1, 0, 0, 1, 0, 0, -1, 0, -1, -1, 0, 0, 0, 0, 0, 0, -1, 0, -1, 0, 0, 0, 0, 0, 0, 0, 0, 0, 0, 0, 0, 0, 0, -1, 0, 0, 0, 1, 0, 0, 0, 1, 0, 1, -1, 0, 0, 0, 0, 0, 2, -2, 2, -2, 0, 0, 6, -8, -5, 7, 12, -19, 97, -130, 139, -170, 126, -153, 129, -160, 129, -159, 127, -157, 130, -161, 131, -161, 131, -161, 131, -161, 132, -161, 132, -161, 133, -161, 131, -161, 131, -161, 131, -161, 131, -161, 131, -161, 132, -161, 131, -160, 129, -161, 130, -161, 131, -161, 131, -161, 132, -161, 133, -161, 131, -161, 130, -162, 130, -162, 130, -160, 131, -160, 131, -161, 130, -160, 130, -161, 131, -160, 131, -159, 131, -161, 131, -160, 131, -160, 131, -162, 132, -161, 131, -160, 130, -162, 132, -161, 132, -160, 132, -161, 132, -162, 131, -161, 130, -160, 132, -161, 132, -160, 131, -160, 131, -160, 130, -161, 129, -162, 130, -162, 131, -160, 131, -161, 130, -161, 130, -160, 131, -160, 131, -160, 131, -159, 131, -159, 130, -161, 131, -161, 132, -160, 131, -161, 131, -161, 132, -162, 132, -162, 132, -160, 132, -161, 130, -162, 130, -161, 132, -161, 133, -162, 131, -161, 131, -160, 131, -160, 131, -161, 130, -161, 131, -160, 131, -161, 131, -162, 131, -161, 131, -159, 130, -161, 131, -161, 131, -159, 131, -160, 130, -161, 131, -161, 132, -160, 132, -160, 130, -161, 130, -162, 130, -161, 131, -161, 132, -160, 131, -160, 131, -161, 132, -162, 131, -161, 130, -160, 131, -160, 132, -161, 132, -162, 132, -160, 131, -159, 130, -163, 131, -161, 131, -159, 130, -161, 130, -160, 131, -159, 131, -161, 132, -161, 131, -161, 131, -161, 132, -160, 131, -161, 130, -160, 131, -160, 131, -161, 130, -161, 130, -160, 131, -162, 131, -162, 131, -161, 132, -160, 132, -160, 131, -161, 131, -160, 131, -160, 131, -162, 131, -161, 131, -160, 132, -161, 131, -160, 131, -159, 132, -161, 132, -161, 131, -160, 130, -160, 130, -160, 130, -160, 131, -161, 132, -161, 131, -161, 130, -160, 130, -162, 131, -163, 130, -161, 130, -161, 131, -161, 131, -162, 130, -161, 131, -160, 132, -160, 131, -161, 131, -160, 131, -160, 131, -160, 132, -161, 131, -161, 131, -160, 131, -160, 131, -161, 131, -160, 132, -160, 131, -161, 131, -161, 131, -161, 132, -161, 131, -161, 130, -160, 131, -161, 130, -160, 130, -161, 131, -159, 131, -159, 131, -161, 130, -161, 131, -161, 132, -161, 132, -161, 131, -161, 130, -161, 131, -159, 131, -161, 130, -161, 131, -159, 131, -160, 131, -163, 130, -161, 130, -159, 132, -160, 131, -161, 130, -161, 131, -160, 131, -160, 131, -162, 131, -162, 131, -160, 131, -160, 131, -160, 132, -160, 132, -160, 132, -161, 130, -161, 131, -161, 132, -161, 132, -161, 132, -160, 130, -162, 131, -161, 130, -160, 130, -161, 130, -161, 131, -161, 131, -161, 131, -160, 131, -160, 131, -161, 131, -161, 131, -161, 129, -160, 130, -160, 130, -161, 130, -162, 131, -161, 132, -162, 132, -162, 131, -161, 131, -161, 132, -162, 132, -161, 132, -160, 132, -161, 131, -162, 132, -160, 131, -160, 131, -162, 132, -161, 131, -160, 130, -160, 130, -161, 131, -161, 130, -160, 130, -161, 131, -162, 132, -161, 131, -161, 130, -160, 131, -160, 131, -162, 130, -162, 131, -161, 131, -160, 130, -161, 131, -161, 132, -161, 131, -162, 131, -161, 131, -162, 131, -162, 131, -161, 130, -161, 132, -161, 131, -161, 130, -160, 131, -160, 131, -160, 130, -160, 130, -161, 130, -161, 130, -161, 130, -161, 131, -160, 130, -156, 130, -160, 128, -157, 126, -154, 137, -170, 97, -110, 13, -6, -5, 3, 6, -8, 0, 0, 1, -4, 3, -3, 1, 0, 0, 0, 0, -1, 1, 0, 0, 0, 0, 0, 1, 0, 1, 0, 0, 0, 0, 0, -1, 0, 0, 0, 0, 0, 0, -1, 0, 0, 0, 0, 0, 0, 1, 0, 0, 0, -1, 0, 0, 0, 0, 0, 0, 0, 0, 0, 0, 0, 0, 0, 0, 0, 0, 0, 0, 0, 0, 0, 1, 0, 0, 0, -1, 0, -1, 0, 0, 0, 0, 0, 0, 1, 0, 0, 0, 0, -1, 0, 0, 1, 0, 0, 0, -1, 0, 0, 1, 0, 0, 0, 1, 0, 0, 0, 0, 0, 0, 1, 0, 0, 0, 0, 0, 0, 1, 0, 0, 0, 0, 1, 1, 1, 0, 1, -1, 0, -1, 1, 0, 1, 0, 0, 0, 0, 0, 0, 0, 1, 0, 0, 0, -1, 0, -1, 0, 0, 0, 0, -1, 1, 0, 0, 1, 0, 0, 0, -1, 0, 0, 0, 0, 0, 0, 0, 0, 0, 0, 0, 0, -1, 0, 0, 0, 1, -1, 1, 0, 0, 0, 0, 1, 0, 0, 0, -1, 0, -1, 0, 0, -1, 0, 0, 0, 0, 0, 0, 0, 0, 0, 0, 0, 0, 0, 0, 0, -1, 0, 0, 0, 0, 0, 2, 0, 1, 1, 0, 1, 0, 0, 0, 0, 0, 0, 0, 0, 0, 0, 0, 0, 0, -1, 1, -1, 1, 0, 0, 0, 0, 0, 0, 0, 0, 0, 1, 0, 0, 0, 0, 0, 0, 0, 0, 0, 0, 0, 0, 0, 0, 0, 0, 0, 0, 0, 0, 0, 0, 0, 0, 0, 0, 0, 0, 0, 0, 0, 0, 0, 0, 0, 0, 0, 0, 0, 0, 0, 0, 0, 0, 0, 0, 0, 1, 0, 0, 0, -1, -1, 0, 0, 0, 1, -1, 0, 0, 0, 0, 0, -1, 0, -1, 0, 0, 0, 0, 0, 0, 0, 0, 0, 1, 0, 0, 0, -1, 0, 0, 0, 0, 0, 0, 0, 0, 0, 0, 0, 0, 0, 0, 0, 0, 0, 0, 0, 0, 0, 0, 0, 0, 0, -1, 0, 0, 0, 0, 0, 0, 0, 0, 0, 0, 1, 0, 0, 0, 0, 0, 0, 0, 0, 1, 0, 0, 0, 0, 0, 0, 0, 0, 0, 0, 0, 0, 0, 0, 0, 1, -1, 0, -1, 0, 0, 0, 0, 0, -1, 0, 0, 0, 0, 0, 0, 0, 0, 0, 0, 0, 0, 0, 0, 0, 0, 0, -1, 0, -1, 0, 1, 0, 0, 0, 0, 0, 0, 0, 0, 0, 0, 0, 0, 1, 0, 0, 0, 1, -1, 0, 0, -1, 0, 1, 0, 0, 0, 0, -1, 0, 1, -1, 0, -1, -1, 0, 1, 0, 1, -1, -2, -1, -1, 0, 0, 0, 0, 0, 0, 0, 0, 0, 0, 0, 0, 0, -1, 0, 0, -1, 0, 0, 0, 0, 0, 0, -1, 1, -1, 0, 0, 0, 0, 1, -1, 0, 0, 0, 0, 0, -1, 0, -1, 0, 0, 0, 0, 0, 0, 0, 0, 0, 0, 0, 0, 0, -1, 0, 0, 0, -1, 0, -1, 0, 0, -1, 0, -1, -1, 0, 0, 1, 0, 1, 0, 0, 0, -1, 0, 0, 0, 0, 0, 0, -2, 0, -1, 0, 1, 0, 0, 0, 0, 0, 1, 0, 0, -1, -1, 0, 0, 0, 0, 0, 0, 0, 0, 0, 0, 0, 0, 0, 0, 0, 0, 0, 0, 0, 0, 0, 0, 0, 0, 0, 0, 0, 0, 0, 0, 0, 0, 0, 0, 0, 0, 0, 0, 0, 0, 0, 0, 0, 0, 0, 0, 0, 0, 0, 0, 0, 1, 0, 1, 0, 0, 0, 0, 0, 0, 0, 0, 0, 1, 0, 0, 0, -1, -1, 0, 0, 0, 0, 0, 0, 0, 0, 0, 0, 0, 0, 0, -1, 0, -1, 0, 1, 0, 1, 0, 0, 0, 0, 0, 0, 0, 0, 0, 0, 0, 0, 0, 0, 0, 0, 0, 1, 0, 0, 0, 0, 0, 0, 0, 1, 0, 1, 0, -1, 0, 0, 0, 1, 0, 0, 0, 0, 0, 0, 0, 0, 0, 0, 0, 0, 0, 0, 0, 0, 1, 0, 0, 0, 0, 0, 0, 0, -1, 0, -1, -1, 0, 0, 1, 0, 0, 0, -1, 0, 0, 0, 0, 0, 0, 0, 0, 0, 1, 1, 0, 1, 0, 0, -1, 0, 0, 0, 0, 0, 0, -1, 0, 0, 0, 0, 1, 0, 0, 0, 0, 0, 0, 1, 0, 1, 1, 0, 1, 0, 0, 0, 0, -1, 0, 0, 0, -1, 0, -1, 0, 0, 0, 0, 0, 0, 0, -1, 0, 0, 0, 0, 0, 0, 0, 0, 0, 0, 0, 0, 0, 0, 0, 0, 0, 1, 0, 0, 0, 0, 0, 0, 0, 0, 0, 0, 0, 0, 0, 0, 1, 0, 0, 0, 0, 0, 0, 0, 0, 0, 0, 0, -1, 0, 0, 0, 0, 1, 0, 0, 0, 0, 0, 0, 0, 0, 0, 0, 0, 0, 0, 0, 0, 0, 0, 0, 0, 0]\n"
     ]
    }
   ],
   "source": [
    "#print(iq_sequence[285*2:(285+100)*2])\n",
    "print(iq_sequence)"
   ]
  },
  {
   "cell_type": "code",
   "execution_count": 21,
   "metadata": {},
   "outputs": [
    {
     "name": "stdout",
     "output_type": "stream",
     "text": [
      "Prediction: ground state\n",
      "Logit values as int: [ 1064927232 , 3213574144 ]\n",
      "Logit values as hex: [ 0x3f798000 , 0xbf8b4000 ]\n",
      "Logit values as flt: [ 0.974609375 , -1.087890625 ]\n"
     ]
    }
   ],
   "source": [
    "#\n",
    "# ATTENTION: if the cell fails, please make sure that\n",
    "#            the base_address matches the associated\n",
    "#            value in the address editor of the Vivado\n",
    "#            project.\n",
    "# \n",
    "if HAS_NN:\n",
    "    for i in range(1):\n",
    "        ground_state_logit, excited_state_logit = get_classifier_prediction(i)\n",
    "\n",
    "        if (to_float(ground_state_logit) > to_float(excited_state_logit)):\n",
    "            print(\"Prediction: ground state\")\n",
    "        else:\n",
    "            print(\"Prediction: excited state\")\n",
    "        print('Logit values as int: [', ground_state_logit, ',', excited_state_logit, ']')\n",
    "        print('Logit values as hex: [', hex(ground_state_logit), ',', hex(excited_state_logit), ']')\n",
    "        print('Logit values as flt: [', to_float(ground_state_logit), ',', to_float(excited_state_logit), ']')\n",
    "else:\n",
    "    print('No NN in this bitstream!')"
   ]
  },
  {
   "cell_type": "code",
   "execution_count": 22,
   "metadata": {},
   "outputs": [
    {
     "name": "stdout",
     "output_type": "stream",
     "text": [
      "INFO: prediction count:      3\n",
      "INFO: buffer size     :  32768\n",
      "INFO:\n",
      "INFO: [    0] 3f798000 (0.974609375) \n",
      "INFO: [    0] bf8b4000 (-1.087890625) \n",
      "INFO: [    1] 3f7a0000 (0.9765625) \n",
      "INFO: [    1] bf8c0000 (-1.09375) \n",
      "INFO: [    2] 3f784000 (0.9697265625) \n",
      "INFO: [    2] bf8b6000 (-1.0888671875) \n",
      "INFO: [    3] 00000000 (0.0) <<<\n",
      "INFO: [    3] 00000000 (0.0) <<<\n",
      "INFO: [    4] 00000000 (0.0) \n",
      "INFO: [    4] 00000000 (0.0) \n",
      "INFO: [    5] 00000000 (0.0) \n",
      "INFO: [    5] 00000000 (0.0) \n",
      "INFO: [    6] 00000000 (0.0) \n",
      "INFO: [    6] 00000000 (0.0) \n",
      "INFO: [    7] 00000000 (0.0) \n",
      "INFO: [    7] 00000000 (0.0) \n"
     ]
    }
   ],
   "source": [
    "if HAS_NN:\n",
    "    print_classifier_buffer(index_lo=0, index_hi=7)"
   ]
  },
  {
   "cell_type": "code",
   "execution_count": 23,
   "metadata": {},
   "outputs": [
    {
     "name": "stdout",
     "output_type": "stream",
     "text": [
      "WARNING: Deep reset may run for some time... use only for debugging\n"
     ]
    }
   ],
   "source": [
    "if HAS_NN:\n",
    "    reset_classifier(deep_reset=True, index_hi=7)"
   ]
  },
  {
   "cell_type": "code",
   "execution_count": 24,
   "metadata": {},
   "outputs": [
    {
     "name": "stdout",
     "output_type": "stream",
     "text": [
      "INFO: prediction count:      0\n",
      "INFO: buffer size     :  32768\n",
      "INFO:\n",
      "INFO: [    0] 00000000 (0.0) <<<\n",
      "INFO: [    0] 00000000 (0.0) <<<\n",
      "INFO: [    1] 00000000 (0.0) \n",
      "INFO: [    1] 00000000 (0.0) \n",
      "INFO: [    2] 00000000 (0.0) \n",
      "INFO: [    2] 00000000 (0.0) \n",
      "INFO: [    3] 00000000 (0.0) \n",
      "INFO: [    3] 00000000 (0.0) \n",
      "INFO: [    4] 00000000 (0.0) \n",
      "INFO: [    4] 00000000 (0.0) \n",
      "INFO: [    5] 00000000 (0.0) \n",
      "INFO: [    5] 00000000 (0.0) \n",
      "INFO: [    6] 00000000 (0.0) \n",
      "INFO: [    6] 00000000 (0.0) \n",
      "INFO: [    7] 00000000 (0.0) \n",
      "INFO: [    7] 00000000 (0.0) \n"
     ]
    }
   ],
   "source": [
    "if HAS_NN:\n",
    "    print_classifier_buffer(index_lo=0, index_hi=7)"
   ]
  },
  {
   "cell_type": "code",
   "execution_count": 25,
   "metadata": {},
   "outputs": [],
   "source": [
    "# if HAS_NN:\n",
    "#     print('Readout count: {}'.format(get_classifier_prediction_count()))"
   ]
  },
  {
   "cell_type": "raw",
   "metadata": {},
   "source": [
    "!rm dev_X_fpga.csv dev_y_fpga.csv"
   ]
  },
  {
   "cell_type": "raw",
   "metadata": {},
   "source": [
    "if HAS_NN:\n",
    "    import csv\n",
    "    import pandas as pd\n",
    "\n",
    "    A_fpga_csv_file = 'dev_A_fpga.csv'\n",
    "    X_fpga_csv_file = 'dev_X_fpga.csv'\n",
    "    y_fpga_csv_file = 'dev_y_fpga.csv'\n",
    "\n",
    "    with open(A_fpga_csv_file, mode='a', newline='') as file:\n",
    "        writer = csv.writer(file)\n",
    "        writer.writerows([iq_sequence])\n",
    "\n",
    "    # Convert data to DataFrame for easier display\n",
    "    df = pd.read_csv(A_fpga_csv_file, header=None)\n",
    "\n",
    "    _ = display(df)\n",
    "\n",
    "    with open(X_fpga_csv_file, mode='a', newline='') as file:\n",
    "        writer = csv.writer(file)\n",
    "        writer.writerows([iq_sequence[285*2:(285+100)*2]])\n",
    "\n",
    "    # Convert data to DataFrame for easier display\n",
    "    df = pd.read_csv(X_fpga_csv_file, header=None)\n",
    "\n",
    "    _ = display(df)\n",
    "\n",
    "    with open(y_fpga_csv_file, mode='a', newline='') as file:\n",
    "        writer = csv.writer(file)\n",
    "        writer.writerows([[ground_state_logit, excited_state_logit]])\n",
    "\n",
    "    # Convert data to DataFrame for easier display\n",
    "    df = pd.read_csv(y_fpga_csv_file, header=None)\n",
    "\n",
    "    _ = display(df)\n",
    "\n",
    "    vectorized_convert = np.vectorize(to_float)\n",
    "    _ = display(pd.DataFrame(vectorized_convert(df.values)))"
   ]
  },
  {
   "cell_type": "raw",
   "metadata": {},
   "source": [
    "#\n",
    "# JUST FOR TESTING\n",
    "# Running multiple times the square pulse and observe how consistent the traces are\n",
    "#\n",
    "for _i in range(100):\n",
    "    prog = LoopbackProgram(soccfg, config)\n",
    "    \n",
    "    iq_list = prog.acquire_decimated(soc, progress=True)\n",
    "    \n",
    "    # Plot results.\n",
    "    for ii, iq in enumerate(iq_list):\n",
    "        plt.plot(iq[0], label=\"I value, ADC %d\"%(config['ro_chs'][ii]), color='C0')\n",
    "        plt.plot(iq[1], label=\"Q value, ADC %d\"%(config['ro_chs'][ii]), color='C1')\n",
    "        #plt.plot(np.abs(iq[0]+1j*iq[1]), label=\"mag, ADC %d\"%(config['ro_chs'][ii]))\n",
    "        plt.ylabel(\"a.u.\")\n",
    "        plt.xlabel(\"Clock ticks\")\n",
    "        plt.title(\"Averages = \" + str(config[\"soft_avgs\"]))\n",
    "        #plt.legend()\n",
    "        #plt.show()\n",
    "    #plt.savefig(\"images/send_receive_pulse_const_{}.png\".format(_i), dpi=350) "
   ]
  }
 ],
 "metadata": {
  "kernelspec": {
   "display_name": "Python 3",
   "language": "python",
   "name": "python3"
  },
  "language_info": {
   "codemirror_mode": {
    "name": "ipython",
    "version": 3
   },
   "file_extension": ".py",
   "mimetype": "text/x-python",
   "name": "python",
   "nbconvert_exporter": "python",
   "pygments_lexer": "ipython3",
   "version": "3.8.2"
  }
 },
 "nbformat": 4,
 "nbformat_minor": 2
}
