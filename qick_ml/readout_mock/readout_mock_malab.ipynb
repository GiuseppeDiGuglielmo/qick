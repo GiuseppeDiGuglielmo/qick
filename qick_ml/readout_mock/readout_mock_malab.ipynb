{
 "cells": [
  {
   "cell_type": "markdown",
   "id": "1272a92e",
   "metadata": {},
   "source": [
    "# Overview\n",
    "\n",
    "- Load .bit file\n",
    "- Basic loopback program calibration\n",
    "    - original code from demo\n",
    "    - time of flight cal\n",
    "    - readout phase cal\n",
    "    \n",
    "- Load real qubit readout data (old data from ZCU111)\n",
    "    \n",
    "- Readout mock - averaged signal (as an example)\n",
    "- Readout mock - singel-shot signal\n",
    "    - single-shot with tunable guassian noise\n",
    "    - iterate the single-shot experiment in python loop"
   ]
  },
  {
   "cell_type": "code",
   "execution_count": 1,
   "id": "a4f81f12",
   "metadata": {},
   "outputs": [
    {
     "name": "stdout",
     "output_type": "stream",
     "text": [
      "  main\u001b[m\r\n",
      "* \u001b[32mml-dev\u001b[m\r\n",
      "  ml-dev-origin\u001b[m\r\n"
     ]
    }
   ],
   "source": [
    "# You should be on the ml branch of https://github.com/GiuseppeDiGuglielmo/qick\n",
    "!git branch"
   ]
  },
  {
   "cell_type": "code",
   "execution_count": 2,
   "id": "1444e669",
   "metadata": {},
   "outputs": [
    {
     "name": "stdout",
     "output_type": "stream",
     "text": [
      "git rev:  28e9a41\n",
      "git date: Fri May 17 23:19:33 2024 -0500\n"
     ]
    }
   ],
   "source": [
    "!echo -n \"git rev:  \"; git rev-parse --short HEAD\n",
    "!echo -n \"git date: \"; git log -1 --format=%cd"
   ]
  },
  {
   "cell_type": "code",
   "execution_count": 3,
   "id": "c3aa2fd8",
   "metadata": {},
   "outputs": [
    {
     "name": "stdout",
     "output_type": "stream",
     "text": [
      "ml-dev\n"
     ]
    }
   ],
   "source": [
    "import subprocess\n",
    "branch_name = subprocess.getoutput(\"git rev-parse --abbrev-ref HEAD\")\n",
    "print(branch_name)"
   ]
  },
  {
   "cell_type": "markdown",
   "id": "de327454",
   "metadata": {},
   "source": [
    "# Load .bit file"
   ]
  },
  {
   "cell_type": "code",
   "execution_count": 4,
   "id": "26d33183",
   "metadata": {},
   "outputs": [
    {
     "data": {
      "application/javascript": [
       "\n",
       "try {\n",
       "require(['notebook/js/codecell'], function(codecell) {\n",
       "  codecell.CodeCell.options_default.highlight_modes[\n",
       "      'magic_text/x-csrc'] = {'reg':[/^%%microblaze/]};\n",
       "  Jupyter.notebook.events.one('kernel_ready.Kernel', function(){\n",
       "      Jupyter.notebook.get_cells().map(function(cell){\n",
       "          if (cell.cell_type == 'code'){ cell.auto_highlight(); } }) ;\n",
       "  });\n",
       "});\n",
       "} catch (e) {};\n"
      ]
     },
     "metadata": {},
     "output_type": "display_data"
    },
    {
     "data": {
      "application/javascript": [
       "\n",
       "try {\n",
       "require(['notebook/js/codecell'], function(codecell) {\n",
       "  codecell.CodeCell.options_default.highlight_modes[\n",
       "      'magic_text/x-csrc'] = {'reg':[/^%%pybind11/]};\n",
       "  Jupyter.notebook.events.one('kernel_ready.Kernel', function(){\n",
       "      Jupyter.notebook.get_cells().map(function(cell){\n",
       "          if (cell.cell_type == 'code'){ cell.auto_highlight(); } }) ;\n",
       "  });\n",
       "});\n",
       "} catch (e) {};\n"
      ]
     },
     "metadata": {},
     "output_type": "display_data"
    },
    {
     "name": "stdout",
     "output_type": "stream",
     "text": [
      "Populating the interactive namespace from numpy and matplotlib\n"
     ]
    }
   ],
   "source": [
    "# Import the QICK drivers and auxiliary libraries\n",
    "from qick import *\n",
    "%pylab inline"
   ]
  },
  {
   "cell_type": "code",
   "execution_count": 5,
   "id": "9929fcc4",
   "metadata": {},
   "outputs": [
    {
     "name": "stdout",
     "output_type": "stream",
     "text": [
      "/home/xilinx/jupyter_notebooks/qick_dev/qick_ml/readout_mock\r\n"
     ]
    }
   ],
   "source": [
    "# Current directory\n",
    "!pwd"
   ]
  },
  {
   "cell_type": "code",
   "execution_count": 6,
   "id": "b2568db6",
   "metadata": {},
   "outputs": [
    {
     "name": "stdout",
     "output_type": "stream",
     "text": [
      "total 104776\r\n",
      "drwxrwxr-x 2 xilinx xilinx     4096 May 19 13:07 OLD\r\n",
      "-rw-rw-r-- 1 xilinx xilinx 34437473 May 19 20:54 qick_216_nn_w100.bit\r\n",
      "-rw-rw-r-- 1 xilinx xilinx  1322232 May 19 20:54 qick_216_nn_w100.hwh\r\n",
      "-rw-rw-r-- 1 xilinx xilinx 34437473 May 19 20:10 qick_216_nn_w200.bit\r\n",
      "-rw-rw-r-- 1 xilinx xilinx  1322232 May 19 20:10 qick_216_nn_w200.hwh\r\n",
      "-rw-rw-r-- 1 xilinx xilinx 34437473 May 19 14:42 qick_216_nn_w400.bit\r\n",
      "-rw-rw-r-- 1 xilinx xilinx  1322232 May 19 14:42 qick_216_nn_w400.hwh\r\n"
     ]
    }
   ],
   "source": [
    "# List custom bitstreams\n",
    "!ls -l ../216/$branch_name/'00000000'"
   ]
  },
  {
   "cell_type": "code",
   "execution_count": 7,
   "id": "36a4d315",
   "metadata": {},
   "outputs": [
    {
     "name": "stdout",
     "output_type": "stream",
     "text": [
      "total 4\r\n",
      "drwxrwxr-x 2 xilinx xilinx 4096 May 19 13:07 OLD\r\n"
     ]
    }
   ],
   "source": [
    "!ls -l ../216/$branch_name/'20240501'"
   ]
  },
  {
   "cell_type": "code",
   "execution_count": 8,
   "id": "b887f4f7",
   "metadata": {},
   "outputs": [],
   "source": [
    "# Choose custom bistreams\n",
    "\n",
    "DATASET_DATE = '00000000'\n",
    "#DATASET_DATE = '20240501'\n",
    "\n",
    "# QICK\n",
    "#CUSTOM_BIT = '../216/{}/qick_216_orig.bit'.format(branch_name)\n",
    "#HAS_NN = 0\n",
    "\n",
    "# # QICK + ILAs + syn/imp optimizations\n",
    "# CUSTOM_BIT = '../216/{}/qick_216_ila.bit'.format(branch_name)\n",
    "# HAS_NN = 0\n",
    "\n",
    "# QICK + NN + syn/imp optimizations\n",
    "WINDOW_SIZE = 400\n",
    "CUSTOM_BIT = '../216/{}/{}/qick_216_nn_w{}.bit'.format(branch_name, DATASET_DATE, WINDOW_SIZE)\n",
    "HAS_NN = True\n",
    "\n",
    "# Save traces from NN\n",
    "SAVE_NN_TRACES = True\n",
    "\n",
    "# Configure channels\n",
    "GEN_CH = 0\n",
    "RO_CH = 0"
   ]
  },
  {
   "cell_type": "code",
   "execution_count": 9,
   "id": "697ea0c8",
   "metadata": {},
   "outputs": [
    {
     "name": "stdout",
     "output_type": "stream",
     "text": [
      "Custom bitsream: /home/xilinx/jupyter_notebooks/qick_dev/qick_ml/216/ml-dev/00000000/qick_216_nn_w400.bit\n",
      "\n",
      "QICK configuration:\n",
      "\n",
      "\tBoard: ZCU216\n",
      "\n",
      "\tSoftware version: 0.2.249\n",
      "\tFirmware timestamp: Sun May 19 11:47:12 2024\n",
      "\n",
      "\tGlobal clocks (MHz): tProcessor 430.080, RF reference 245.760\n",
      "\n",
      "\t2 signal generator channels:\n",
      "\t0:\taxis_signal_gen_v6 - envelope memory 65536 samples (9.524 us)\n",
      "\t\tfs=6881.280 MHz, fabric=430.080 MHz, 32-bit DDS, range=6881.280 MHz\n",
      "\t\tDAC tile 2, blk 0 is 0_230, on JHC3\n",
      "\t1:\taxis_signal_gen_v6 - envelope memory 65536 samples (9.524 us)\n",
      "\t\tfs=6881.280 MHz, fabric=430.080 MHz, 32-bit DDS, range=6881.280 MHz\n",
      "\t\tDAC tile 2, blk 2 is 2_230, on JHC3\n",
      "\n",
      "\t2 readout channels:\n",
      "\t0:\taxis_readout_v2 - controlled by PYNQ\n",
      "\t\tfs=2457.600 MHz, fabric=307.200 MHz, 32-bit DDS, range=2457.600 MHz\n",
      "\t\tmaxlen 16384 accumulated, 1024 decimated (3.333 us)\n",
      "\t\ttriggered by output 0, pin 8, feedback to tProc input -1\n",
      "\t\tADC tile 2, blk 0 is 0_226, on JHC7\n",
      "\t1:\taxis_readout_v2 - controlled by PYNQ\n",
      "\t\tfs=2457.600 MHz, fabric=307.200 MHz, 32-bit DDS, range=2457.600 MHz\n",
      "\t\tmaxlen 16384 accumulated, 1024 decimated (3.333 us)\n",
      "\t\ttriggered by output 0, pin 9, feedback to tProc input -1\n",
      "\t\tADC tile 2, blk 2 is 2_226, on JHC7\n",
      "\n",
      "\t8 digital output pins:\n",
      "\t0:\tPMOD0_0_LS\n",
      "\t1:\tPMOD0_1_LS\n",
      "\t2:\tPMOD0_2_LS\n",
      "\t3:\tPMOD0_3_LS\n",
      "\t4:\tPMOD0_4_LS\n",
      "\t5:\tPMOD0_5_LS\n",
      "\t6:\tPMOD0_6_LS\n",
      "\t7:\tPMOD0_7_LS\n",
      "\n",
      "\ttProc axis_tproc64x32_x8: program memory 8192 words, data memory 4096 words\n",
      "\t\texternal start pin: None\n"
     ]
    }
   ],
   "source": [
    "# Load bitstream with custom overlay\n",
    "if not 'CUSTOM_BIT' in locals():\n",
    "    soc = QickSoc()\n",
    "else:\n",
    "    import os\n",
    "    # Normalize path\n",
    "    CUSTOM_BIT_FULL_PATH = os.path.normpath(os.getcwd() + '/' + CUSTOM_BIT)\n",
    "    print('Custom bitsream:', CUSTOM_BIT_FULL_PATH)\n",
    "    \n",
    "    soc = QickSoc(bitfile=CUSTOM_BIT_FULL_PATH)\n",
    "\n",
    "soccfg = soc\n",
    "print(soccfg)"
   ]
  },
  {
   "cell_type": "code",
   "execution_count": 10,
   "id": "1cecf071",
   "metadata": {},
   "outputs": [],
   "source": [
    "## Load bitstream with custom overlay\n",
    "#soc = QickSoc()\n",
    "## soc = QickSoc(\"qick_216_0821.bit\")\n",
    "## Since we're running locally on the QICK, we don't need a separate QickConfig object.\n",
    "## If running remotely, you could generate a QickConfig from the QickSoc:\n",
    "##     soccfg = QickConfig(soc.get_cfg())\n",
    "## or save the config to file, and load it later:\n",
    "##     with open(\"qick_config.json\", \"w\") as f:\n",
    "##         f.write(soc.dump_cfg())\n",
    "##     soccfg = QickConfig(\"qick_config.json\")\n",
    "#soccfg = soc\n",
    "#print(soccfg)"
   ]
  },
  {
   "cell_type": "code",
   "execution_count": 11,
   "id": "088f75a8",
   "metadata": {},
   "outputs": [
    {
     "name": "stdout",
     "output_type": "stream",
     "text": [
      "Loaded bitstream: /home/xilinx/jupyter_notebooks/qick_dev/qick_ml/216/ml-dev/00000000/qick_216_nn_w400.bit\n"
     ]
    }
   ],
   "source": [
    "print('Loaded bitstream:', soccfg.bitfile_name)"
   ]
  },
  {
   "cell_type": "markdown",
   "id": "26040d29",
   "metadata": {},
   "source": [
    "# NN Classifier Python API"
   ]
  },
  {
   "cell_type": "code",
   "execution_count": 12,
   "id": "75a48679",
   "metadata": {},
   "outputs": [],
   "source": [
    "from ctypes import *\n",
    "\n",
    "def to_float(w):\n",
    "    \"\"\"\n",
    "    Convert a 32b memory word to a floating-point number using ctypes.\n",
    "    \n",
    "    Args:\n",
    "        w (int): The 32b word to convert.\n",
    "        \n",
    "    Returns:\n",
    "        float: The converted floating-point number.\n",
    "    \"\"\"\n",
    "    cp = pointer(c_int(w))\n",
    "    fp = cast(cp, POINTER(c_float))\n",
    "    return fp.contents.value\n",
    "\n",
    "from pynq import MMIO\n",
    "\n",
    "def reset_classifier(deep_reset = False, index_lo = 0, index_hi = 0):\n",
    "    \"\"\"\n",
    "    Reset the classifier. Optionally perform a deep reset.\n",
    "    \n",
    "    Args:\n",
    "        deep_reset (bool): If True, perform a deep reset by setting specific memory locations to zero. Default is False.\n",
    "        index_lo (int): The lower index for the deep reset range. Default is 0.\n",
    "        index_hi (int): The upper index for the deep reset range. Default is 0.\n",
    "    \"\"\"\n",
    "    RESET_HI = 255\n",
    "    RESET_LO = 0\n",
    "    # Access the MMIO interface of the classifier\n",
    "    mmio_nn = MMIO(soccfg.NN_0.mmio.base_addr, soccfg.NN_0.mmio.length)\n",
    "    # This sends a \"reset pulse\" to the classifier\n",
    "    mmio_nn.write(soccfg.NN_0.register_map.out_reset.address, RESET_HI)\n",
    "    mmio_nn.write(soccfg.NN_0.register_map.out_reset.address, RESET_LO)\n",
    "    if deep_reset:\n",
    "        # Perform a deep reset by setting specific memory locations to zero\n",
    "        # Warning: This may run for a long time; use only for debugging\n",
    "        print('WARNING: Deep reset may run for some time... use only for debugging')\n",
    "        entry_count = ((index_hi - index_lo) + 1) * 2\n",
    "        for i in range(entry_count):\n",
    "            soccfg.axi_blk_bram_ctrl_0.mmio.array[i] = 0\n",
    "\n",
    "def configure_classifier(window_size, window_offset, scaling_factor, trigger_delay, debug = False):\n",
    "    \"\"\"\n",
    "    Configure the classifier with the specified parameters.\n",
    "    \n",
    "    Args:\n",
    "        window_size (int): The size of the window for classification.\n",
    "        window_offset (int): The offset of the window for classification.\n",
    "        scaling_factor (int): The scaling factor for classification.\n",
    "        trigger_delay (int): The delay for triggering classification.\n",
    "        debug (bool): If True, print debug information. Default is False.\n",
    "    \"\"\"\n",
    "    if debug:\n",
    "        # Print debug information about the classifier configuration\n",
    "        print('INFO: classifier MMIO')\n",
    "        print('INFO:   - base address:   @{:08x}'.format(soccfg.NN_0.mmio.base_addr))\n",
    "        print('INFO:   - window_size:    @{} = {}'.format('??', window_size))\n",
    "        print('INFO:   - window_offset:  @{:04x} = {}'.format(soccfg.NN_0.register_map.window_offset.address, window_offset))\n",
    "        print('INFO:   - scaling_factor: @{:04x} = {}'.format(soccfg.NN_0.register_map.scaling_factor.address, scaling_factor))\n",
    "        print('INFO:   - trigger_delay:  @{:04x} = {}'.format(soccfg.NN_0.register_map.trigger_delay.address, trigger_delay))\n",
    "    # Access the MMIO interface of the classifier and configure it\n",
    "    mmio_nn = MMIO(soccfg.NN_0.mmio.base_addr, soccfg.NN_0.mmio.length)\n",
    "    mmio_nn.write(soccfg.NN_0.register_map.window_offset.address, window_offset)\n",
    "    mmio_nn.write(soccfg.NN_0.register_map.scaling_factor.address, scaling_factor)\n",
    "    mmio_nn.write(soccfg.NN_0.register_map.trigger_delay.address, trigger_delay)\n",
    "\n",
    "def get_classifier_prediction_count():\n",
    "    \"\"\"\n",
    "    Get how many predictions (pulses) have run through the classifier. This is 0 at the very beginning or if you reset the classifier.\n",
    "    \n",
    "    Returns:\n",
    "        int: The number of predictions made by the classifier.\n",
    "    \"\"\"\n",
    "    # Access the MMIO interface of the classifier\n",
    "    mmio_nn = MMIO(soccfg.NN_0.mmio.base_addr, soccfg.NN_0.mmio.length)\n",
    "    # Read and return the prediction count\n",
    "    prediction_count = mmio_nn.read(soccfg.NN_0.register_map.out_offset.address)\n",
    "    return prediction_count\n",
    "\n",
    "def get_classifier_prediction(index = 0):\n",
    "    \"\"\"\n",
    "    Get the classifier prediction for a specific index of the buffer.\n",
    "    \n",
    "    Args:\n",
    "        index (int): The index of the prediction to retrieve. Default is 0.\n",
    "        \n",
    "    Returns:\n",
    "        tuple: A tuple containing the ground state logit and the excited state logit.\n",
    "    \"\"\"\n",
    "    WORD_SIZE_BYTE = 4\n",
    "    WORD_COUNT_PER_PREDICTION = 2\n",
    "    # Access the MMIO interface of the BRAM\n",
    "    mmio_bram = MMIO(soccfg.axi_blk_bram_ctrl_0.base_address, soccfg.axi_blk_bram_ctrl_0.size)\n",
    "    # Read the logits for the ground state and excited state\n",
    "    ground_state_logit = mmio_bram.read(index * WORD_COUNT_PER_PREDICTION * WORD_SIZE_BYTE + 0)\n",
    "    excited_state_logit = mmio_bram.read(index * WORD_COUNT_PER_PREDICTION * WORD_SIZE_BYTE + WORD_SIZE_BYTE)\n",
    "    return ground_state_logit, excited_state_logit\n",
    "\n",
    "def get_classifier_predictions(index_lo = 0, index_hi = 0):\n",
    "    \"\"\"\n",
    "    Get a range of classifier predictions from the buffer.\n",
    "    \n",
    "    Args:\n",
    "        index_lo (int): The lower index of the range of predictions to retrieve. Default is 0.\n",
    "        index_hi (int): The upper index of the range of predictions to retrieve. Default is 0.\n",
    "        \n",
    "    Returns:\n",
    "        list: A list of tuples, each containing the ground state logit and the excited state logit.\n",
    "    \"\"\"\n",
    "    WORD_SIZE_BYTE = 4\n",
    "    WORD_COUNT_PER_PREDICTION = 2\n",
    "    # Access the MMIO interface of the BRAM\n",
    "    mmio_bram = MMIO(soccfg.axi_blk_bram_ctrl_0.base_address, soccfg.axi_blk_bram_ctrl_0.size)\n",
    "    # TODO: You can read the whole memory area rather than one element at a time and append\n",
    "    predictions = []\n",
    "    for index in range(index_lo, index_hi + 1):\n",
    "        ground_state_logit = mmio_bram.read(index * WORD_COUNT_PER_PREDICTION * WORD_SIZE_BYTE + 0)\n",
    "        excited_state_logit = mmio_bram.read(index * WORD_COUNT_PER_PREDICTION * WORD_SIZE_BYTE + WORD_SIZE_BYTE)\n",
    "        predictions.append([ground_state_logit, excited_state_logit])\n",
    "    return predictions\n",
    "\n",
    "def print_classifier_buffer(index_lo, index_hi):\n",
    "    \"\"\"\n",
    "    Print the classifier buffer for a range of indices.\n",
    "    \n",
    "    Args:\n",
    "        index_lo (int): The lower index of the range to print.\n",
    "        index_hi (int): The upper index of the range to print.\n",
    "    \"\"\"\n",
    "    # Get the prediction count and buffer size\n",
    "    prediction_count = get_classifier_prediction_count()\n",
    "    buffer_size = len(soccfg.axi_blk_bram_ctrl_0.mmio.array)\n",
    "    print('INFO: prediction count: {:6}'.format(prediction_count))\n",
    "    print('INFO: buffer size     : {:6}'.format(buffer_size))\n",
    "    print('INFO:')\n",
    "    for i in range(index_lo, index_hi + 1):\n",
    "        # Get the logits for each prediction and print them\n",
    "        ground_state_logit, excited_state_logit = get_classifier_prediction(i)\n",
    "        print('INFO: g [{:5d}] {:08x} ({}) {}'.format(i, ground_state_logit, to_float(ground_state_logit), '<<<' if prediction_count == i else ''))\n",
    "        print('INFO: e [{:5d}] {:08x} ({}) {}'.format(i, excited_state_logit, to_float(excited_state_logit), '<<<' if prediction_count == i else ''))"
   ]
  },
  {
   "cell_type": "markdown",
   "id": "0382b91f",
   "metadata": {},
   "source": [
    "# Basic loopback program calibration"
   ]
  },
  {
   "cell_type": "markdown",
   "id": "3c56254c",
   "metadata": {},
   "source": [
    "## original code from demo\n",
    "\n",
    "<!--- generator channel 6 : <-> Readout channel 0-->"
   ]
  },
  {
   "cell_type": "code",
   "execution_count": 13,
   "id": "ced88d22",
   "metadata": {},
   "outputs": [
    {
     "name": "stdout",
     "output_type": "stream",
     "text": [
      "Generator channel: 0\n",
      "Readout channel  : 0\n"
     ]
    }
   ],
   "source": [
    "print('Generator channel:', GEN_CH)\n",
    "print('Readout channel  :', RO_CH)"
   ]
  },
  {
   "cell_type": "code",
   "execution_count": 14,
   "id": "5ba0f0ff",
   "metadata": {},
   "outputs": [],
   "source": [
    "class LoopbackProgram(AveragerProgram):\n",
    "    def initialize(self):\n",
    "        cfg=self.cfg   \n",
    "        res_ch = cfg[\"res_ch\"]\n",
    "\n",
    "        # set the nyquist zone\n",
    "        self.declare_gen(ch=cfg[\"res_ch\"], nqz=1)\n",
    "        \n",
    "        # configure the readout lengths and downconversion frequencies (ensuring it is an available DAC frequency)\n",
    "        for ch in cfg[\"ro_chs\"]:\n",
    "            self.declare_readout(ch=ch, length=self.cfg[\"readout_length\"],\n",
    "                                 freq=self.cfg[\"pulse_freq\"], gen_ch=cfg[\"res_ch\"])\n",
    "\n",
    "        # convert frequency to DAC frequency (ensuring it is an available ADC frequency)\n",
    "        freq = self.freq2reg(cfg[\"pulse_freq\"],gen_ch=res_ch, ro_ch=cfg[\"ro_chs\"][0])\n",
    "        phase = self.deg2reg(cfg[\"res_phase\"], gen_ch=res_ch)\n",
    "        gain = cfg[\"pulse_gain\"]\n",
    "        self.default_pulse_registers(ch=res_ch, freq=freq, phase=phase, gain=gain)\n",
    "\n",
    "        style=self.cfg[\"pulse_style\"]\n",
    "\n",
    "        if style in [\"flat_top\",\"arb\"]:\n",
    "            sigma = cfg[\"sigma\"]\n",
    "            self.add_gauss(ch=res_ch, name=\"measure\", sigma=sigma, length=sigma*5)\n",
    "            \n",
    "        if style == \"const\":\n",
    "            self.set_pulse_registers(ch=res_ch, style=style, length=cfg[\"length\"])\n",
    "        elif style == \"flat_top\":\n",
    "            # The first half of the waveform ramps up the pulse, the second half ramps down the pulse\n",
    "            self.set_pulse_registers(ch=res_ch, style=style, waveform=\"measure\", length=cfg[\"length\"])\n",
    "        elif style == \"arb\":\n",
    "            self.set_pulse_registers(ch=res_ch, style=style, waveform=\"measure\")\n",
    "        \n",
    "        self.synci(200)  # give processor some time to configure pulses\n",
    "    \n",
    "    def body(self):\n",
    "        # fire the pulse\n",
    "        # trigger all declared ADCs\n",
    "        # pulse PMOD0_0 for a scope trigger\n",
    "        # pause the tProc until readout is done\n",
    "        # increment the time counter to give some time before the next measurement\n",
    "        # (the syncdelay also lets the tProc get back ahead of the clock)\n",
    "        self.measure(pulse_ch=self.cfg[\"res_ch\"], \n",
    "                     adcs=self.ro_chs,\n",
    "                     pins=[0], \n",
    "                     adc_trig_offset=self.cfg[\"adc_trig_offset\"],\n",
    "                     wait=True,\n",
    "                     syncdelay=self.us2cycles(self.cfg[\"relax_delay\"]))"
   ]
  },
  {
   "cell_type": "code",
   "execution_count": 15,
   "id": "1b3ae991",
   "metadata": {},
   "outputs": [],
   "source": [
    "config={\"res_ch\": GEN_CH, #6, # --Fixed\n",
    "        \"ro_chs\": [RO_CH], # --Fixed\n",
    "        \"reps\":1, # --Fixed\n",
    "        \"relax_delay\":1.0, # --us\n",
    "        \"res_phase\":0, # --degrees\n",
    "        \"pulse_style\": \"const\", # --Fixed\n",
    "        \n",
    "        \"length\":20, # [Clock ticks]\n",
    "        # Try varying length from 10-100 clock ticks\n",
    "        \n",
    "        \"readout_length\": 770, #100, # [Clock ticks]\n",
    "        # Try varying readout_length from 50-1000 clock ticks\n",
    "\n",
    "        \"pulse_gain\":3000, # [DAC units]\n",
    "        # Try varying pulse_gain from 500 to 30000 DAC units\n",
    "\n",
    "        \"pulse_freq\": 100, # [MHz]\n",
    "        # In this program the signal is up and downconverted digitally so you won't see any frequency\n",
    "        # components in the I/Q traces below. But since the signal gain depends on frequency, \n",
    "        # if you lower pulse_freq you will see an increased gain.\n",
    "\n",
    "        \"adc_trig_offset\": 100, # [Clock ticks]\n",
    "        # Try varying adc_trig_offset from 100 to 220 clock ticks\n",
    "\n",
    "        \"soft_avgs\": 1 #100\n",
    "        # Try varying soft_avgs from 1 to 200 averages\n",
    "\n",
    "       }\n",
    "\n",
    "###################\n",
    "# Try it yourself !\n",
    "###################"
   ]
  },
  {
   "cell_type": "code",
   "execution_count": 16,
   "id": "e42da42f",
   "metadata": {},
   "outputs": [
    {
     "data": {
      "application/vnd.jupyter.widget-view+json": {
       "model_id": "68825d9c836d423ca8a7f9a0bb904bc9",
       "version_major": 2,
       "version_minor": 0
      },
      "text/plain": [
       "  0%|          | 0/1 [00:00<?, ?it/s]"
      ]
     },
     "metadata": {},
     "output_type": "display_data"
    }
   ],
   "source": [
    "prog = LoopbackProgram(soccfg, config)\n",
    "iq_list = prog.acquire_decimated(soc, load_pulses=True, progress=True)#, debug=False)"
   ]
  },
  {
   "cell_type": "code",
   "execution_count": 17,
   "id": "6de3e373",
   "metadata": {},
   "outputs": [
    {
     "data": {
      "image/png": "[encoded data removed]",
      "text/plain": [
       "<Figure size 432x288 with 1 Axes>"
      ]
     },
     "metadata": {
      "needs_background": "light"
     },
     "output_type": "display_data"
    }
   ],
   "source": [
    "# Plot results.\n",
    "plt.figure(1)\n",
    "for ii, iq in enumerate(iq_list):\n",
    "    plt.plot(iq[0], label=\"I value, ADC %d\"%(config['ro_chs'][ii]))\n",
    "    plt.plot(iq[1], label=\"Q value, ADC %d\"%(config['ro_chs'][ii]))\n",
    "    plt.plot(np.abs(iq[0]+1j*iq[1]), label=\"mag, ADC %d\"%(config['ro_chs'][ii]))\n",
    "plt.ylabel(\"a.u.\")\n",
    "plt.xlabel(\"Clock ticks\")\n",
    "plt.title(\"Averages = \" + str(config[\"soft_avgs\"]))\n",
    "_ = plt.legend()\n",
    "# plt.savefig(\"images/Send_recieve_pulse_const.pdf\", dpi=350)"
   ]
  },
  {
   "cell_type": "code",
   "execution_count": 18,
   "id": "3cec4f2b",
   "metadata": {},
   "outputs": [
    {
     "name": "stdout",
     "output_type": "stream",
     "text": [
      "[[[-2.  1.  1. ...  0. -1.  2.]\n",
      "  [ 0. -1.  2. ...  1. -1. -1.]]]\n"
     ]
    }
   ],
   "source": [
    "print(iq_list)"
   ]
  },
  {
   "cell_type": "markdown",
   "id": "5c1d6b75",
   "metadata": {},
   "source": [
    "## Time of flight (tof) calibration"
   ]
  },
  {
   "cell_type": "markdown",
   "id": "dda363b0",
   "metadata": {},
   "source": [
    "Find the mis-alignment between the DAC and ADC readout window for previous experiment"
   ]
  },
  {
   "cell_type": "code",
   "execution_count": 19,
   "id": "6f19eca9",
   "metadata": {},
   "outputs": [
    {
     "data": {
      "text/plain": [
       "<matplotlib.legend.Legend at 0xffff6373a9a0>"
      ]
     },
     "execution_count": 19,
     "metadata": {},
     "output_type": "execute_result"
    },
    {
     "data": {
      "image/png": "[encoded data removed]",
      "text/plain": [
       "<Figure size 432x288 with 1 Axes>"
      ]
     },
     "metadata": {
      "needs_background": "light"
     },
     "output_type": "display_data"
    }
   ],
   "source": [
    "# Plot results.\n",
    "plt.figure(1)\n",
    "for ii, iq in enumerate(iq_list):\n",
    "    plt.plot(iq[0], label=\"I value, ADC %d\"%(config['ro_chs'][ii]))\n",
    "    plt.plot(iq[1], label=\"Q value, ADC %d\"%(config['ro_chs'][ii]))\n",
    "    plt.plot(np.abs(iq[0]+1j*iq[1]), label=\"mag, ADC %d\"%(config['ro_chs'][ii]))\n",
    "plt.ylabel(\"a.u.\")\n",
    "plt.xlabel(\"Clock ticks\")\n",
    "plt.title(\"Averages = \" + str(config[\"soft_avgs\"]))\n",
    "\n",
    "###########################################################\n",
    "### using this 'cursor' to find the additional adc_trig_offset\n",
    "axvline(64, ls = '--', color = 'grey', label = 'additional adc_trig_offset')\n",
    "###########################################################\n",
    "\n",
    "plt.legend()"
   ]
  },
  {
   "cell_type": "markdown",
   "id": "afe0a972",
   "metadata": {},
   "source": [
    "Adjust the `adc_trig_offset` in the `config` dict\n",
    "\n",
    "- The DAC and ADC has different fabric freq\n",
    "    - DAC: fabric=430.080 MHz\n",
    "    - ADC: fabric=307.200 MHz\n",
    "- the readout plot data is sampled at ADC fabric freq, but the adc_trig_offset is used in DAC fabric freq\n",
    "    - so we need to convert the measured delay into input delay:\n",
    "    - input delay = meausured delay * DAC fabric freq/ADC fabric freq //1"
   ]
  },
  {
   "cell_type": "code",
   "execution_count": 20,
   "id": "1a084812",
   "metadata": {},
   "outputs": [
    {
     "data": {
      "text/plain": [
       "89.6"
      ]
     },
     "execution_count": 20,
     "metadata": {},
     "output_type": "execute_result"
    }
   ],
   "source": [
    "64*430.080/307.2"
   ]
  },
  {
   "cell_type": "markdown",
   "id": "3ea175da",
   "metadata": {},
   "source": [
    "Now, the time of flight is calibrated"
   ]
  },
  {
   "cell_type": "code",
   "execution_count": 21,
   "id": "7a0ef783",
   "metadata": {
    "scrolled": false
   },
   "outputs": [
    {
     "data": {
      "application/vnd.jupyter.widget-view+json": {
       "model_id": "b25b4927213a4b0c8886ff8c1b44bfb5",
       "version_major": 2,
       "version_minor": 0
      },
      "text/plain": [
       "  0%|          | 0/1 [00:00<?, ?it/s]"
      ]
     },
     "metadata": {},
     "output_type": "display_data"
    },
    {
     "data": {
      "text/plain": [
       "<matplotlib.legend.Legend at 0xffff6138a400>"
      ]
     },
     "execution_count": 21,
     "metadata": {},
     "output_type": "execute_result"
    },
    {
     "data": {
      "image/png": "[encoded data removed]",
      "text/plain": [
       "<Figure size 432x288 with 1 Axes>"
      ]
     },
     "metadata": {
      "needs_background": "light"
     },
     "output_type": "display_data"
    }
   ],
   "source": [
    "config={\"res_ch\": GEN_CH, #6, # --Fixed\n",
    "        \"ro_chs\": [RO_CH], # --Fixed\n",
    "        \"reps\":1, # --Fixed\n",
    "        \"relax_delay\":1.0, # --us\n",
    "        \"res_phase\":0, # --degrees\n",
    "        \"pulse_style\": \"const\", # --Fixed\n",
    "        \n",
    "        \"length\":20, # [Clock ticks]\n",
    "        # Try varying length from 10-100 clock ticks\n",
    "        \n",
    "        \"readout_length\": 770, #100, # [Clock ticks]\n",
    "        # Try varying readout_length from 50-1000 clock ticks\n",
    "\n",
    "        \"pulse_gain\":3000, # [DAC units]\n",
    "        # Try varying pulse_gain from 500 to 30000 DAC units\n",
    "\n",
    "        \"pulse_freq\": 100, # [MHz]\n",
    "        # In this program the signal is up and downconverted digitally so you won't see any frequency\n",
    "        # components in the I/Q traces below. But since the signal gain depends on frequency, \n",
    "        # if you lower pulse_freq you will see an increased gain.\n",
    "\n",
    "        ###########################################################\n",
    "        ## pervious was 100\n",
    "        \"adc_trig_offset\": 190, # [Clock ticks]\n",
    "        # Try varying adc_trig_offset from 100 to 220 clock ticks\n",
    "        ###########################################################\n",
    "\n",
    "        \"soft_avgs\": 1, #100\n",
    "        # Try varying soft_avgs from 1 to 200 averages\n",
    "\n",
    "       }\n",
    "\n",
    "###################\n",
    "# Try it yourself !\n",
    "###################\n",
    "\n",
    "prog =LoopbackProgram(soccfg, config)\n",
    "iq_list = prog.acquire_decimated(soc, load_pulses=True, progress=True)#, debug=False)\n",
    "\n",
    "\n",
    "###################\n",
    "# plot the result\n",
    "###################\n",
    "\n",
    "# Plot results.\n",
    "plt.figure(1)\n",
    "for ii, iq in enumerate(iq_list):\n",
    "    plt.plot(iq[0], label=\"I value, ADC %d\"%(config['ro_chs'][ii]))\n",
    "    plt.plot(iq[1], label=\"Q value, ADC %d\"%(config['ro_chs'][ii]))\n",
    "    plt.plot(np.abs(iq[0]+1j*iq[1]), label=\"mag, ADC %d\"%(config['ro_chs'][ii]))\n",
    "plt.ylabel(\"a.u.\")\n",
    "plt.xlabel(\"Clock ticks\")\n",
    "plt.title(\"Averages = \" + str(config[\"soft_avgs\"]))\n",
    "\n",
    "axvline(63, ls = '--', color = 'grey', label = 'additional adc_trig_offset') ### using this 'cursor' to find the additional adc_trig_offset\n",
    "plt.legend()"
   ]
  },
  {
   "cell_type": "markdown",
   "id": "ea9f0e8e",
   "metadata": {},
   "source": [
    "## Readout phase calibration\n",
    "- code from qick_demos/05_PhaseCoherence_QickProgram.ipynb\n",
    "- remeber to update the `adc_trig_offset` in the `config` file"
   ]
  },
  {
   "cell_type": "code",
   "execution_count": 22,
   "id": "1a7e6347",
   "metadata": {},
   "outputs": [],
   "source": [
    "class LoopbackProgram(AveragerProgram):\n",
    "    def initialize(self):\n",
    "        cfg=self.cfg   \n",
    "\n",
    "        # set the nyquist zone\n",
    "        self.declare_gen(ch=cfg[\"res_ch\"], nqz=1)\n",
    "\n",
    "        self.r_rp=self.ch_page(self.cfg[\"res_ch\"])     # get register page for res_ch\n",
    "        self.r_gain=self.sreg(cfg[\"res_ch\"], \"gain\")   #Get gain register for res_ch\n",
    "        \n",
    "        #configure the readout lengths and downconversion frequencies\n",
    "        self.declare_readout(ch=cfg[\"ro_ch\"], length=self.cfg[\"readout_length\"],\n",
    "                             freq=self.cfg[\"pulse_freq\"], gen_ch=cfg[\"res_ch\"])\n",
    "        \n",
    "        freq=self.freq2reg(cfg[\"pulse_freq\"], gen_ch=cfg[\"res_ch\"], ro_ch=cfg[\"ro_ch\"])  # convert frequency to dac frequency (ensuring it is an available adc frequency)\n",
    "        self.set_pulse_registers(ch=cfg[\"res_ch\"], style=\"const\", freq=freq, phase=0, gain=cfg[\"pulse_gain\"], \n",
    "                                 length=cfg[\"length\"])\n",
    "        \n",
    "        self.synci(200)  # give processor some time to configure pulses\n",
    "    \n",
    "    def body(self):\n",
    "        self.measure(pulse_ch=self.cfg[\"res_ch\"], \n",
    "             adcs=[self.cfg[\"ro_ch\"]],\n",
    "             adc_trig_offset=self.cfg[\"adc_trig_offset\"],\n",
    "             t=0,\n",
    "             wait=True,\n",
    "             syncdelay=self.us2cycles(self.cfg[\"relax_delay\"]))"
   ]
  },
  {
   "cell_type": "markdown",
   "id": "b87ed981",
   "metadata": {},
   "source": [
    "### First, sanity check that we can see the pulse we want to calibrate"
   ]
  },
  {
   "cell_type": "code",
   "execution_count": 23,
   "id": "a8fbc9b2",
   "metadata": {},
   "outputs": [],
   "source": [
    "config={\"res_ch\": GEN_CH, #6, # --Fixed\n",
    "        \"ro_ch\": RO_CH, # --Fixed\n",
    "        \"relax_delay\":1.0, # --Fixed\n",
    "        \"res_phase\":0, # --Fixed\n",
    "        \"length\":400, # [Clock ticks] \n",
    "        \"readout_length\":770, #200, # [Clock ticks]\n",
    "        \"pulse_gain\":10000, # [DAC units]\n",
    "        \"pulse_freq\": 100, # [MHz]\n",
    "        \"adc_trig_offset\": 190, # [Clock ticks]\n",
    "        \"reps\":1, \n",
    "        \"soft_avgs\":1,\n",
    "       }\n",
    "\n",
    "prog = LoopbackProgram(soccfg, config)\n",
    "(iq0,) = prog.acquire_decimated(soc,progress=False)"
   ]
  },
  {
   "cell_type": "code",
   "execution_count": 24,
   "id": "22bc98cd",
   "metadata": {},
   "outputs": [
    {
     "data": {
      "text/plain": [
       "<matplotlib.legend.Legend at 0xffff61317f70>"
      ]
     },
     "execution_count": 24,
     "metadata": {},
     "output_type": "execute_result"
    },
    {
     "data": {
      "image/png": "[encoded data removed]",
      "text/plain": [
       "<Figure size 432x288 with 1 Axes>"
      ]
     },
     "metadata": {
      "needs_background": "light"
     },
     "output_type": "display_data"
    }
   ],
   "source": [
    "# Plot results.\n",
    "plt.figure(1)\n",
    "plt.plot(iq0[0], label=\"I value; ADC 0\")\n",
    "plt.plot(iq0[1], label=\"Q value; ADC 0\")\n",
    "plt.ylabel(\"a.u.\")\n",
    "plt.xlabel(\"Clock ticks\")\n",
    "plt.title(\"Averages = \" + str(config[\"soft_avgs\"]))\n",
    "plt.legend()"
   ]
  },
  {
   "cell_type": "markdown",
   "id": "964c9522",
   "metadata": {},
   "source": [
    "### Params 3 (We zoom in on the frequency area of interest and then print out the associated phase of interest)"
   ]
  },
  {
   "cell_type": "code",
   "execution_count": 25,
   "id": "2778bbb0",
   "metadata": {},
   "outputs": [
    {
     "data": {
      "text/plain": [
       "array([ 99.998   ,  99.998125,  99.99825 ,  99.998375,  99.9985  ,\n",
       "        99.998625,  99.99875 ,  99.998875,  99.999   ,  99.999125,\n",
       "        99.99925 ,  99.999375,  99.9995  ,  99.999625,  99.99975 ,\n",
       "        99.999875, 100.      , 100.000125, 100.00025 , 100.000375,\n",
       "       100.0005  , 100.000625, 100.00075 , 100.000875, 100.001   ,\n",
       "       100.001125, 100.00125 , 100.001375, 100.0015  , 100.001625,\n",
       "       100.00175 , 100.001875])"
      ]
     },
     "execution_count": 25,
     "metadata": {},
     "output_type": "execute_result"
    }
   ],
   "source": [
    "config={\"res_ch\": GEN_CH, #6, # --Fixed\n",
    "        \"ro_ch\": RO_CH, # --Fixed\n",
    "        \"relax_delay\":1.0, # --Fixed\n",
    "        \"res_phase\":0, # --Fixed\n",
    "        \"length\":400, # [Clock ticks] \n",
    "        \"readout_length\":770, #200, # [Clock ticks]\n",
    "        \"pulse_gain\":10000, # [DAC units]\n",
    "        \"pulse_freq\": 100, # [MHz]\n",
    "        \"adc_trig_offset\": 190, # [Clock ticks]\n",
    "        \"reps\":1, \n",
    "        \"soft_avgs\":1,\n",
    "       }\n",
    "\n",
    "\n",
    "freq_readout = config[\"pulse_freq\"]\n",
    "freq_start = freq_readout - 0.002 ##[MHz]\n",
    "freq_step = 0.000125  ##[MHz]\n",
    "expts = 32\n",
    "\n",
    "sweep_cfg={\"start\":freq_start, \"step\":freq_step, \"expts\":expts}\n",
    "\n",
    "gpts=sweep_cfg[\"start\"] + sweep_cfg[\"step\"]*np.arange(sweep_cfg[\"expts\"])\n",
    "gpts"
   ]
  },
  {
   "cell_type": "code",
   "execution_count": 26,
   "id": "7d8e75da",
   "metadata": {},
   "outputs": [],
   "source": [
    "resultsi=[]\n",
    "resultsq=[]\n",
    "for g in gpts:\n",
    "    time.sleep(0.1)\n",
    "    config[\"pulse_freq\"]=g\n",
    "    prog =LoopbackProgram(soccfg, config)\n",
    "    (iq0,) = prog.acquire_decimated(soc,progress=False)\n",
    "    di0 = np.sum(iq0[0])/config[\"readout_length\"]\n",
    "    dq0 = np.sum(iq0[1])/config[\"readout_length\"]\n",
    "    resultsi.append(di0)\n",
    "    resultsq.append(dq0)\n",
    "resultsi=np.array(resultsi)\n",
    "resultsq=np.array(resultsq)"
   ]
  },
  {
   "cell_type": "code",
   "execution_count": 27,
   "id": "fff30e9f",
   "metadata": {},
   "outputs": [
    {
     "name": "stdout",
     "output_type": "stream",
     "text": [
      "Iteration i = 0, freq_i = 99.998000 MHz, phi_i = 125.736205 degrees\n",
      "Iteration i = 1, freq_i = 99.998125 MHz, phi_i = 125.590730 degrees\n",
      "Iteration i = 2, freq_i = 99.998250 MHz, phi_i = 125.414744 degrees\n",
      "Iteration i = 3, freq_i = 99.998375 MHz, phi_i = 125.248454 degrees\n",
      "Iteration i = 4, freq_i = 99.998500 MHz, phi_i = 125.083616 degrees\n",
      "Iteration i = 5, freq_i = 99.998625 MHz, phi_i = 124.802825 degrees\n",
      "Iteration i = 6, freq_i = 99.998750 MHz, phi_i = 124.659871 degrees\n",
      "Iteration i = 7, freq_i = 99.998875 MHz, phi_i = 124.553438 degrees\n",
      "Iteration i = 8, freq_i = 99.999000 MHz, phi_i = 124.371472 degrees\n",
      "Iteration i = 9, freq_i = 99.999125 MHz, phi_i = 124.117420 degrees\n",
      "Iteration i = 10, freq_i = 99.999250 MHz, phi_i = 123.939887 degrees\n",
      "Iteration i = 11, freq_i = 99.999375 MHz, phi_i = 123.755238 degrees\n",
      "Iteration i = 12, freq_i = 99.999500 MHz, phi_i = 123.572060 degrees\n",
      "Iteration i = 13, freq_i = 99.999625 MHz, phi_i = 123.403788 degrees\n",
      "Iteration i = 14, freq_i = 99.999750 MHz, phi_i = 123.241039 degrees\n",
      "Iteration i = 15, freq_i = 99.999875 MHz, phi_i = 123.112306 degrees\n",
      "Iteration i = 16, freq_i = 100.000000 MHz, phi_i = 122.887068 degrees\n",
      "Iteration i = 17, freq_i = 100.000125 MHz, phi_i = 122.680258 degrees\n",
      "Iteration i = 18, freq_i = 100.000250 MHz, phi_i = 122.553788 degrees\n",
      "Iteration i = 19, freq_i = 100.000375 MHz, phi_i = 122.349537 degrees\n",
      "Iteration i = 20, freq_i = 100.000500 MHz, phi_i = 122.127755 degrees\n",
      "Iteration i = 21, freq_i = 100.000625 MHz, phi_i = 122.029831 degrees\n",
      "Iteration i = 22, freq_i = 100.000750 MHz, phi_i = 121.798179 degrees\n",
      "Iteration i = 23, freq_i = 100.000875 MHz, phi_i = 121.610314 degrees\n",
      "Iteration i = 24, freq_i = 100.001000 MHz, phi_i = 121.462144 degrees\n",
      "Iteration i = 25, freq_i = 100.001125 MHz, phi_i = 121.208564 degrees\n",
      "Iteration i = 26, freq_i = 100.001250 MHz, phi_i = 121.046449 degrees\n",
      "Iteration i = 27, freq_i = 100.001375 MHz, phi_i = 120.934536 degrees\n",
      "Iteration i = 28, freq_i = 100.001500 MHz, phi_i = 120.664470 degrees\n",
      "Iteration i = 29, freq_i = 100.001625 MHz, phi_i = 120.517010 degrees\n",
      "Iteration i = 30, freq_i = 100.001750 MHz, phi_i = 120.343874 degrees\n",
      "Iteration i = 31, freq_i = 100.001875 MHz, phi_i = 120.111446 degrees\n"
     ]
    },
    {
     "data": {
      "text/plain": [
       "<matplotlib.legend.Legend at 0xffff6127f6a0>"
      ]
     },
     "execution_count": 27,
     "metadata": {},
     "output_type": "execute_result"
    },
    {
     "data": {
      "image/png": "[encoded data removed]",
      "text/plain": [
       "<Figure size 432x288 with 1 Axes>"
      ]
     },
     "metadata": {
      "needs_background": "light"
     },
     "output_type": "display_data"
    }
   ],
   "source": [
    "# Plot results.\n",
    "sig = resultsi + 1j * resultsq\n",
    "amp_array = np.abs(sig)\n",
    "phase_array = np.angle(sig,deg=True)\n",
    "for x in range(0,len(phase_array)):\n",
    "    if phase_array[x] <0:\n",
    "        phase_array[x] = phase_array[x] +360\n",
    "    print(\"Iteration i = %d, freq_i = %f MHz, phi_i = %f degrees\" %(x,gpts[x], phase_array[x]))\n",
    "plt.figure(1)\n",
    "# plt.plot(gpts, resultsi,label=\"I value; ADC 0\")\n",
    "# plt.plot(gpts, resultsq,label=\"Q value; ADC 0\")\n",
    "# plt.plot(gpts, amp_array,label=\"Amplitude (DAC units); ADC 0\")\n",
    "plt.plot(gpts, phase_array, label=\"Phase (degrees); ADC 0\")\n",
    "plt.plot(gpts,phase_array, marker='.', linestyle=\"None\",color=\"Red\")\n",
    "plt.xticks(rotation=90)\n",
    "plt.title(r\"$\\phi$ vs $f$\")\n",
    "plt.ylabel(r\"$\\phi$ (degrees)\")\n",
    "plt.xlabel(r\"$f$ (MHz)\")\n",
    "plt.legend()\n",
    "# plt.savefig(\"images/Phase_sweep.pdf\", dpi=350)"
   ]
  },
  {
   "cell_type": "code",
   "execution_count": 28,
   "id": "08293953",
   "metadata": {},
   "outputs": [
    {
     "name": "stdout",
     "output_type": "stream",
     "text": [
      "At 100 MHz, Phase = 122.88706795739598 degree\n"
     ]
    },
    {
     "data": {
      "text/plain": [
       "<matplotlib.legend.Legend at 0xffff61393d30>"
      ]
     },
     "execution_count": 28,
     "metadata": {},
     "output_type": "execute_result"
    },
    {
     "data": {
      "image/png": "[encoded data removed]",
      "text/plain": [
       "<Figure size 432x288 with 1 Axes>"
      ]
     },
     "metadata": {
      "needs_background": "light"
     },
     "output_type": "display_data"
    }
   ],
   "source": [
    "target_freq = freq_readout ### put the actual readout freq here\n",
    "\n",
    "freq_index = np.where(gpts == target_freq)[0][0]\n",
    "phase_cal = phase_array[freq_index]\n",
    "\n",
    "print(f'At {target_freq} MHz, Phase = {phase_cal} degree')\n",
    "\n",
    "plt.axvline(gpts[freq_index], ls = '--', color = 'grey')\n",
    "plt.axhline(phase_array[freq_index], ls = '--', color = 'grey')\n",
    "\n",
    "\n",
    "plt.plot(gpts, phase_array, label=\"Phase (degrees); ADC 0\")\n",
    "plt.plot(gpts,phase_array, marker='.', linestyle=\"None\",color=\"Red\")\n",
    "plt.xticks(rotation=90)\n",
    "plt.title(r\"$\\phi$ vs $f$\")\n",
    "plt.ylabel(r\"$\\phi$ (degrees)\")\n",
    "plt.xlabel(r\"$f$ (MHz)\")\n",
    "plt.legend()"
   ]
  },
  {
   "cell_type": "markdown",
   "id": "f9c00a35",
   "metadata": {},
   "source": [
    "### re-run the loopback program with compensate phase\n",
    "- Now the signal is only on I component"
   ]
  },
  {
   "cell_type": "code",
   "execution_count": 29,
   "id": "e04d0eb1",
   "metadata": {},
   "outputs": [],
   "source": [
    "class LoopbackProgram(AveragerProgram):\n",
    "    def initialize(self):\n",
    "        cfg=self.cfg   \n",
    "        res_ch = cfg[\"res_ch\"]\n",
    "\n",
    "        # set the nyquist zone\n",
    "        self.declare_gen(ch=cfg[\"res_ch\"], nqz=1)\n",
    "        \n",
    "        # configure the readout lengths and downconversion frequencies (ensuring it is an available DAC frequency)\n",
    "        for ch in cfg[\"ro_chs\"]:\n",
    "            self.declare_readout(ch=ch, length=self.cfg[\"readout_length\"],\n",
    "                                 freq=self.cfg[\"pulse_freq\"], gen_ch=cfg[\"res_ch\"])\n",
    "\n",
    "        # convert frequency to DAC frequency (ensuring it is an available ADC frequency)\n",
    "        freq = self.freq2reg(cfg[\"pulse_freq\"],gen_ch=res_ch, ro_ch=cfg[\"ro_chs\"][0])\n",
    "        phase = self.deg2reg(cfg[\"res_phase\"], gen_ch=res_ch)\n",
    "        gain = cfg[\"pulse_gain\"]\n",
    "        self.default_pulse_registers(ch=res_ch, freq=freq, phase=phase, gain=gain)\n",
    "\n",
    "        style=self.cfg[\"pulse_style\"]\n",
    "\n",
    "        if style in [\"flat_top\",\"arb\"]:\n",
    "            sigma = cfg[\"sigma\"]\n",
    "            self.add_gauss(ch=res_ch, name=\"measure\", sigma=sigma, length=sigma*5)\n",
    "            \n",
    "        if style == \"const\":\n",
    "            self.set_pulse_registers(ch=res_ch, style=style, length=cfg[\"length\"])\n",
    "        elif style == \"flat_top\":\n",
    "            # The first half of the waveform ramps up the pulse, the second half ramps down the pulse\n",
    "            self.set_pulse_registers(ch=res_ch, style=style, waveform=\"measure\", length=cfg[\"length\"])\n",
    "        elif style == \"arb\":\n",
    "            self.set_pulse_registers(ch=res_ch, style=style, waveform=\"measure\")\n",
    "        \n",
    "        self.synci(200)  # give processor some time to configure pulses\n",
    "    \n",
    "    def body(self):\n",
    "        # fire the pulse\n",
    "        # trigger all declared ADCs\n",
    "        # pulse PMOD0_0 for a scope trigger\n",
    "        # pause the tProc until readout is done\n",
    "        # increment the time counter to give some time before the next measurement\n",
    "        # (the syncdelay also lets the tProc get back ahead of the clock)\n",
    "        self.measure(pulse_ch=self.cfg[\"res_ch\"], \n",
    "                     adcs=self.ro_chs,\n",
    "                     pins=[0], \n",
    "                     adc_trig_offset=self.cfg[\"adc_trig_offset\"],\n",
    "                     wait=True,\n",
    "                     syncdelay=self.us2cycles(self.cfg[\"relax_delay\"]))"
   ]
  },
  {
   "cell_type": "code",
   "execution_count": 30,
   "id": "8890155e",
   "metadata": {},
   "outputs": [
    {
     "data": {
      "application/vnd.jupyter.widget-view+json": {
       "model_id": "24775078a5be49b8abb69f33e757def7",
       "version_major": 2,
       "version_minor": 0
      },
      "text/plain": [
       "  0%|          | 0/1 [00:00<?, ?it/s]"
      ]
     },
     "metadata": {},
     "output_type": "display_data"
    }
   ],
   "source": [
    "config={\"res_ch\": GEN_CH, #6, # --Fixed\n",
    "        \"ro_chs\": [RO_CH], # --Fixed\n",
    "        \"reps\":1, # --Fixed\n",
    "        \"relax_delay\":1.0, # --us\n",
    "        \"res_phase\": phase_cal, # updated readout phase\n",
    "        \"pulse_style\": \"const\", # --Fixed\n",
    "        \n",
    "        \"length\":20, # [Clock ticks]\n",
    "        # Try varying length from 10-100 clock ticks\n",
    "        \n",
    "        \"readout_length\":770, #100, # [Clock ticks]\n",
    "        # Try varying readout_length from 50-1000 clock ticks\n",
    "\n",
    "        \"pulse_gain\":3000, # [DAC units]\n",
    "        # Try varying pulse_gain from 500 to 30000 DAC units\n",
    "\n",
    "        \"pulse_freq\": 100, # [MHz]\n",
    "        # In this program the signal is up and downconverted digitally so you won't see any frequency\n",
    "        # components in the I/Q traces below. But since the signal gain depends on frequency, \n",
    "        # if you lower pulse_freq you will see an increased gain.\n",
    "\n",
    "        \"adc_trig_offset\": 190, # [Clock ticks]\n",
    "        # Try varying adc_trig_offset from 100 to 220 clock ticks\n",
    "\n",
    "        \"soft_avgs\": 1 #100\n",
    "        # Try varying soft_avgs from 1 to 200 averages\n",
    "\n",
    "       }\n",
    "\n",
    "###################\n",
    "# Try it yourself !\n",
    "###################\n",
    "\n",
    "prog =LoopbackProgram(soccfg, config)\n",
    "iq_list = prog.acquire_decimated(soc, load_pulses=True, progress=True)#, debug=False)"
   ]
  },
  {
   "cell_type": "code",
   "execution_count": 31,
   "id": "01fbc821",
   "metadata": {},
   "outputs": [
    {
     "data": {
      "text/plain": [
       "<matplotlib.legend.Legend at 0xffff611a7610>"
      ]
     },
     "execution_count": 31,
     "metadata": {},
     "output_type": "execute_result"
    },
    {
     "data": {
      "image/png": "[encoded data removed]",
      "text/plain": [
       "<Figure size 432x288 with 1 Axes>"
      ]
     },
     "metadata": {
      "needs_background": "light"
     },
     "output_type": "display_data"
    }
   ],
   "source": [
    "# Plot results.\n",
    "plt.figure(1)\n",
    "for ii, iq in enumerate(iq_list):\n",
    "    plt.plot(iq[0], label=\"I value, ADC %d\"%(config['ro_chs'][ii]))\n",
    "    plt.plot(iq[1], label=\"Q value, ADC %d\"%(config['ro_chs'][ii]))\n",
    "    plt.plot(np.abs(iq[0]+1j*iq[1]), label=\"mag, ADC %d\"%(config['ro_chs'][ii]))\n",
    "plt.ylabel(\"a.u.\")\n",
    "plt.xlabel(\"Clock ticks\")\n",
    "plt.title(\"Averages = \" + str(config[\"soft_avgs\"]))\n",
    "plt.legend()\n",
    "# plt.savefig(\"images/Send_recieve_pulse_const.pdf\", dpi=350)"
   ]
  },
  {
   "cell_type": "markdown",
   "id": "84d96c8f",
   "metadata": {},
   "source": [
    "# Load real qubit readout data (old data from ZCU111)\n",
    "\n",
    "\n",
    "g_data[p1,p2,p3] for ground state readout\n",
    "\n",
    "e_data[p1,p2,p3] for excited state readout\n",
    "- p1: index for shot\n",
    "- p2: index for I/Q\n",
    "- p3: index for time, step of clock cycle = 2.6ns"
   ]
  },
  {
   "cell_type": "code",
   "execution_count": 32,
   "id": "76c19c3e",
   "metadata": {},
   "outputs": [],
   "source": [
    "with open('readout_data.npy', 'rb') as f:\n",
    "    g_data = np.load(f)\n",
    "    e_data = np.load(f)"
   ]
  },
  {
   "cell_type": "code",
   "execution_count": 33,
   "id": "1675bded",
   "metadata": {},
   "outputs": [
    {
     "data": {
      "text/plain": [
       "<matplotlib.legend.Legend at 0xffff610c4ac0>"
      ]
     },
     "execution_count": 33,
     "metadata": {},
     "output_type": "execute_result"
    },
    {
     "data": {
      "image/png": "[encoded data removed]",
      "text/plain": [
       "<Figure size 432x288 with 1 Axes>"
      ]
     },
     "metadata": {
      "needs_background": "light"
     },
     "output_type": "display_data"
    }
   ],
   "source": [
    "# avargaed trace\n",
    "plt.plot(g_data[:,1,:].mean(axis = 0), label = 'g_Q', color = 'b')\n",
    "plt.plot(g_data[:,0,:].mean(axis = 0), label = 'g_I', color = 'b', ls = '--')\n",
    "\n",
    "plt.plot(e_data[:,1,:].mean(axis = 0), label = 'e_Q', color = 'r')\n",
    "plt.plot(e_data[:,0,:].mean(axis = 0), label = 'e_I', color = 'r', ls = '--')\n",
    "\n",
    "plt.ylabel('ADC unit')\n",
    "plt.xlabel('Time [clock cycle] ')\n",
    "plt.legend()"
   ]
  },
  {
   "cell_type": "code",
   "execution_count": 34,
   "id": "c3fe7a90",
   "metadata": {},
   "outputs": [
    {
     "data": {
      "image/png": "[encoded data removed]",
      "text/plain": [
       "<Figure size 432x288 with 1 Axes>"
      ]
     },
     "metadata": {
      "needs_background": "light"
     },
     "output_type": "display_data"
    },
    {
     "data": {
      "image/png": "[encoded data removed]",
      "text/plain": [
       "<Figure size 432x288 with 1 Axes>"
      ]
     },
     "metadata": {
      "needs_background": "light"
     },
     "output_type": "display_data"
    },
    {
     "name": "stdout",
     "output_type": "stream",
     "text": [
      "max fidelity =  0.9148000000000001\n",
      "\n",
      " rough estimation of n_th\n"
     ]
    },
    {
     "data": {
      "text/plain": [
       "1.74"
      ]
     },
     "execution_count": 34,
     "metadata": {},
     "output_type": "execute_result"
    }
   ],
   "source": [
    "# IQ plot\n",
    "I_g = g_data[:,0,:].mean(axis = 1)\n",
    "Q_g = g_data[:,1,:].mean(axis = 1)\n",
    "\n",
    "I_e = e_data[:,0,:].mean(axis = 1)\n",
    "Q_e = e_data[:,1,:].mean(axis = 1)\n",
    "\n",
    "plt.title('IQ Plot')\n",
    "plt.plot(I_g, Q_g, '.',label = 'g',markersize = 5)\n",
    "plt.plot(I_e, Q_e, '.',label = 'e',markersize = 5)\n",
    "plt.xlabel('I')\n",
    "plt.ylabel('Q')\n",
    "plt.legend()\n",
    "plt.axis('square')\n",
    "plt.show()\n",
    "\n",
    "vec_I = mean(I_e) - mean(I_g)\n",
    "vec_Q = mean(Q_e) - mean(Q_g)\n",
    "\n",
    "gstate = (I_g - mean(I_g))*vec_I + (Q_g - mean(Q_g))*vec_Q\n",
    "estate = (I_e - mean(I_g))*vec_I + (Q_e - mean(Q_g))*vec_Q\n",
    "gstate = gstate / abs(vec_I+1j*vec_Q)**2\n",
    "estate = estate / abs(vec_I+1j*vec_Q)**2\n",
    "plt.hist(gstate,bins = 100,label = 'g',alpha = 0.5)\n",
    "plt.hist(estate,bins = 100,label = 'e',alpha = 0.5)\n",
    "plt.legend()\n",
    "plt.show()\n",
    "\n",
    "th_min = min(gstate)\n",
    "th_max = max(estate)\n",
    "th_list = np.linspace(th_min,th_max,1000)\n",
    "\n",
    "fidelity = [(sum(gstate<th)+sum(estate>th))/np.shape(gstate)[0]/2 for i,th in enumerate(th_list)]\n",
    "print('max fidelity = ',max(fidelity)*2-1)\n",
    "\n",
    "print('\\n rough estimation of n_th')\n",
    "100*sum(gstate>th_list[argmax(fidelity)])/len(gstate)"
   ]
  },
  {
   "cell_type": "code",
   "execution_count": 35,
   "id": "3e09610c",
   "metadata": {},
   "outputs": [
    {
     "data": {
      "text/plain": [
       "<matplotlib.legend.Legend at 0xffff60d99d90>"
      ]
     },
     "execution_count": 35,
     "metadata": {},
     "output_type": "execute_result"
    },
    {
     "data": {
      "image/png": "[encoded data removed]",
      "text/plain": [
       "<Figure size 432x288 with 1 Axes>"
      ]
     },
     "metadata": {
      "needs_background": "light"
     },
     "output_type": "display_data"
    }
   ],
   "source": [
    "# signal shot\n",
    "shot_index = 0\n",
    "\n",
    "plt.plot(g_data[shot_index,1,:], color = 'grey')\n",
    "plt.plot(g_data[shot_index,0,:], color = 'grey', ls = '--')\n",
    "\n",
    "plt.plot(e_data[shot_index,1,:], color = 'grey')\n",
    "plt.plot(e_data[shot_index,0,:], color = 'grey', ls = '--')\n",
    "\n",
    "plt.plot(g_data[:,1,:].mean(axis = 0), label = 'g_Q', color = 'b')\n",
    "plt.plot(g_data[:,0,:].mean(axis = 0), label = 'g_I', color = 'b', ls = '--')\n",
    "\n",
    "plt.plot(e_data[:,1,:].mean(axis = 0), label = 'e_Q', color = 'r')\n",
    "plt.plot(e_data[:,0,:].mean(axis = 0), label = 'e_I', color = 'r', ls = '--')\n",
    "\n",
    "plt.ylabel('ADC unit')\n",
    "plt.xlabel('Time [clock cycle] ')\n",
    "plt.legend()\n",
    "# xlim(0,100)"
   ]
  },
  {
   "cell_type": "markdown",
   "id": "6f65da19",
   "metadata": {},
   "source": [
    "# readout mock - averaged signal (as an example)"
   ]
  },
  {
   "cell_type": "markdown",
   "id": "116eae36",
   "metadata": {},
   "source": [
    "- to get the wf for DAC, we need to resample the data due to \n",
    "    - the frequency on ADC and DAC are different\n",
    "    - the wf need to sample in dds frequency\n",
    "\n",
    "            DAC tile 3, blk 2, 32-bit DDS, fabric=430.080 MHz, f_dds=6881.280 MHz\n",
    "            ADC tile 2, blk 0, 32-bit DDS, fabric=307.200 MHz, fs=2457.600 MHz"
   ]
  },
  {
   "cell_type": "code",
   "execution_count": 36,
   "id": "5a97c7d4",
   "metadata": {},
   "outputs": [
    {
     "name": "stdout",
     "output_type": "stream",
     "text": [
      "real readout data length = 770 clock cycle\n"
     ]
    },
    {
     "data": {
      "image/png": "[encoded data removed]",
      "text/plain": [
       "<Figure size 432x288 with 1 Axes>"
      ]
     },
     "metadata": {
      "needs_background": "light"
     },
     "output_type": "display_data"
    }
   ],
   "source": [
    "#### load real qubit readout data\n",
    "data_len = len(g_data[:,0,:].mean(axis = 0))\n",
    "print(f'real readout data length = {data_len} clock cycle')\n",
    "\n",
    "\n",
    "### we need to resample the data based on DAC freq\n",
    "t_ns = data_len*1000/307.2\n",
    "dac_len = int((t_ns/1000*6881.28)//16*16)\n",
    "\n",
    "g_I_load = g_data[:,0,:].mean(axis = 0)\n",
    "g_Q_load = g_data[:,1,:].mean(axis = 0)\n",
    "e_I_load = e_data[:,0,:].mean(axis = 0)\n",
    "e_Q_load = e_data[:,1,:].mean(axis = 0)\n",
    "\n",
    "### resample the waveform\n",
    "xp = np.linspace(1,data_len,data_len) ### ADC side time array\n",
    "x = np.linspace(1,data_len,dac_len)   ### DAC side time array\n",
    "\n",
    "g_I = np.interp(x, xp, g_I_load)\n",
    "g_Q = np.interp(x, xp, g_Q_load)\n",
    "e_I = np.interp(x, xp, e_I_load)\n",
    "e_Q = np.interp(x, xp, e_Q_load)\n",
    "\n",
    "\n",
    "### plot one component of the resampled waveform\n",
    "plot(x,g_I, 'o' , label = 'data load')\n",
    "plot(xp,g_I_load, label = 'resample for DAC')\n",
    "legend()\n",
    "show()"
   ]
  },
  {
   "cell_type": "code",
   "execution_count": 37,
   "id": "7acc68c4",
   "metadata": {},
   "outputs": [],
   "source": [
    "DAC_gain = 1 ### tune this parameter to match the ADC level with the training data\n",
    "\n",
    "class LoopbackProgram(AveragerProgram):\n",
    "    def initialize(self):\n",
    "        cfg=self.cfg   \n",
    "        res_ch = cfg[\"res_ch\"]\n",
    "\n",
    "        # set the nyquist zone\n",
    "        self.declare_gen(ch=cfg[\"res_ch\"], nqz=1)\n",
    "        \n",
    "        # configure the readout lengths and downconversion frequencies (ensuring it is an available DAC frequency)\n",
    "        for ch in cfg[\"ro_chs\"]:\n",
    "            self.declare_readout(ch=ch, length=self.cfg[\"readout_length\"],\n",
    "                                 freq=self.cfg[\"pulse_freq\"], gen_ch=cfg[\"res_ch\"])\n",
    "\n",
    "        # convert frequency to DAC frequency (ensuring it is an available ADC frequency)\n",
    "        freq = self.freq2reg(cfg[\"pulse_freq\"],gen_ch=res_ch, ro_ch=cfg[\"ro_chs\"][0])\n",
    "        phase = self.deg2reg(cfg[\"res_phase\"], gen_ch=res_ch)\n",
    "        gain = cfg[\"pulse_gain\"]\n",
    "        self.default_pulse_registers(ch=res_ch, freq=freq, phase=phase, gain=gain)\n",
    "\n",
    "        style=self.cfg[\"pulse_style\"]\n",
    "        \n",
    "        \n",
    "        ########################\n",
    "        ### add g/e waveform ###\n",
    "        ########################\n",
    "#         self.add_pulse(ch=cfg[\"res_ch\"], name = 'g_state', idata = DAC_gain*g_I, qdata = DAC_gain*g_Q)\n",
    "#         self.add_pulse(ch=cfg[\"res_ch\"], name = 'e_state', idata = DAC_gain*e_I, qdata = DAC_gain*e_Q)\n",
    "        self.add_pulse(ch=cfg[\"res_ch\"], name = 'g_state', idata = DAC_gain*g_Q, qdata = DAC_gain*g_I)\n",
    "        self.add_pulse(ch=cfg[\"res_ch\"], name = 'e_state', idata = DAC_gain*e_Q, qdata = DAC_gain*e_I)\n",
    "\n",
    "        if style in [\"flat_top\",\"arb\"]:\n",
    "            sigma = cfg[\"sigma\"]\n",
    "            self.add_gauss(ch=res_ch, name=\"measure\", sigma=sigma, length=sigma*5)\n",
    "            \n",
    "        if style == \"const\":\n",
    "            self.set_pulse_registers(ch=res_ch, style=style, length=cfg[\"length\"])\n",
    "        elif style == \"flat_top\":\n",
    "            # The first half of the waveform ramps up the pulse, the second half ramps down the pulse\n",
    "            self.set_pulse_registers(ch=res_ch, style=style, waveform=\"measure\", length=cfg[\"length\"])\n",
    "        elif style == \"arb\":\n",
    "            self.set_pulse_registers(ch=res_ch, style=style, waveform=\"measure\")\n",
    "            \n",
    "        ########################\n",
    "        ### add g/e waveform ###\n",
    "        ########################   \n",
    "        elif style == \"g_state\":\n",
    "            self.set_pulse_registers(ch=res_ch, style=\"arb\", waveform=\"g_state\")\n",
    "        elif style == \"e_state\":\n",
    "            self.set_pulse_registers(ch=res_ch, style=\"arb\", waveform=\"e_state\")\n",
    "\n",
    "        \n",
    "        self.synci(200)  # give processor some time to configure pulses\n",
    "    \n",
    "    def body(self):\n",
    "        # fire the pulse\n",
    "        # trigger all declared ADCs\n",
    "        # pulse PMOD0_0 for a scope trigger\n",
    "        # pause the tProc until readout is done\n",
    "        # increment the time counter to give some time before the next measurement\n",
    "        # (the syncdelay also lets the tProc get back ahead of the clock)\n",
    "        self.measure(pulse_ch=self.cfg[\"res_ch\"], \n",
    "                     adcs=self.ro_chs,\n",
    "                     pins=[0], \n",
    "                     adc_trig_offset=self.cfg[\"adc_trig_offset\"],\n",
    "                     wait=True,\n",
    "                     syncdelay=self.us2cycles(self.cfg[\"relax_delay\"]))"
   ]
  },
  {
   "cell_type": "code",
   "execution_count": 38,
   "id": "95c1303c",
   "metadata": {},
   "outputs": [
    {
     "name": "stdout",
     "output_type": "stream",
     "text": [
      "max_amp =  32766.0\n"
     ]
    }
   ],
   "source": [
    "### calculate the DAC output range\n",
    "\n",
    "gencfg = soccfg['gens'][GEN_CH]\n",
    "max_amp = gencfg['maxv']*gencfg['maxv_scale']\n",
    "print('max_amp = ',max_amp)"
   ]
  },
  {
   "cell_type": "code",
   "execution_count": 39,
   "id": "d9bb3768",
   "metadata": {},
   "outputs": [
    {
     "data": {
      "application/vnd.jupyter.widget-view+json": {
       "model_id": "4b08b17a19294bfe85d89fe124dd3559",
       "version_major": 2,
       "version_minor": 0
      },
      "text/plain": [
       "  0%|          | 0/1 [00:00<?, ?it/s]"
      ]
     },
     "metadata": {},
     "output_type": "display_data"
    }
   ],
   "source": [
    "DAC_phase = -90\n",
    "readout_phase = phase_cal + DAC_phase\n",
    "\n",
    "config={\"res_ch\": GEN_CH, #6, # --Fixed\n",
    "        \"ro_chs\": [RO_CH], # --Fixed\n",
    "        \"reps\":1, # --Fixed\n",
    "        \"relax_delay\":1.0, # --us\n",
    "        \"res_phase\": readout_phase, # updated readout phase\n",
    "        \"pulse_style\": \"e_state\", # --Fixed,\"const\"; \"g_state\"; \"e_state\"; \"arb\"\n",
    "        \n",
    "        \"sigma\": 30, # [Clock ticks]\n",
    "        \n",
    "        \"length\": 100, # [Clock ticks]\n",
    "        # Try varying length from 10-100 clock ticks\n",
    "        \n",
    "        \"readout_length\":data_len, # [Clock ticks]\n",
    "        # Try varying readout_length from 50-1000 clock ticks\n",
    "\n",
    "        \"pulse_gain\": 30000, # [DAC units]\n",
    "        # Try varying pulse_gain from 500 to 30000 DAC units\n",
    "\n",
    "        \"pulse_freq\": 100, # [MHz]\n",
    "        # In this program the signal is up and downconverted digitally so you won't see any frequency\n",
    "        # components in the I/Q traces below. But since the signal gain depends on frequency, \n",
    "        # if you lower pulse_freq you will see an increased gain.\n",
    "\n",
    "        \"adc_trig_offset\": 190, # [Clock ticks]\n",
    "        # Try varying adc_trig_offset from 100 to 220 clock ticks\n",
    "\n",
    "        \"soft_avgs\":1\n",
    "        # Try varying soft_avgs from 1 to 200 averages\n",
    "\n",
    "       }\n",
    "\n",
    "###################\n",
    "# Try it yourself !\n",
    "###################\n",
    "\n",
    "prog =LoopbackProgram(soccfg, config)\n",
    "iq_list = prog.acquire_decimated(soc, load_pulses=True, progress=True)#, debug=False)"
   ]
  },
  {
   "cell_type": "code",
   "execution_count": 40,
   "id": "9280351e",
   "metadata": {},
   "outputs": [
    {
     "data": {
      "text/plain": [
       "<matplotlib.legend.Legend at 0xffff60d6eb80>"
      ]
     },
     "execution_count": 40,
     "metadata": {},
     "output_type": "execute_result"
    },
    {
     "data": {
      "image/png": "[encoded data removed]",
      "text/plain": [
       "<Figure size 432x288 with 1 Axes>"
      ]
     },
     "metadata": {
      "needs_background": "light"
     },
     "output_type": "display_data"
    }
   ],
   "source": [
    "# Plot results.\n",
    "plt.figure(1)\n",
    "for ii, iq in enumerate(iq_list):\n",
    "    plt.plot(iq[0], label=\"I value, ADC %d\"%(config['ro_chs'][ii]))\n",
    "    plt.plot(iq[1], label=\"Q value, ADC %d\"%(config['ro_chs'][ii]))\n",
    "#     plt.plot(np.abs(iq[0]+1j*iq[1]), label=\"mag, ADC %d\"%(config['ro_chs'][ii]))\n",
    "plt.ylabel(\"a.u.\")\n",
    "plt.xlabel(\"Clock ticks\")\n",
    "plt.title(\"Averages = \" + str(config[\"soft_avgs\"]))\n",
    "plt.legend()\n",
    "# plt.savefig(\"images/Send_recieve_pulse_const.pdf\", dpi=350)"
   ]
  },
  {
   "cell_type": "code",
   "execution_count": 41,
   "id": "0b41b4bc",
   "metadata": {},
   "outputs": [
    {
     "data": {
      "text/plain": [
       "<matplotlib.legend.Legend at 0xffff60d17fa0>"
      ]
     },
     "execution_count": 41,
     "metadata": {},
     "output_type": "execute_result"
    },
    {
     "data": {
      "image/png": "[encoded data removed]",
      "text/plain": [
       "<Figure size 432x288 with 1 Axes>"
      ]
     },
     "metadata": {
      "needs_background": "light"
     },
     "output_type": "display_data"
    }
   ],
   "source": [
    "ADC_fake_gain = 27 ### tune this parameter to match the ADC level with the training data\n",
    "\n",
    "\n",
    "for ii, iq in enumerate(iq_list):\n",
    "    plt.plot(iq[0]*ADC_fake_gain, markersize=0.5, color = 'C0' , label=\"I value, ADC %d\"%(config['ro_chs'][ii]))\n",
    "    plt.plot(iq[1]*ADC_fake_gain, markersize=0.5, color = 'C1' ,label=\"Q value, ADC %d\"%(config['ro_chs'][ii]))\n",
    "plt.plot(x,e_I, '-o', markersize=0.5, color = 'grey', label = 'load - e-I')\n",
    "plt.plot(x,e_Q, '-o', markersize=0.5, color = 'black', label = 'load - e-Q')\n",
    "\n",
    "\n",
    "plt.ylabel(\"a.u.\")\n",
    "plt.xlabel(\"Clock ticks\")\n",
    "plt.title(\"Averages = \" + str(config[\"soft_avgs\"]))\n",
    "plt.legend()"
   ]
  },
  {
   "cell_type": "markdown",
   "id": "4e72dc4a",
   "metadata": {},
   "source": [
    "# Readout mock - single-shot signal"
   ]
  },
  {
   "cell_type": "markdown",
   "id": "78e4cd2e",
   "metadata": {},
   "source": [
    "## single-shot with tunable gaussian noise"
   ]
  },
  {
   "cell_type": "code",
   "execution_count": 42,
   "id": "68e11aef",
   "metadata": {},
   "outputs": [],
   "source": [
    "MEAN_ENABLED = False\n",
    "TRACE_ID = 0"
   ]
  },
  {
   "cell_type": "code",
   "execution_count": 43,
   "id": "e842d6a5",
   "metadata": {},
   "outputs": [
    {
     "name": "stdout",
     "output_type": "stream",
     "text": [
      "readout data length = 770 clock cycle\n"
     ]
    },
    {
     "data": {
      "image/png": "[encoded data removed]",
      "text/plain": [
       "<Figure size 432x288 with 1 Axes>"
      ]
     },
     "metadata": {
      "needs_background": "light"
     },
     "output_type": "display_data"
    }
   ],
   "source": [
    "#### load real qubit readout data\n",
    "data_len = len(g_data[:,0,:].mean(axis = 0))\n",
    "print(f'readout data length = {data_len} clock cycle')\n",
    "\n",
    "### we need to resample the data based on DAC freq\n",
    "t_ns = data_len*1000/307.2\n",
    "dac_len = int((t_ns/1000*6881.28)//16*16)\n",
    "\n",
    "if MEAN_ENABLED:\n",
    "    g_I_load = g_data[:,0,:].mean(axis = 0)\n",
    "    g_Q_load = g_data[:,1,:].mean(axis = 0)\n",
    "    e_I_load = e_data[:,0,:].mean(axis = 0)\n",
    "    e_Q_load = e_data[:,1,:].mean(axis = 0)\n",
    "else:\n",
    "    g_I_load = g_data[TRACE_ID,0,:]\n",
    "    g_Q_load = g_data[TRACE_ID,1,:]\n",
    "    e_I_load = e_data[TRACE_ID,0,:]\n",
    "    e_Q_load = e_data[TRACE_ID,1,:]\n",
    "\n",
    "### set noise parameter\n",
    "add_noise = False\n",
    "noise_scale = 400\n",
    "\n",
    "if add_noise and MEAN_ENABLED:\n",
    "    g_I_add_noise = g_I_load + np.random.normal(0, noise_scale, size = g_I_load.shape[0])\n",
    "    g_Q_add_noise = g_Q_load + np.random.normal(0, noise_scale, size = g_Q_load.shape[0])\n",
    "    e_I_add_noise = e_I_load + np.random.normal(0, noise_scale, size = e_I_load.shape[0])\n",
    "    e_Q_add_noise = e_Q_load + np.random.normal(0, noise_scale, size = e_Q_load.shape[0])\n",
    "else:\n",
    "    g_I_add_noise = g_I_load\n",
    "    g_Q_add_noise = g_Q_load\n",
    "    e_I_add_noise = e_I_load\n",
    "    e_Q_add_noise = e_Q_load\n",
    "    \n",
    "plot(xp,g_I_load , label = 'data load')\n",
    "plot(xp,g_I_add_noise, label = 'data load + noise', alpha = 0.4)\n",
    "title('data vs data + noise')\n",
    "legend()\n",
    "show()\n",
    "### resample the waveform\n",
    "xp = np.linspace(1,data_len,data_len)\n",
    "x = np.linspace(1,data_len,dac_len)\n",
    "    \n",
    "g_I = np.interp(x, xp, g_I_load)\n",
    "g_Q = np.interp(x, xp, g_Q_load)\n",
    "e_I = np.interp(x, xp, e_I_load)\n",
    "e_Q = np.interp(x, xp, e_Q_load)\n",
    "\n",
    "if add_noise and MEAN_ENABLED:\n",
    "    g_I = np.interp(x, xp, g_I_add_noise)\n",
    "    g_Q = np.interp(x, xp, g_Q_add_noise)\n",
    "    e_I = np.interp(x, xp, e_I_add_noise)\n",
    "    e_Q = np.interp(x, xp, e_Q_add_noise)\n",
    "    \n",
    "    title('Performance of the resampling')\n",
    "    plot(x, g_I, 'o', label = 'after resampling')\n",
    "    plot(xp, g_I_add_noise, label = 'before resampling')\n",
    "    legend()\n",
    "    show()"
   ]
  },
  {
   "cell_type": "code",
   "execution_count": 44,
   "id": "08eb76c7",
   "metadata": {},
   "outputs": [],
   "source": [
    "DAC_gain = 1 ### tune this parameter to match the ADC level with the training data\n",
    "\n",
    "class LoopbackProgram(AveragerProgram):\n",
    "    def initialize(self):\n",
    "        cfg=self.cfg   \n",
    "        res_ch = cfg[\"res_ch\"]\n",
    "\n",
    "        # set the nyquist zone\n",
    "        self.declare_gen(ch=cfg[\"res_ch\"], nqz=1)\n",
    "        \n",
    "        # configure the readout lengths and downconversion frequencies (ensuring it is an available DAC frequency)\n",
    "        for ch in cfg[\"ro_chs\"]:\n",
    "            self.declare_readout(ch=ch, length=self.cfg[\"readout_length\"],\n",
    "                                 freq=self.cfg[\"pulse_freq\"], gen_ch=cfg[\"res_ch\"])\n",
    "\n",
    "        # convert frequency to DAC frequency (ensuring it is an available ADC frequency)\n",
    "        freq = self.freq2reg(cfg[\"pulse_freq\"],gen_ch=res_ch, ro_ch=cfg[\"ro_chs\"][0])\n",
    "        phase = self.deg2reg(cfg[\"res_phase\"], gen_ch=res_ch)\n",
    "        gain = cfg[\"pulse_gain\"]\n",
    "        self.default_pulse_registers(ch=res_ch, freq=freq, phase=phase, gain=gain)\n",
    "\n",
    "        style=self.cfg[\"pulse_style\"]\n",
    "        \n",
    "        \n",
    "        ########################\n",
    "        ### add g/e waveform ###\n",
    "        ########################\n",
    "#         self.add_pulse(ch=cfg[\"res_ch\"], name = 'g_state', idata = DAC_gain*g_I, qdata = DAC_gain*g_Q)\n",
    "#         self.add_pulse(ch=cfg[\"res_ch\"], name = 'e_state', idata = DAC_gain*e_I, qdata = DAC_gain*e_Q)\n",
    "        self.add_pulse(ch=cfg[\"res_ch\"], name = 'g_state', idata = DAC_gain*g_Q, qdata = DAC_gain*g_I)\n",
    "        self.add_pulse(ch=cfg[\"res_ch\"], name = 'e_state', idata = DAC_gain*e_Q, qdata = DAC_gain*e_I)\n",
    "\n",
    "        if style in [\"flat_top\",\"arb\"]:\n",
    "            sigma = cfg[\"sigma\"]\n",
    "            self.add_gauss(ch=res_ch, name=\"measure\", sigma=sigma, length=sigma*5)\n",
    "            \n",
    "        if style == \"const\":\n",
    "            self.set_pulse_registers(ch=res_ch, style=style, length=cfg[\"length\"])\n",
    "        elif style == \"flat_top\":\n",
    "            # The first half of the waveform ramps up the pulse, the second half ramps down the pulse\n",
    "            self.set_pulse_registers(ch=res_ch, style=style, waveform=\"measure\", length=cfg[\"length\"])\n",
    "        elif style == \"arb\":\n",
    "            self.set_pulse_registers(ch=res_ch, style=style, waveform=\"measure\")\n",
    "            \n",
    "        ########################\n",
    "        ### add g/e waveform ###\n",
    "        ########################   \n",
    "        elif style == \"g_state\":\n",
    "            self.set_pulse_registers(ch=res_ch, style=\"arb\", waveform=\"g_state\")\n",
    "        elif style == \"e_state\":\n",
    "            self.set_pulse_registers(ch=res_ch, style=\"arb\", waveform=\"e_state\")\n",
    "\n",
    "        \n",
    "        self.synci(200)  # give processor some time to configure pulses\n",
    "    \n",
    "    def body(self):\n",
    "        # fire the pulse\n",
    "        # trigger all declared ADCs\n",
    "        # pulse PMOD0_0 for a scope trigger\n",
    "        # pause the tProc until readout is done\n",
    "        # increment the time counter to give some time before the next measurement\n",
    "        # (the syncdelay also lets the tProc get back ahead of the clock)\n",
    "        self.measure(pulse_ch=self.cfg[\"res_ch\"], \n",
    "                     adcs=self.ro_chs,\n",
    "                     pins=[0], \n",
    "                     adc_trig_offset=self.cfg[\"adc_trig_offset\"],\n",
    "                     wait=True,\n",
    "                     syncdelay=self.us2cycles(self.cfg[\"relax_delay\"]))"
   ]
  },
  {
   "cell_type": "code",
   "execution_count": 45,
   "id": "9993ef56",
   "metadata": {},
   "outputs": [
    {
     "name": "stdout",
     "output_type": "stream",
     "text": [
      "max_amp =  32766.0\n"
     ]
    }
   ],
   "source": [
    "### calculate the DAC output range\n",
    "gencfg = soccfg['gens'][GEN_CH]\n",
    "max_amp = gencfg['maxv']*gencfg['maxv_scale']\n",
    "print('max_amp = ',max_amp)"
   ]
  },
  {
   "cell_type": "code",
   "execution_count": 46,
   "id": "e6e1263b",
   "metadata": {},
   "outputs": [],
   "source": [
    "##########################################################\n",
    "##########################################################\n",
    "##########################################################\n",
    "# If you are running Vivado ILAs, it is time to arm them #\n",
    "##########################################################\n",
    "##########################################################\n",
    "##########################################################"
   ]
  },
  {
   "cell_type": "code",
   "execution_count": 47,
   "id": "d34a2ba1",
   "metadata": {},
   "outputs": [
    {
     "data": {
      "text/plain": [
       "37"
      ]
     },
     "execution_count": 47,
     "metadata": {},
     "output_type": "execute_result"
    }
   ],
   "source": [
    "# How many readouts so far?\n",
    "get_classifier_prediction_count()"
   ]
  },
  {
   "cell_type": "code",
   "execution_count": 48,
   "id": "91c9c304",
   "metadata": {},
   "outputs": [
    {
     "name": "stdout",
     "output_type": "stream",
     "text": [
      "INFO: classifier MMIO\n",
      "INFO:   - base address:   @a0020000\n",
      "INFO:   - window_size:    @?? = 400\n",
      "INFO:   - window_offset:  @0010 = 150\n",
      "INFO:   - scaling_factor: @0018 = 1\n",
      "INFO:   - trigger_delay:  @0020 = 0\n",
      "CPU times: user 474 ms, sys: 36 ms, total: 510 ms\n",
      "Wall time: 495 ms\n"
     ]
    }
   ],
   "source": [
    "%%time\n",
    "if HAS_NN:\n",
    "    WINDOW_OFFSET = 150\n",
    "    SCALING_FACTOR = 1\n",
    "    TRIGGER_DELAY = 0\n",
    "    \n",
    "    reset_classifier()\n",
    "    configure_classifier(WINDOW_SIZE, WINDOW_OFFSET, SCALING_FACTOR, TRIGGER_DELAY, True)"
   ]
  },
  {
   "cell_type": "code",
   "execution_count": 49,
   "id": "7d09464b",
   "metadata": {},
   "outputs": [
    {
     "data": {
      "text/plain": [
       "0"
      ]
     },
     "execution_count": 49,
     "metadata": {},
     "output_type": "execute_result"
    }
   ],
   "source": [
    "# 0 readouts after reset\n",
    "get_classifier_prediction_count()"
   ]
  },
  {
   "cell_type": "code",
   "execution_count": 50,
   "id": "51a5730c",
   "metadata": {},
   "outputs": [
    {
     "data": {
      "application/vnd.jupyter.widget-view+json": {
       "model_id": "7907fb01debe4316909b5f600f3ddc74",
       "version_major": 2,
       "version_minor": 0
      },
      "text/plain": [
       "  0%|          | 0/1 [00:00<?, ?it/s]"
      ]
     },
     "metadata": {},
     "output_type": "display_data"
    }
   ],
   "source": [
    "DAC_phase = -90\n",
    "readout_phase = phase_cal + DAC_phase\n",
    "\n",
    "config={\"res_ch\": GEN_CH, #6, # --Fixed\n",
    "        \"ro_chs\": [RO_CH], # --Fixed\n",
    "        \"reps\":1, # --Fixed\n",
    "        \"relax_delay\":1.0, # --us\n",
    "        \"res_phase\": readout_phase, # updated readout phase\n",
    "        \n",
    "        \"pulse_style\": \"e_state\", # --Fixed,\"const\"; \"g_state\"; \"e_state\"; \"arb\"\n",
    "        #\"pulse_style\": \"g_state\", # --Fixed,\"const\"; \"g_state\"; \"e_state\"; \"arb\"\n",
    "        \n",
    "        \"sigma\": 30, # [Clock ticks]\n",
    "        \n",
    "        \"length\": 100, # [Clock ticks]\n",
    "        # Try varying length from 10-100 clock ticks\n",
    "        \n",
    "        \"readout_length\":data_len, # [Clock ticks]\n",
    "        # Try varying readout_length from 50-1000 clock ticks\n",
    "\n",
    "        \"pulse_gain\": 30000, # [DAC units]\n",
    "        # Try varying pulse_gain from 500 to 30000 DAC units\n",
    "\n",
    "        \"pulse_freq\": 100, # [MHz]\n",
    "        # In this program the signal is up and downconverted digitally so you won't see any frequency\n",
    "        # components in the I/Q traces below. But since the signal gain depends on frequency, \n",
    "        # if you lower pulse_freq you will see an increased gain.\n",
    "\n",
    "        \"adc_trig_offset\": 190, # [Clock ticks]\n",
    "        # Try varying adc_trig_offset from 100 to 220 clock ticks\n",
    "\n",
    "        \"soft_avgs\":1\n",
    "        # Try varying soft_avgs from 1 to 200 averages\n",
    "\n",
    "       }\n",
    "\n",
    "###################\n",
    "# Try it yourself !\n",
    "###################\n",
    "\n",
    "prog = LoopbackProgram(soccfg, config)\n",
    "iq_list = prog.acquire_decimated(soc, load_pulses=True, progress=True)#, debug=False)"
   ]
  },
  {
   "cell_type": "code",
   "execution_count": 51,
   "id": "e7dbe9bb",
   "metadata": {},
   "outputs": [
    {
     "data": {
      "text/plain": [
       "(1, 2, 770)"
      ]
     },
     "execution_count": 51,
     "metadata": {},
     "output_type": "execute_result"
    }
   ],
   "source": [
    "iq_list.shape"
   ]
  },
  {
   "cell_type": "code",
   "execution_count": 52,
   "id": "900709fa",
   "metadata": {},
   "outputs": [
    {
     "data": {
      "text/plain": [
       "<matplotlib.legend.Legend at 0xffff60d59c40>"
      ]
     },
     "execution_count": 52,
     "metadata": {},
     "output_type": "execute_result"
    },
    {
     "data": {
      "image/png": "[encoded data removed]",
      "text/plain": [
       "<Figure size 432x288 with 1 Axes>"
      ]
     },
     "metadata": {
      "needs_background": "light"
     },
     "output_type": "display_data"
    }
   ],
   "source": [
    "# Plot results.\n",
    "plt.figure(1)\n",
    "for ii, iq in enumerate(iq_list):\n",
    "    plt.plot(iq[0], label=\"I value, ADC %d\"%(config['ro_chs'][ii]))\n",
    "    plt.plot(iq[1], label=\"Q value, ADC %d\"%(config['ro_chs'][ii]))\n",
    "#     plt.plot(np.abs(iq[0]+1j*iq[1]), label=\"mag, ADC %d\"%(config['ro_chs'][ii]))\n",
    "plt.ylabel(\"a.u.\")\n",
    "plt.xlabel(\"Clock ticks\")\n",
    "plt.title(\"Averages = \" + str(config[\"soft_avgs\"]))\n",
    "plt.legend()\n",
    "# plt.savefig(\"images/Send_recieve_pulse_const.pdf\", dpi=350)"
   ]
  },
  {
   "cell_type": "code",
   "execution_count": 53,
   "id": "c8466cc7",
   "metadata": {},
   "outputs": [
    {
     "name": "stdout",
     "output_type": "stream",
     "text": [
      "iq_list shape (I/Q): (2, 770)\n",
      "data_len: 770\n",
      "[121, 32, 118, 76, 25, 10, 49, -28, 37, -43, -21, -66, 63, 22, 34, 131, -89, -10, 29, -54, 14, 131, -84, 34, 39, -116, 21, -29, -49, -5, 49, -40, 38, -25, -60, -1, -14, 40, 50, -5, -12, -34, -77, 64, 0, 46, 89, -21, 48, -35, -28, -31, -97, -39, -16, -94, 76, 25, -45, 79, -45, -80, 22, -56, -45, 14, 18, -31, 130, -7, 44, 0, -44, -44, -21, 8, -58, 15, -76, -64, -6, -66, 7, -40, -18, -20, 3, 24, 29, 42, 66, -30, 111, -46, 44, 29, -39, -25, -46, -53, -61, 22, -41, 9, 9, -21, 32, -18, 21, -27, -31, -30, -46, -18, -18, -18, 48, 16, 89, 83, 22, 42, -52, 3, -62, 60, -24, 62, 3, 39, 13, 60, 61, 82, 14, 30, -112, -46, -91, -10, 32, 6, 56, -47, -8, -52, -47, -42, -78, -94, -34, -49, 7, 103, -21, 38, 5, -33, 51, 45, 87, 46, 54, 9, 49, -36, 121, -31, 67, 10, 5, 20, 37, 28, 40, -8, -18, -13, -67, -24, -26, -65, 57, -56, 138, 4, 80, 81, -38, 24, -38, -57, -30, -23, -2, 26, 22, 38, -54, 27, -121, 1, -101, -41, -11, -101, 93, -83, 54, -6, 30, -15, 87, 6, 24, 71, -7, 44, 33, -16, 4, -27, 22, -13, 92, 23, 112, 64, 79, 94, -28, 68, -41, -5, 36, -12, 50, -6, 77, -20, 83, -35, 90, -24, 41, 35, -110, -13, -71, -20, 39, 61, -19, -4, -68, -38, -30, -10, -17, -33, -31, -5, -4, 45, 13, -4, 29, -78, 23, -51, 2, 30, 3, 80, 13, -44, 38, -133, -14, 9, -39, 99, -27, 52, -64, 3, -13, 26, 57, 5, 49, -75, 35, -4, 42, 111, 73, 55, 75, -8, -3, -20, -49, -91, -15, -111, 25, -67, 37, -67, 15, -22, -31, 75, -19, 45, 49, -27, 45, -6, 32, 11, 17, -8, -24, 8, 19, 45, 53, -13, 16, -78, -6, -37, 2, 33, 24, 92, 23, 25, 56, -85, 76, -40, 9, -24, 0, -49, 30, 34, -2, 16, 74, -105, 144, -33, -7, 14, -23, -66, 70, 14, -74, 19, -100, -85, 87, 55, 63, 72, -15, -107, 48, -16, 58, 55, 31, -46, 47, -35, 38, 14, 43, 35, 80, 46, 8, 34, -43, 23, 12, -26, 22, -86, 28, -74, 48, -78, 68, -111, 72, -74, 23, 5, 10, 56, 16, 33, -58, -12, -20, -19, 102, 19, 55, 32, -19, 13, -42, -56, 25, -90, 88, 2, 20, 6, -17, -31, -3, -17, 14, -4, 29, 13, 18, 34, -2, 50, 26, 13, 12, 54, -69, 84, -39, -15, 8, 6, 16, 81, 41, 39, 9, 24, 1, 27, 47, -40, 32, -86, 42, -38, 47, 47, -51, -25, -35, -97, 60, -14, 60, -41, 15, -65, 21, 15, 55, 21, 13, 31, 35, 68, 120, 6, 62, -48, -13, 30, -9, 55, -15, -17, 0, -46, 79, -65, 105, -74, 63, -79, 91, -46, 115, 28, 74, 25, 51, 13, 60, 4, 40, -15, -42, 2, -56, -32, -13, -115, 20, -149, 43, -73, 36, -3, 38, -26, 7, -37, -44, -17, -32, -11, 27, 2, 29, -39, 10, -104, 37, -24, -16, 6, -48, -79, 16, -66, 69, -12, 70, 36, 6, 20, -32, -44, -24, -64, 1, -95, 29, -105, 59, -62, 68, -36, 2, -11, -32, 51, 7, 12, 25, -95, 67, -47, 135, 7, 170, -52, 136, -6, 15, 14, -22, -96, 35, -118, 71, -89, 61, -11, 38, 21, 99, -35, 80, 27, -12, 32, 18, -71, 13, -37, 4, -9, 81, -101, 69, -137, 33, -66, 29, -7, -16, -23, -26, -39, -25, -45, -32, -106, 1, -114, -1, -42, -36, -9, -51, -12, -5, -48, 87, -78, 97, -78, 80, -57, 102, -10, 71, 6, 29, 6, 29, 0, 8, -18, -8, 21, 1, 15, 24, -67, 23, -30, 0, 14, 40, -41, 66, -24, 14, 18, 8, 8, 54, 42, 42, 49, 65, -18, 112, 8, 23, 47, -45, -4, -18, 6, 14, 53, 27, 55, -5, 70, -63, 63, -97, -40, -65, -105, -14, -106, 38, -124, 77, -84, 49, -4, 29, 88, 32, 68, 77, -104, 96, -37, -4, 76, 4, -58, 62, -99, 17, -76, 26, -96, 57, -55, 33, -35, -52, 21, -134, -19, 27, -143, 126, -13, 0, 14, 25, -120, 86, -31, 72, -18, 101, -120, 61, 5, -39, 82, -72, -23, -52, -75, 36, -91, 60, -90, 1, -57, 38, -7, 100, -24, 46, -47, -48, 1, -62, 16, -85, -57, -17, -72, 50, 66, -48, 45, -3, -46, 63, 28, 1, 43, -38, -6, -45, -78, 59, -102, 58, -66, -63, -102, 1, -37, 35, 68, -35, -3, 4, -82, 17, -86, 7, -111, 116, -112, 133, -30, 54, 41, 58, 76, 48, 85, 4, 50, -49, 2, -46, -65, 35, -92, 40, -86, -16, -92, -59, -83, -14, -57, 92, -20, 99, -31, 52, -53, 32, -54, 24, -73, 41, -94, 55, -52, 29, 20, 60, 33, 111, 23, 99, -9, 24, -54, -91, -55, -59, 7, 66, 63, 61, -10, 40, -69, 36, 15, -17, 37, -30, -4, -1, 65, 42, 86, 133, -9, 138, -35, 20, -4, -62, 37, -57, 22, 14, -56, 23, -40, 19, -54, 143, -111, 119, -44, -34, -41, -8, -84, 6, -30, -62, -18, -27, -20, 30, -23, 17, -32, -55, -3, -97, -33, -69, -59, 11, -36, 68, -26, 42, 15, 49, 59, 59, -18, 38, -58, 17, 35, 8, 23, 45, -18, 48, 17, 15, 36, 19, 34, 33, -19, 34, -30, 48, -19, 15, -48, -76, -9, -13, 45, 56, 80, -29, 13, 36, -122, 112, -120, 30, -45, -25, 32, -31, 51, 15, 10, 38, -37, -12, -81, -29, -64, -13, -44, -49, -59, -49, -24, -7, 20, -23, -54, 25, -103, 92, -39, 51, -53, 10, -88, 3, -38, -10, -57, 8, -101, 16, 6, 10, 61, 22, -32, 5, -88, 19, -55, 32, -7, -22, 5, -95, -8, -133, -47, -106, -31, -26, -5, 58, -76, 45, -90, -12, 6, 11, 35, 11, 0, -53, 15, -43, 71, -1, 36, 42, -29, 41, 4, -48, 19, -94, 20, -39, 2, 59, -3, 63, 43, 5, 50, -28, 50, 40, -12, 103, 36, -59, 108, -86, -49, 31, -18, -55, 82, -25, -67, 108, -82, 45, 15, -2, -7, 14, -43, -24, -76, -11, -89, 60, -75, 115, -73, 86, 10, -13, 50, 17, -52, 43, -68, -27, -1, -3, 32, 15, -35, 0, -68, 9, 8, 0, -46, 32, -103, 3, -5, -78, 11, -31, -18, 29, 15, 48, -1, 77, -65, 23, -92, -18, -31, 52, -4, 78, -118, 38, -117, -7, 14, -39, -4, -23, -20, -13, 36, -8, -22, 35, -49, 32, 13, -2, -2, -10, -45, -5, -54, 8, -33, -8, -3, -31, 37, -3, 2, 52, -103, 1, -45, -28, 69, 9, 40, -12, -22, 39, 5, 55, -22, -43, -65, -75, -52, 48, -109, 115, -32, 7, 58, -44, 10, -19, 32, 57, 43, 38, -18, -102, -77, -92, -72, 38, -100, 87, -106, -15, 1, -37, 20, 28, -47, -82, -78, -118, -73, 45, -7, 88, 46, 83, 10, 92, -79, 36, -103, 27, 23, 1, 40, -76, -36, -73, -29, -4, -50, -33, -31, -59, 21, 5, 17, 45, -3, 73, 26, 45, 35, 2, -30, 29, -17, 67, -6, 55, -91, -7, -112, -32, -72, -14, -56, 29, -51, 67, -80, 53, -113, 54, -68, 69, -15, 51, -50, -1, -94, -14, -78, 36, -50, 60, -20, 75, 25, 117, -15, 74, -92, 35, -87, 88, 19, 10, 72, -46, -52, 23, -131, 11, -98, 33, -52, 106, 2, 68, 31, 4, 31, -14, -9, -18, -76, 4, -62, 15, -70, 11, -120, 13, -29, 18, 40, -24, -23, -99, -15, -63, 23, 27, -54, 38, -91, 23, -37, 60, -64, 69, -101, 2, -85, -15, -89, 36, -88, 91, -89, 81, -59, 27, -18, 43, -45, 26, -79, -18, -31, 21, 25, 58, -49, 44, -86, 28, 12, 29, 80, -5, 88, -20, 48, -7, -28, -25, -46, 13, -20, 59, 4, -22, 10, -56, -38, -16, -111, 0, -101, 35, 49, 4, 44, -64, -71, -76, 7, -24, 43, 48, -38, 79, -32, 34, -51, -49, -103, -92, 26, -78, 102, -5, -32, 48, -97, 50, -67, 66, -22, 98, 27, 120, 9, 83, -30, 31, -50, 48, -64, 47, -36, 21, 20, 41, 43, 65, -38, 47, -89, -8, -20, 0, -7, 43, -36, 61, -24, 75, -32, 11, -62, -79, -43, -55, 13, 11, 19, 85, -29, 157, 25, 69, 91, 27, 5, 126, 38, 69, 74, 2, -74, 48, -105, 54, -76, 16, -89, 0, -65, 48, -81, 60, -111, 8, -72, -37, -15, -58, 7, -48, 9, 17, -42, 27, -25, -87, 1, -79, -90, -8, -125, 20, -61, -30, 46, -159, 39, -106, 7, 33, 25, 88, 48, 50, 93, 51, -7, 97, -102, 60, -70, 23, -8, -9, 8, 14, -43, 52, -23, 39, 12, 75, -10, 112, -31, 107, -49, 98, -73, 54, -79, -21, -37, -34, 25, 14, 35, 45, 5, 68, -10, 86, -36, 44, -52, -1, -20, 2, 6, 2, 5]\n"
     ]
    }
   ],
   "source": [
    "print('iq_list shape (I/Q):', iq_list[0].shape)\n",
    "print('data_len:', data_len)\n",
    "\n",
    "# Shows I and Q sequence\n",
    "iq = iq_list[0]\n",
    "iq_sequence = [list(item) for item in zip(*iq)]\n",
    "iq_sequence = [int(item) for sublist in iq_sequence for item in sublist]\n",
    "print(iq_sequence)"
   ]
  },
  {
   "cell_type": "code",
   "execution_count": 54,
   "id": "ceda1406",
   "metadata": {},
   "outputs": [
    {
     "data": {
      "text/plain": [
       "<matplotlib.legend.Legend at 0xffff60d16550>"
      ]
     },
     "execution_count": 54,
     "metadata": {},
     "output_type": "execute_result"
    },
    {
     "data": {
      "image/png": "[encoded data removed]",
      "text/plain": [
       "<Figure size 432x288 with 1 Axes>"
      ]
     },
     "metadata": {
      "needs_background": "light"
     },
     "output_type": "display_data"
    }
   ],
   "source": [
    "ADC_fake_gain = 27 ### tune this parameter to match the ADC level with the training data\n",
    "\n",
    "plt.plot(x,e_I, '-o', markersize=1.5, color = 'grey', label = 'load - e-I', alpha = 0.5)\n",
    "plt.plot(x,e_Q, '-o', markersize=1.5, color = 'black', label = 'load - e-Q', alpha = 0.5)\n",
    "\n",
    "for ii, iq in enumerate(iq_list):\n",
    "    plt.plot(iq[0]*ADC_fake_gain, markersize=0.5, color = 'C0' , label=\"I value, ADC %d\"%(config['ro_chs'][ii]))\n",
    "    plt.plot(iq[1]*ADC_fake_gain, markersize=0.5, color = 'C1' ,label=\"Q value, ADC %d\"%(config['ro_chs'][ii]))\n",
    "\n",
    "plt.ylabel(\"a.u.\")\n",
    "plt.xlabel(\"Clock ticks\")\n",
    "plt.title(\"Averages = \" + str(config[\"soft_avgs\"]))\n",
    "plt.legend()"
   ]
  },
  {
   "cell_type": "markdown",
   "id": "988ce7f8",
   "metadata": {},
   "source": [
    "## Collect NN results"
   ]
  },
  {
   "cell_type": "code",
   "execution_count": 55,
   "id": "8334e68c",
   "metadata": {},
   "outputs": [
    {
     "data": {
      "text/plain": [
       "<matplotlib.legend.Legend at 0xffff60fb93d0>"
      ]
     },
     "execution_count": 55,
     "metadata": {},
     "output_type": "execute_result"
    },
    {
     "data": {
      "image/png": "[encoded data removed]",
      "text/plain": [
       "<Figure size 432x288 with 1 Axes>"
      ]
     },
     "metadata": {
      "needs_background": "light"
     },
     "output_type": "display_data"
    }
   ],
   "source": [
    "###########################################################\n",
    "axvline(WINDOW_OFFSET, ls = '--', color = 'red')\n",
    "axvline(WINDOW_OFFSET+WINDOW_SIZE, ls = '--', color = 'red')\n",
    "###########################################################\n",
    "\n",
    "#plt.plot(x,e_I, '-o', markersize=1.5, color = 'grey', label = 'load - e-I', alpha = 0.5)\n",
    "#plt.plot(x,e_Q, '-o', markersize=1.5, color = 'black', label = 'load - e-Q', alpha = 0.5)\n",
    "for ii, iq in enumerate(iq_list):\n",
    "    plt.plot(iq[0]*ADC_fake_gain, markersize=0.5, color = 'C0' , label=\"I value, ADC %d\"%(config['ro_chs'][ii]))\n",
    "    plt.plot(iq[1]*ADC_fake_gain, markersize=0.5, color = 'C1' ,label=\"Q value, ADC %d\"%(config['ro_chs'][ii]))\n",
    "\n",
    "plt.ylabel(\"a.u.\")\n",
    "plt.xlabel(\"Clock ticks\")\n",
    "plt.title(\"Averages = \" + str(config[\"soft_avgs\"]))\n",
    "plt.legend()"
   ]
  },
  {
   "cell_type": "code",
   "execution_count": 56,
   "id": "8904022c",
   "metadata": {},
   "outputs": [],
   "source": [
    "# Save trace.\n",
    "iq_nn = iq_list[0,:,285:385]*ADC_fake_gain"
   ]
  },
  {
   "cell_type": "code",
   "execution_count": 57,
   "id": "201d27f9",
   "metadata": {
    "scrolled": true
   },
   "outputs": [
    {
     "name": "stdout",
     "output_type": "stream",
     "text": [
      "Sequence length: 200\n",
      "I (lo, data[15:0])\n",
      "[  675.  1809.  3645.  4590.  3672.   405.  -594.   945.  1917.  1647.\n",
      "  1026.  2673.  2160.  -324.   486.   351.   108.  2187.  1863.   891.\n",
      "   783.  -432.  -702.  -675.  -864.    27.   -27.  -972. -1377.  -135.\n",
      "  2349.  2619.  2160.  2754.  1917.   783.   783.   216.  -216.    27.\n",
      "   648.   621.     0.  1080.  1782.   378.   216.  1458.  1134.  1755.\n",
      "  3024.   621. -1215.  -486.   378.   729.  -135. -1701. -2619. -1755.\n",
      "  -378.  1026.  2079.  1323.   783.   864.  2079.  2592.  -108.   108.\n",
      "  1674.   459.   702.  1539.   891. -1404. -3618.   729.  3402.     0.\n",
      "   675.  2322.  1944.  2727.  1647. -1053. -1944. -1404.   972.  1620.\n",
      "    27.  1026.  2700.  1242. -1296. -1674. -2295.  -459.  1350. -1296.]\n",
      "Q (hi, data[31:16])\n",
      "[-2565. -1269.   189. -1404.  -162.   378. -2592. -3186. -2403.  -297.\n",
      "   567.  -945.   729.   864. -1917.  -999.  -243. -2727. -3699. -1782.\n",
      "  -189.  -621. -1053. -1215. -2862. -3078. -1134.  -243.  -324. -1296.\n",
      " -2106. -2106. -1539.  -270.   162.   162.     0.  -486.   567.   405.\n",
      " -1809.  -810.   378. -1107.  -648.   486.   216.  1134.  1323.  -486.\n",
      "   216.  1269.  -108.   162.  1431.  1485.  1890.  1701. -1080. -2835.\n",
      " -2862. -3348. -2268.  -108.  2376.  1836. -2808.  -999.  2052. -1566.\n",
      " -2673. -2052. -2592. -1485.  -945.   567.  -513. -3861.  -351.   378.\n",
      " -3240.  -837.  -486. -3240.   135.  2214.  -621. -2025. -2457. -2430.\n",
      " -1539.  -189.  -648. -1269.    27.   432. -1539. -1944.  1782.  1215.]\n",
      "[675, -2565, 1809, -1269, 3645, 189, 4590, -1404, 3672, -162, 405, 378, -594, -2592, 945, -3186, 1917, -2403, 1647, -297, 1026, 567, 2673, -945, 2160, 729, -324, 864, 486, -1917, 351, -999, 108, -243, 2187, -2727, 1863, -3699, 891, -1782, 783, -189, -432, -621, -702, -1053, -675, -1215, -864, -2862, 27, -3078, -27, -1134, -972, -243, -1377, -324, -135, -1296, 2349, -2106, 2619, -2106, 2160, -1539, 2754, -270, 1917, 162, 783, 162, 783, 0, 216, -486, -216, 567, 27, 405, 648, -1809, 621, -810, 0, 378, 1080, -1107, 1782, -648, 378, 486, 216, 216, 1458, 1134, 1134, 1323, 1755, -486, 3024, 216, 621, 1269, -1215, -108, -486, 162, 378, 1431, 729, 1485, -135, 1890, -1701, 1701, -2619, -1080, -1755, -2835, -378, -2862, 1026, -3348, 2079, -2268, 1323, -108, 783, 2376, 864, 1836, 2079, -2808, 2592, -999, -108, 2052, 108, -1566, 1674, -2673, 459, -2052, 702, -2592, 1539, -1485, 891, -945, -1404, 567, -3618, -513, 729, -3861, 3402, -351, 0, 378, 675, -3240, 2322, -837, 1944, -486, 2727, -3240, 1647, 135, -1053, 2214, -1944, -621, -1404, -2025, 972, -2457, 1620, -2430, 27, -1539, 1026, -189, 2700, -648, 1242, -1269, -1296, 27, -1674, 432, -2295, -1539, -459, -1944, 1350, 1782, -1296, 1215]\n"
     ]
    }
   ],
   "source": [
    "import struct\n",
    "def float_to_hex32(f):\n",
    "    return format(struct.unpack('!I', struct.pack('!f', f))[0], '08x')\n",
    "\n",
    "def int_to_twos_complement_hex32(n):\n",
    "    # If the number is negative, get its two's complement\n",
    "    if n < 0:\n",
    "        n = (1 << 32) + n  # \"Wrap around\" to get 32-bit two's complement\n",
    "    return format(n, '08x')\n",
    "\n",
    "# Shows I and Q sequence\n",
    "iq_sequence_nn = [list(item) for item in zip(*iq_nn)]\n",
    "iq_sequence_nn = [int(item) for sublist in iq_sequence_nn for item in sublist]\n",
    "\n",
    "# Float value as hex\n",
    "#hex_iq_sequence_flt = [float_to_hex32(num) for num in iq_sequence]\n",
    "\n",
    "# Float -> Int value as hex\n",
    "#hex_iq_sequence_dec = [int_to_twos_complement_hex32(int(i)) for i in iq_sequence]\n",
    "\n",
    "print('Sequence length:', len(iq_sequence_nn))\n",
    "print('I (lo, data[15:0])')\n",
    "print(iq_nn[0])\n",
    "print('Q (hi, data[31:16])')\n",
    "print(iq_nn[1])\n",
    "\n",
    "print(iq_sequence_nn)\n",
    "\n",
    "#print(hex_iq_sequence_flt)\n",
    "#print(hex_iq_sequence_dec)\n",
    "\n",
    "#for i in range(0,len(iq_sequence),2):\n",
    "#    print(\"I {:4.0f} {} {}\".format(iq_sequence[i], hex_iq_sequence_flt[i], hex_iq_sequence_dec[i]))\n",
    "#    print(\"Q {:4.0f} {} {}\".format(iq_sequence[i+1], hex_iq_sequence_flt[i+1], hex_iq_sequence_dec[i+1]))"
   ]
  },
  {
   "cell_type": "code",
   "execution_count": 58,
   "id": "e20193cd",
   "metadata": {},
   "outputs": [
    {
     "data": {
      "text/plain": [
       "<matplotlib.legend.Legend at 0xffff60e865e0>"
      ]
     },
     "execution_count": 58,
     "metadata": {},
     "output_type": "execute_result"
    },
    {
     "data": {
      "image/png": "[encoded data removed]",
      "text/plain": [
       "<Figure size 432x288 with 1 Axes>"
      ]
     },
     "metadata": {
      "needs_background": "light"
     },
     "output_type": "display_data"
    }
   ],
   "source": [
    "plt.plot(iq_nn[0], markersize=0.5, color = 'C0', label=\"I value\")\n",
    "plt.plot(iq_nn[1], markersize=0.5, color = 'C1', label=\"Q value\")\n",
    "\n",
    "# x = list(range(0, 101, 20))\n",
    "# x_offset = list(range(285, 386, 20))\n",
    "# plt.xticks(x, x_offset)\n",
    "\n",
    "plt.ylabel(\"a.u.\")\n",
    "plt.xlabel(\"Clock ticks\")\n",
    "plt.title(\"Averages = \" + str(config[\"soft_avgs\"]))\n",
    "plt.legend()"
   ]
  },
  {
   "cell_type": "code",
   "execution_count": 59,
   "id": "2ecdac0a",
   "metadata": {
    "scrolled": true
   },
   "outputs": [
    {
     "name": "stdout",
     "output_type": "stream",
     "text": [
      "Expected:   excited state\n",
      "Prediction: ground state, WRONG\n",
      "\n",
      "Logit values as int: [ 1069924352 , 3217514496 ]\n",
      "Logit values as hex: [ 0x3fc5c000 , 0xbfc76000 ]\n",
      "Logit values as flt: [ 1.544921875 , -1.5576171875 ]\n"
     ]
    }
   ],
   "source": [
    "#\n",
    "# ATTENTION: if the cell fails, please make sure that\n",
    "#            the base_address matches the associated\n",
    "#            value in the address editor of the Vivado\n",
    "#            project.\n",
    "# \n",
    "if HAS_NN:    \n",
    "    from ctypes import *\n",
    "    def to_float(i):\n",
    "        cp = pointer(c_int(i))\n",
    "        fp = cast(cp, POINTER(c_float))\n",
    "        return fp.contents.value\n",
    "    \n",
    "    ground_state_logit, excited_state_logit = get_classifier_prediction()\n",
    "\n",
    "    if config['pulse_style'] == 'g_state':\n",
    "        print('Expected:   ground state')\n",
    "    else:\n",
    "        print('Expected:   excited state')\n",
    "    \n",
    "    if (to_float(ground_state_logit) > to_float(excited_state_logit)):\n",
    "        print('Prediction: ground state', end='')\n",
    "        if config['pulse_style'] == 'g_state':\n",
    "            print(', CORRECT')\n",
    "        else:\n",
    "            print(', WRONG')\n",
    "    else:\n",
    "        print('Prediction: excited state', end='')\n",
    "        if config['pulse_style'] == 'e_state':\n",
    "            print(', CORRECT')\n",
    "        else:\n",
    "            print(', WRONG')\n",
    "    print('')\n",
    "    print('Logit values as int: [', ground_state_logit, ',', excited_state_logit, ']')\n",
    "    print('Logit values as hex: [', hex(ground_state_logit), ',', hex(excited_state_logit), ']')\n",
    "    print('Logit values as flt: [', to_float(ground_state_logit), ',', to_float(excited_state_logit), ']')\n",
    "else:\n",
    "    print('No NN in this bitstream!')"
   ]
  },
  {
   "cell_type": "code",
   "execution_count": 60,
   "id": "4317a51f",
   "metadata": {},
   "outputs": [
    {
     "name": "stdout",
     "output_type": "stream",
     "text": [
      "INFO: prediction count:      1\n",
      "INFO: buffer size     :  32768\n",
      "INFO:\n",
      "INFO: g [    0] 3fc5c000 (1.544921875) \n",
      "INFO: e [    0] bfc76000 (-1.5576171875) \n",
      "INFO: g [    1] 3fe0c000 (1.755859375) <<<\n",
      "INFO: e [    1] bfdcc000 (-1.724609375) <<<\n",
      "INFO: g [    2] 3fe0c000 (1.755859375) \n",
      "INFO: e [    2] bfdcc000 (-1.724609375) \n",
      "INFO: g [    3] 3fe0c000 (1.755859375) \n",
      "INFO: e [    3] bfdcc000 (-1.724609375) \n",
      "INFO: g [    4] 3fe0c000 (1.755859375) \n",
      "INFO: e [    4] bfdcc000 (-1.724609375) \n",
      "INFO: g [    5] 3fe0c000 (1.755859375) \n",
      "INFO: e [    5] bfdcc000 (-1.724609375) \n",
      "INFO: g [    6] 3fe0c000 (1.755859375) \n",
      "INFO: e [    6] bfdcc000 (-1.724609375) \n",
      "INFO: g [    7] 3fe0c000 (1.755859375) \n",
      "INFO: e [    7] bfdcc000 (-1.724609375) \n"
     ]
    }
   ],
   "source": [
    "print_classifier_buffer(index_lo = 0, index_hi = 7)"
   ]
  },
  {
   "cell_type": "code",
   "execution_count": 61,
   "id": "19169913",
   "metadata": {},
   "outputs": [],
   "source": [
    "#reset_classifier(deep_reset = False, index_lo = 0, index_hi = 0)"
   ]
  },
  {
   "cell_type": "code",
   "execution_count": 62,
   "id": "9f854f99",
   "metadata": {},
   "outputs": [],
   "source": [
    "#print_classifier_buffer(0,7)"
   ]
  },
  {
   "cell_type": "markdown",
   "id": "693440e4",
   "metadata": {},
   "source": [
    "## Many runs and collect results"
   ]
  },
  {
   "cell_type": "code",
   "execution_count": 63,
   "id": "e5f698b8",
   "metadata": {},
   "outputs": [
    {
     "data": {
      "text/plain": [
       "1"
      ]
     },
     "execution_count": 63,
     "metadata": {},
     "output_type": "execute_result"
    }
   ],
   "source": [
    "# How many readouts so far?\n",
    "get_classifier_prediction_count()"
   ]
  },
  {
   "cell_type": "code",
   "execution_count": 64,
   "id": "faa802e4",
   "metadata": {},
   "outputs": [
    {
     "name": "stdout",
     "output_type": "stream",
     "text": [
      "CPU times: user 151 ms, sys: 3.94 ms, total: 155 ms\n",
      "Wall time: 152 ms\n"
     ]
    }
   ],
   "source": [
    "%%time\n",
    "if HAS_NN:    \n",
    "    reset_classifier()"
   ]
  },
  {
   "cell_type": "code",
   "execution_count": 65,
   "id": "fc9ac1e1",
   "metadata": {},
   "outputs": [
    {
     "data": {
      "text/plain": [
       "0"
      ]
     },
     "execution_count": 65,
     "metadata": {},
     "output_type": "execute_result"
    }
   ],
   "source": [
    "# 0 readouts after reset\n",
    "get_classifier_prediction_count()"
   ]
  },
  {
   "cell_type": "code",
   "execution_count": 66,
   "id": "5bfb1581",
   "metadata": {},
   "outputs": [],
   "source": [
    "VERBOSE = False"
   ]
  },
  {
   "cell_type": "code",
   "execution_count": 67,
   "id": "2675f417",
   "metadata": {},
   "outputs": [
    {
     "name": "stdout",
     "output_type": "stream",
     "text": [
      "--------------------------------------------------------------------------------\n",
      "Sending 250 g_state traces to the NN\n",
      "Legend:\n",
      "  . = CORRECT classification\n",
      "  * = WRONG   classification\n",
      "g_state    0 .........................\n",
      "g_state   25 .........................\n",
      "g_state   50 .........................\n",
      "g_state   75 .........................\n",
      "g_state  100 .........................\n",
      "g_state  125 .........................\n",
      "g_state  150 .........................\n",
      "g_state  175 .........................\n",
      "g_state  200 .........................\n",
      "g_state  225 .........................\n",
      "--------------------------------------------------------------------------------\n",
      "Sending 250 e_state traces to the NN\n",
      "Legend:\n",
      "  . = CORRECT classification\n",
      "  * = WRONG   classification\n",
      "e_state    0 .........................\n",
      "e_state   25 .........................\n",
      "e_state   50 .........................\n",
      "e_state   75 .........................\n",
      "e_state  100 .........................\n",
      "e_state  125 .........................\n",
      "e_state  150 .........................\n",
      "e_state  175 .........................\n",
      "e_state  200 .........................\n",
      "e_state  225 .........................\n",
      "CPU times: user 41.8 s, sys: 1.65 s, total: 43.4 s\n",
      "Wall time: 42.5 s\n"
     ]
    }
   ],
   "source": [
    "%%time\n",
    "import pandas as pd\n",
    "\n",
    "from ctypes import *\n",
    "\n",
    "errors = {'g_state' : 0, 'e_state' : 0}\n",
    "\n",
    "def to_float(i):\n",
    "    cp = pointer(c_int(i))\n",
    "    fp = cast(cp, POINTER(c_float))\n",
    "    return fp.contents.value\n",
    "\n",
    "### load real qubit readout data\n",
    "data_len = len(g_data[0,0,:])\n",
    "if VERBOSE:\n",
    "    print(f'readout data length = {data_len} clock cycle')\n",
    "\n",
    "### how many traces we have?\n",
    "trace_count = {'g_state' : len(g_data[:,0,:]), 'e_state' : len(e_data[:,0,:])}\n",
    "\n",
    "if VERBOSE:\n",
    "    print('ground traces count  = {}'.format(trace_count['g_state']))\n",
    "    print('excited traces count = {}'.format(trace_count['e_state']))\n",
    "\n",
    "### we need to resample the data based on DAC freq\n",
    "t_ns = data_len*1000/307.2\n",
    "dac_len = int((t_ns/1000*6881.28)//16*16)\n",
    "\n",
    "\n",
    "if HAS_NN:\n",
    "\n",
    "    ################\n",
    "    # Configure NN #\n",
    "    ################\n",
    "    reset_classifier()\n",
    "    configure_classifier(WINDOW_SIZE, WINDOW_OFFSET, scaling_factor=ADC_fake_gain, trigger_delay=5)\n",
    "    ################\n",
    "\n",
    "    for state_id, pulse_style in enumerate(['g_state', 'e_state']):\n",
    "        \n",
    "        #n_traces = trace_count[pulse_style]\n",
    "        n_traces = 250\n",
    "        \n",
    "        if not VERBOSE:\n",
    "            print('-' * 80)\n",
    "            print('Sending {} {} traces to the NN'.format(n_traces, pulse_style))\n",
    "            print('Legend:')\n",
    "            print('  . = CORRECT classification')\n",
    "            print('  * = WRONG   classification')\n",
    "\n",
    "        DAC_phase = -90\n",
    "        readout_phase = phase_cal + DAC_phase\n",
    "\n",
    "        config={\"res_ch\": GEN_CH, #6, # --Fixed\n",
    "                \"ro_chs\": [RO_CH], # --Fixed\n",
    "                \"reps\":1, # --Fixed\n",
    "                \"relax_delay\":1.0, # --us\n",
    "                \"res_phase\": readout_phase, # updated readout phase\n",
    "\n",
    "                \"pulse_style\": pulse_style, # --Fixed,\"const\"; \"g_state\"; \"e_state\"; \"arb\"\n",
    "\n",
    "                \"sigma\": 30, # [Clock ticks]\n",
    "\n",
    "                \"length\": 100, # [Clock ticks]\n",
    "                # Try varying length from 10-100 clock ticks\n",
    "\n",
    "                \"readout_length\":data_len, # [Clock ticks]\n",
    "                # Try varying readout_length from 50-1000 clock ticks\n",
    "\n",
    "                \"pulse_gain\": 30000, # [DAC units]\n",
    "                # Try varying pulse_gain from 500 to 30000 DAC units\n",
    "\n",
    "                \"pulse_freq\": 100, # [MHz]\n",
    "                # In this program the signal is up and downconverted digitally so you won't see any frequency\n",
    "                # components in the I/Q traces below. But since the signal gain depends on frequency, \n",
    "                # if you lower pulse_freq you will see an increased gain.\n",
    "\n",
    "                \"adc_trig_offset\": 190, # [Clock ticks]\n",
    "                # Try varying adc_trig_offset from 100 to 220 clock ticks\n",
    "\n",
    "                \"soft_avgs\": n_traces\n",
    "                # Try varying soft_avgs from 1 to 200 averages\n",
    "\n",
    "               }        \n",
    "        \n",
    "        _trace_id = 0\n",
    "        g_I_load = g_data[_trace_id,0,:]\n",
    "        g_Q_load = g_data[_trace_id,1,:]\n",
    "        e_I_load = e_data[_trace_id,0,:]\n",
    "        e_Q_load = e_data[_trace_id,1,:]\n",
    "\n",
    "        g_I = np.interp(x, xp, g_I_load)\n",
    "        g_Q = np.interp(x, xp, g_Q_load)\n",
    "        e_I = np.interp(x, xp, e_I_load)\n",
    "        e_Q = np.interp(x, xp, e_Q_load)\n",
    "\n",
    "        DAC_gain = 1 ### tune this parameter to match the ADC level with the training data\n",
    "\n",
    "        class LoopbackProgram(AveragerProgram):\n",
    "            def initialize(self):\n",
    "                cfg = self.cfg   \n",
    "                res_ch = cfg[\"res_ch\"]\n",
    "\n",
    "                # set the nyquist zone\n",
    "                self.declare_gen(ch=cfg[\"res_ch\"], nqz=1)\n",
    "\n",
    "                # configure the readout lengths and downconversion frequencies (ensuring it is an available DAC frequency)\n",
    "                for ch in cfg[\"ro_chs\"]:\n",
    "                    self.declare_readout(ch=ch, length=self.cfg[\"readout_length\"],\n",
    "                                         freq=self.cfg[\"pulse_freq\"], gen_ch=cfg[\"res_ch\"])\n",
    "\n",
    "                # convert frequency to DAC frequency (ensuring it is an available ADC frequency)\n",
    "                freq = self.freq2reg(cfg[\"pulse_freq\"],gen_ch=res_ch, ro_ch=cfg[\"ro_chs\"][0])\n",
    "                phase = self.deg2reg(cfg[\"res_phase\"], gen_ch=res_ch)\n",
    "                gain = cfg[\"pulse_gain\"]\n",
    "                self.default_pulse_registers(ch=res_ch, freq=freq, phase=phase, gain=gain)\n",
    "\n",
    "                style=self.cfg[\"pulse_style\"]\n",
    "\n",
    "\n",
    "                ########################\n",
    "                ### add g/e waveform ###\n",
    "                ########################\n",
    "                #self.add_pulse(ch=cfg[\"res_ch\"], name = 'g_state', idata = DAC_gain*g_I, qdata = DAC_gain*g_Q)\n",
    "                #self.add_pulse(ch=cfg[\"res_ch\"], name = 'e_state', idata = DAC_gain*e_I, qdata = DAC_gain*e_Q)\n",
    "                self.add_pulse(ch=cfg[\"res_ch\"], name = 'g_state', idata = DAC_gain*g_Q, qdata = DAC_gain*g_I)\n",
    "                self.add_pulse(ch=cfg[\"res_ch\"], name = 'e_state', idata = DAC_gain*e_Q, qdata = DAC_gain*e_I)\n",
    "\n",
    "                if style in [\"flat_top\",\"arb\"]:\n",
    "                    sigma = cfg[\"sigma\"]\n",
    "                    self.add_gauss(ch=res_ch, name=\"measure\", sigma=sigma, length=sigma*5)\n",
    "\n",
    "                if style == \"const\":\n",
    "                    self.set_pulse_registers(ch=res_ch, style=style, length=cfg[\"length\"])\n",
    "                elif style == \"flat_top\":\n",
    "                    # The first half of the waveform ramps up the pulse, the second half ramps down the pulse\n",
    "                    self.set_pulse_registers(ch=res_ch, style=style, waveform=\"measure\", length=cfg[\"length\"])\n",
    "                elif style == \"arb\":\n",
    "                    self.set_pulse_registers(ch=res_ch, style=style, waveform=\"measure\")\n",
    "\n",
    "                ########################\n",
    "                ### add g/e waveform ###\n",
    "                ########################   \n",
    "                elif style == \"g_state\":\n",
    "                    self.set_pulse_registers(ch=res_ch, style=\"arb\", waveform=\"g_state\")\n",
    "                elif style == \"e_state\":\n",
    "                    self.set_pulse_registers(ch=res_ch, style=\"arb\", waveform=\"e_state\")\n",
    "\n",
    "\n",
    "                self.synci(200)  # give processor some time to configure pulses\n",
    "\n",
    "            def body(self):\n",
    "                # fire the pulse\n",
    "                # trigger all declared ADCs\n",
    "                # pulse PMOD0_0 for a scope trigger\n",
    "                # pause the tProc until readout is done\n",
    "                # increment the time counter to give some time before the next measurement\n",
    "                # (the syncdelay also lets the tProc get back ahead of the clock)\n",
    "                self.measure(pulse_ch=self.cfg[\"res_ch\"], \n",
    "                             adcs=self.ro_chs,\n",
    "                             pins=[0], \n",
    "                             adc_trig_offset=self.cfg[\"adc_trig_offset\"],\n",
    "                             wait=True,\n",
    "                             syncdelay=self.us2cycles(self.cfg[\"relax_delay\"]))\n",
    "\n",
    "        # calculate the DAC output range\n",
    "        gencfg = soccfg['gens'][GEN_CH]\n",
    "        max_amp = gencfg['maxv']*gencfg['maxv_scale']\n",
    "        #print('max_amp = ',max_amp)\n",
    "\n",
    "        # Run pulse generation and readout\n",
    "        # It also runs the NN\n",
    "        prog = LoopbackProgram(soccfg, config)\n",
    "        iq_list = prog.acquire_decimated(soc, load_pulses=True, progress=VERBOSE)#, debug=False)\n",
    "\n",
    "        ###################\n",
    "        # Read NN results #\n",
    "        ###################\n",
    "        #ground_state_logit, excited_state_logit = get_classifier_prediction(state_id * n_traces + trace_id)\n",
    "        #predictions = get_classifier_predictions(index_lo = 0, index_hi = state_id * n_traces + trace_id)\n",
    "        ###################\n",
    "    \n",
    "        #print_classifier_buffer(index_lo=0, index_hi=100)         \n",
    "            \n",
    "        for trace_id in range(n_traces):\n",
    "            \n",
    "            ground_state_logit, excited_state_logit = get_classifier_prediction(state_id * n_traces + trace_id)\n",
    "            \n",
    "            # Console printous\n",
    "            if VERBOSE:\n",
    "                if pulse_style == 'g_state':\n",
    "                    print('Expected:   ground state')\n",
    "                else:\n",
    "                    print('Expected:   excited state')\n",
    "\n",
    "                print('{} {}'.format(to_float(ground_state_logit), to_float(excited_state_logit)))\n",
    "                if (to_float(ground_state_logit) > to_float(excited_state_logit)):\n",
    "                    print('Prediction: ground state', end='')\n",
    "                    if pulse_style == 'g_state':\n",
    "                        print(', CORRECT')\n",
    "                    else:\n",
    "                        print(', WRONG')\n",
    "                else:\n",
    "                    print('Prediction: excited state', end='')\n",
    "                    if pulse_style == 'e_state':\n",
    "                        print(', CORRECT')\n",
    "                    else:\n",
    "                        print(', WRONG')\n",
    "                print('')\n",
    "                print('Logit values as int: [', ground_state_logit, ',', excited_state_logit, ']')\n",
    "                print('Logit values as hex: [', hex(ground_state_logit), ',', hex(excited_state_logit), ']')\n",
    "                print('Logit values as flt: [', to_float(ground_state_logit), ',', to_float(excited_state_logit), ']')\n",
    "\n",
    "            # Error count\n",
    "            if (to_float(ground_state_logit) > to_float(excited_state_logit)):\n",
    "                if pulse_style != 'g_state':\n",
    "                    errors[pulse_style] = errors[pulse_style] + 1\n",
    "            else:\n",
    "                if pulse_style != 'e_state':\n",
    "                    errors[pulse_style] = errors[pulse_style] + 1\n",
    "\n",
    "            if not VERBOSE:\n",
    "                if (trace_id % 25) == 0:\n",
    "                    print('{:s}{:5d}'.format(pulse_style, trace_id), end=' ')\n",
    "                if (to_float(ground_state_logit) > to_float(excited_state_logit)):\n",
    "                    if pulse_style != 'g_state':\n",
    "                        print('*', end='')\n",
    "                    else:\n",
    "                        print('.', end='')\n",
    "                else:\n",
    "                    if pulse_style != 'e_state':\n",
    "                        print('*', end='')\n",
    "                    else:\n",
    "                        print('.', end='')\n",
    "                if ((trace_id+1) % 25) == 0:\n",
    "                    print('')\n",
    "\n",
    "else:\n",
    "    print('No NN in this bitstream!')"
   ]
  },
  {
   "cell_type": "code",
   "execution_count": 68,
   "id": "7968715a",
   "metadata": {},
   "outputs": [
    {
     "name": "stdout",
     "output_type": "stream",
     "text": [
      "INFO: prediction count:    500\n",
      "INFO: buffer size     :  32768\n",
      "INFO:\n",
      "INFO: g [    0] 3ffd0000 (1.9765625) \n",
      "INFO: e [    0] c0000000 (-2.0) \n",
      "INFO: g [    1] 3f440000 (0.765625) \n",
      "INFO: e [    1] c02ca000 (-2.697265625) \n",
      "INFO: g [    2] 3f96c000 (1.177734375) \n",
      "INFO: e [    2] c02a4000 (-2.66015625) \n",
      "INFO: g [    3] 3ff82000 (1.9384765625) \n",
      "INFO: e [    3] bfe4e000 (-1.7880859375) \n",
      "INFO: g [    4] 40337000 (2.8037109375) \n",
      "INFO: e [    4] bfc5a000 (-1.5439453125) \n",
      "INFO: g [    5] 3fb2a000 (1.3955078125) \n",
      "INFO: e [    5] c002e000 (-2.044921875) \n",
      "INFO: g [    6] 3fe42000 (1.7822265625) \n",
      "INFO: e [    6] c015a000 (-2.337890625) \n",
      "INFO: g [    7] 3fdb0000 (1.7109375) \n",
      "INFO: e [    7] c01b5000 (-2.4267578125) \n",
      "INFO: g [    8] 3ffc6000 (1.9716796875) \n",
      "INFO: e [    8] bfe40000 (-1.78125) \n",
      "INFO: g [    9] 3f564000 (0.8369140625) \n",
      "INFO: e [    9] c0198000 (-2.3984375) \n",
      "INFO: g [   10] 3f982000 (1.1884765625) \n",
      "INFO: e [   10] c00ba000 (-2.181640625) \n",
      "INFO: g [   11] 3face000 (1.3505859375) \n",
      "INFO: e [   11] c02ce000 (-2.701171875) \n",
      "INFO: g [   12] 3fc72000 (1.5556640625) \n",
      "INFO: e [   12] c00c7000 (-2.1943359375) \n",
      "INFO: g [   13] 3fec2000 (1.8447265625) \n",
      "INFO: e [   13] c00fb000 (-2.2451171875) \n",
      "INFO: g [   14] 3fd1e000 (1.6396484375) \n",
      "INFO: e [   14] c018c000 (-2.38671875) \n",
      "INFO: g [   15] 3f27c000 (0.6552734375) \n",
      "INFO: e [   15] c0435000 (-3.0517578125) \n",
      "INFO: g [   16] 3fa96000 (1.3232421875) \n",
      "INFO: e [   16] c0276000 (-2.615234375) \n",
      "INFO: g [   17] 3f768000 (0.962890625) \n",
      "INFO: e [   17] c020a000 (-2.509765625) \n",
      "INFO: g [   18] 3ffc6000 (1.9716796875) \n",
      "INFO: e [   18] c006e000 (-2.107421875) \n",
      "INFO: g [   19] 3ec88000 (0.3916015625) \n",
      "INFO: e [   19] c0232000 (-2.548828125) \n",
      "INFO: g [   20] 3fd70000 (1.6796875) \n",
      "INFO: e [   20] c01ae000 (-2.419921875) \n",
      "INFO: g [   21] 3fcf6000 (1.6201171875) \n",
      "INFO: e [   21] c01fe000 (-2.498046875) \n",
      "INFO: g [   22] 3fc22000 (1.5166015625) \n",
      "INFO: e [   22] c00da000 (-2.212890625) \n",
      "INFO: g [   23] 3ffb2000 (1.9619140625) \n",
      "INFO: e [   23] c00db000 (-2.2138671875) \n",
      "INFO: g [   24] 3f41c000 (0.7568359375) \n",
      "INFO: e [   24] c02c8000 (-2.6953125) \n",
      "INFO: g [   25] 3edd0000 (0.431640625) \n",
      "INFO: e [   25] c04dd000 (-3.2158203125) \n",
      "INFO: g [   26] 3efa0000 (0.48828125) \n",
      "INFO: e [   26] c049e000 (-3.154296875) \n",
      "INFO: g [   27] 3fbcc000 (1.474609375) \n",
      "INFO: e [   27] c00c8000 (-2.1953125) \n",
      "INFO: g [   28] 3fb3c000 (1.404296875) \n",
      "INFO: e [   28] c01d7000 (-2.4599609375) \n",
      "INFO: g [   29] 3f84a000 (1.0361328125) \n",
      "INFO: e [   29] c03b4000 (-2.92578125) \n",
      "INFO: g [   30] 3f9d0000 (1.2265625) \n",
      "INFO: e [   30] c0291000 (-2.6416015625) \n",
      "INFO: g [   31] 3eeb0000 (0.458984375) \n",
      "INFO: e [   31] c03a4000 (-2.91015625) \n",
      "INFO: g [   32] 40085000 (2.1298828125) \n",
      "INFO: e [   32] bfe9a000 (-1.8251953125) \n",
      "INFO: g [   33] 3f1c4000 (0.6103515625) \n",
      "INFO: e [   33] c0452000 (-3.080078125) \n",
      "INFO: g [   34] 3f7c4000 (0.9853515625) \n",
      "INFO: e [   34] c02c7000 (-2.6943359375) \n",
      "INFO: g [   35] 3fd84000 (1.689453125) \n",
      "INFO: e [   35] c0045000 (-2.0673828125) \n",
      "INFO: g [   36] 3f860000 (1.046875) \n",
      "INFO: e [   36] c0245000 (-2.5673828125) \n",
      "INFO: g [   37] 3fa3e000 (1.2802734375) \n",
      "INFO: e [   37] c014a000 (-2.322265625) \n",
      "INFO: g [   38] 4006d000 (2.1064453125) \n",
      "INFO: e [   38] c0088000 (-2.1328125) \n",
      "INFO: g [   39] 3fac2000 (1.3447265625) \n",
      "INFO: e [   39] c008c000 (-2.13671875) \n",
      "INFO: g [   40] 3f368000 (0.712890625) \n",
      "INFO: e [   40] c0251000 (-2.5791015625) \n",
      "INFO: g [   41] 3ed68000 (0.4189453125) \n",
      "INFO: e [   41] c03e8000 (-2.9765625) \n",
      "INFO: g [   42] 3ff18000 (1.88671875) \n",
      "INFO: e [   42] bff8e000 (-1.9443359375) \n",
      "INFO: g [   43] 4032a000 (2.791015625) \n",
      "INFO: e [   43] bfc42000 (-1.5322265625) \n",
      "INFO: g [   44] 402ff000 (2.7490234375) \n",
      "INFO: e [   44] bfc82000 (-1.5634765625) \n",
      "INFO: g [   45] 3f7a0000 (0.9765625) \n",
      "INFO: e [   45] c03ba000 (-2.931640625) \n",
      "INFO: g [   46] 3fa9c000 (1.326171875) \n",
      "INFO: e [   46] c0062000 (-2.095703125) \n",
      "INFO: g [   47] 3f400000 (0.75) \n",
      "INFO: e [   47] c0272000 (-2.611328125) \n",
      "INFO: g [   48] 4000b000 (2.0107421875) \n",
      "INFO: e [   48] bfe52000 (-1.7900390625) \n",
      "INFO: g [   49] 3fd5a000 (1.6689453125) \n",
      "INFO: e [   49] bff1e000 (-1.8896484375) \n",
      "INFO: g [   50] 3f5cc000 (0.8623046875) \n",
      "INFO: e [   50] c02b2000 (-2.673828125) \n",
      "INFO: g [   51] 4031b000 (2.7763671875) \n",
      "INFO: e [   51] bfc1a000 (-1.5126953125) \n",
      "INFO: g [   52] 3f4dc000 (0.8037109375) \n",
      "INFO: e [   52] c0426000 (-3.037109375) \n",
      "INFO: g [   53] 3ff62000 (1.9228515625) \n",
      "INFO: e [   53] c0122000 (-2.283203125) \n",
      "INFO: g [   54] 3fc0e000 (1.5068359375) \n",
      "INFO: e [   54] c013d000 (-2.3095703125) \n",
      "INFO: g [   55] 3fe0c000 (1.755859375) \n",
      "INFO: e [   55] c0195000 (-2.3955078125) \n",
      "INFO: g [   56] 3f250000 (0.64453125) \n",
      "INFO: e [   56] c02c0000 (-2.6875) \n",
      "INFO: g [   57] 3fea0000 (1.828125) \n",
      "INFO: e [   57] bfe0c000 (-1.755859375) \n",
      "INFO: g [   58] 3ee50000 (0.447265625) \n",
      "INFO: e [   58] c043b000 (-3.0576171875) \n",
      "INFO: g [   59] 3f90c000 (1.130859375) \n",
      "INFO: e [   59] c028a000 (-2.634765625) \n",
      "INFO: g [   60] 40028000 (2.0390625) \n",
      "INFO: e [   60] c002b000 (-2.0419921875) \n",
      "INFO: g [   61] 3fb22000 (1.3916015625) \n",
      "INFO: e [   61] c0097000 (-2.1474609375) \n",
      "INFO: g [   62] 3fe6a000 (1.8017578125) \n",
      "INFO: e [   62] c0176000 (-2.365234375) \n",
      "INFO: g [   63] 3fbb8000 (1.46484375) \n",
      "INFO: e [   63] c01ae000 (-2.419921875) \n",
      "INFO: g [   64] 40088000 (2.1328125) \n",
      "INFO: e [   64] bff26000 (-1.8935546875) \n",
      "INFO: g [   65] 3ec40000 (0.3828125) \n",
      "INFO: e [   65] c0205000 (-2.5048828125) \n",
      "INFO: g [   66] 3f6b8000 (0.919921875) \n",
      "INFO: e [   66] c02c8000 (-2.6953125) \n",
      "INFO: g [   67] 3f8b0000 (1.0859375) \n",
      "INFO: e [   67] c00d6000 (-2.208984375) \n",
      "INFO: g [   68] 3fc8e000 (1.5693359375) \n",
      "INFO: e [   68] c00c4000 (-2.19140625) \n",
      "INFO: g [   69] 3f6dc000 (0.9287109375) \n",
      "INFO: e [   69] c03e5000 (-2.9736328125) \n",
      "INFO: g [   70] 3fd38000 (1.65234375) \n",
      "INFO: e [   70] c01f6000 (-2.490234375) \n",
      "INFO: g [   71] 3fc8a000 (1.5673828125) \n",
      "INFO: e [   71] c01c7000 (-2.4443359375) \n",
      "INFO: g [   72] 3fdfe000 (1.7490234375) \n",
      "INFO: e [   72] c0189000 (-2.3837890625) \n",
      "INFO: g [   73] 3f3d8000 (0.740234375) \n",
      "INFO: e [   73] c02dc000 (-2.71484375) \n",
      "INFO: g [   74] 3f224000 (0.6337890625) \n",
      "INFO: e [   74] c0216000 (-2.521484375) \n",
      "INFO: g [   75] 3f37c000 (0.7177734375) \n",
      "INFO: e [   75] c01ff000 (-2.4990234375) \n",
      "INFO: g [   76] 3f9e0000 (1.234375) \n",
      "INFO: e [   76] c00c1000 (-2.1884765625) \n",
      "INFO: g [   77] 3f900000 (1.125) \n",
      "INFO: e [   77] c03a5000 (-2.9111328125) \n",
      "INFO: g [   78] 3fb88000 (1.44140625) \n",
      "INFO: e [   78] c0272000 (-2.611328125) \n",
      "INFO: g [   79] 3fa32000 (1.2744140625) \n",
      "INFO: e [   79] c009e000 (-2.154296875) \n",
      "INFO: g [   80] 3f778000 (0.966796875) \n",
      "INFO: e [   80] c01ab000 (-2.4169921875) \n",
      "INFO: g [   81] 3f9f0000 (1.2421875) \n",
      "INFO: e [   81] c0098000 (-2.1484375) \n",
      "INFO: g [   82] 3fea4000 (1.830078125) \n",
      "INFO: e [   82] bfef0000 (-1.8671875) \n",
      "INFO: g [   83] 3f288000 (0.658203125) \n",
      "INFO: e [   83] c02fe000 (-2.748046875) \n",
      "INFO: g [   84] 3fb30000 (1.3984375) \n",
      "INFO: e [   84] c01c2000 (-2.439453125) \n",
      "INFO: g [   85] 3fbda000 (1.4814453125) \n",
      "INFO: e [   85] c00d2000 (-2.205078125) \n",
      "INFO: g [   86] 3f154000 (0.5830078125) \n",
      "INFO: e [   86] c04cc000 (-3.19921875) \n",
      "INFO: g [   87] 3fe9a000 (1.8251953125) \n",
      "INFO: e [   87] c00f1000 (-2.2353515625) \n",
      "INFO: g [   88] 3fb0a000 (1.3798828125) \n",
      "INFO: e [   88] c012d000 (-2.2939453125) \n",
      "INFO: g [   89] 3fa64000 (1.298828125) \n",
      "INFO: e [   89] c002f000 (-2.0458984375) \n",
      "INFO: g [   90] 3fe64000 (1.798828125) \n",
      "INFO: e [   90] bfe0e000 (-1.7568359375) \n",
      "INFO: g [   91] 3f67c000 (0.9052734375) \n",
      "INFO: e [   91] c0068000 (-2.1015625) \n",
      "INFO: g [   92] 3f834000 (1.025390625) \n",
      "INFO: e [   92] c00f3000 (-2.2373046875) \n",
      "INFO: g [   93] 3f9d8000 (1.23046875) \n",
      "INFO: e [   93] c0297000 (-2.6474609375) \n",
      "INFO: g [   94] 3f804000 (1.001953125) \n",
      "INFO: e [   94] c02da000 (-2.712890625) \n",
      "INFO: g [   95] 3fb22000 (1.3916015625) \n",
      "INFO: e [   95] c00f1000 (-2.2353515625) \n",
      "INFO: g [   96] 3fd80000 (1.6875) \n",
      "INFO: e [   96] c0077000 (-2.1162109375) \n",
      "INFO: g [   97] 400ae000 (2.169921875) \n",
      "INFO: e [   97] bfdf2000 (-1.7431640625) \n",
      "INFO: g [   98] 3fbea000 (1.4892578125) \n",
      "INFO: e [   98] bff82000 (-1.9384765625) \n",
      "INFO: g [   99] 3f158000 (0.583984375) \n",
      "INFO: e [   99] c01bc000 (-2.43359375) \n",
      "INFO: g [  100] 3f6b8000 (0.919921875) \n",
      "INFO: e [  100] c02c1000 (-2.6884765625) \n"
     ]
    },
    {
     "name": "stdout",
     "output_type": "stream",
     "text": [
      "INFO: g [  101] 3f5d8000 (0.865234375) \n",
      "INFO: e [  101] c0295000 (-2.6455078125) \n",
      "INFO: g [  102] 3fbfc000 (1.498046875) \n",
      "INFO: e [  102] c021a000 (-2.525390625) \n",
      "INFO: g [  103] 3f84c000 (1.037109375) \n",
      "INFO: e [  103] c036f000 (-2.8583984375) \n",
      "INFO: g [  104] 3fbe4000 (1.486328125) \n",
      "INFO: e [  104] c004e000 (-2.076171875) \n",
      "INFO: g [  105] 3f3a4000 (0.7275390625) \n",
      "INFO: e [  105] c021a000 (-2.525390625) \n",
      "INFO: g [  106] 3fe30000 (1.7734375) \n",
      "INFO: e [  106] c01a3000 (-2.4091796875) \n",
      "INFO: g [  107] 3fb9a000 (1.4501953125) \n",
      "INFO: e [  107] c0208000 (-2.5078125) \n",
      "INFO: g [  108] 3fc4e000 (1.5380859375) \n",
      "INFO: e [  108] c0213000 (-2.5185546875) \n",
      "INFO: g [  109] 3fd6e000 (1.6787109375) \n",
      "INFO: e [  109] c0058000 (-2.0859375) \n",
      "INFO: g [  110] 3f7ec000 (0.9951171875) \n",
      "INFO: e [  110] c0382000 (-2.876953125) \n",
      "INFO: g [  111] 3fc3c000 (1.529296875) \n",
      "INFO: e [  111] c0115000 (-2.2705078125) \n",
      "INFO: g [  112] 3fd46000 (1.6591796875) \n",
      "INFO: e [  112] c0023000 (-2.0341796875) \n",
      "INFO: g [  113] 3f868000 (1.05078125) \n",
      "INFO: e [  113] c00fd000 (-2.2470703125) \n",
      "INFO: g [  114] 3fd9a000 (1.7001953125) \n",
      "INFO: e [  114] bffae000 (-1.9599609375) \n",
      "INFO: g [  115] 3ff8e000 (1.9443359375) \n",
      "INFO: e [  115] c013f000 (-2.3115234375) \n",
      "INFO: g [  116] 3fe16000 (1.7607421875) \n",
      "INFO: e [  116] bff00000 (-1.875) \n",
      "INFO: g [  117] 3fd1c000 (1.638671875) \n",
      "INFO: e [  117] bfe98000 (-1.82421875) \n",
      "INFO: g [  118] 40086000 (2.130859375) \n",
      "INFO: e [  118] bfebc000 (-1.841796875) \n",
      "INFO: g [  119] 3fb7e000 (1.4365234375) \n",
      "INFO: e [  119] c0063000 (-2.0966796875) \n",
      "INFO: g [  120] 3fb32000 (1.3994140625) \n",
      "INFO: e [  120] c01ca000 (-2.447265625) \n",
      "INFO: g [  121] 3fb8e000 (1.4443359375) \n",
      "INFO: e [  121] c0268000 (-2.6015625) \n",
      "INFO: g [  122] 3f984000 (1.189453125) \n",
      "INFO: e [  122] c00af000 (-2.1708984375) \n",
      "INFO: g [  123] 3f9c4000 (1.220703125) \n",
      "INFO: e [  123] c0021000 (-2.0322265625) \n",
      "INFO: g [  124] 3f324000 (0.6962890625) \n",
      "INFO: e [  124] c00b3000 (-2.1748046875) \n",
      "INFO: g [  125] 3f64c000 (0.8935546875) \n",
      "INFO: e [  125] c012a000 (-2.291015625) \n",
      "INFO: g [  126] 3f6c0000 (0.921875) \n",
      "INFO: e [  126] c03a8000 (-2.9140625) \n",
      "INFO: g [  127] 3f4bc000 (0.7958984375) \n",
      "INFO: e [  127] c02dd000 (-2.7158203125) \n",
      "INFO: g [  128] 3fb64000 (1.423828125) \n",
      "INFO: e [  128] c0263000 (-2.5966796875) \n",
      "INFO: g [  129] 3fccc000 (1.599609375) \n",
      "INFO: e [  129] c0235000 (-2.5517578125) \n",
      "INFO: g [  130] 3fdda000 (1.7314453125) \n",
      "INFO: e [  130] bffa8000 (-1.95703125) \n",
      "INFO: g [  131] 3fa10000 (1.2578125) \n",
      "INFO: e [  131] c000d000 (-2.0126953125) \n",
      "INFO: g [  132] 3fb82000 (1.4384765625) \n",
      "INFO: e [  132] bff9e000 (-1.9521484375) \n",
      "INFO: g [  133] 3fa86000 (1.3154296875) \n",
      "INFO: e [  133] c022e000 (-2.544921875) \n",
      "INFO: g [  134] 3fe32000 (1.7744140625) \n",
      "INFO: e [  134] bfe90000 (-1.8203125) \n",
      "INFO: g [  135] 3fed8000 (1.85546875) \n",
      "INFO: e [  135] c001d000 (-2.0283203125) \n",
      "INFO: g [  136] 3fa8e000 (1.3193359375) \n",
      "INFO: e [  136] c018a000 (-2.384765625) \n",
      "INFO: g [  137] 3fc3e000 (1.5302734375) \n",
      "INFO: e [  137] c0131000 (-2.2978515625) \n",
      "INFO: g [  138] 3f768000 (0.962890625) \n",
      "INFO: e [  138] c02d7000 (-2.7099609375) \n",
      "INFO: g [  139] 3f2e8000 (0.681640625) \n",
      "INFO: e [  139] c0235000 (-2.5517578125) \n",
      "INFO: g [  140] 3feb6000 (1.8388671875) \n",
      "INFO: e [  140] c003f000 (-2.0615234375) \n",
      "INFO: g [  141] 3ff1a000 (1.8876953125) \n",
      "INFO: e [  141] c009d000 (-2.1533203125) \n",
      "INFO: g [  142] 3e9e8000 (0.3095703125) \n",
      "INFO: e [  142] c04d0000 (-3.203125) \n",
      "INFO: g [  143] 3ec78000 (0.3896484375) \n",
      "INFO: e [  143] c03f8000 (-2.9921875) \n",
      "INFO: g [  144] 3fc04000 (1.501953125) \n",
      "INFO: e [  144] c0170000 (-2.359375) \n",
      "INFO: g [  145] 3fe70000 (1.8046875) \n",
      "INFO: e [  145] c003f000 (-2.0615234375) \n",
      "INFO: g [  146] 3fbb0000 (1.4609375) \n",
      "INFO: e [  146] c0255000 (-2.5830078125) \n",
      "INFO: g [  147] 3faa2000 (1.3291015625) \n",
      "INFO: e [  147] c02ac000 (-2.66796875) \n",
      "INFO: g [  148] 3fbb8000 (1.46484375) \n",
      "INFO: e [  148] c00d2000 (-2.205078125) \n",
      "INFO: g [  149] 3f22c000 (0.6357421875) \n",
      "INFO: e [  149] c02b8000 (-2.6796875) \n",
      "INFO: g [  150] 3fd58000 (1.66796875) \n",
      "INFO: e [  150] c01b7000 (-2.4287109375) \n",
      "INFO: g [  151] 3f91a000 (1.1376953125) \n",
      "INFO: e [  151] c026a000 (-2.603515625) \n",
      "INFO: g [  152] 3fe8c000 (1.818359375) \n",
      "INFO: e [  152] c0056000 (-2.083984375) \n",
      "INFO: g [  153] 3f93a000 (1.1533203125) \n",
      "INFO: e [  153] c0155000 (-2.3330078125) \n",
      "INFO: g [  154] 3fb3e000 (1.4052734375) \n",
      "INFO: e [  154] c002e000 (-2.044921875) \n",
      "INFO: g [  155] 3fb1a000 (1.3876953125) \n",
      "INFO: e [  155] c02a2000 (-2.658203125) \n",
      "INFO: g [  156] 3fbc0000 (1.46875) \n",
      "INFO: e [  156] c010b000 (-2.2607421875) \n",
      "INFO: g [  157] 3f3dc000 (0.7412109375) \n",
      "INFO: e [  157] c0099000 (-2.1494140625) \n",
      "INFO: g [  158] 3fcb6000 (1.5888671875) \n",
      "INFO: e [  158] c0222000 (-2.533203125) \n",
      "INFO: g [  159] 3f604000 (0.8759765625) \n",
      "INFO: e [  159] c00d2000 (-2.205078125) \n",
      "INFO: g [  160] 3f4f8000 (0.810546875) \n",
      "INFO: e [  160] c043d000 (-3.0595703125) \n",
      "INFO: g [  161] 3f63c000 (0.8896484375) \n",
      "INFO: e [  161] c0376000 (-2.865234375) \n",
      "INFO: g [  162] 3f7cc000 (0.9873046875) \n",
      "INFO: e [  162] c03a4000 (-2.91015625) \n",
      "INFO: g [  163] 3f7a0000 (0.9765625) \n",
      "INFO: e [  163] c0273000 (-2.6123046875) \n",
      "INFO: g [  164] 3fb1e000 (1.3896484375) \n",
      "INFO: e [  164] c00a5000 (-2.1611328125) \n",
      "INFO: g [  165] 401eb000 (2.4794921875) \n",
      "INFO: e [  165] bff0a000 (-1.8798828125) \n",
      "INFO: g [  166] 3fc48000 (1.53515625) \n",
      "INFO: e [  166] c01f6000 (-2.490234375) \n",
      "INFO: g [  167] 3f0d0000 (0.55078125) \n",
      "INFO: e [  167] c02b6000 (-2.677734375) \n",
      "INFO: g [  168] 3fd7e000 (1.6865234375) \n",
      "INFO: e [  168] c01eb000 (-2.4794921875) \n",
      "INFO: g [  169] 3f8de000 (1.1083984375) \n",
      "INFO: e [  169] c02d0000 (-2.703125) \n",
      "INFO: g [  170] 3f9da000 (1.2314453125) \n",
      "INFO: e [  170] c0109000 (-2.2587890625) \n",
      "INFO: g [  171] 3fe44000 (1.783203125) \n",
      "INFO: e [  171] c003b000 (-2.0576171875) \n",
      "INFO: g [  172] 3fd18000 (1.63671875) \n",
      "INFO: e [  172] c01fa000 (-2.494140625) \n",
      "INFO: g [  173] 3f9fe000 (1.2490234375) \n",
      "INFO: e [  173] c0173000 (-2.3623046875) \n",
      "INFO: g [  174] 3f6cc000 (0.9248046875) \n",
      "INFO: e [  174] c00f0000 (-2.234375) \n",
      "INFO: g [  175] 3f9e6000 (1.2373046875) \n",
      "INFO: e [  175] c00b2000 (-2.173828125) \n",
      "INFO: g [  176] 4000a000 (2.009765625) \n",
      "INFO: e [  176] bfde4000 (-1.736328125) \n",
      "INFO: g [  177] 3fff2000 (1.9931640625) \n",
      "INFO: e [  177] bff60000 (-1.921875) \n",
      "INFO: g [  178] 3fd9e000 (1.7021484375) \n",
      "INFO: e [  178] c011d000 (-2.2783203125) \n",
      "INFO: g [  179] 3fdb8000 (1.71484375) \n",
      "INFO: e [  179] c00ca000 (-2.197265625) \n",
      "INFO: g [  180] 3fd06000 (1.6279296875) \n",
      "INFO: e [  180] c00c0000 (-2.1875) \n",
      "INFO: g [  181] 3fc24000 (1.517578125) \n",
      "INFO: e [  181] c0078000 (-2.1171875) \n",
      "INFO: g [  182] 3f140000 (0.578125) \n",
      "INFO: e [  182] c038f000 (-2.8896484375) \n",
      "INFO: g [  183] 400c7000 (2.1943359375) \n",
      "INFO: e [  183] bfe9c000 (-1.826171875) \n",
      "INFO: g [  184] 3f728000 (0.947265625) \n",
      "INFO: e [  184] c027f000 (-2.6240234375) \n",
      "INFO: g [  185] 3f364000 (0.7119140625) \n",
      "INFO: e [  185] c0222000 (-2.533203125) \n",
      "INFO: g [  186] 3fcf2000 (1.6181640625) \n",
      "INFO: e [  186] c006c000 (-2.10546875) \n",
      "INFO: g [  187] 3f690000 (0.91015625) \n",
      "INFO: e [  187] c0235000 (-2.5517578125) \n",
      "INFO: g [  188] 3fd06000 (1.6279296875) \n",
      "INFO: e [  188] c003e000 (-2.060546875) \n",
      "INFO: g [  189] 402a4000 (2.66015625) \n",
      "INFO: e [  189] bfcae000 (-1.5849609375) \n",
      "INFO: g [  190] 3fc80000 (1.5625) \n",
      "INFO: e [  190] c0075000 (-2.1142578125) \n",
      "INFO: g [  191] 3fc9a000 (1.5751953125) \n",
      "INFO: e [  191] c0181000 (-2.3759765625) \n",
      "INFO: g [  192] 3fe72000 (1.8056640625) \n",
      "INFO: e [  192] bff3e000 (-1.9052734375) \n",
      "INFO: g [  193] 3f90a000 (1.1298828125) \n",
      "INFO: e [  193] c0352000 (-2.830078125) \n",
      "INFO: g [  194] 3f9a0000 (1.203125) \n",
      "INFO: e [  194] c0165000 (-2.3486328125) \n",
      "INFO: g [  195] 3fc94000 (1.572265625) \n",
      "INFO: e [  195] c0004000 (-2.00390625) \n",
      "INFO: g [  196] 3eab0000 (0.333984375) \n",
      "INFO: e [  196] c048c000 (-3.13671875) \n",
      "INFO: g [  197] 3fc06000 (1.5029296875) \n",
      "INFO: e [  197] c0153000 (-2.3310546875) \n",
      "INFO: g [  198] 3fbe2000 (1.4853515625) \n",
      "INFO: e [  198] c00c4000 (-2.19140625) \n",
      "INFO: g [  199] 3f698000 (0.912109375) \n",
      "INFO: e [  199] c0172000 (-2.361328125) \n",
      "INFO: g [  200] 3fb64000 (1.423828125) \n",
      "INFO: e [  200] c007d000 (-2.1220703125) \n",
      "INFO: g [  201] 3f7e4000 (0.9931640625) \n",
      "INFO: e [  201] c016b000 (-2.3544921875) \n",
      "INFO: g [  202] 40021000 (2.0322265625) \n",
      "INFO: e [  202] c00db000 (-2.2138671875) \n"
     ]
    },
    {
     "name": "stdout",
     "output_type": "stream",
     "text": [
      "INFO: g [  203] 3ec10000 (0.376953125) \n",
      "INFO: e [  203] c043f000 (-3.0615234375) \n",
      "INFO: g [  204] 402d6000 (2.708984375) \n",
      "INFO: e [  204] bfc72000 (-1.5556640625) \n",
      "INFO: g [  205] 3f87c000 (1.060546875) \n",
      "INFO: e [  205] c0103000 (-2.2529296875) \n",
      "INFO: g [  206] 3eff0000 (0.498046875) \n",
      "INFO: e [  206] c0176000 (-2.365234375) \n",
      "INFO: g [  207] 400cc000 (2.19921875) \n",
      "INFO: e [  207] bfe5e000 (-1.7958984375) \n",
      "INFO: g [  208] 3f2d8000 (0.677734375) \n",
      "INFO: e [  208] c02cb000 (-2.6982421875) \n",
      "INFO: g [  209] 3f40c000 (0.7529296875) \n",
      "INFO: e [  209] c02d0000 (-2.703125) \n",
      "INFO: g [  210] 3fb64000 (1.423828125) \n",
      "INFO: e [  210] c0052000 (-2.080078125) \n",
      "INFO: g [  211] 3fbd0000 (1.4765625) \n",
      "INFO: e [  211] c0203000 (-2.5029296875) \n",
      "INFO: g [  212] 3f1fc000 (0.6240234375) \n",
      "INFO: e [  212] c0291000 (-2.6416015625) \n",
      "INFO: g [  213] 3fbac000 (1.458984375) \n",
      "INFO: e [  213] c0231000 (-2.5478515625) \n",
      "INFO: g [  214] 400c1000 (2.1884765625) \n",
      "INFO: e [  214] bff96000 (-1.9482421875) \n",
      "INFO: g [  215] 3f108000 (0.564453125) \n",
      "INFO: e [  215] c0262000 (-2.595703125) \n",
      "INFO: g [  216] 3f5c0000 (0.859375) \n",
      "INFO: e [  216] c0241000 (-2.5634765625) \n",
      "INFO: g [  217] 3f85a000 (1.0439453125) \n",
      "INFO: e [  217] c0365000 (-2.8486328125) \n",
      "INFO: g [  218] 3fca0000 (1.578125) \n",
      "INFO: e [  218] c019e000 (-2.404296875) \n",
      "INFO: g [  219] 3fbac000 (1.458984375) \n",
      "INFO: e [  219] c023f000 (-2.5615234375) \n",
      "INFO: g [  220] 3fbb0000 (1.4609375) \n",
      "INFO: e [  220] c0139000 (-2.3056640625) \n",
      "INFO: g [  221] 3fc0a000 (1.5048828125) \n",
      "INFO: e [  221] c020f000 (-2.5146484375) \n",
      "INFO: g [  222] 3fbbe000 (1.4677734375) \n",
      "INFO: e [  222] c01d2000 (-2.455078125) \n",
      "INFO: g [  223] 3f248000 (0.642578125) \n",
      "INFO: e [  223] c03a4000 (-2.91015625) \n",
      "INFO: g [  224] 40016000 (2.021484375) \n",
      "INFO: e [  224] bffac000 (-1.958984375) \n",
      "INFO: g [  225] 3feac000 (1.833984375) \n",
      "INFO: e [  225] c0002000 (-2.001953125) \n",
      "INFO: g [  226] 3fb90000 (1.4453125) \n",
      "INFO: e [  226] c004b000 (-2.0732421875) \n",
      "INFO: g [  227] 3f6d4000 (0.9267578125) \n",
      "INFO: e [  227] c03b6000 (-2.927734375) \n",
      "INFO: g [  228] 3fdc0000 (1.71875) \n",
      "INFO: e [  228] c0073000 (-2.1123046875) \n",
      "INFO: g [  229] 3f83c000 (1.029296875) \n",
      "INFO: e [  229] c0031000 (-2.0478515625) \n",
      "INFO: g [  230] 3efc8000 (0.4931640625) \n",
      "INFO: e [  230] c047d000 (-3.1220703125) \n",
      "INFO: g [  231] 3f544000 (0.8291015625) \n",
      "INFO: e [  231] c02d7000 (-2.7099609375) \n",
      "INFO: g [  232] 3fd26000 (1.6435546875) \n",
      "INFO: e [  232] c016e000 (-2.357421875) \n",
      "INFO: g [  233] 3ec68000 (0.3876953125) \n",
      "INFO: e [  233] c04f3000 (-3.2373046875) \n",
      "INFO: g [  234] 3f37c000 (0.7177734375) \n",
      "INFO: e [  234] c046c000 (-3.10546875) \n",
      "INFO: g [  235] 3f9fa000 (1.2470703125) \n",
      "INFO: e [  235] c029d000 (-2.6533203125) \n",
      "INFO: g [  236] 3fca2000 (1.5791015625) \n",
      "INFO: e [  236] c0236000 (-2.552734375) \n",
      "INFO: g [  237] 3fc54000 (1.541015625) \n",
      "INFO: e [  237] c0107000 (-2.2568359375) \n",
      "INFO: g [  238] 40091000 (2.1416015625) \n",
      "INFO: e [  238] c003d000 (-2.0595703125) \n",
      "INFO: g [  239] 3f070000 (0.52734375) \n",
      "INFO: e [  239] c03de000 (-2.966796875) \n",
      "INFO: g [  240] 3fce8000 (1.61328125) \n",
      "INFO: e [  240] c011d000 (-2.2783203125) \n",
      "INFO: g [  241] 40053000 (2.0810546875) \n",
      "INFO: e [  241] bff8a000 (-1.9423828125) \n",
      "INFO: g [  242] 3fb9a000 (1.4501953125) \n",
      "INFO: e [  242] c023e000 (-2.560546875) \n",
      "INFO: g [  243] 3fc8a000 (1.5673828125) \n",
      "INFO: e [  243] c012e000 (-2.294921875) \n",
      "INFO: g [  244] 3f8d4000 (1.103515625) \n",
      "INFO: e [  244] c023b000 (-2.5576171875) \n",
      "INFO: g [  245] 3fc88000 (1.56640625) \n",
      "INFO: e [  245] c022f000 (-2.5458984375) \n",
      "INFO: g [  246] 3f44c000 (0.7685546875) \n",
      "INFO: e [  246] c00d9000 (-2.2119140625) \n",
      "INFO: g [  247] 3f992000 (1.1962890625) \n",
      "INFO: e [  247] c0081000 (-2.1259765625) \n",
      "INFO: g [  248] 4002e000 (2.044921875) \n",
      "INFO: e [  248] bff42000 (-1.9072265625) \n",
      "INFO: g [  249] 3f304000 (0.6884765625) \n",
      "INFO: e [  249] c02ef000 (-2.7333984375) \n"
     ]
    }
   ],
   "source": [
    "# Print first half of the buffer (0,n_traces-1) that contains ground predictions\n",
    "# g > e\n",
    "print_classifier_buffer(index_lo=0, index_hi=n_traces-1)"
   ]
  },
  {
   "cell_type": "code",
   "execution_count": 69,
   "id": "0fb41b1d",
   "metadata": {},
   "outputs": [
    {
     "name": "stdout",
     "output_type": "stream",
     "text": [
      "INFO: prediction count:    500\n",
      "INFO: buffer size     :  32768\n",
      "INFO:\n",
      "INFO: g [  250] c0457000 (-3.0849609375) \n",
      "INFO: e [  250] 40072000 (2.111328125) \n",
      "INFO: g [  251] c0129000 (-2.2900390625) \n",
      "INFO: e [  251] 40297000 (2.6474609375) \n",
      "INFO: g [  252] bf890000 (-1.0703125) \n",
      "INFO: e [  252] 408e0800 (4.4384765625) \n",
      "INFO: g [  253] c05e4000 (-3.47265625) \n",
      "INFO: e [  253] 3ffe4000 (1.986328125) \n",
      "INFO: g [  254] bf86a000 (-1.0517578125) \n",
      "INFO: e [  254] 4086e000 (4.21484375) \n",
      "INFO: g [  255] bfd90000 (-1.6953125) \n",
      "INFO: e [  255] 408e8000 (4.453125) \n",
      "INFO: g [  256] bfaf6000 (-1.3701171875) \n",
      "INFO: e [  256] 4093c800 (4.6181640625) \n",
      "INFO: g [  257] bf942000 (-1.1572265625) \n",
      "INFO: e [  257] 4089e000 (4.30859375) \n",
      "INFO: g [  258] bfb9e000 (-1.4521484375) \n",
      "INFO: e [  258] 40759000 (3.8369140625) \n",
      "INFO: g [  259] c06aa000 (-3.666015625) \n",
      "INFO: e [  259] 3fd12000 (1.6337890625) \n",
      "INFO: g [  260] c0660000 (-3.59375) \n",
      "INFO: e [  260] 3fdac000 (1.708984375) \n",
      "INFO: g [  261] c0732000 (-3.798828125) \n",
      "INFO: e [  261] 3fd88000 (1.69140625) \n",
      "INFO: g [  262] c0613000 (-3.5185546875) \n",
      "INFO: e [  262] 3ffb4000 (1.962890625) \n",
      "INFO: g [  263] c0768000 (-3.8515625) \n",
      "INFO: e [  263] 3fd46000 (1.6591796875) \n",
      "INFO: g [  264] bfece000 (-1.8505859375) \n",
      "INFO: e [  264] 40728000 (3.7890625) \n",
      "INFO: g [  265] c08e3000 (-4.443359375) \n",
      "INFO: e [  265] 3fdd2000 (1.7275390625) \n",
      "INFO: g [  266] c0784000 (-3.87890625) \n",
      "INFO: e [  266] 3fd74000 (1.681640625) \n",
      "INFO: g [  267] c05e0000 (-3.46875) \n",
      "INFO: e [  267] 3fe66000 (1.7998046875) \n",
      "INFO: g [  268] c006c000 (-2.10546875) \n",
      "INFO: e [  268] 4031e000 (2.779296875) \n",
      "INFO: g [  269] c046e000 (-3.107421875) \n",
      "INFO: e [  269] 3feee000 (1.8662109375) \n",
      "INFO: g [  270] c092a800 (-4.5830078125) \n",
      "INFO: e [  270] 3fc5e000 (1.5458984375) \n",
      "INFO: g [  271] bfdd6000 (-1.7294921875) \n",
      "INFO: e [  271] 40831000 (4.095703125) \n",
      "INFO: g [  272] c050f000 (-3.2646484375) \n",
      "INFO: e [  272] 40403000 (3.0029296875) \n",
      "INFO: g [  273] c06ce000 (-3.701171875) \n",
      "INFO: e [  273] 40111000 (2.2666015625) \n",
      "INFO: g [  274] bfb08000 (-1.37890625) \n",
      "INFO: e [  274] 4090e800 (4.5283203125) \n",
      "INFO: g [  275] bfd66000 (-1.6748046875) \n",
      "INFO: e [  275] 405c3000 (3.4404296875) \n",
      "INFO: g [  276] c056b000 (-3.3544921875) \n",
      "INFO: e [  276] 3fe0c000 (1.755859375) \n",
      "INFO: g [  277] c07ea000 (-3.978515625) \n",
      "INFO: e [  277] 3fcce000 (1.6005859375) \n",
      "INFO: g [  278] bf8bc000 (-1.091796875) \n",
      "INFO: e [  278] 40890000 (4.28125) \n",
      "INFO: g [  279] c0725000 (-3.7861328125) \n",
      "INFO: e [  279] 3fdf4000 (1.744140625) \n",
      "INFO: g [  280] c083b000 (-4.115234375) \n",
      "INFO: e [  280] 3febe000 (1.8427734375) \n",
      "INFO: g [  281] c0972800 (-4.7236328125) \n",
      "INFO: e [  281] 3fc66000 (1.5498046875) \n",
      "INFO: g [  282] bff32000 (-1.8994140625) \n",
      "INFO: e [  282] 4077f000 (3.8740234375) \n",
      "INFO: g [  283] bfcb4000 (-1.587890625) \n",
      "INFO: e [  283] 408ac800 (4.3369140625) \n",
      "INFO: g [  284] c0305000 (-2.7548828125) \n",
      "INFO: e [  284] 40291000 (2.6416015625) \n",
      "INFO: g [  285] bfd82000 (-1.6884765625) \n",
      "INFO: e [  285] 40534000 (3.30078125) \n",
      "INFO: g [  286] bf9a6000 (-1.2060546875) \n",
      "INFO: e [  286] 4074c000 (3.82421875) \n",
      "INFO: g [  287] c0773000 (-3.8623046875) \n",
      "INFO: e [  287] 4009c000 (2.15234375) \n",
      "INFO: g [  288] bf822000 (-1.0166015625) \n",
      "INFO: e [  288] 40880000 (4.25) \n",
      "INFO: g [  289] c04dc000 (-3.21484375) \n",
      "INFO: e [  289] 40187000 (2.3818359375) \n",
      "INFO: g [  290] c0636000 (-3.552734375) \n",
      "INFO: e [  290] 4018f000 (2.3896484375) \n",
      "INFO: g [  291] bfd40000 (-1.65625) \n",
      "INFO: e [  291] 407a0000 (3.90625) \n",
      "INFO: g [  292] bfd36000 (-1.6513671875) \n",
      "INFO: e [  292] 40595000 (3.3955078125) \n",
      "INFO: g [  293] bfbcc000 (-1.474609375) \n",
      "INFO: e [  293] 407a7000 (3.9130859375) \n",
      "INFO: g [  294] c05f9000 (-3.4931640625) \n",
      "INFO: e [  294] 3fe30000 (1.7734375) \n",
      "INFO: g [  295] bf634000 (-0.8876953125) \n",
      "INFO: e [  295] 4089e800 (4.3095703125) \n",
      "INFO: g [  296] c02cd000 (-2.7001953125) \n",
      "INFO: e [  296] 4019c000 (2.40234375) \n",
      "INFO: g [  297] c08f1800 (-4.4716796875) \n",
      "INFO: e [  297] 3fc7e000 (1.5615234375) \n",
      "INFO: g [  298] c0476000 (-3.115234375) \n",
      "INFO: e [  298] 4048d000 (3.1376953125) \n",
      "INFO: g [  299] c0009000 (-2.0087890625) \n",
      "INFO: e [  299] 4042f000 (3.0458984375) \n",
      "INFO: g [  300] c08c9800 (-4.3935546875) \n",
      "INFO: e [  300] 3fcb8000 (1.58984375) \n",
      "INFO: g [  301] c08d0000 (-4.40625) \n",
      "INFO: e [  301] 3fc6a000 (1.5517578125) \n",
      "INFO: g [  302] bfd6e000 (-1.6787109375) \n",
      "INFO: e [  302] 4055c000 (3.33984375) \n",
      "INFO: g [  303] c0852000 (-4.16015625) \n",
      "INFO: e [  303] 3fede000 (1.8583984375) \n",
      "INFO: g [  304] bfa8c000 (-1.318359375) \n",
      "INFO: e [  304] 40967000 (4.701171875) \n",
      "INFO: g [  305] bfbfe000 (-1.4990234375) \n",
      "INFO: e [  305] 40924800 (4.5712890625) \n",
      "INFO: g [  306] c022d000 (-2.5439453125) \n",
      "INFO: e [  306] 4064c000 (3.57421875) \n",
      "INFO: g [  307] bfbaa000 (-1.4580078125) \n",
      "INFO: e [  307] 408f1800 (4.4716796875) \n",
      "INFO: g [  308] c0011000 (-2.0166015625) \n",
      "INFO: e [  308] 40475000 (3.1142578125) \n",
      "INFO: g [  309] bf8ec000 (-1.115234375) \n",
      "INFO: e [  309] 40829000 (4.080078125) \n",
      "INFO: g [  310] bf960000 (-1.171875) \n",
      "INFO: e [  310] 408af000 (4.341796875) \n",
      "INFO: g [  311] c082d800 (-4.0888671875) \n",
      "INFO: e [  311] 3fd14000 (1.634765625) \n",
      "INFO: g [  312] c07ea000 (-3.978515625) \n",
      "INFO: e [  312] 3fc8a000 (1.5673828125) \n",
      "INFO: g [  313] bfbd6000 (-1.4794921875) \n",
      "INFO: e [  313] 40618000 (3.5234375) \n",
      "INFO: g [  314] bfd66000 (-1.6748046875) \n",
      "INFO: e [  314] 40814800 (4.0400390625) \n",
      "INFO: g [  315] c08d8000 (-4.421875) \n",
      "INFO: e [  315] 3ffba000 (1.9658203125) \n",
      "INFO: g [  316] c07c4000 (-3.94140625) \n",
      "INFO: e [  316] 40036000 (2.052734375) \n",
      "INFO: g [  317] c0894000 (-4.2890625) \n",
      "INFO: e [  317] 3fca2000 (1.5791015625) \n",
      "INFO: g [  318] c0117000 (-2.2724609375) \n",
      "INFO: e [  318] 40294000 (2.64453125) \n",
      "INFO: g [  319] bf89a000 (-1.0751953125) \n",
      "INFO: e [  319] 408b2800 (4.3486328125) \n",
      "INFO: g [  320] bfaba000 (-1.3408203125) \n",
      "INFO: e [  320] 4082b000 (4.083984375) \n",
      "INFO: g [  321] c014c000 (-2.32421875) \n",
      "INFO: e [  321] 404ec000 (3.23046875) \n",
      "INFO: g [  322] bffd4000 (-1.978515625) \n",
      "INFO: e [  322] 40830000 (4.09375) \n",
      "INFO: g [  323] c07c0000 (-3.9375) \n",
      "INFO: e [  323] 3ff76000 (1.9326171875) \n",
      "INFO: g [  324] c08b3800 (-4.3505859375) \n",
      "INFO: e [  324] 3fe06000 (1.7529296875) \n",
      "INFO: g [  325] c0714000 (-3.76953125) \n",
      "INFO: e [  325] 400df000 (2.2177734375) \n",
      "INFO: g [  326] c0384000 (-2.87890625) \n",
      "INFO: e [  326] 4003b000 (2.0576171875) \n",
      "INFO: g [  327] c0598000 (-3.3984375) \n",
      "INFO: e [  327] 3fdec000 (1.740234375) \n",
      "INFO: g [  328] c05d3000 (-3.4560546875) \n",
      "INFO: e [  328] 3ffca000 (1.9736328125) \n",
      "INFO: g [  329] c0314000 (-2.76953125) \n",
      "INFO: e [  329] 4009e000 (2.154296875) \n",
      "INFO: g [  330] c0984000 (-4.7578125) \n",
      "INFO: e [  330] 3fbde000 (1.4833984375) \n",
      "INFO: g [  331] bf91c000 (-1.138671875) \n",
      "INFO: e [  331] 40879000 (4.236328125) \n",
      "INFO: g [  332] c0814800 (-4.0400390625) \n",
      "INFO: e [  332] 3ff04000 (1.876953125) \n",
      "INFO: g [  333] bfed0000 (-1.8515625) \n",
      "INFO: e [  333] 407c1000 (3.9384765625) \n",
      "INFO: g [  334] c06b3000 (-3.6748046875) \n",
      "INFO: e [  334] 3fd18000 (1.63671875) \n",
      "INFO: g [  335] bfffc000 (-1.998046875) \n",
      "INFO: e [  335] 4042e000 (3.044921875) \n",
      "INFO: g [  336] c0833000 (-4.099609375) \n",
      "INFO: e [  336] 3fc5c000 (1.544921875) \n",
      "INFO: g [  337] c0387000 (-2.8818359375) \n",
      "INFO: e [  337] 40017000 (2.0224609375) \n",
      "INFO: g [  338] c00da000 (-2.212890625) \n",
      "INFO: e [  338] 404b6000 (3.177734375) \n",
      "INFO: g [  339] c0389000 (-2.8837890625) \n",
      "INFO: e [  339] 402b4000 (2.67578125) \n",
      "INFO: g [  340] c07a5000 (-3.9111328125) \n",
      "INFO: e [  340] 3ff20000 (1.890625) \n",
      "INFO: g [  341] c093b000 (-4.615234375) \n",
      "INFO: e [  341] 3fcca000 (1.5986328125) \n",
      "INFO: g [  342] c08d2000 (-4.41015625) \n",
      "INFO: e [  342] 3fdc2000 (1.7197265625) \n",
      "INFO: g [  343] c082f800 (-4.0927734375) \n",
      "INFO: e [  343] 3fcb6000 (1.5888671875) \n",
      "INFO: g [  344] bfcf6000 (-1.6201171875) \n",
      "INFO: e [  344] 405f3000 (3.4873046875) \n",
      "INFO: g [  345] bf8c6000 (-1.0966796875) \n",
      "INFO: e [  345] 4087d000 (4.244140625) \n",
      "INFO: g [  346] c03c8000 (-2.9453125) \n",
      "INFO: e [  346] 40028000 (2.0390625) \n",
      "INFO: g [  347] bf9e2000 (-1.2353515625) \n",
      "INFO: e [  347] 4075e000 (3.841796875) \n",
      "INFO: g [  348] c07c4000 (-3.94140625) \n",
      "INFO: e [  348] 3fcd2000 (1.6025390625) \n",
      "INFO: g [  349] bf8d4000 (-1.103515625) \n",
      "INFO: e [  349] 40913800 (4.5380859375) \n",
      "INFO: g [  350] bfc46000 (-1.5341796875) \n",
      "INFO: e [  350] 40858000 (4.171875) \n"
     ]
    },
    {
     "name": "stdout",
     "output_type": "stream",
     "text": [
      "INFO: g [  351] c0429000 (-3.0400390625) \n",
      "INFO: e [  351] 4002c000 (2.04296875) \n",
      "INFO: g [  352] bfeda000 (-1.8564453125) \n",
      "INFO: e [  352] 406ec000 (3.73046875) \n",
      "INFO: g [  353] c05f8000 (-3.4921875) \n",
      "INFO: e [  353] 3fd7a000 (1.6845703125) \n",
      "INFO: g [  354] bf9da000 (-1.2314453125) \n",
      "INFO: e [  354] 4072b000 (3.7919921875) \n",
      "INFO: g [  355] c00ac000 (-2.16796875) \n",
      "INFO: e [  355] 40601000 (3.5009765625) \n",
      "INFO: g [  356] c0905800 (-4.5107421875) \n",
      "INFO: e [  356] 3ff58000 (1.91796875) \n",
      "INFO: g [  357] bfeb4000 (-1.837890625) \n",
      "INFO: e [  357] 406b4000 (3.67578125) \n",
      "INFO: g [  358] bfcb0000 (-1.5859375) \n",
      "INFO: e [  358] 40838000 (4.109375) \n",
      "INFO: g [  359] c096e000 (-4.71484375) \n",
      "INFO: e [  359] 3fdb8000 (1.71484375) \n",
      "INFO: g [  360] c03c6000 (-2.943359375) \n",
      "INFO: e [  360] 40173000 (2.3623046875) \n",
      "INFO: g [  361] c0492000 (-3.142578125) \n",
      "INFO: e [  361] 401d0000 (2.453125) \n",
      "INFO: g [  362] c038f000 (-2.8896484375) \n",
      "INFO: e [  362] 4009b000 (2.1513671875) \n",
      "INFO: g [  363] c01bf000 (-2.4365234375) \n",
      "INFO: e [  363] 402f5000 (2.7392578125) \n",
      "INFO: g [  364] c0830800 (-4.0947265625) \n",
      "INFO: e [  364] 3fc62000 (1.5478515625) \n",
      "INFO: g [  365] bfa24000 (-1.267578125) \n",
      "INFO: e [  365] 4072d000 (3.7939453125) \n",
      "INFO: g [  366] bfc2a000 (-1.5205078125) \n",
      "INFO: e [  366] 40921800 (4.5654296875) \n",
      "INFO: g [  367] bfc38000 (-1.52734375) \n",
      "INFO: e [  367] 40895000 (4.291015625) \n",
      "INFO: g [  368] c08de800 (-4.4345703125) \n",
      "INFO: e [  368] 3fde4000 (1.736328125) \n",
      "INFO: g [  369] bffdc000 (-1.982421875) \n",
      "INFO: e [  369] 40605000 (3.5048828125) \n",
      "INFO: g [  370] bf9e2000 (-1.2353515625) \n",
      "INFO: e [  370] 407ee000 (3.982421875) \n",
      "INFO: g [  371] bfdfa000 (-1.7470703125) \n",
      "INFO: e [  371] 406bc000 (3.68359375) \n",
      "INFO: g [  372] bff12000 (-1.8837890625) \n",
      "INFO: e [  372] 40640000 (3.5625) \n",
      "INFO: g [  373] c0396000 (-2.896484375) \n",
      "INFO: e [  373] 4001a000 (2.025390625) \n",
      "INFO: g [  374] c023c000 (-2.55859375) \n",
      "INFO: e [  374] 40406000 (3.005859375) \n",
      "INFO: g [  375] c052a000 (-3.291015625) \n",
      "INFO: e [  375] 40287000 (2.6318359375) \n",
      "INFO: g [  376] bfd48000 (-1.66015625) \n",
      "INFO: e [  376] 407c6000 (3.943359375) \n",
      "INFO: g [  377] c0535000 (-3.3017578125) \n",
      "INFO: e [  377] 3ffbe000 (1.9677734375) \n",
      "INFO: g [  378] c0477000 (-3.1162109375) \n",
      "INFO: e [  378] 40477000 (3.1162109375) \n",
      "INFO: g [  379] c0310000 (-2.765625) \n",
      "INFO: e [  379] 4025d000 (2.5908203125) \n",
      "INFO: g [  380] bfa66000 (-1.2998046875) \n",
      "INFO: e [  380] 40865800 (4.1982421875) \n",
      "INFO: g [  381] bf8f6000 (-1.1201171875) \n",
      "INFO: e [  381] 40911000 (4.533203125) \n",
      "INFO: g [  382] c024c000 (-2.57421875) \n",
      "INFO: e [  382] 4017d000 (2.3720703125) \n",
      "INFO: g [  383] bfe48000 (-1.78515625) \n",
      "INFO: e [  383] 40796000 (3.896484375) \n",
      "INFO: g [  384] bf9b6000 (-1.2138671875) \n",
      "INFO: e [  384] 40916000 (4.54296875) \n",
      "INFO: g [  385] c0161000 (-2.3447265625) \n",
      "INFO: e [  385] 4068f000 (3.6396484375) \n",
      "INFO: g [  386] c0928000 (-4.578125) \n",
      "INFO: e [  386] 3fc64000 (1.548828125) \n",
      "INFO: g [  387] c034a000 (-2.822265625) \n",
      "INFO: e [  387] 4034c000 (2.82421875) \n",
      "INFO: g [  388] c0716000 (-3.771484375) \n",
      "INFO: e [  388] 3fd14000 (1.634765625) \n",
      "INFO: g [  389] bf910000 (-1.1328125) \n",
      "INFO: e [  389] 40816000 (4.04296875) \n",
      "INFO: g [  390] bfc2a000 (-1.5205078125) \n",
      "INFO: e [  390] 4061d000 (3.5283203125) \n",
      "INFO: g [  391] bf780000 (-0.96875) \n",
      "INFO: e [  391] 4085e000 (4.18359375) \n",
      "INFO: g [  392] bfc0e000 (-1.5068359375) \n",
      "INFO: e [  392] 408b9000 (4.361328125) \n",
      "INFO: g [  393] bfc10000 (-1.5078125) \n",
      "INFO: e [  393] 40891000 (4.283203125) \n",
      "INFO: g [  394] bfade000 (-1.3583984375) \n",
      "INFO: e [  394] 4090d800 (4.5263671875) \n",
      "INFO: g [  395] c0034000 (-2.05078125) \n",
      "INFO: e [  395] 4074d000 (3.8251953125) \n",
      "INFO: g [  396] bf77c000 (-0.9677734375) \n",
      "INFO: e [  396] 408aa000 (4.33203125) \n",
      "INFO: g [  397] c00c3000 (-2.1904296875) \n",
      "INFO: e [  397] 403cd000 (2.9501953125) \n",
      "INFO: g [  398] bfac6000 (-1.3466796875) \n",
      "INFO: e [  398] 40741000 (3.8134765625) \n",
      "INFO: g [  399] c0670000 (-3.609375) \n",
      "INFO: e [  399] 40049000 (2.0712890625) \n",
      "INFO: g [  400] bf866000 (-1.0498046875) \n",
      "INFO: e [  400] 40864000 (4.1953125) \n",
      "INFO: g [  401] bf8e6000 (-1.1123046875) \n",
      "INFO: e [  401] 408fe800 (4.4970703125) \n",
      "INFO: g [  402] c082a800 (-4.0830078125) \n",
      "INFO: e [  402] 3ff5a000 (1.9189453125) \n",
      "INFO: g [  403] c084a800 (-4.1455078125) \n",
      "INFO: e [  403] 3fdd2000 (1.7275390625) \n",
      "INFO: g [  404] c02ee000 (-2.732421875) \n",
      "INFO: e [  404] 400fb000 (2.2451171875) \n",
      "INFO: g [  405] bf998000 (-1.19921875) \n",
      "INFO: e [  405] 407fc000 (3.99609375) \n",
      "INFO: g [  406] c0404000 (-3.00390625) \n",
      "INFO: e [  406] 3ffd4000 (1.978515625) \n",
      "INFO: g [  407] c06f0000 (-3.734375) \n",
      "INFO: e [  407] 3fc60000 (1.546875) \n",
      "INFO: g [  408] bfc9e000 (-1.5771484375) \n",
      "INFO: e [  408] 4056a000 (3.353515625) \n",
      "INFO: g [  409] bf7a4000 (-0.9775390625) \n",
      "INFO: e [  409] 40878000 (4.234375) \n",
      "INFO: g [  410] bfc62000 (-1.5478515625) \n",
      "INFO: e [  410] 4088c800 (4.2744140625) \n",
      "INFO: g [  411] c0987000 (-4.763671875) \n",
      "INFO: e [  411] 3fc20000 (1.515625) \n",
      "INFO: g [  412] bfb66000 (-1.4248046875) \n",
      "INFO: e [  412] 408aa800 (4.3330078125) \n",
      "INFO: g [  413] bfbd4000 (-1.478515625) \n",
      "INFO: e [  413] 40923800 (4.5693359375) \n",
      "INFO: g [  414] bfe1c000 (-1.763671875) \n",
      "INFO: e [  414] 404b5000 (3.1767578125) \n",
      "INFO: g [  415] c05eb000 (-3.4794921875) \n",
      "INFO: e [  415] 3fd84000 (1.689453125) \n",
      "INFO: g [  416] bf8fc000 (-1.123046875) \n",
      "INFO: e [  416] 40840000 (4.125) \n",
      "INFO: g [  417] bf952000 (-1.1650390625) \n",
      "INFO: e [  417] 40931800 (4.5966796875) \n",
      "INFO: g [  418] c01f2000 (-2.486328125) \n",
      "INFO: e [  418] 4047a000 (3.119140625) \n",
      "INFO: g [  419] c01c2000 (-2.439453125) \n",
      "INFO: e [  419] 40550000 (3.328125) \n",
      "INFO: g [  420] c0467000 (-3.1005859375) \n",
      "INFO: e [  420] 40482000 (3.126953125) \n",
      "INFO: g [  421] bf986000 (-1.1904296875) \n",
      "INFO: e [  421] 40881800 (4.2529296875) \n",
      "INFO: g [  422] bf76c000 (-0.9638671875) \n",
      "INFO: e [  422] 40890800 (4.2822265625) \n",
      "INFO: g [  423] bfc20000 (-1.515625) \n",
      "INFO: e [  423] 4068a000 (3.634765625) \n",
      "INFO: g [  424] bfd0c000 (-1.630859375) \n",
      "INFO: e [  424] 405eb000 (3.4794921875) \n",
      "INFO: g [  425] bfa96000 (-1.3232421875) \n",
      "INFO: e [  425] 40722000 (3.783203125) \n",
      "INFO: g [  426] c0782000 (-3.876953125) \n",
      "INFO: e [  426] 3fd72000 (1.6806640625) \n",
      "INFO: g [  427] bf8e6000 (-1.1123046875) \n",
      "INFO: e [  427] 408cc000 (4.3984375) \n",
      "INFO: g [  428] c00b3000 (-2.1748046875) \n",
      "INFO: e [  428] 407d9000 (3.9619140625) \n",
      "INFO: g [  429] c0441000 (-3.0634765625) \n",
      "INFO: e [  429] 40334000 (2.80078125) \n",
      "INFO: g [  430] c00f1000 (-2.2353515625) \n",
      "INFO: e [  430] 4039e000 (2.904296875) \n",
      "INFO: g [  431] c086d000 (-4.212890625) \n",
      "INFO: e [  431] 3fc28000 (1.51953125) \n",
      "INFO: g [  432] c05dc000 (-3.46484375) \n",
      "INFO: e [  432] 3fde2000 (1.7353515625) \n",
      "INFO: g [  433] bf8d2000 (-1.1025390625) \n",
      "INFO: e [  433] 408be800 (4.3720703125) \n",
      "INFO: g [  434] bf8ec000 (-1.115234375) \n",
      "INFO: e [  434] 4080c800 (4.0244140625) \n",
      "INFO: g [  435] bfc72000 (-1.5556640625) \n",
      "INFO: e [  435] 408d5800 (4.4169921875) \n",
      "INFO: g [  436] c0051000 (-2.0791015625) \n",
      "INFO: e [  436] 40588000 (3.3828125) \n",
      "INFO: g [  437] c0584000 (-3.37890625) \n",
      "INFO: e [  437] 400a0000 (2.15625) \n",
      "INFO: g [  438] c02fe000 (-2.748046875) \n",
      "INFO: e [  438] 40293000 (2.6435546875) \n",
      "INFO: g [  439] bf8dc000 (-1.107421875) \n",
      "INFO: e [  439] 4083a000 (4.11328125) \n",
      "INFO: g [  440] bf720000 (-0.9453125) \n",
      "INFO: e [  440] 4087e000 (4.24609375) \n",
      "INFO: g [  441] bf608000 (-0.876953125) \n",
      "INFO: e [  441] 408af000 (4.341796875) \n",
      "INFO: g [  442] bfc6a000 (-1.5517578125) \n",
      "INFO: e [  442] 4062c000 (3.54296875) \n",
      "INFO: g [  443] bffe8000 (-1.98828125) \n",
      "INFO: e [  443] 40804800 (4.0087890625) \n",
      "INFO: g [  444] bfd40000 (-1.65625) \n",
      "INFO: e [  444] 407ac000 (3.91796875) \n",
      "INFO: g [  445] c0513000 (-3.2685546875) \n",
      "INFO: e [  445] 403fe000 (2.998046875) \n",
      "INFO: g [  446] bfa78000 (-1.30859375) \n",
      "INFO: e [  446] 4093b000 (4.615234375) \n",
      "INFO: g [  447] bf990000 (-1.1953125) \n",
      "INFO: e [  447] 4084a000 (4.14453125) \n",
      "INFO: g [  448] bfe7c000 (-1.810546875) \n",
      "INFO: e [  448] 406ef000 (3.7333984375) \n",
      "INFO: g [  449] bffba000 (-1.9658203125) \n",
      "INFO: e [  449] 4073a000 (3.806640625) \n",
      "INFO: g [  450] c00fa000 (-2.244140625) \n",
      "INFO: e [  450] 404b6000 (3.177734375) \n",
      "INFO: g [  451] bf828000 (-1.01953125) \n",
      "INFO: e [  451] 4085e800 (4.1845703125) \n",
      "INFO: g [  452] c01d6000 (-2.458984375) \n",
      "INFO: e [  452] 40372000 (2.861328125) \n"
     ]
    },
    {
     "name": "stdout",
     "output_type": "stream",
     "text": [
      "INFO: g [  453] c0209000 (-2.5087890625) \n",
      "INFO: e [  453] 40209000 (2.5087890625) \n",
      "INFO: g [  454] c0886000 (-4.26171875) \n",
      "INFO: e [  454] 3fc4c000 (1.537109375) \n",
      "INFO: g [  455] bfb0a000 (-1.3798828125) \n",
      "INFO: e [  455] 40907000 (4.513671875) \n",
      "INFO: g [  456] c00b3000 (-2.1748046875) \n",
      "INFO: e [  456] 40649000 (3.5712890625) \n",
      "INFO: g [  457] bfef0000 (-1.8671875) \n",
      "INFO: e [  457] 40592000 (3.392578125) \n",
      "INFO: g [  458] c00d1000 (-2.2041015625) \n",
      "INFO: e [  458] 402ae000 (2.669921875) \n",
      "INFO: g [  459] c0644000 (-3.56640625) \n",
      "INFO: e [  459] 4001f000 (2.0302734375) \n",
      "INFO: g [  460] bfec8000 (-1.84765625) \n",
      "INFO: e [  460] 40805000 (4.009765625) \n",
      "INFO: g [  461] bfc02000 (-1.5009765625) \n",
      "INFO: e [  461] 4080d000 (4.025390625) \n",
      "INFO: g [  462] c08b8000 (-4.359375) \n",
      "INFO: e [  462] 3fcb6000 (1.5888671875) \n",
      "INFO: g [  463] c000a000 (-2.009765625) \n",
      "INFO: e [  463] 403bf000 (2.9365234375) \n",
      "INFO: g [  464] c02e8000 (-2.7265625) \n",
      "INFO: e [  464] 400db000 (2.2138671875) \n",
      "INFO: g [  465] c0834000 (-4.1015625) \n",
      "INFO: e [  465] 3fc9a000 (1.5751953125) \n",
      "INFO: g [  466] c08f6000 (-4.48046875) \n",
      "INFO: e [  466] 3fc42000 (1.5322265625) \n",
      "INFO: g [  467] c0972800 (-4.7236328125) \n",
      "INFO: e [  467] 3fd90000 (1.6953125) \n",
      "INFO: g [  468] c0226000 (-2.537109375) \n",
      "INFO: e [  468] 405bf000 (3.4365234375) \n",
      "INFO: g [  469] bfd04000 (-1.626953125) \n",
      "INFO: e [  469] 40622000 (3.533203125) \n",
      "INFO: g [  470] bf9ee000 (-1.2412109375) \n",
      "INFO: e [  470] 40853800 (4.1630859375) \n",
      "INFO: g [  471] c00ef000 (-2.2333984375) \n",
      "INFO: e [  471] 4048f000 (3.1396484375) \n",
      "INFO: g [  472] c061e000 (-3.529296875) \n",
      "INFO: e [  472] 3fdea000 (1.7392578125) \n",
      "INFO: g [  473] bf832000 (-1.0244140625) \n",
      "INFO: e [  473] 4085a000 (4.17578125) \n",
      "INFO: g [  474] c0880000 (-4.25) \n",
      "INFO: e [  474] 3fe00000 (1.75) \n",
      "INFO: g [  475] c0882800 (-4.2548828125) \n",
      "INFO: e [  475] 3fc46000 (1.5341796875) \n",
      "INFO: g [  476] c098d800 (-4.7763671875) \n",
      "INFO: e [  476] 3fc9a000 (1.5751953125) \n",
      "INFO: g [  477] bfac2000 (-1.3447265625) \n",
      "INFO: e [  477] 40956800 (4.6689453125) \n",
      "INFO: g [  478] bf868000 (-1.05078125) \n",
      "INFO: e [  478] 4082b800 (4.0849609375) \n",
      "INFO: g [  479] bfe58000 (-1.79296875) \n",
      "INFO: e [  479] 405e8000 (3.4765625) \n",
      "INFO: g [  480] c04b3000 (-3.1748046875) \n",
      "INFO: e [  480] 3fe80000 (1.8125) \n",
      "INFO: g [  481] bf96a000 (-1.1767578125) \n",
      "INFO: e [  481] 40807000 (4.013671875) \n",
      "INFO: g [  482] c0487000 (-3.1318359375) \n",
      "INFO: e [  482] 40222000 (2.533203125) \n",
      "INFO: g [  483] bfe5c000 (-1.794921875) \n",
      "INFO: e [  483] 4088e000 (4.27734375) \n",
      "INFO: g [  484] bfd30000 (-1.6484375) \n",
      "INFO: e [  484] 40818000 (4.046875) \n",
      "INFO: g [  485] c0984800 (-4.7587890625) \n",
      "INFO: e [  485] 3fc84000 (1.564453125) \n",
      "INFO: g [  486] bfd10000 (-1.6328125) \n",
      "INFO: e [  486] 40680000 (3.625) \n",
      "INFO: g [  487] bfeba000 (-1.8408203125) \n",
      "INFO: e [  487] 408ad000 (4.337890625) \n",
      "INFO: g [  488] bf86e000 (-1.0537109375) \n",
      "INFO: e [  488] 408cc000 (4.3984375) \n",
      "INFO: g [  489] c0601000 (-3.5009765625) \n",
      "INFO: e [  489] 3fdda000 (1.7314453125) \n",
      "INFO: g [  490] c05ea000 (-3.478515625) \n",
      "INFO: e [  490] 3fd9a000 (1.7001953125) \n",
      "INFO: g [  491] bfeac000 (-1.833984375) \n",
      "INFO: e [  491] 40679000 (3.6181640625) \n",
      "INFO: g [  492] c0934000 (-4.6015625) \n",
      "INFO: e [  492] 3fdee000 (1.7412109375) \n",
      "INFO: g [  493] c064e000 (-3.576171875) \n",
      "INFO: e [  493] 40052000 (2.080078125) \n",
      "INFO: g [  494] c07fc000 (-3.99609375) \n",
      "INFO: e [  494] 3fd50000 (1.6640625) \n",
      "INFO: g [  495] c08c6800 (-4.3876953125) \n",
      "INFO: e [  495] 3fc80000 (1.5625) \n",
      "INFO: g [  496] c02b1000 (-2.6728515625) \n",
      "INFO: e [  496] 401a6000 (2.412109375) \n",
      "INFO: g [  497] bf908000 (-1.12890625) \n",
      "INFO: e [  497] 408b3000 (4.349609375) \n",
      "INFO: g [  498] c07d5000 (-3.9580078125) \n",
      "INFO: e [  498] 4004e000 (2.076171875) \n",
      "INFO: g [  499] c0441000 (-3.0634765625) \n",
      "INFO: e [  499] 401ef000 (2.4833984375) \n"
     ]
    }
   ],
   "source": [
    "# Print first half of the buffer (0,n_traces-1) that contains excited predictions\n",
    "# g < e\n",
    "print_classifier_buffer(index_lo=n_traces, index_hi=n_traces+n_traces-1)"
   ]
  },
  {
   "cell_type": "raw",
   "id": "dfe0b7cd",
   "metadata": {},
   "source": [
    "# Show error rate\n",
    "total_errors = errors['g_state'] + errors['e_state']\n",
    "total_traces = trace_count['g_state'] + trace_count['e_state']\n",
    "print('--- Total ---')\n",
    "print('Errors: {}/{}'.format(total_errors, total_traces))\n",
    "print('Error rate  : {:.4}%'.format(100. * total_errors / total_traces))\n",
    "print('Accuracy    : {:.4}%'.format(100. - (100. * total_errors / total_traces)))\n",
    "print('--- Ground state ---')\n",
    "print('Errors: {}/{}'.format(errors['g_state'], trace_count['g_state']))\n",
    "print('Error rate  : {:.4}%'.format(100. * errors['g_state'] / trace_count['g_state']))\n",
    "print('Accuracy    : {:.4}%'.format(100. - (100. * errors['g_state'] / trace_count['g_state'])))\n",
    "print('--- Excited state ---')\n",
    "print('Errors: {}/{}'.format(errors['e_state'], trace_count['e_state']))\n",
    "print('Error rate  : {:.4}%'.format(100. * errors['e_state'] / trace_count['e_state']))\n",
    "print('Accuracy    : {:.4}%'.format(100. - (100. * errors['e_state'] / trace_count['e_state'])))"
   ]
  },
  {
   "cell_type": "raw",
   "id": "9e9f388a",
   "metadata": {},
   "source": [
    "if HAS_NN:\n",
    "    print('|{:6d}|{:6d}|{:6d}|{:6d}|{:3.2f}%|{:3.2f}%|{:6d}|{:6d}|{:3.2f}%|{:3.2f}%|{:6d}|{:6d}|{:3.2f}%|{:3.2f}%|'.format(\n",
    "          WINDOW_SIZE,\n",
    "          WINDOW_OFFSET,\n",
    "          total_errors,\n",
    "          total_traces,\n",
    "          100. * total_errors / total_traces, \n",
    "          100. - (100. * total_errors / total_traces),\n",
    "          errors['g_state'],\n",
    "          trace_count['g_state'],\n",
    "          100. * errors['g_state'] / trace_count['g_state'],\n",
    "          100. - (100. * errors['g_state'] / trace_count['g_state']),\n",
    "          errors['e_state'],\n",
    "          trace_count['e_state'],\n",
    "          100. * errors['e_state'] / trace_count['e_state'],\n",
    "          100. - (100. * errors['e_state'] / trace_count['e_state'])\n",
    "         ))"
   ]
  },
  {
   "cell_type": "markdown",
   "id": "1311290b",
   "metadata": {},
   "source": [
    "| W Size | W Offset | Errors | Traces | Error% | Accuracy% | G Errors | G Traces | G Errors% | G Accuracy% | E Errors | E Traces | E Errors% | E Accuracy% |\n",
    "|--|--|--|--|--|--|--|--|--|--|--|--|--|--|\n",
    "|   100|   150|  1484| 10000|14.84%|**85.16%**|   677|  5000|13.54%|86.46%|   807|  5000|16.14%|83.86%|\n",
    "|   200|   150|   680| 10000|6.80%|**93.20%**|   232|  5000|4.64%|95.36%|   448|  5000|8.96%|91.04%|\n",
    "| 400 | 150 | 433 | 10000 | 4.33% | **95.67%** | 115 | 5000 | 2.30% | 97.70% | 318 | 5000 | 6.36% | 93.64% |"
   ]
  },
  {
   "cell_type": "markdown",
   "id": "d169b776",
   "metadata": {},
   "source": [
    "## Average in python"
   ]
  },
  {
   "cell_type": "raw",
   "id": "be46c92f",
   "metadata": {},
   "source": [
    "N_exp = 200 ### iteration in python\n",
    "\n",
    "data_tensor = np.zeros((N_exp, 2, data_len))\n",
    "\n",
    "for ii in range(N_exp):\n",
    "    #### load real qubit readout data\n",
    "    data_len = len(g_data[:,0,:].mean(axis = 0))\n",
    "    print(f'readout data length = {data_len} clock cycle')\n",
    "\n",
    "    ### we need to resample the data based on DAC freq\n",
    "    t_ns = data_len*1000/307.2\n",
    "    dac_len = int((t_ns/1000*6881.28)//16*16)\n",
    "\n",
    "    g_I_load = g_data[:,0,:].mean(axis = 0)\n",
    "    g_Q_load = g_data[:,1,:].mean(axis = 0)\n",
    "    e_I_load = e_data[:,0,:].mean(axis = 0)\n",
    "    e_Q_load = e_data[:,1,:].mean(axis = 0)\n",
    "    \n",
    "    \n",
    "    ### noise parameter\n",
    "    add_noise = True\n",
    "    noise_scale = 400\n",
    "\n",
    "    if add_noise == True:\n",
    "        g_I_add_noise = g_I_load + np.random.normal(0, noise_scale, size = g_I_load.shape[0])\n",
    "        g_Q_add_noise = g_Q_load + np.random.normal(0, noise_scale, size = g_Q_load.shape[0])\n",
    "        e_I_add_noise = e_I_load + np.random.normal(0, noise_scale, size = e_I_load.shape[0])\n",
    "        e_Q_add_noise = e_Q_load + np.random.normal(0, noise_scale, size = e_Q_load.shape[0])\n",
    "        \n",
    "    xp = np.linspace(1,data_len,data_len)\n",
    "    x = np.linspace(1,data_len,dac_len)\n",
    "    \n",
    "    ###################\n",
    "    ##   interp wf   ##\n",
    "    ###################\n",
    "    \n",
    "    g_I = np.interp(x, xp, g_I_load)\n",
    "    g_Q = np.interp(x, xp, g_Q_load)\n",
    "    e_I = np.interp(x, xp, e_I_load)\n",
    "    e_Q = np.interp(x, xp, e_Q_load)\n",
    "\n",
    "    if add_noise == True:\n",
    "        g_I = np.interp(x, xp, g_I_add_noise)\n",
    "        g_Q = np.interp(x, xp, g_Q_add_noise)\n",
    "        e_I = np.interp(x, xp, e_I_add_noise)\n",
    "        e_Q = np.interp(x, xp, e_Q_add_noise)\n",
    "        \n",
    "    ##########################\n",
    "    ##   loopback porgram   ##\n",
    "    ##########################\n",
    "        \n",
    "    DAC_gain = 1 ### tune this parameter to match the ADC level with the training data\n",
    "\n",
    "    class LoopbackProgram(AveragerProgram):\n",
    "        def initialize(self):\n",
    "            cfg=self.cfg   \n",
    "            res_ch = cfg[\"res_ch\"]\n",
    "\n",
    "            # set the nyquist zone\n",
    "            self.declare_gen(ch=cfg[\"res_ch\"], nqz=1)\n",
    "\n",
    "            # configure the readout lengths and downconversion frequencies (ensuring it is an available DAC frequency)\n",
    "            for ch in cfg[\"ro_chs\"]:\n",
    "                self.declare_readout(ch=ch, length=self.cfg[\"readout_length\"],\n",
    "                                     freq=self.cfg[\"pulse_freq\"], gen_ch=cfg[\"res_ch\"])\n",
    "\n",
    "            # convert frequency to DAC frequency (ensuring it is an available ADC frequency)\n",
    "            freq = self.freq2reg(cfg[\"pulse_freq\"],gen_ch=res_ch, ro_ch=cfg[\"ro_chs\"][0])\n",
    "            phase = self.deg2reg(cfg[\"res_phase\"], gen_ch=res_ch)\n",
    "            gain = cfg[\"pulse_gain\"]\n",
    "            self.default_pulse_registers(ch=res_ch, freq=freq, phase=phase, gain=gain)\n",
    "\n",
    "            style=self.cfg[\"pulse_style\"]\n",
    "\n",
    "\n",
    "            ########################\n",
    "            ### add g/e waveform ###\n",
    "            ########################\n",
    "    #         self.add_pulse(ch=cfg[\"res_ch\"], name = 'g_state', idata = DAC_gain*g_I, qdata = DAC_gain*g_Q)\n",
    "    #         self.add_pulse(ch=cfg[\"res_ch\"], name = 'e_state', idata = DAC_gain*e_I, qdata = DAC_gain*e_Q)\n",
    "            self.add_pulse(ch=cfg[\"res_ch\"], name = 'g_state', idata = DAC_gain*g_Q, qdata = DAC_gain*g_I)\n",
    "            self.add_pulse(ch=cfg[\"res_ch\"], name = 'e_state', idata = DAC_gain*e_Q, qdata = DAC_gain*e_I)\n",
    "\n",
    "            if style in [\"flat_top\",\"arb\"]:\n",
    "                sigma = cfg[\"sigma\"]\n",
    "                self.add_gauss(ch=res_ch, name=\"measure\", sigma=sigma, length=sigma*5)\n",
    "\n",
    "            if style == \"const\":\n",
    "                self.set_pulse_registers(ch=res_ch, style=style, length=cfg[\"length\"])\n",
    "            elif style == \"flat_top\":\n",
    "                # The first half of the waveform ramps up the pulse, the second half ramps down the pulse\n",
    "                self.set_pulse_registers(ch=res_ch, style=style, waveform=\"measure\", length=cfg[\"length\"])\n",
    "            elif style == \"arb\":\n",
    "                self.set_pulse_registers(ch=res_ch, style=style, waveform=\"measure\")\n",
    "\n",
    "            ########################\n",
    "            ### add g/e waveform ###\n",
    "            ########################   \n",
    "            elif style == \"g_state\":\n",
    "                self.set_pulse_registers(ch=res_ch, style=\"arb\", waveform=\"g_state\")\n",
    "            elif style == \"e_state\":\n",
    "                self.set_pulse_registers(ch=res_ch, style=\"arb\", waveform=\"e_state\")\n",
    "\n",
    "\n",
    "            self.synci(200)  # give processor some time to configure pulses\n",
    "\n",
    "        def body(self):\n",
    "            # fire the pulse\n",
    "            # trigger all declared ADCs\n",
    "            # pulse PMOD0_0 for a scope trigger\n",
    "            # pause the tProc until readout is done\n",
    "            # increment the time counter to give some time before the next measurement\n",
    "            # (the syncdelay also lets the tProc get back ahead of the clock)\n",
    "            self.measure(pulse_ch=self.cfg[\"res_ch\"], \n",
    "                         adcs=self.ro_chs,\n",
    "                         pins=[0], \n",
    "                         adc_trig_offset=self.cfg[\"adc_trig_offset\"],\n",
    "                         wait=True,\n",
    "                         syncdelay=self.us2cycles(self.cfg[\"relax_delay\"]))\n",
    "        \n",
    "    ##########################\n",
    "    ##   expt config        ##\n",
    "    ##########################            \n",
    "    DAC_phase = -90\n",
    "    readout_phase = phase_cal + DAC_phase\n",
    "\n",
    "    config={\"res_ch\":6, # --Fixed\n",
    "            \"ro_chs\":[0], # --Fixed\n",
    "            \"reps\":1, # --Fixed\n",
    "            \"relax_delay\":1.0, # --us\n",
    "            \"res_phase\": readout_phase, # updated readout phase\n",
    "            \"pulse_style\": \"e_state\", # --Fixed,\"const\"; \"g_state\"; \"e_state\"; \"arb\"\n",
    "\n",
    "            \"sigma\": 30, # [Clock ticks]\n",
    "\n",
    "            \"length\": 100, # [Clock ticks]\n",
    "            # Try varying length from 10-100 clock ticks\n",
    "\n",
    "            \"readout_length\":data_len, # [Clock ticks]\n",
    "            # Try varying readout_length from 50-1000 clock ticks\n",
    "\n",
    "            \"pulse_gain\": 30000, # [DAC units]\n",
    "            # Try varying pulse_gain from 500 to 30000 DAC units\n",
    "\n",
    "            \"pulse_freq\": 100, # [MHz]\n",
    "            # In this program the signal is up and downconverted digitally so you won't see any frequency\n",
    "            # components in the I/Q traces below. But since the signal gain depends on frequency, \n",
    "            # if you lower pulse_freq you will see an increased gain.\n",
    "\n",
    "            \"adc_trig_offset\": 190, # [Clock ticks]\n",
    "            # Try varying adc_trig_offset from 100 to 220 clock ticks\n",
    "\n",
    "            \"soft_avgs\":1\n",
    "            # Try varying soft_avgs from 1 to 200 averages\n",
    "\n",
    "           }\n",
    "\n",
    "    ###################\n",
    "    # Try it yourself !\n",
    "    ###################\n",
    "\n",
    "    prog =LoopbackProgram(soccfg, config)\n",
    "    iq_list = prog.acquire_decimated(soc, load_pulses=True, progress=True)#, debug=False)\n",
    "    data_tensor[ii] = iq_list[0]\n"
   ]
  },
  {
   "cell_type": "raw",
   "id": "4ac2d18e",
   "metadata": {},
   "source": [
    "ADC_fake_gain = 27 ### tune this parameter to match the ADC level with the training data\n",
    "\n",
    "\n",
    "plt.plot(data_tensor[:,0,:].mean(axis = 0)*ADC_fake_gain, markersize=0.5, color = 'C0' , label=\"I value\")\n",
    "plt.plot(data_tensor[:,1,:].mean(axis = 0)*ADC_fake_gain, markersize=0.5, color = 'C1' ,label=\"Q value\")\n",
    "\n",
    "plt.plot(xp, e_I_load, markersize=1.5, color = 'grey', label = 'load - e-I', alpha = 0.5)\n",
    "plt.plot(xp, e_Q_load, markersize=1.5, color = 'grey', label = 'load - e-Q', alpha = 0.5)\n",
    "\n",
    "\n",
    "plt.ylabel(\"a.u.\")\n",
    "plt.xlabel(\"Clock ticks\")\n",
    "plt.title(\"Python Averages = \" + str(N_exp))\n",
    "plt.legend()"
   ]
  }
 ],
 "metadata": {
  "kernelspec": {
   "display_name": "Python 3",
   "language": "python",
   "name": "python3"
  },
  "language_info": {
   "codemirror_mode": {
    "name": "ipython",
    "version": 3
   },
   "file_extension": ".py",
   "mimetype": "text/x-python",
   "name": "python",
   "nbconvert_exporter": "python",
   "pygments_lexer": "ipython3",
   "version": "3.8.2"
  },
  "toc": {
   "base_numbering": 1,
   "nav_menu": {},
   "number_sections": true,
   "sideBar": true,
   "skip_h1_title": false,
   "title_cell": "Table of Contents",
   "title_sidebar": "Contents",
   "toc_cell": false,
   "toc_position": {
    "height": "calc(100% - 180px)",
    "left": "10px",
    "top": "150px",
    "width": "374.391px"
   },
   "toc_section_display": true,
   "toc_window_display": true
  }
 },
 "nbformat": 4,
 "nbformat_minor": 5
}
