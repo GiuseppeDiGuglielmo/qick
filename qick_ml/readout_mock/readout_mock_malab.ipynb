{
 "cells": [
  {
   "cell_type": "markdown",
   "id": "1272a92e",
   "metadata": {},
   "source": [
    "# Overview\n",
    "\n",
    "- Load .bit file\n",
    "- Basic loopback program calibration\n",
    "    - original code from demo\n",
    "    - time of flight cal\n",
    "    - readout phase cal\n",
    "    \n",
    "- Load real qubit readout data (old data from ZCU111)\n",
    "    \n",
    "- Readout mock - averaged signal (as an example)\n",
    "- Readout mock - singel-shot signal\n",
    "    - single-shot with tunable guassian noise\n",
    "    - iterate the single-shot experiment in python loop"
   ]
  },
  {
   "cell_type": "markdown",
   "id": "de327454",
   "metadata": {},
   "source": [
    "# Load .bit file"
   ]
  },
  {
   "cell_type": "code",
   "execution_count": 1,
   "id": "26d33183",
   "metadata": {},
   "outputs": [
    {
     "data": {
      "application/javascript": [
       "\n",
       "try {\n",
       "require(['notebook/js/codecell'], function(codecell) {\n",
       "  codecell.CodeCell.options_default.highlight_modes[\n",
       "      'magic_text/x-csrc'] = {'reg':[/^%%microblaze/]};\n",
       "  Jupyter.notebook.events.one('kernel_ready.Kernel', function(){\n",
       "      Jupyter.notebook.get_cells().map(function(cell){\n",
       "          if (cell.cell_type == 'code'){ cell.auto_highlight(); } }) ;\n",
       "  });\n",
       "});\n",
       "} catch (e) {};\n"
      ]
     },
     "metadata": {},
     "output_type": "display_data"
    },
    {
     "data": {
      "application/javascript": [
       "\n",
       "try {\n",
       "require(['notebook/js/codecell'], function(codecell) {\n",
       "  codecell.CodeCell.options_default.highlight_modes[\n",
       "      'magic_text/x-csrc'] = {'reg':[/^%%pybind11/]};\n",
       "  Jupyter.notebook.events.one('kernel_ready.Kernel', function(){\n",
       "      Jupyter.notebook.get_cells().map(function(cell){\n",
       "          if (cell.cell_type == 'code'){ cell.auto_highlight(); } }) ;\n",
       "  });\n",
       "});\n",
       "} catch (e) {};\n"
      ]
     },
     "metadata": {},
     "output_type": "display_data"
    },
    {
     "name": "stdout",
     "output_type": "stream",
     "text": [
      "Populating the interactive namespace from numpy and matplotlib\n"
     ]
    }
   ],
   "source": [
    "# Import the QICK drivers and auxiliary libraries\n",
    "from qick import *\n",
    "%pylab inline"
   ]
  },
  {
   "cell_type": "code",
   "execution_count": 2,
   "id": "b887f4f7",
   "metadata": {},
   "outputs": [],
   "source": [
    "# Choose custom bistreams\n",
    "HAS_NN = 0\n",
    "\n",
    "# QICK\n",
    "# CUSTOM_BIT = '../216/qick_216_orig.bit'\n",
    "\n",
    "# QICK + NN + ILAs + syn/imp optimizations\n",
    "#CUSTOM_BIT = '../216/qick_216_ila.bit'\n",
    "#HAS_NN = 1\n",
    "\n",
    "# QICK + NN + ILAs + syn/imp optimizations\n",
    "CUSTOM_BIT = '../216/qick_216.bit'\n",
    "HAS_NN = 1"
   ]
  },
  {
   "cell_type": "code",
   "execution_count": 3,
   "id": "697ea0c8",
   "metadata": {},
   "outputs": [
    {
     "name": "stdout",
     "output_type": "stream",
     "text": [
      "Custom bitsream: /home/xilinx/jupyter_notebooks/qick/qick_ml/216/qick_216.bit\n",
      "\n",
      "QICK configuration:\n",
      "\n",
      "\tBoard: ZCU216\n",
      "\n",
      "\tSoftware version: 0.2.211\n",
      "\tFirmware timestamp: Sun Mar 10 22:03:44 2024\n",
      "\n",
      "\tGlobal clocks (MHz): tProcessor 430.080, RF reference 245.760\n",
      "\n",
      "\t7 signal generator channels:\n",
      "\t0:\taxis_signal_gen_v6 - envelope memory 65536 samples (9.524 us)\n",
      "\t\tfs=6881.280 MHz, fabric=430.080 MHz, 32-bit DDS, range=6881.280 MHz\n",
      "\t\tDAC tile 2, blk 0 is 0_230, on JHC3\n",
      "\t1:\taxis_signal_gen_v6 - envelope memory 65536 samples (9.524 us)\n",
      "\t\tfs=6881.280 MHz, fabric=430.080 MHz, 32-bit DDS, range=6881.280 MHz\n",
      "\t\tDAC tile 2, blk 1 is 1_230, on JHC4\n",
      "\t2:\taxis_signal_gen_v6 - envelope memory 65536 samples (9.524 us)\n",
      "\t\tfs=6881.280 MHz, fabric=430.080 MHz, 32-bit DDS, range=6881.280 MHz\n",
      "\t\tDAC tile 2, blk 2 is 2_230, on JHC3\n",
      "\t3:\taxis_signal_gen_v6 - envelope memory 65536 samples (9.524 us)\n",
      "\t\tfs=6881.280 MHz, fabric=430.080 MHz, 32-bit DDS, range=6881.280 MHz\n",
      "\t\tDAC tile 2, blk 3 is 3_230, on JHC4\n",
      "\t4:\taxis_signal_gen_v6 - envelope memory 65536 samples (9.524 us)\n",
      "\t\tfs=6881.280 MHz, fabric=430.080 MHz, 32-bit DDS, range=6881.280 MHz\n",
      "\t\tDAC tile 3, blk 0 is 0_231, on JHC3\n",
      "\t5:\taxis_signal_gen_v6 - envelope memory 65536 samples (9.524 us)\n",
      "\t\tfs=6881.280 MHz, fabric=430.080 MHz, 32-bit DDS, range=6881.280 MHz\n",
      "\t\tDAC tile 3, blk 1 is 1_231, on JHC4\n",
      "\t6:\taxis_signal_gen_v6 - envelope memory 65536 samples (9.524 us)\n",
      "\t\tfs=6881.280 MHz, fabric=430.080 MHz, 32-bit DDS, range=6881.280 MHz\n",
      "\t\tDAC tile 3, blk 2 is 2_231, on JHC3\n",
      "\n",
      "\t2 readout channels:\n",
      "\t0:\taxis_readout_v2 - controlled by PYNQ\n",
      "\t\tfs=2457.600 MHz, fabric=307.200 MHz, 32-bit DDS, range=2457.600 MHz\n",
      "\t\tmaxlen 16384 accumulated, 1024 decimated (3.333 us)\n",
      "\t\ttriggered by output 0, pin 14, feedback to tProc input 0\n",
      "\t\tADC tile 2, blk 0 is 0_226, on JHC7\n",
      "\t1:\taxis_readout_v2 - controlled by PYNQ\n",
      "\t\tfs=2457.600 MHz, fabric=307.200 MHz, 32-bit DDS, range=2457.600 MHz\n",
      "\t\tmaxlen 16384 accumulated, 1024 decimated (3.333 us)\n",
      "\t\ttriggered by output 0, pin 15, feedback to tProc input 1\n",
      "\t\tADC tile 2, blk 2 is 2_226, on JHC7\n",
      "\n",
      "\t8 digital output pins:\n",
      "\t0:\tPMOD0_0_LS\n",
      "\t1:\tPMOD0_1_LS\n",
      "\t2:\tPMOD0_2_LS\n",
      "\t3:\tPMOD0_3_LS\n",
      "\t4:\tPMOD0_4_LS\n",
      "\t5:\tPMOD0_5_LS\n",
      "\t6:\tPMOD0_6_LS\n",
      "\t7:\tPMOD0_7_LS\n",
      "\n",
      "\ttProc axis_tproc64x32_x8: program memory 8192 words, data memory 4096 words\n",
      "\t\texternal start pin: PMOD1_0_LS\n",
      "\n",
      "\tDDR4 memory buffer: 1073741824 samples (3.495 sec), 128 samples/transfer\n",
      "\t\twired to readouts [0, 1]\n",
      "\n",
      "\tMR buffer: 8192 samples (3.333 us), wired to readouts [0, 1]\n"
     ]
    }
   ],
   "source": [
    "# Load bitstream with custom overlay\n",
    "if not 'CUSTOM_BIT' in locals():\n",
    "    soc = QickSoc()\n",
    "else:\n",
    "    import os\n",
    "    # Normalize path\n",
    "    CUSTOM_BIT_FULL_PATH = os.path.normpath(os.getcwd() + '/' + CUSTOM_BIT)\n",
    "    print('Custom bitsream:', CUSTOM_BIT_FULL_PATH)\n",
    "    \n",
    "    soc = QickSoc(bitfile=CUSTOM_BIT_FULL_PATH)\n",
    "\n",
    "soccfg = soc\n",
    "print(soccfg)"
   ]
  },
  {
   "cell_type": "code",
   "execution_count": 4,
   "id": "1cecf071",
   "metadata": {},
   "outputs": [],
   "source": [
    "## Load bitstream with custom overlay\n",
    "#soc = QickSoc()\n",
    "## soc = QickSoc(\"qick_216_0821.bit\")\n",
    "## Since we're running locally on the QICK, we don't need a separate QickConfig object.\n",
    "## If running remotely, you could generate a QickConfig from the QickSoc:\n",
    "##     soccfg = QickConfig(soc.get_cfg())\n",
    "## or save the config to file, and load it later:\n",
    "##     with open(\"qick_config.json\", \"w\") as f:\n",
    "##         f.write(soc.dump_cfg())\n",
    "##     soccfg = QickConfig(\"qick_config.json\")\n",
    "#soccfg = soc\n",
    "#print(soccfg)"
   ]
  },
  {
   "cell_type": "code",
   "execution_count": 5,
   "id": "088f75a8",
   "metadata": {},
   "outputs": [
    {
     "name": "stdout",
     "output_type": "stream",
     "text": [
      "Loaded bitstream: /home/xilinx/jupyter_notebooks/qick/qick_ml/216/qick_216.bit\n"
     ]
    }
   ],
   "source": [
    "print('Loaded bitstream:', soccfg.bitfile_name)"
   ]
  },
  {
   "cell_type": "markdown",
   "id": "0382b91f",
   "metadata": {},
   "source": [
    "# Basic loopback program calibration"
   ]
  },
  {
   "cell_type": "markdown",
   "id": "3c56254c",
   "metadata": {},
   "source": [
    "## original code from demo\n",
    "\n",
    "- generator channel 6 : <-> Readout channel 0"
   ]
  },
  {
   "cell_type": "code",
   "execution_count": 6,
   "id": "5ba0f0ff",
   "metadata": {},
   "outputs": [],
   "source": [
    "class LoopbackProgram(AveragerProgram):\n",
    "    def initialize(self):\n",
    "        cfg=self.cfg   \n",
    "        res_ch = cfg[\"res_ch\"]\n",
    "\n",
    "        # set the nyquist zone\n",
    "        self.declare_gen(ch=cfg[\"res_ch\"], nqz=1)\n",
    "        \n",
    "        # configure the readout lengths and downconversion frequencies (ensuring it is an available DAC frequency)\n",
    "        for ch in cfg[\"ro_chs\"]:\n",
    "            self.declare_readout(ch=ch, length=self.cfg[\"readout_length\"],\n",
    "                                 freq=self.cfg[\"pulse_freq\"], gen_ch=cfg[\"res_ch\"])\n",
    "\n",
    "        # convert frequency to DAC frequency (ensuring it is an available ADC frequency)\n",
    "        freq = self.freq2reg(cfg[\"pulse_freq\"],gen_ch=res_ch, ro_ch=cfg[\"ro_chs\"][0])\n",
    "        phase = self.deg2reg(cfg[\"res_phase\"], gen_ch=res_ch)\n",
    "        gain = cfg[\"pulse_gain\"]\n",
    "        self.default_pulse_registers(ch=res_ch, freq=freq, phase=phase, gain=gain)\n",
    "\n",
    "        style=self.cfg[\"pulse_style\"]\n",
    "\n",
    "        if style in [\"flat_top\",\"arb\"]:\n",
    "            sigma = cfg[\"sigma\"]\n",
    "            self.add_gauss(ch=res_ch, name=\"measure\", sigma=sigma, length=sigma*5)\n",
    "            \n",
    "        if style == \"const\":\n",
    "            self.set_pulse_registers(ch=res_ch, style=style, length=cfg[\"length\"])\n",
    "        elif style == \"flat_top\":\n",
    "            # The first half of the waveform ramps up the pulse, the second half ramps down the pulse\n",
    "            self.set_pulse_registers(ch=res_ch, style=style, waveform=\"measure\", length=cfg[\"length\"])\n",
    "        elif style == \"arb\":\n",
    "            self.set_pulse_registers(ch=res_ch, style=style, waveform=\"measure\")\n",
    "        \n",
    "        self.synci(200)  # give processor some time to configure pulses\n",
    "    \n",
    "    def body(self):\n",
    "        # fire the pulse\n",
    "        # trigger all declared ADCs\n",
    "        # pulse PMOD0_0 for a scope trigger\n",
    "        # pause the tProc until readout is done\n",
    "        # increment the time counter to give some time before the next measurement\n",
    "        # (the syncdelay also lets the tProc get back ahead of the clock)\n",
    "        self.measure(pulse_ch=self.cfg[\"res_ch\"], \n",
    "                     adcs=self.ro_chs,\n",
    "                     pins=[0], \n",
    "                     adc_trig_offset=self.cfg[\"adc_trig_offset\"],\n",
    "                     wait=True,\n",
    "                     syncdelay=self.us2cycles(self.cfg[\"relax_delay\"]))"
   ]
  },
  {
   "cell_type": "code",
   "execution_count": 7,
   "id": "1b3ae991",
   "metadata": {},
   "outputs": [],
   "source": [
    "config={\"res_ch\":6, # --Fixed\n",
    "        \"ro_chs\":[0], # --Fixed\n",
    "        \"reps\":1, # --Fixed\n",
    "        \"relax_delay\":1.0, # --us\n",
    "        \"res_phase\":0, # --degrees\n",
    "        \"pulse_style\": \"const\", # --Fixed\n",
    "        \n",
    "        \"length\":20, # [Clock ticks]\n",
    "        # Try varying length from 10-100 clock ticks\n",
    "        \n",
    "        \"readout_length\": 770, #100, # [Clock ticks]\n",
    "        # Try varying readout_length from 50-1000 clock ticks\n",
    "\n",
    "        \"pulse_gain\":3000, # [DAC units]\n",
    "        # Try varying pulse_gain from 500 to 30000 DAC units\n",
    "\n",
    "        \"pulse_freq\": 100, # [MHz]\n",
    "        # In this program the signal is up and downconverted digitally so you won't see any frequency\n",
    "        # components in the I/Q traces below. But since the signal gain depends on frequency, \n",
    "        # if you lower pulse_freq you will see an increased gain.\n",
    "\n",
    "        \"adc_trig_offset\": 100, # [Clock ticks]\n",
    "        # Try varying adc_trig_offset from 100 to 220 clock ticks\n",
    "\n",
    "        \"soft_avgs\": 1 #100\n",
    "        # Try varying soft_avgs from 1 to 200 averages\n",
    "\n",
    "       }\n",
    "\n",
    "###################\n",
    "# Try it yourself !\n",
    "###################"
   ]
  },
  {
   "cell_type": "code",
   "execution_count": 8,
   "id": "e42da42f",
   "metadata": {},
   "outputs": [
    {
     "data": {
      "application/vnd.jupyter.widget-view+json": {
       "model_id": "5e1b7951315e4b8a8f45009e6b079295",
       "version_major": 2,
       "version_minor": 0
      },
      "text/plain": [
       "  0%|          | 0/1 [00:00<?, ?it/s]"
      ]
     },
     "metadata": {},
     "output_type": "display_data"
    }
   ],
   "source": [
    "prog = LoopbackProgram(soccfg, config)\n",
    "iq_list = prog.acquire_decimated(soc, load_pulses=True, progress=True)#, debug=False)"
   ]
  },
  {
   "cell_type": "code",
   "execution_count": 9,
   "id": "6de3e373",
   "metadata": {},
   "outputs": [
    {
     "data": {
      "image/png": "[encoded data removed]",
      "text/plain": [
       "<Figure size 432x288 with 1 Axes>"
      ]
     },
     "metadata": {
      "needs_background": "light"
     },
     "output_type": "display_data"
    }
   ],
   "source": [
    "# Plot results.\n",
    "plt.figure(1)\n",
    "for ii, iq in enumerate(iq_list):\n",
    "    plt.plot(iq[0], label=\"I value, ADC %d\"%(config['ro_chs'][ii]))\n",
    "    plt.plot(iq[1], label=\"Q value, ADC %d\"%(config['ro_chs'][ii]))\n",
    "    plt.plot(np.abs(iq[0]+1j*iq[1]), label=\"mag, ADC %d\"%(config['ro_chs'][ii]))\n",
    "plt.ylabel(\"a.u.\")\n",
    "plt.xlabel(\"Clock ticks\")\n",
    "plt.title(\"Averages = \" + str(config[\"soft_avgs\"]))\n",
    "_ = plt.legend()\n",
    "# plt.savefig(\"images/Send_recieve_pulse_const.pdf\", dpi=350)"
   ]
  },
  {
   "cell_type": "code",
   "execution_count": 10,
   "id": "3cec4f2b",
   "metadata": {},
   "outputs": [
    {
     "name": "stdout",
     "output_type": "stream",
     "text": [
      "[[[-2.  2.  1. ... -1. -1.  1.]\n",
      "  [-2. -2. -1. ...  1. -3.  0.]]]\n"
     ]
    }
   ],
   "source": [
    "print(iq_list)"
   ]
  },
  {
   "cell_type": "markdown",
   "id": "5c1d6b75",
   "metadata": {},
   "source": [
    "## Time of flight (tof) calibration"
   ]
  },
  {
   "cell_type": "markdown",
   "id": "dda363b0",
   "metadata": {},
   "source": [
    "Find the mis-alignment between the DAC and ADC readout window for previous experiment"
   ]
  },
  {
   "cell_type": "code",
   "execution_count": 11,
   "id": "6f19eca9",
   "metadata": {},
   "outputs": [
    {
     "data": {
      "text/plain": [
       "<matplotlib.legend.Legend at 0xffff64b73d90>"
      ]
     },
     "execution_count": 11,
     "metadata": {},
     "output_type": "execute_result"
    },
    {
     "data": {
      "image/png": "[encoded data removed]",
      "text/plain": [
       "<Figure size 432x288 with 1 Axes>"
      ]
     },
     "metadata": {
      "needs_background": "light"
     },
     "output_type": "display_data"
    }
   ],
   "source": [
    "# Plot results.\n",
    "plt.figure(1)\n",
    "for ii, iq in enumerate(iq_list):\n",
    "    plt.plot(iq[0], label=\"I value, ADC %d\"%(config['ro_chs'][ii]))\n",
    "    plt.plot(iq[1], label=\"Q value, ADC %d\"%(config['ro_chs'][ii]))\n",
    "    plt.plot(np.abs(iq[0]+1j*iq[1]), label=\"mag, ADC %d\"%(config['ro_chs'][ii]))\n",
    "plt.ylabel(\"a.u.\")\n",
    "plt.xlabel(\"Clock ticks\")\n",
    "plt.title(\"Averages = \" + str(config[\"soft_avgs\"]))\n",
    "\n",
    "###########################################################\n",
    "### using this 'cursor' to find the additional adc_trig_offset\n",
    "axvline(64, ls = '--', color = 'grey', label = 'additional adc_trig_offset')\n",
    "###########################################################\n",
    "\n",
    "plt.legend()"
   ]
  },
  {
   "cell_type": "markdown",
   "id": "afe0a972",
   "metadata": {},
   "source": [
    "Adjust the `adc_trig_offset` in the `config` dict\n",
    "\n",
    "- The DAC and ADC has different fabric freq\n",
    "    - DAC: fabric=430.080 MHz\n",
    "    - ADC: fabric=307.200 MHz\n",
    "- the readout plot data is sampled at ADC fabric freq, but the adc_trig_offset is used in DAC fabric freq\n",
    "    - so we need to convert the measured delay into input delay:\n",
    "    - input delay = meausured delay * DAC fabric freq/ADC fabric freq //1"
   ]
  },
  {
   "cell_type": "code",
   "execution_count": 12,
   "id": "1a084812",
   "metadata": {},
   "outputs": [
    {
     "data": {
      "text/plain": [
       "89.6"
      ]
     },
     "execution_count": 12,
     "metadata": {},
     "output_type": "execute_result"
    }
   ],
   "source": [
    "64*430.080/307.2"
   ]
  },
  {
   "cell_type": "markdown",
   "id": "3ea175da",
   "metadata": {},
   "source": [
    "Now, the time of flight is calibrated"
   ]
  },
  {
   "cell_type": "code",
   "execution_count": 13,
   "id": "7a0ef783",
   "metadata": {
    "scrolled": false
   },
   "outputs": [
    {
     "data": {
      "application/vnd.jupyter.widget-view+json": {
       "model_id": "d61a713e855a4eb5adf698375215610f",
       "version_major": 2,
       "version_minor": 0
      },
      "text/plain": [
       "  0%|          | 0/1 [00:00<?, ?it/s]"
      ]
     },
     "metadata": {},
     "output_type": "display_data"
    },
    {
     "data": {
      "text/plain": [
       "<matplotlib.legend.Legend at 0xffff646a1490>"
      ]
     },
     "execution_count": 13,
     "metadata": {},
     "output_type": "execute_result"
    },
    {
     "data": {
      "image/png": "[encoded data removed]",
      "text/plain": [
       "<Figure size 432x288 with 1 Axes>"
      ]
     },
     "metadata": {
      "needs_background": "light"
     },
     "output_type": "display_data"
    }
   ],
   "source": [
    "config={\"res_ch\":6, # --Fixed\n",
    "        \"ro_chs\":[0], # --Fixed\n",
    "        \"reps\":1, # --Fixed\n",
    "        \"relax_delay\":1.0, # --us\n",
    "        \"res_phase\":0, # --degrees\n",
    "        \"pulse_style\": \"const\", # --Fixed\n",
    "        \n",
    "        \"length\":20, # [Clock ticks]\n",
    "        # Try varying length from 10-100 clock ticks\n",
    "        \n",
    "        \"readout_length\": 770, #100, # [Clock ticks]\n",
    "        # Try varying readout_length from 50-1000 clock ticks\n",
    "\n",
    "        \"pulse_gain\":3000, # [DAC units]\n",
    "        # Try varying pulse_gain from 500 to 30000 DAC units\n",
    "\n",
    "        \"pulse_freq\": 100, # [MHz]\n",
    "        # In this program the signal is up and downconverted digitally so you won't see any frequency\n",
    "        # components in the I/Q traces below. But since the signal gain depends on frequency, \n",
    "        # if you lower pulse_freq you will see an increased gain.\n",
    "\n",
    "        ###########################################################\n",
    "        ## pervious was 100\n",
    "        \"adc_trig_offset\": 190, # [Clock ticks]\n",
    "        # Try varying adc_trig_offset from 100 to 220 clock ticks\n",
    "        ###########################################################\n",
    "\n",
    "        \"soft_avgs\": 1, #100\n",
    "        # Try varying soft_avgs from 1 to 200 averages\n",
    "\n",
    "       }\n",
    "\n",
    "###################\n",
    "# Try it yourself !\n",
    "###################\n",
    "\n",
    "prog =LoopbackProgram(soccfg, config)\n",
    "iq_list = prog.acquire_decimated(soc, load_pulses=True, progress=True)#, debug=False)\n",
    "\n",
    "\n",
    "###################\n",
    "# plot the result\n",
    "###################\n",
    "\n",
    "# Plot results.\n",
    "plt.figure(1)\n",
    "for ii, iq in enumerate(iq_list):\n",
    "    plt.plot(iq[0], label=\"I value, ADC %d\"%(config['ro_chs'][ii]))\n",
    "    plt.plot(iq[1], label=\"Q value, ADC %d\"%(config['ro_chs'][ii]))\n",
    "    plt.plot(np.abs(iq[0]+1j*iq[1]), label=\"mag, ADC %d\"%(config['ro_chs'][ii]))\n",
    "plt.ylabel(\"a.u.\")\n",
    "plt.xlabel(\"Clock ticks\")\n",
    "plt.title(\"Averages = \" + str(config[\"soft_avgs\"]))\n",
    "\n",
    "axvline(63, ls = '--', color = 'grey', label = 'additional adc_trig_offset') ### using this 'cursor' to find the additional adc_trig_offset\n",
    "plt.legend()"
   ]
  },
  {
   "cell_type": "markdown",
   "id": "ea9f0e8e",
   "metadata": {},
   "source": [
    "## Readout phase calibration\n",
    "- code from qick_demos/05_PhaseCoherence_QickProgram.ipynb\n",
    "- remeber to update the `adc_trig_offset` in the `config` file"
   ]
  },
  {
   "cell_type": "code",
   "execution_count": 14,
   "id": "1a7e6347",
   "metadata": {},
   "outputs": [],
   "source": [
    "class LoopbackProgram(AveragerProgram):\n",
    "    def initialize(self):\n",
    "        cfg=self.cfg   \n",
    "\n",
    "        # set the nyquist zone\n",
    "        self.declare_gen(ch=cfg[\"res_ch\"], nqz=1)\n",
    "\n",
    "        self.r_rp=self.ch_page(self.cfg[\"res_ch\"])     # get register page for res_ch\n",
    "        self.r_gain=self.sreg(cfg[\"res_ch\"], \"gain\")   #Get gain register for res_ch\n",
    "        \n",
    "        #configure the readout lengths and downconversion frequencies\n",
    "        self.declare_readout(ch=cfg[\"ro_ch\"], length=self.cfg[\"readout_length\"],\n",
    "                             freq=self.cfg[\"pulse_freq\"], gen_ch=cfg[\"res_ch\"])\n",
    "        \n",
    "        freq=self.freq2reg(cfg[\"pulse_freq\"], gen_ch=cfg[\"res_ch\"], ro_ch=cfg[\"ro_ch\"])  # convert frequency to dac frequency (ensuring it is an available adc frequency)\n",
    "        self.set_pulse_registers(ch=cfg[\"res_ch\"], style=\"const\", freq=freq, phase=0, gain=cfg[\"pulse_gain\"], \n",
    "                                 length=cfg[\"length\"])\n",
    "        \n",
    "        self.synci(200)  # give processor some time to configure pulses\n",
    "    \n",
    "    def body(self):\n",
    "        self.measure(pulse_ch=self.cfg[\"res_ch\"], \n",
    "             adcs=[self.cfg[\"ro_ch\"]],\n",
    "             adc_trig_offset=self.cfg[\"adc_trig_offset\"],\n",
    "             t=0,\n",
    "             wait=True,\n",
    "             syncdelay=self.us2cycles(self.cfg[\"relax_delay\"]))"
   ]
  },
  {
   "cell_type": "markdown",
   "id": "b87ed981",
   "metadata": {},
   "source": [
    "### First, sanity check that we can see the pulse we want to calibrate"
   ]
  },
  {
   "cell_type": "code",
   "execution_count": 15,
   "id": "a8fbc9b2",
   "metadata": {},
   "outputs": [],
   "source": [
    "config={\"res_ch\":6, # --Fixed\n",
    "        \"ro_ch\":0, # --Fixed\n",
    "        \"relax_delay\":1.0, # --Fixed\n",
    "        \"res_phase\":0, # --Fixed\n",
    "        \"length\":400, # [Clock ticks] \n",
    "        \"readout_length\":770, #200, # [Clock ticks]\n",
    "        \"pulse_gain\":10000, # [DAC units]\n",
    "        \"pulse_freq\": 100, # [MHz]\n",
    "        \"adc_trig_offset\": 190, # [Clock ticks]\n",
    "        \"reps\":1, \n",
    "        \"soft_avgs\":1,\n",
    "       }\n",
    "\n",
    "prog = LoopbackProgram(soccfg, config)\n",
    "(iq0,) = prog.acquire_decimated(soc,progress=False)"
   ]
  },
  {
   "cell_type": "code",
   "execution_count": 16,
   "id": "22bc98cd",
   "metadata": {},
   "outputs": [
    {
     "data": {
      "text/plain": [
       "<matplotlib.legend.Legend at 0xffff647498b0>"
      ]
     },
     "execution_count": 16,
     "metadata": {},
     "output_type": "execute_result"
    },
    {
     "data": {
      "image/png": "[encoded data removed]",
      "text/plain": [
       "<Figure size 432x288 with 1 Axes>"
      ]
     },
     "metadata": {
      "needs_background": "light"
     },
     "output_type": "display_data"
    }
   ],
   "source": [
    "# Plot results.\n",
    "plt.figure(1)\n",
    "plt.plot(iq0[0], label=\"I value; ADC 0\")\n",
    "plt.plot(iq0[1], label=\"Q value; ADC 0\")\n",
    "plt.ylabel(\"a.u.\")\n",
    "plt.xlabel(\"Clock ticks\")\n",
    "plt.title(\"Averages = \" + str(config[\"soft_avgs\"]))\n",
    "plt.legend()"
   ]
  },
  {
   "cell_type": "markdown",
   "id": "964c9522",
   "metadata": {},
   "source": [
    "### Params 3 (We zoom in on the frequency area of interest and then print out the associated phase of interest)"
   ]
  },
  {
   "cell_type": "code",
   "execution_count": 17,
   "id": "2778bbb0",
   "metadata": {},
   "outputs": [
    {
     "data": {
      "text/plain": [
       "array([ 99.998   ,  99.998125,  99.99825 ,  99.998375,  99.9985  ,\n",
       "        99.998625,  99.99875 ,  99.998875,  99.999   ,  99.999125,\n",
       "        99.99925 ,  99.999375,  99.9995  ,  99.999625,  99.99975 ,\n",
       "        99.999875, 100.      , 100.000125, 100.00025 , 100.000375,\n",
       "       100.0005  , 100.000625, 100.00075 , 100.000875, 100.001   ,\n",
       "       100.001125, 100.00125 , 100.001375, 100.0015  , 100.001625,\n",
       "       100.00175 , 100.001875])"
      ]
     },
     "execution_count": 17,
     "metadata": {},
     "output_type": "execute_result"
    }
   ],
   "source": [
    "config={\"res_ch\":6, # --Fixed\n",
    "        \"ro_ch\":0, # --Fixed\n",
    "        \"relax_delay\":1.0, # --Fixed\n",
    "        \"res_phase\":0, # --Fixed\n",
    "        \"length\":400, # [Clock ticks] \n",
    "        \"readout_length\":770, #200, # [Clock ticks]\n",
    "        \"pulse_gain\":10000, # [DAC units]\n",
    "        \"pulse_freq\": 100, # [MHz]\n",
    "        \"adc_trig_offset\": 190, # [Clock ticks]\n",
    "        \"reps\":1, \n",
    "        \"soft_avgs\":1,\n",
    "       }\n",
    "\n",
    "\n",
    "freq_readout = config[\"pulse_freq\"]\n",
    "freq_start = freq_readout - 0.002 ##[MHz]\n",
    "freq_step = 0.000125  ##[MHz]\n",
    "expts = 32\n",
    "\n",
    "sweep_cfg={\"start\":freq_start, \"step\":freq_step, \"expts\":expts}\n",
    "\n",
    "gpts=sweep_cfg[\"start\"] + sweep_cfg[\"step\"]*np.arange(sweep_cfg[\"expts\"])\n",
    "gpts"
   ]
  },
  {
   "cell_type": "code",
   "execution_count": 18,
   "id": "7d8e75da",
   "metadata": {},
   "outputs": [],
   "source": [
    "resultsi=[]\n",
    "resultsq=[]\n",
    "for g in gpts:\n",
    "    time.sleep(0.1)\n",
    "    config[\"pulse_freq\"]=g\n",
    "    prog =LoopbackProgram(soccfg, config)\n",
    "    (iq0,) = prog.acquire_decimated(soc,progress=False)\n",
    "    di0 = np.sum(iq0[0])/config[\"readout_length\"]\n",
    "    dq0 = np.sum(iq0[1])/config[\"readout_length\"]\n",
    "    resultsi.append(di0)\n",
    "    resultsq.append(dq0)\n",
    "resultsi=np.array(resultsi)\n",
    "resultsq=np.array(resultsq)"
   ]
  },
  {
   "cell_type": "code",
   "execution_count": 19,
   "id": "fff30e9f",
   "metadata": {},
   "outputs": [
    {
     "name": "stdout",
     "output_type": "stream",
     "text": [
      "Iteration i = 0, freq_i = 99.998000 MHz, phi_i = 231.405564 degrees\n",
      "Iteration i = 1, freq_i = 99.998125 MHz, phi_i = 238.901049 degrees\n",
      "Iteration i = 2, freq_i = 99.998250 MHz, phi_i = 245.857250 degrees\n",
      "Iteration i = 3, freq_i = 99.998375 MHz, phi_i = 253.326366 degrees\n",
      "Iteration i = 4, freq_i = 99.998500 MHz, phi_i = 260.351333 degrees\n",
      "Iteration i = 5, freq_i = 99.998625 MHz, phi_i = 267.809117 degrees\n",
      "Iteration i = 6, freq_i = 99.998750 MHz, phi_i = 275.249307 degrees\n",
      "Iteration i = 7, freq_i = 99.998875 MHz, phi_i = 282.254986 degrees\n",
      "Iteration i = 8, freq_i = 99.999000 MHz, phi_i = 289.710760 degrees\n",
      "Iteration i = 9, freq_i = 99.999125 MHz, phi_i = 296.734927 degrees\n",
      "Iteration i = 10, freq_i = 99.999250 MHz, phi_i = 304.195259 degrees\n",
      "Iteration i = 11, freq_i = 99.999375 MHz, phi_i = 311.668750 degrees\n",
      "Iteration i = 12, freq_i = 99.999500 MHz, phi_i = 318.643637 degrees\n",
      "Iteration i = 13, freq_i = 99.999625 MHz, phi_i = 326.103882 degrees\n",
      "Iteration i = 14, freq_i = 99.999750 MHz, phi_i = 333.092804 degrees\n",
      "Iteration i = 15, freq_i = 99.999875 MHz, phi_i = 340.563363 degrees\n",
      "Iteration i = 16, freq_i = 100.000000 MHz, phi_i = 348.022429 degrees\n",
      "Iteration i = 17, freq_i = 100.000125 MHz, phi_i = 355.006577 degrees\n",
      "Iteration i = 18, freq_i = 100.000250 MHz, phi_i = 2.474515 degrees\n",
      "Iteration i = 19, freq_i = 100.000375 MHz, phi_i = 9.505053 degrees\n",
      "Iteration i = 20, freq_i = 100.000500 MHz, phi_i = 16.941501 degrees\n",
      "Iteration i = 21, freq_i = 100.000625 MHz, phi_i = 24.401713 degrees\n",
      "Iteration i = 22, freq_i = 100.000750 MHz, phi_i = 31.411184 degrees\n",
      "Iteration i = 23, freq_i = 100.000875 MHz, phi_i = 38.868643 degrees\n",
      "Iteration i = 24, freq_i = 100.001000 MHz, phi_i = 45.869796 degrees\n",
      "Iteration i = 25, freq_i = 100.001125 MHz, phi_i = 53.316187 degrees\n",
      "Iteration i = 26, freq_i = 100.001250 MHz, phi_i = 60.777383 degrees\n",
      "Iteration i = 27, freq_i = 100.001375 MHz, phi_i = 67.782040 degrees\n",
      "Iteration i = 28, freq_i = 100.001500 MHz, phi_i = 75.244855 degrees\n",
      "Iteration i = 29, freq_i = 100.001625 MHz, phi_i = 82.268323 degrees\n",
      "Iteration i = 30, freq_i = 100.001750 MHz, phi_i = 89.703581 degrees\n",
      "Iteration i = 31, freq_i = 100.001875 MHz, phi_i = 97.157758 degrees\n"
     ]
    },
    {
     "data": {
      "text/plain": [
       "<matplotlib.legend.Legend at 0xffff6457e100>"
      ]
     },
     "execution_count": 19,
     "metadata": {},
     "output_type": "execute_result"
    },
    {
     "data": {
      "image/png": "[encoded data removed]",
      "text/plain": [
       "<Figure size 432x288 with 1 Axes>"
      ]
     },
     "metadata": {
      "needs_background": "light"
     },
     "output_type": "display_data"
    }
   ],
   "source": [
    "# Plot results.\n",
    "sig = resultsi + 1j * resultsq\n",
    "amp_array = np.abs(sig)\n",
    "phase_array = np.angle(sig,deg=True)\n",
    "for x in range(0,len(phase_array)):\n",
    "    if phase_array[x] <0:\n",
    "        phase_array[x] = phase_array[x] +360\n",
    "    print(\"Iteration i = %d, freq_i = %f MHz, phi_i = %f degrees\" %(x,gpts[x], phase_array[x]))\n",
    "plt.figure(1)\n",
    "# plt.plot(gpts, resultsi,label=\"I value; ADC 0\")\n",
    "# plt.plot(gpts, resultsq,label=\"Q value; ADC 0\")\n",
    "# plt.plot(gpts, amp_array,label=\"Amplitude (DAC units); ADC 0\")\n",
    "plt.plot(gpts, phase_array, label=\"Phase (degrees); ADC 0\")\n",
    "plt.plot(gpts,phase_array, marker='.', linestyle=\"None\",color=\"Red\")\n",
    "plt.xticks(rotation=90)\n",
    "plt.title(r\"$\\phi$ vs $f$\")\n",
    "plt.ylabel(r\"$\\phi$ (degrees)\")\n",
    "plt.xlabel(r\"$f$ (MHz)\")\n",
    "plt.legend()\n",
    "# plt.savefig(\"images/Phase_sweep.pdf\", dpi=350)"
   ]
  },
  {
   "cell_type": "code",
   "execution_count": 20,
   "id": "08293953",
   "metadata": {},
   "outputs": [
    {
     "name": "stdout",
     "output_type": "stream",
     "text": [
      "At 100 MHz, Phase = 348.0224286815789 degree\n"
     ]
    },
    {
     "data": {
      "text/plain": [
       "<matplotlib.legend.Legend at 0xffff644a1430>"
      ]
     },
     "execution_count": 20,
     "metadata": {},
     "output_type": "execute_result"
    },
    {
     "data": {
      "image/png": "[encoded data removed]",
      "text/plain": [
       "<Figure size 432x288 with 1 Axes>"
      ]
     },
     "metadata": {
      "needs_background": "light"
     },
     "output_type": "display_data"
    }
   ],
   "source": [
    "target_freq = freq_readout ### put the actual readout freq here\n",
    "\n",
    "freq_index = np.where(gpts == target_freq)[0][0]\n",
    "phase_cal = phase_array[freq_index]\n",
    "\n",
    "print(f'At {target_freq} MHz, Phase = {phase_cal} degree')\n",
    "\n",
    "plt.axvline(gpts[freq_index], ls = '--', color = 'grey')\n",
    "plt.axhline(phase_array[freq_index], ls = '--', color = 'grey')\n",
    "\n",
    "\n",
    "plt.plot(gpts, phase_array, label=\"Phase (degrees); ADC 0\")\n",
    "plt.plot(gpts,phase_array, marker='.', linestyle=\"None\",color=\"Red\")\n",
    "plt.xticks(rotation=90)\n",
    "plt.title(r\"$\\phi$ vs $f$\")\n",
    "plt.ylabel(r\"$\\phi$ (degrees)\")\n",
    "plt.xlabel(r\"$f$ (MHz)\")\n",
    "plt.legend()"
   ]
  },
  {
   "cell_type": "markdown",
   "id": "f9c00a35",
   "metadata": {},
   "source": [
    "### re-run the loopback program with compensate phase\n",
    "- Now the signal is only on I component"
   ]
  },
  {
   "cell_type": "code",
   "execution_count": 21,
   "id": "e04d0eb1",
   "metadata": {},
   "outputs": [],
   "source": [
    "class LoopbackProgram(AveragerProgram):\n",
    "    def initialize(self):\n",
    "        cfg=self.cfg   \n",
    "        res_ch = cfg[\"res_ch\"]\n",
    "\n",
    "        # set the nyquist zone\n",
    "        self.declare_gen(ch=cfg[\"res_ch\"], nqz=1)\n",
    "        \n",
    "        # configure the readout lengths and downconversion frequencies (ensuring it is an available DAC frequency)\n",
    "        for ch in cfg[\"ro_chs\"]:\n",
    "            self.declare_readout(ch=ch, length=self.cfg[\"readout_length\"],\n",
    "                                 freq=self.cfg[\"pulse_freq\"], gen_ch=cfg[\"res_ch\"])\n",
    "\n",
    "        # convert frequency to DAC frequency (ensuring it is an available ADC frequency)\n",
    "        freq = self.freq2reg(cfg[\"pulse_freq\"],gen_ch=res_ch, ro_ch=cfg[\"ro_chs\"][0])\n",
    "        phase = self.deg2reg(cfg[\"res_phase\"], gen_ch=res_ch)\n",
    "        gain = cfg[\"pulse_gain\"]\n",
    "        self.default_pulse_registers(ch=res_ch, freq=freq, phase=phase, gain=gain)\n",
    "\n",
    "        style=self.cfg[\"pulse_style\"]\n",
    "\n",
    "        if style in [\"flat_top\",\"arb\"]:\n",
    "            sigma = cfg[\"sigma\"]\n",
    "            self.add_gauss(ch=res_ch, name=\"measure\", sigma=sigma, length=sigma*5)\n",
    "            \n",
    "        if style == \"const\":\n",
    "            self.set_pulse_registers(ch=res_ch, style=style, length=cfg[\"length\"])\n",
    "        elif style == \"flat_top\":\n",
    "            # The first half of the waveform ramps up the pulse, the second half ramps down the pulse\n",
    "            self.set_pulse_registers(ch=res_ch, style=style, waveform=\"measure\", length=cfg[\"length\"])\n",
    "        elif style == \"arb\":\n",
    "            self.set_pulse_registers(ch=res_ch, style=style, waveform=\"measure\")\n",
    "        \n",
    "        self.synci(200)  # give processor some time to configure pulses\n",
    "    \n",
    "    def body(self):\n",
    "        # fire the pulse\n",
    "        # trigger all declared ADCs\n",
    "        # pulse PMOD0_0 for a scope trigger\n",
    "        # pause the tProc until readout is done\n",
    "        # increment the time counter to give some time before the next measurement\n",
    "        # (the syncdelay also lets the tProc get back ahead of the clock)\n",
    "        self.measure(pulse_ch=self.cfg[\"res_ch\"], \n",
    "                     adcs=self.ro_chs,\n",
    "                     pins=[0], \n",
    "                     adc_trig_offset=self.cfg[\"adc_trig_offset\"],\n",
    "                     wait=True,\n",
    "                     syncdelay=self.us2cycles(self.cfg[\"relax_delay\"]))"
   ]
  },
  {
   "cell_type": "code",
   "execution_count": 22,
   "id": "8890155e",
   "metadata": {},
   "outputs": [
    {
     "data": {
      "application/vnd.jupyter.widget-view+json": {
       "model_id": "bb29d89d3e95405689550b72bd79a8f7",
       "version_major": 2,
       "version_minor": 0
      },
      "text/plain": [
       "  0%|          | 0/1 [00:00<?, ?it/s]"
      ]
     },
     "metadata": {},
     "output_type": "display_data"
    }
   ],
   "source": [
    "config={\"res_ch\":6, # --Fixed\n",
    "        \"ro_chs\":[0], # --Fixed\n",
    "        \"reps\":1, # --Fixed\n",
    "        \"relax_delay\":1.0, # --us\n",
    "        \"res_phase\": phase_cal, # updated readout phase\n",
    "        \"pulse_style\": \"const\", # --Fixed\n",
    "        \n",
    "        \"length\":20, # [Clock ticks]\n",
    "        # Try varying length from 10-100 clock ticks\n",
    "        \n",
    "        \"readout_length\":770, #100, # [Clock ticks]\n",
    "        # Try varying readout_length from 50-1000 clock ticks\n",
    "\n",
    "        \"pulse_gain\":3000, # [DAC units]\n",
    "        # Try varying pulse_gain from 500 to 30000 DAC units\n",
    "\n",
    "        \"pulse_freq\": 100, # [MHz]\n",
    "        # In this program the signal is up and downconverted digitally so you won't see any frequency\n",
    "        # components in the I/Q traces below. But since the signal gain depends on frequency, \n",
    "        # if you lower pulse_freq you will see an increased gain.\n",
    "\n",
    "        \"adc_trig_offset\": 190, # [Clock ticks]\n",
    "        # Try varying adc_trig_offset from 100 to 220 clock ticks\n",
    "\n",
    "        \"soft_avgs\": 1 #100\n",
    "        # Try varying soft_avgs from 1 to 200 averages\n",
    "\n",
    "       }\n",
    "\n",
    "###################\n",
    "# Try it yourself !\n",
    "###################\n",
    "\n",
    "prog =LoopbackProgram(soccfg, config)\n",
    "iq_list = prog.acquire_decimated(soc, load_pulses=True, progress=True)#, debug=False)"
   ]
  },
  {
   "cell_type": "code",
   "execution_count": 23,
   "id": "01fbc821",
   "metadata": {},
   "outputs": [
    {
     "data": {
      "text/plain": [
       "<matplotlib.legend.Legend at 0xffff644b9160>"
      ]
     },
     "execution_count": 23,
     "metadata": {},
     "output_type": "execute_result"
    },
    {
     "data": {
      "image/png": "[encoded data removed]",
      "text/plain": [
       "<Figure size 432x288 with 1 Axes>"
      ]
     },
     "metadata": {
      "needs_background": "light"
     },
     "output_type": "display_data"
    }
   ],
   "source": [
    "# Plot results.\n",
    "plt.figure(1)\n",
    "for ii, iq in enumerate(iq_list):\n",
    "    plt.plot(iq[0], label=\"I value, ADC %d\"%(config['ro_chs'][ii]))\n",
    "    plt.plot(iq[1], label=\"Q value, ADC %d\"%(config['ro_chs'][ii]))\n",
    "    plt.plot(np.abs(iq[0]+1j*iq[1]), label=\"mag, ADC %d\"%(config['ro_chs'][ii]))\n",
    "plt.ylabel(\"a.u.\")\n",
    "plt.xlabel(\"Clock ticks\")\n",
    "plt.title(\"Averages = \" + str(config[\"soft_avgs\"]))\n",
    "plt.legend()\n",
    "# plt.savefig(\"images/Send_recieve_pulse_const.pdf\", dpi=350)"
   ]
  },
  {
   "cell_type": "markdown",
   "id": "84d96c8f",
   "metadata": {},
   "source": [
    "# Load real qubit readout data (old data from ZCU111)\n",
    "\n",
    "\n",
    "g_data[p1,p2,p3] for ground state readout\n",
    "\n",
    "e_data[p1,p2,p3] for excited state readout\n",
    "- p1: index for shot\n",
    "- p2: index for I/Q\n",
    "- p3: index for time, step of clock cycle = 2.6ns"
   ]
  },
  {
   "cell_type": "code",
   "execution_count": 24,
   "id": "76c19c3e",
   "metadata": {},
   "outputs": [],
   "source": [
    "with open('readout_data.npy', 'rb') as f:\n",
    "    g_data = np.load(f)\n",
    "    e_data = np.load(f)"
   ]
  },
  {
   "cell_type": "code",
   "execution_count": 25,
   "id": "1675bded",
   "metadata": {},
   "outputs": [
    {
     "data": {
      "text/plain": [
       "<matplotlib.legend.Legend at 0xffff600a09a0>"
      ]
     },
     "execution_count": 25,
     "metadata": {},
     "output_type": "execute_result"
    },
    {
     "data": {
      "image/png": "[encoded data removed]",
      "text/plain": [
       "<Figure size 432x288 with 1 Axes>"
      ]
     },
     "metadata": {
      "needs_background": "light"
     },
     "output_type": "display_data"
    }
   ],
   "source": [
    "# avargaed trace\n",
    "plt.plot(g_data[:,1,:].mean(axis = 0), label = 'g_Q', color = 'b')\n",
    "plt.plot(g_data[:,0,:].mean(axis = 0), label = 'g_I', color = 'b', ls = '--')\n",
    "\n",
    "plt.plot(e_data[:,1,:].mean(axis = 0), label = 'e_Q', color = 'r')\n",
    "plt.plot(e_data[:,0,:].mean(axis = 0), label = 'e_I', color = 'r', ls = '--')\n",
    "\n",
    "plt.ylabel('ADC unit')\n",
    "plt.xlabel('Time [clock cycle] ')\n",
    "plt.legend()"
   ]
  },
  {
   "cell_type": "code",
   "execution_count": 26,
   "id": "c3fe7a90",
   "metadata": {},
   "outputs": [
    {
     "data": {
      "image/png": "[encoded data removed]",
      "text/plain": [
       "<Figure size 432x288 with 1 Axes>"
      ]
     },
     "metadata": {
      "needs_background": "light"
     },
     "output_type": "display_data"
    },
    {
     "data": {
      "image/png": "[encoded data removed]",
      "text/plain": [
       "<Figure size 432x288 with 1 Axes>"
      ]
     },
     "metadata": {
      "needs_background": "light"
     },
     "output_type": "display_data"
    },
    {
     "name": "stdout",
     "output_type": "stream",
     "text": [
      "max fidelity =  0.9148000000000001\n",
      "\n",
      " rough estimation of n_th\n"
     ]
    },
    {
     "data": {
      "text/plain": [
       "1.74"
      ]
     },
     "execution_count": 26,
     "metadata": {},
     "output_type": "execute_result"
    }
   ],
   "source": [
    "# IQ plot\n",
    "I_g = g_data[:,0,:].mean(axis = 1)\n",
    "Q_g = g_data[:,1,:].mean(axis = 1)\n",
    "\n",
    "I_e = e_data[:,0,:].mean(axis = 1)\n",
    "Q_e = e_data[:,1,:].mean(axis = 1)\n",
    "\n",
    "plt.title('IQ Plot')\n",
    "plt.plot(I_g, Q_g, '.',label = 'g',markersize = 5)\n",
    "plt.plot(I_e, Q_e, '.',label = 'e',markersize = 5)\n",
    "plt.xlabel('I')\n",
    "plt.ylabel('Q')\n",
    "plt.legend()\n",
    "plt.axis('square')\n",
    "plt.show()\n",
    "\n",
    "vec_I = mean(I_e) - mean(I_g)\n",
    "vec_Q = mean(Q_e) - mean(Q_g)\n",
    "\n",
    "gstate = (I_g - mean(I_g))*vec_I + (Q_g - mean(Q_g))*vec_Q\n",
    "estate = (I_e - mean(I_g))*vec_I + (Q_e - mean(Q_g))*vec_Q\n",
    "gstate = gstate / abs(vec_I+1j*vec_Q)**2\n",
    "estate = estate / abs(vec_I+1j*vec_Q)**2\n",
    "plt.hist(gstate,bins = 100,label = 'g',alpha = 0.5)\n",
    "plt.hist(estate,bins = 100,label = 'e',alpha = 0.5)\n",
    "plt.legend()\n",
    "plt.show()\n",
    "\n",
    "th_min = min(gstate)\n",
    "th_max = max(estate)\n",
    "th_list = np.linspace(th_min,th_max,1000)\n",
    "\n",
    "fidelity = [(sum(gstate<th)+sum(estate>th))/np.shape(gstate)[0]/2 for i,th in enumerate(th_list)]\n",
    "print('max fidelity = ',max(fidelity)*2-1)\n",
    "\n",
    "print('\\n rough estimation of n_th')\n",
    "100*sum(gstate>th_list[argmax(fidelity)])/len(gstate)"
   ]
  },
  {
   "cell_type": "code",
   "execution_count": 27,
   "id": "3e09610c",
   "metadata": {},
   "outputs": [
    {
     "data": {
      "text/plain": [
       "<matplotlib.legend.Legend at 0xffff5fdaefa0>"
      ]
     },
     "execution_count": 27,
     "metadata": {},
     "output_type": "execute_result"
    },
    {
     "data": {
      "image/png": "[encoded data removed]",
      "text/plain": [
       "<Figure size 432x288 with 1 Axes>"
      ]
     },
     "metadata": {
      "needs_background": "light"
     },
     "output_type": "display_data"
    }
   ],
   "source": [
    "# signal shot\n",
    "shot_index = 0\n",
    "\n",
    "plt.plot(g_data[shot_index,1,:], color = 'grey')\n",
    "plt.plot(g_data[shot_index,0,:], color = 'grey', ls = '--')\n",
    "\n",
    "plt.plot(e_data[shot_index,1,:], color = 'grey')\n",
    "plt.plot(e_data[shot_index,0,:], color = 'grey', ls = '--')\n",
    "\n",
    "plt.plot(g_data[:,1,:].mean(axis = 0), label = 'g_Q', color = 'b')\n",
    "plt.plot(g_data[:,0,:].mean(axis = 0), label = 'g_I', color = 'b', ls = '--')\n",
    "\n",
    "plt.plot(e_data[:,1,:].mean(axis = 0), label = 'e_Q', color = 'r')\n",
    "plt.plot(e_data[:,0,:].mean(axis = 0), label = 'e_I', color = 'r', ls = '--')\n",
    "\n",
    "plt.ylabel('ADC unit')\n",
    "plt.xlabel('Time [clock cycle] ')\n",
    "plt.legend()\n",
    "# xlim(0,100)"
   ]
  },
  {
   "cell_type": "markdown",
   "id": "6f65da19",
   "metadata": {},
   "source": [
    "# readout mock - averaged signal (as an example)"
   ]
  },
  {
   "cell_type": "markdown",
   "id": "116eae36",
   "metadata": {},
   "source": [
    "- to get the wf for DAC, we need to resample the data due to \n",
    "    - the frequency on ADC and DAC are different\n",
    "    - the wf need to sample in dds frequency\n",
    "\n",
    "            DAC tile 3, blk 2, 32-bit DDS, fabric=430.080 MHz, f_dds=6881.280 MHz\n",
    "            ADC tile 2, blk 0, 32-bit DDS, fabric=307.200 MHz, fs=2457.600 MHz"
   ]
  },
  {
   "cell_type": "code",
   "execution_count": 28,
   "id": "5a97c7d4",
   "metadata": {},
   "outputs": [
    {
     "name": "stdout",
     "output_type": "stream",
     "text": [
      "real readout data length = 770 clock cycle\n"
     ]
    },
    {
     "data": {
      "image/png": "[encoded data removed]",
      "text/plain": [
       "<Figure size 432x288 with 1 Axes>"
      ]
     },
     "metadata": {
      "needs_background": "light"
     },
     "output_type": "display_data"
    }
   ],
   "source": [
    "#### load real qubit readout data\n",
    "data_len = len(g_data[:,0,:].mean(axis = 0))\n",
    "print(f'real readout data length = {data_len} clock cycle')\n",
    "\n",
    "\n",
    "### we need to resample the data based on DAC freq\n",
    "t_ns = data_len*1000/307.2\n",
    "dac_len = int((t_ns/1000*6881.28)//16*16)\n",
    "\n",
    "g_I_load = g_data[:,0,:].mean(axis = 0)\n",
    "g_Q_load = g_data[:,1,:].mean(axis = 0)\n",
    "e_I_load = e_data[:,0,:].mean(axis = 0)\n",
    "e_Q_load = e_data[:,1,:].mean(axis = 0)\n",
    "\n",
    "### resample the waveform\n",
    "xp = np.linspace(1,data_len,data_len) ### ADC side time array\n",
    "x = np.linspace(1,data_len,dac_len)   ### DAC side time array\n",
    "\n",
    "g_I = np.interp(x, xp, g_I_load)\n",
    "g_Q = np.interp(x, xp, g_Q_load)\n",
    "e_I = np.interp(x, xp, e_I_load)\n",
    "e_Q = np.interp(x, xp, e_Q_load)\n",
    "\n",
    "\n",
    "### plot one component of the resampled waveform\n",
    "plot(x,g_I, 'o' , label = 'data load')\n",
    "plot(xp,g_I_load, label = 'resample for DAC')\n",
    "legend()\n",
    "show()"
   ]
  },
  {
   "cell_type": "code",
   "execution_count": 29,
   "id": "7acc68c4",
   "metadata": {},
   "outputs": [],
   "source": [
    "DAC_gain = 1 ### tune this parameter to match the ADC level with the training data\n",
    "\n",
    "class LoopbackProgram(AveragerProgram):\n",
    "    def initialize(self):\n",
    "        cfg=self.cfg   \n",
    "        res_ch = cfg[\"res_ch\"]\n",
    "\n",
    "        # set the nyquist zone\n",
    "        self.declare_gen(ch=cfg[\"res_ch\"], nqz=1)\n",
    "        \n",
    "        # configure the readout lengths and downconversion frequencies (ensuring it is an available DAC frequency)\n",
    "        for ch in cfg[\"ro_chs\"]:\n",
    "            self.declare_readout(ch=ch, length=self.cfg[\"readout_length\"],\n",
    "                                 freq=self.cfg[\"pulse_freq\"], gen_ch=cfg[\"res_ch\"])\n",
    "\n",
    "        # convert frequency to DAC frequency (ensuring it is an available ADC frequency)\n",
    "        freq = self.freq2reg(cfg[\"pulse_freq\"],gen_ch=res_ch, ro_ch=cfg[\"ro_chs\"][0])\n",
    "        phase = self.deg2reg(cfg[\"res_phase\"], gen_ch=res_ch)\n",
    "        gain = cfg[\"pulse_gain\"]\n",
    "        self.default_pulse_registers(ch=res_ch, freq=freq, phase=phase, gain=gain)\n",
    "\n",
    "        style=self.cfg[\"pulse_style\"]\n",
    "        \n",
    "        \n",
    "        ########################\n",
    "        ### add g/e waveform ###\n",
    "        ########################\n",
    "#         self.add_pulse(ch=cfg[\"res_ch\"], name = 'g_state', idata = DAC_gain*g_I, qdata = DAC_gain*g_Q)\n",
    "#         self.add_pulse(ch=cfg[\"res_ch\"], name = 'e_state', idata = DAC_gain*e_I, qdata = DAC_gain*e_Q)\n",
    "        self.add_pulse(ch=cfg[\"res_ch\"], name = 'g_state', idata = DAC_gain*g_Q, qdata = DAC_gain*g_I)\n",
    "        self.add_pulse(ch=cfg[\"res_ch\"], name = 'e_state', idata = DAC_gain*e_Q, qdata = DAC_gain*e_I)\n",
    "\n",
    "        if style in [\"flat_top\",\"arb\"]:\n",
    "            sigma = cfg[\"sigma\"]\n",
    "            self.add_gauss(ch=res_ch, name=\"measure\", sigma=sigma, length=sigma*5)\n",
    "            \n",
    "        if style == \"const\":\n",
    "            self.set_pulse_registers(ch=res_ch, style=style, length=cfg[\"length\"])\n",
    "        elif style == \"flat_top\":\n",
    "            # The first half of the waveform ramps up the pulse, the second half ramps down the pulse\n",
    "            self.set_pulse_registers(ch=res_ch, style=style, waveform=\"measure\", length=cfg[\"length\"])\n",
    "        elif style == \"arb\":\n",
    "            self.set_pulse_registers(ch=res_ch, style=style, waveform=\"measure\")\n",
    "            \n",
    "        ########################\n",
    "        ### add g/e waveform ###\n",
    "        ########################   \n",
    "        elif style == \"g_state\":\n",
    "            self.set_pulse_registers(ch=res_ch, style=\"arb\", waveform=\"g_state\")\n",
    "        elif style == \"e_state\":\n",
    "            self.set_pulse_registers(ch=res_ch, style=\"arb\", waveform=\"e_state\")\n",
    "\n",
    "        \n",
    "        self.synci(200)  # give processor some time to configure pulses\n",
    "    \n",
    "    def body(self):\n",
    "        # fire the pulse\n",
    "        # trigger all declared ADCs\n",
    "        # pulse PMOD0_0 for a scope trigger\n",
    "        # pause the tProc until readout is done\n",
    "        # increment the time counter to give some time before the next measurement\n",
    "        # (the syncdelay also lets the tProc get back ahead of the clock)\n",
    "        self.measure(pulse_ch=self.cfg[\"res_ch\"], \n",
    "                     adcs=self.ro_chs,\n",
    "                     pins=[0], \n",
    "                     adc_trig_offset=self.cfg[\"adc_trig_offset\"],\n",
    "                     wait=True,\n",
    "                     syncdelay=self.us2cycles(self.cfg[\"relax_delay\"]))"
   ]
  },
  {
   "cell_type": "code",
   "execution_count": 30,
   "id": "95c1303c",
   "metadata": {},
   "outputs": [
    {
     "name": "stdout",
     "output_type": "stream",
     "text": [
      "max_amp =  32766.0\n"
     ]
    }
   ],
   "source": [
    "### calculate the DAC output range\n",
    "\n",
    "gencfg = soccfg['gens'][6]\n",
    "max_amp = gencfg['maxv']*gencfg['maxv_scale']\n",
    "print('max_amp = ',max_amp)"
   ]
  },
  {
   "cell_type": "code",
   "execution_count": 31,
   "id": "d9bb3768",
   "metadata": {},
   "outputs": [
    {
     "data": {
      "application/vnd.jupyter.widget-view+json": {
       "model_id": "0c8ac17b135f4e499b4bb48f3eaf0a7b",
       "version_major": 2,
       "version_minor": 0
      },
      "text/plain": [
       "  0%|          | 0/1 [00:00<?, ?it/s]"
      ]
     },
     "metadata": {},
     "output_type": "display_data"
    }
   ],
   "source": [
    "DAC_phase = -90\n",
    "readout_phase = phase_cal + DAC_phase\n",
    "\n",
    "config={\"res_ch\":6, # --Fixed\n",
    "        \"ro_chs\":[0], # --Fixed\n",
    "        \"reps\":1, # --Fixed\n",
    "        \"relax_delay\":1.0, # --us\n",
    "        \"res_phase\": readout_phase, # updated readout phase\n",
    "        \"pulse_style\": \"e_state\", # --Fixed,\"const\"; \"g_state\"; \"e_state\"; \"arb\"\n",
    "        \n",
    "        \"sigma\": 30, # [Clock ticks]\n",
    "        \n",
    "        \"length\": 100, # [Clock ticks]\n",
    "        # Try varying length from 10-100 clock ticks\n",
    "        \n",
    "        \"readout_length\":data_len, # [Clock ticks]\n",
    "        # Try varying readout_length from 50-1000 clock ticks\n",
    "\n",
    "        \"pulse_gain\": 30000, # [DAC units]\n",
    "        # Try varying pulse_gain from 500 to 30000 DAC units\n",
    "\n",
    "        \"pulse_freq\": 100, # [MHz]\n",
    "        # In this program the signal is up and downconverted digitally so you won't see any frequency\n",
    "        # components in the I/Q traces below. But since the signal gain depends on frequency, \n",
    "        # if you lower pulse_freq you will see an increased gain.\n",
    "\n",
    "        \"adc_trig_offset\": 190, # [Clock ticks]\n",
    "        # Try varying adc_trig_offset from 100 to 220 clock ticks\n",
    "\n",
    "        \"soft_avgs\":1\n",
    "        # Try varying soft_avgs from 1 to 200 averages\n",
    "\n",
    "       }\n",
    "\n",
    "###################\n",
    "# Try it yourself !\n",
    "###################\n",
    "\n",
    "prog =LoopbackProgram(soccfg, config)\n",
    "iq_list = prog.acquire_decimated(soc, load_pulses=True, progress=True)#, debug=False)"
   ]
  },
  {
   "cell_type": "code",
   "execution_count": 32,
   "id": "9280351e",
   "metadata": {},
   "outputs": [
    {
     "data": {
      "text/plain": [
       "<matplotlib.legend.Legend at 0xffff5fceb0d0>"
      ]
     },
     "execution_count": 32,
     "metadata": {},
     "output_type": "execute_result"
    },
    {
     "data": {
      "image/png": "[encoded data removed]",
      "text/plain": [
       "<Figure size 432x288 with 1 Axes>"
      ]
     },
     "metadata": {
      "needs_background": "light"
     },
     "output_type": "display_data"
    }
   ],
   "source": [
    "# Plot results.\n",
    "plt.figure(1)\n",
    "for ii, iq in enumerate(iq_list):\n",
    "    plt.plot(iq[0], label=\"I value, ADC %d\"%(config['ro_chs'][ii]))\n",
    "    plt.plot(iq[1], label=\"Q value, ADC %d\"%(config['ro_chs'][ii]))\n",
    "#     plt.plot(np.abs(iq[0]+1j*iq[1]), label=\"mag, ADC %d\"%(config['ro_chs'][ii]))\n",
    "plt.ylabel(\"a.u.\")\n",
    "plt.xlabel(\"Clock ticks\")\n",
    "plt.title(\"Averages = \" + str(config[\"soft_avgs\"]))\n",
    "plt.legend()\n",
    "# plt.savefig(\"images/Send_recieve_pulse_const.pdf\", dpi=350)"
   ]
  },
  {
   "cell_type": "code",
   "execution_count": 33,
   "id": "0b41b4bc",
   "metadata": {},
   "outputs": [
    {
     "data": {
      "text/plain": [
       "<matplotlib.legend.Legend at 0xffff5fc84a90>"
      ]
     },
     "execution_count": 33,
     "metadata": {},
     "output_type": "execute_result"
    },
    {
     "data": {
      "image/png": "[encoded data removed]",
      "text/plain": [
       "<Figure size 432x288 with 1 Axes>"
      ]
     },
     "metadata": {
      "needs_background": "light"
     },
     "output_type": "display_data"
    }
   ],
   "source": [
    "ADC_fake_gain = 27 ### tune this parameter to match the ADC level with the training data\n",
    "\n",
    "\n",
    "for ii, iq in enumerate(iq_list):\n",
    "    plt.plot(iq[0]*ADC_fake_gain, markersize=0.5, color = 'C0' , label=\"I value, ADC %d\"%(config['ro_chs'][ii]))\n",
    "    plt.plot(iq[1]*ADC_fake_gain, markersize=0.5, color = 'C1' ,label=\"Q value, ADC %d\"%(config['ro_chs'][ii]))\n",
    "plt.plot(x,e_I, '-o', markersize=0.5, color = 'grey', label = 'load - e-I')\n",
    "plt.plot(x,e_Q, '-o', markersize=0.5, color = 'black', label = 'load - e-Q')\n",
    "\n",
    "\n",
    "plt.ylabel(\"a.u.\")\n",
    "plt.xlabel(\"Clock ticks\")\n",
    "plt.title(\"Averages = \" + str(config[\"soft_avgs\"]))\n",
    "plt.legend()"
   ]
  },
  {
   "cell_type": "markdown",
   "id": "4e72dc4a",
   "metadata": {},
   "source": [
    "# Readout mock - single-shot signal"
   ]
  },
  {
   "cell_type": "markdown",
   "id": "78e4cd2e",
   "metadata": {},
   "source": [
    "## single-shot with tunable gaussian noise"
   ]
  },
  {
   "cell_type": "code",
   "execution_count": 34,
   "id": "e842d6a5",
   "metadata": {},
   "outputs": [
    {
     "name": "stdout",
     "output_type": "stream",
     "text": [
      "readout data length = 770 clock cycle\n"
     ]
    },
    {
     "data": {
      "image/png": "[encoded data removed]",
      "text/plain": [
       "<Figure size 432x288 with 1 Axes>"
      ]
     },
     "metadata": {
      "needs_background": "light"
     },
     "output_type": "display_data"
    },
    {
     "data": {
      "image/png": "[encoded data removed]",
      "text/plain": [
       "<Figure size 432x288 with 1 Axes>"
      ]
     },
     "metadata": {
      "needs_background": "light"
     },
     "output_type": "display_data"
    }
   ],
   "source": [
    "#### load real qubit readout data\n",
    "data_len = len(g_data[:,0,:].mean(axis = 0))\n",
    "print(f'readout data length = {data_len} clock cycle')\n",
    "\n",
    "\n",
    "### we need to resample the data based on DAC freq\n",
    "t_ns = data_len*1000/307.2\n",
    "dac_len = int((t_ns/1000*6881.28)//16*16)\n",
    "\n",
    "g_I_load = g_data[:,0,:].mean(axis = 0)\n",
    "g_Q_load = g_data[:,1,:].mean(axis = 0)\n",
    "e_I_load = e_data[:,0,:].mean(axis = 0)\n",
    "e_Q_load = e_data[:,1,:].mean(axis = 0)\n",
    "\n",
    "### set noise parameter\n",
    "add_noise = True\n",
    "noise_scale = 400\n",
    "\n",
    "if add_noise == True:\n",
    "    g_I_add_noise = g_I_load + np.random.normal(0, noise_scale, size = g_I_load.shape[0])\n",
    "    g_Q_add_noise = g_Q_load + np.random.normal(0, noise_scale, size = g_Q_load.shape[0])\n",
    "    e_I_add_noise = e_I_load + np.random.normal(0, noise_scale, size = e_I_load.shape[0])\n",
    "    e_Q_add_noise = e_Q_load + np.random.normal(0, noise_scale, size = e_Q_load.shape[0])\n",
    "    \n",
    "plot(xp,g_I_load , label = 'data load')\n",
    "plot(xp,g_I_add_noise, label = 'data load + noise', alpha = 0.4)\n",
    "title('data vs data + noise')\n",
    "legend()\n",
    "show()\n",
    "### resample the waveform\n",
    "xp = np.linspace(1,data_len,data_len)\n",
    "x = np.linspace(1,data_len,dac_len)\n",
    "    \n",
    "g_I = np.interp(x, xp, g_I_load)\n",
    "g_Q = np.interp(x, xp, g_Q_load)\n",
    "e_I = np.interp(x, xp, e_I_load)\n",
    "e_Q = np.interp(x, xp, e_Q_load)\n",
    "\n",
    "if add_noise == True:\n",
    "    g_I = np.interp(x, xp, g_I_add_noise)\n",
    "    g_Q = np.interp(x, xp, g_Q_add_noise)\n",
    "    e_I = np.interp(x, xp, e_I_add_noise)\n",
    "    e_Q = np.interp(x, xp, e_Q_add_noise)\n",
    "    \n",
    "    title('Performance of the resampling')\n",
    "    plot(x, g_I, 'o', label = 'after resampling')\n",
    "    plot(xp, g_I_add_noise, label = 'before resampling')\n",
    "    legend()\n",
    "    show()"
   ]
  },
  {
   "cell_type": "code",
   "execution_count": 35,
   "id": "08eb76c7",
   "metadata": {},
   "outputs": [],
   "source": [
    "DAC_gain = 1 ### tune this parameter to match the ADC level with the training data\n",
    "\n",
    "class LoopbackProgram(AveragerProgram):\n",
    "    def initialize(self):\n",
    "        cfg=self.cfg   \n",
    "        res_ch = cfg[\"res_ch\"]\n",
    "\n",
    "        # set the nyquist zone\n",
    "        self.declare_gen(ch=cfg[\"res_ch\"], nqz=1)\n",
    "        \n",
    "        # configure the readout lengths and downconversion frequencies (ensuring it is an available DAC frequency)\n",
    "        for ch in cfg[\"ro_chs\"]:\n",
    "            self.declare_readout(ch=ch, length=self.cfg[\"readout_length\"],\n",
    "                                 freq=self.cfg[\"pulse_freq\"], gen_ch=cfg[\"res_ch\"])\n",
    "\n",
    "        # convert frequency to DAC frequency (ensuring it is an available ADC frequency)\n",
    "        freq = self.freq2reg(cfg[\"pulse_freq\"],gen_ch=res_ch, ro_ch=cfg[\"ro_chs\"][0])\n",
    "        phase = self.deg2reg(cfg[\"res_phase\"], gen_ch=res_ch)\n",
    "        gain = cfg[\"pulse_gain\"]\n",
    "        self.default_pulse_registers(ch=res_ch, freq=freq, phase=phase, gain=gain)\n",
    "\n",
    "        style=self.cfg[\"pulse_style\"]\n",
    "        \n",
    "        \n",
    "        ########################\n",
    "        ### add g/e waveform ###\n",
    "        ########################\n",
    "#         self.add_pulse(ch=cfg[\"res_ch\"], name = 'g_state', idata = DAC_gain*g_I, qdata = DAC_gain*g_Q)\n",
    "#         self.add_pulse(ch=cfg[\"res_ch\"], name = 'e_state', idata = DAC_gain*e_I, qdata = DAC_gain*e_Q)\n",
    "        self.add_pulse(ch=cfg[\"res_ch\"], name = 'g_state', idata = DAC_gain*g_Q, qdata = DAC_gain*g_I)\n",
    "        self.add_pulse(ch=cfg[\"res_ch\"], name = 'e_state', idata = DAC_gain*e_Q, qdata = DAC_gain*e_I)\n",
    "\n",
    "        if style in [\"flat_top\",\"arb\"]:\n",
    "            sigma = cfg[\"sigma\"]\n",
    "            self.add_gauss(ch=res_ch, name=\"measure\", sigma=sigma, length=sigma*5)\n",
    "            \n",
    "        if style == \"const\":\n",
    "            self.set_pulse_registers(ch=res_ch, style=style, length=cfg[\"length\"])\n",
    "        elif style == \"flat_top\":\n",
    "            # The first half of the waveform ramps up the pulse, the second half ramps down the pulse\n",
    "            self.set_pulse_registers(ch=res_ch, style=style, waveform=\"measure\", length=cfg[\"length\"])\n",
    "        elif style == \"arb\":\n",
    "            self.set_pulse_registers(ch=res_ch, style=style, waveform=\"measure\")\n",
    "            \n",
    "        ########################\n",
    "        ### add g/e waveform ###\n",
    "        ########################   \n",
    "        elif style == \"g_state\":\n",
    "            self.set_pulse_registers(ch=res_ch, style=\"arb\", waveform=\"g_state\")\n",
    "        elif style == \"e_state\":\n",
    "            self.set_pulse_registers(ch=res_ch, style=\"arb\", waveform=\"e_state\")\n",
    "\n",
    "        \n",
    "        self.synci(200)  # give processor some time to configure pulses\n",
    "    \n",
    "    def body(self):\n",
    "        # fire the pulse\n",
    "        # trigger all declared ADCs\n",
    "        # pulse PMOD0_0 for a scope trigger\n",
    "        # pause the tProc until readout is done\n",
    "        # increment the time counter to give some time before the next measurement\n",
    "        # (the syncdelay also lets the tProc get back ahead of the clock)\n",
    "        self.measure(pulse_ch=self.cfg[\"res_ch\"], \n",
    "                     adcs=self.ro_chs,\n",
    "                     pins=[0], \n",
    "                     adc_trig_offset=self.cfg[\"adc_trig_offset\"],\n",
    "                     wait=True,\n",
    "                     syncdelay=self.us2cycles(self.cfg[\"relax_delay\"]))"
   ]
  },
  {
   "cell_type": "code",
   "execution_count": 36,
   "id": "9993ef56",
   "metadata": {},
   "outputs": [
    {
     "name": "stdout",
     "output_type": "stream",
     "text": [
      "max_amp =  32766.0\n"
     ]
    }
   ],
   "source": [
    "### calculate the DAC output range\n",
    "gencfg = soccfg['gens'][6]\n",
    "max_amp = gencfg['maxv']*gencfg['maxv_scale']\n",
    "print('max_amp = ',max_amp)"
   ]
  },
  {
   "cell_type": "code",
   "execution_count": 37,
   "id": "e6e1263b",
   "metadata": {},
   "outputs": [],
   "source": [
    "#########################################################\n",
    "#########################################################\n",
    "#########################################################\n",
    "# If you are running Vivado ILA, it is time to arm them #\n",
    "#########################################################\n",
    "#########################################################\n",
    "#########################################################"
   ]
  },
  {
   "cell_type": "code",
   "execution_count": 38,
   "id": "91c9c304",
   "metadata": {},
   "outputs": [],
   "source": [
    "#\n",
    "# ATTENTION: if the cell fails, please make sure that\n",
    "#            the base_address matches the associated\n",
    "#            value in the address editor of the Vivado\n",
    "#            project.\n",
    "# \n",
    "if HAS_NN:\n",
    "    from pynq import MMIO\n",
    "\n",
    "    base_addr = soccfg.NN_0.mmio.base_addr\n",
    "    length = soccfg.NN_0.mmio.length\n",
    "    \n",
    "    SCALING_FACTOR = ADC_fake_gain\n",
    "\n",
    "    mmio_scaler = MMIO(base_addr, length)\n",
    "    mmio_scaler.write(soccfg.NN_0.register_map.scaler.address, SCALING_FACTOR)\n",
    "    \n",
    "    base_address_scaler = 0x00_A002_0000"
   ]
  },
  {
   "cell_type": "code",
   "execution_count": 39,
   "id": "51a5730c",
   "metadata": {},
   "outputs": [
    {
     "data": {
      "application/vnd.jupyter.widget-view+json": {
       "model_id": "2d63eaf400b0456e959a6b1a9c176700",
       "version_major": 2,
       "version_minor": 0
      },
      "text/plain": [
       "  0%|          | 0/1 [00:00<?, ?it/s]"
      ]
     },
     "metadata": {},
     "output_type": "display_data"
    }
   ],
   "source": [
    "DAC_phase = -90\n",
    "readout_phase = phase_cal + DAC_phase\n",
    "\n",
    "config={\"res_ch\":6, # --Fixed\n",
    "        \"ro_chs\":[0], # --Fixed\n",
    "        \"reps\":1, # --Fixed\n",
    "        \"relax_delay\":1.0, # --us\n",
    "        \"res_phase\": readout_phase, # updated readout phase\n",
    "        \n",
    "        \"pulse_style\": \"e_state\", # --Fixed,\"const\"; \"g_state\"; \"e_state\"; \"arb\"\n",
    "        #\"pulse_style\": \"g_state\", # --Fixed,\"const\"; \"g_state\"; \"e_state\"; \"arb\"\n",
    "        \n",
    "        \"sigma\": 30, # [Clock ticks]\n",
    "        \n",
    "        \"length\": 100, # [Clock ticks]\n",
    "        # Try varying length from 10-100 clock ticks\n",
    "        \n",
    "        \"readout_length\":data_len, # [Clock ticks]\n",
    "        # Try varying readout_length from 50-1000 clock ticks\n",
    "\n",
    "        \"pulse_gain\": 30000, # [DAC units]\n",
    "        # Try varying pulse_gain from 500 to 30000 DAC units\n",
    "\n",
    "        \"pulse_freq\": 100, # [MHz]\n",
    "        # In this program the signal is up and downconverted digitally so you won't see any frequency\n",
    "        # components in the I/Q traces below. But since the signal gain depends on frequency, \n",
    "        # if you lower pulse_freq you will see an increased gain.\n",
    "\n",
    "        \"adc_trig_offset\": 190, # [Clock ticks]\n",
    "        # Try varying adc_trig_offset from 100 to 220 clock ticks\n",
    "\n",
    "        \"soft_avgs\":1\n",
    "        # Try varying soft_avgs from 1 to 200 averages\n",
    "\n",
    "       }\n",
    "\n",
    "###################\n",
    "# Try it yourself !\n",
    "###################\n",
    "\n",
    "prog = LoopbackProgram(soccfg, config)\n",
    "iq_list = prog.acquire_decimated(soc, load_pulses=True, progress=True)#, debug=False)"
   ]
  },
  {
   "cell_type": "code",
   "execution_count": 40,
   "id": "900709fa",
   "metadata": {},
   "outputs": [
    {
     "data": {
      "text/plain": [
       "<matplotlib.legend.Legend at 0xffff5fc72730>"
      ]
     },
     "execution_count": 40,
     "metadata": {},
     "output_type": "execute_result"
    },
    {
     "data": {
      "image/png": "[encoded data removed]",
      "text/plain": [
       "<Figure size 432x288 with 1 Axes>"
      ]
     },
     "metadata": {
      "needs_background": "light"
     },
     "output_type": "display_data"
    }
   ],
   "source": [
    "# Plot results.\n",
    "plt.figure(1)\n",
    "for ii, iq in enumerate(iq_list):\n",
    "    plt.plot(iq[0], label=\"I value, ADC %d\"%(config['ro_chs'][ii]))\n",
    "    plt.plot(iq[1], label=\"Q value, ADC %d\"%(config['ro_chs'][ii]))\n",
    "#     plt.plot(np.abs(iq[0]+1j*iq[1]), label=\"mag, ADC %d\"%(config['ro_chs'][ii]))\n",
    "plt.ylabel(\"a.u.\")\n",
    "plt.xlabel(\"Clock ticks\")\n",
    "plt.title(\"Averages = \" + str(config[\"soft_avgs\"]))\n",
    "plt.legend()\n",
    "# plt.savefig(\"images/Send_recieve_pulse_const.pdf\", dpi=350)"
   ]
  },
  {
   "cell_type": "code",
   "execution_count": 41,
   "id": "09c91a8b",
   "metadata": {},
   "outputs": [
    {
     "name": "stdout",
     "output_type": "stream",
     "text": [
      "[[[  2.   4.  10. ...  12.   5.  18.]\n",
      "  [  1. -10. -20. ... -24.  10.  -3.]]]\n"
     ]
    }
   ],
   "source": [
    "print(iq_list)"
   ]
  },
  {
   "cell_type": "code",
   "execution_count": 42,
   "id": "c8466cc7",
   "metadata": {},
   "outputs": [
    {
     "name": "stdout",
     "output_type": "stream",
     "text": [
      "iq_list shape (I/Q): (2, 770)\n",
      "data_len: 770\n"
     ]
    }
   ],
   "source": [
    "print('iq_list shape (I/Q):', iq_list[0].shape)\n",
    "print('data_len:', data_len)"
   ]
  },
  {
   "cell_type": "code",
   "execution_count": 43,
   "id": "359cdebf",
   "metadata": {},
   "outputs": [
    {
     "data": {
      "text/plain": [
       "<matplotlib.legend.Legend at 0xffff8da85e50>"
      ]
     },
     "execution_count": 43,
     "metadata": {},
     "output_type": "execute_result"
    },
    {
     "data": {
      "image/png": "[encoded data removed]",
      "text/plain": [
       "<Figure size 432x288 with 1 Axes>"
      ]
     },
     "metadata": {
      "needs_background": "light"
     },
     "output_type": "display_data"
    }
   ],
   "source": [
    "ADC_fake_gain = 27 ### tune this parameter to match the ADC level with the training data\n",
    "\n",
    "plt.plot(x,e_I, '-o', markersize=1.5, color = 'grey', label = 'load - e-I', alpha = 0.5)\n",
    "plt.plot(x,e_Q, '-o', markersize=1.5, color = 'black', label = 'load - e-Q', alpha = 0.5)\n",
    "\n",
    "for ii, iq in enumerate(iq_list):\n",
    "    plt.plot(iq[0]*ADC_fake_gain, markersize=0.5, color = 'C0' , label=\"I value, ADC %d\"%(config['ro_chs'][ii]))\n",
    "    plt.plot(iq[1]*ADC_fake_gain, markersize=0.5, color = 'C1' ,label=\"Q value, ADC %d\"%(config['ro_chs'][ii]))\n",
    "\n",
    "plt.ylabel(\"a.u.\")\n",
    "plt.xlabel(\"Clock ticks\")\n",
    "plt.title(\"Averages = \" + str(config[\"soft_avgs\"]))\n",
    "plt.legend()"
   ]
  },
  {
   "cell_type": "markdown",
   "id": "988ce7f8",
   "metadata": {},
   "source": [
    "## Run NN"
   ]
  },
  {
   "cell_type": "code",
   "execution_count": 44,
   "id": "8334e68c",
   "metadata": {},
   "outputs": [
    {
     "data": {
      "text/plain": [
       "<matplotlib.legend.Legend at 0xffff5e1e7820>"
      ]
     },
     "execution_count": 44,
     "metadata": {},
     "output_type": "execute_result"
    },
    {
     "data": {
      "image/png": "[encoded data removed]",
      "text/plain": [
       "<Figure size 432x288 with 1 Axes>"
      ]
     },
     "metadata": {
      "needs_background": "light"
     },
     "output_type": "display_data"
    }
   ],
   "source": [
    "###########################################################\n",
    "### NN input window = 100 couples I/Q starting at index 285\n",
    "axvline(285, ls = '--', color = 'red')\n",
    "axvline(285+100, ls = '--', color = 'red')\n",
    "###########################################################\n",
    "\n",
    "#plt.plot(x,e_I, '-o', markersize=1.5, color = 'grey', label = 'load - e-I', alpha = 0.5)\n",
    "#plt.plot(x,e_Q, '-o', markersize=1.5, color = 'black', label = 'load - e-Q', alpha = 0.5)\n",
    "for ii, iq in enumerate(iq_list):\n",
    "    plt.plot(iq[0]*ADC_fake_gain, markersize=0.5, color = 'C0' , label=\"I value, ADC %d\"%(config['ro_chs'][ii]))\n",
    "    plt.plot(iq[1]*ADC_fake_gain, markersize=0.5, color = 'C1' ,label=\"Q value, ADC %d\"%(config['ro_chs'][ii]))\n",
    "\n",
    "plt.ylabel(\"a.u.\")\n",
    "plt.xlabel(\"Clock ticks\")\n",
    "plt.title(\"Averages = \" + str(config[\"soft_avgs\"]))\n",
    "plt.legend()"
   ]
  },
  {
   "cell_type": "code",
   "execution_count": 45,
   "id": "8904022c",
   "metadata": {},
   "outputs": [],
   "source": [
    "# Save trace.\n",
    "iq_nn = iq_list[0,:,285:385]*ADC_fake_gain"
   ]
  },
  {
   "cell_type": "code",
   "execution_count": 46,
   "id": "201d27f9",
   "metadata": {
    "scrolled": true
   },
   "outputs": [
    {
     "name": "stdout",
     "output_type": "stream",
     "text": [
      "Sequence length: 200\n",
      "I (lo, data[15:0])\n",
      "[ -27. -108.  270.  702.  432.  405.  756.   81. -351.  351.  378.  216.\n",
      "  378.  486.  540.  351.  432.  540.  486.  621.  378. -135.  -54.  540.\n",
      "  702.  594.  513.  216.  108.  243.  621.  810.  108.  -27.  513.  594.\n",
      "  243.  -27.  108.  540.  621.  594.  702.  459.  -27. -108.   54.  270.\n",
      "  189.  -54.  270.  378.  -54. -108.  -54.    0.  -27.  135.  783.  702.\n",
      "  108.    0.  162.  270.  162.  594.  864.  351.  405.  648.  432.  189.\n",
      "  -27.  189.  837.  999.  648.  621.  432.  297.  432.  270.  648.  729.\n",
      " -162. -405.  -54.  216.  513.  783.  783.  297.  -27.  351.  405. -270.\n",
      " -108.  621.  567.  216.]\n",
      "Q (hi, data[31:16])\n",
      "[ -405.   -54.   -54.  -162.  -324.  -756.  -378.  -243. -1026.  -432.\n",
      "    54.  -702.  -837.  -621.  -621.  -540.  -540.  -675.  -540.  -540.\n",
      "  -540.  -567.  -783.  -513.  -351.  -405.   -27.  -135.  -945.  -702.\n",
      "   189.   351.     0.  -189.  -594.  -891.  -621.  -513.  -405.  -567.\n",
      "  -540.  -108.   -27.     0.   -27.  -243.  -459.  -567.  -432.  -621.\n",
      "  -783.  -540.  -648.  -621.  -216.  -135.  -324.  -918.  -702.   -81.\n",
      "  -270.  -351.  -459.  -567.  -351.  -378.  -486.  -243.    81.  -189.\n",
      "  -540.  -621.  -756.  -621.  -567.  -756.  -513.  -486.  -810.  -810.\n",
      "  -594.  -540.  -756.  -567.  -567.  -972.  -918.  -783.  -540.  -243.\n",
      "  -351.  -270.  -135.   -81.    27.  -378.  -567.  -378.  -702.  -513.]\n",
      "[-27, -405, -108, -54, 270, -54, 702, -162, 432, -324, 405, -756, 756, -378, 81, -243, -351, -1026, 351, -432, 378, 54, 216, -702, 378, -837, 486, -621, 540, -621, 351, -540, 432, -540, 540, -675, 486, -540, 621, -540, 378, -540, -135, -567, -54, -783, 540, -513, 702, -351, 594, -405, 513, -27, 216, -135, 108, -945, 243, -702, 621, 189, 810, 351, 108, 0, -27, -189, 513, -594, 594, -891, 243, -621, -27, -513, 108, -405, 540, -567, 621, -540, 594, -108, 702, -27, 459, 0, -27, -27, -108, -243, 54, -459, 270, -567, 189, -432, -54, -621, 270, -783, 378, -540, -54, -648, -108, -621, -54, -216, 0, -135, -27, -324, 135, -918, 783, -702, 702, -81, 108, -270, 0, -351, 162, -459, 270, -567, 162, -351, 594, -378, 864, -486, 351, -243, 405, 81, 648, -189, 432, -540, 189, -621, -27, -756, 189, -621, 837, -567, 999, -756, 648, -513, 621, -486, 432, -810, 297, -810, 432, -594, 270, -540, 648, -756, 729, -567, -162, -567, -405, -972, -54, -918, 216, -783, 513, -540, 783, -243, 783, -351, 297, -270, -27, -135, 351, -81, 405, 27, -270, -378, -108, -567, 621, -378, 567, -702, 216, -513]\n"
     ]
    }
   ],
   "source": [
    "import struct\n",
    "def float_to_hex32(f):\n",
    "    return format(struct.unpack('!I', struct.pack('!f', f))[0], '08x')\n",
    "\n",
    "def int_to_twos_complement_hex32(n):\n",
    "    # If the number is negative, get its two's complement\n",
    "    if n < 0:\n",
    "        n = (1 << 32) + n  # \"Wrap around\" to get 32-bit two's complement\n",
    "    return format(n, '08x')\n",
    "\n",
    "# Shows I and Q sequence\n",
    "iq_sequence = [list(item) for item in zip(*iq_nn)]\n",
    "iq_sequence = [int(item) for sublist in iq_sequence for item in sublist]\n",
    "\n",
    "# Float value as hex\n",
    "#hex_iq_sequence_flt = [float_to_hex32(num) for num in iq_sequence]\n",
    "\n",
    "# Float -> Int value as hex\n",
    "#hex_iq_sequence_dec = [int_to_twos_complement_hex32(int(i)) for i in iq_sequence]\n",
    "\n",
    "print('Sequence length:', len(iq_sequence))\n",
    "print('I (lo, data[15:0])')\n",
    "print(iq_nn[0])\n",
    "print('Q (hi, data[31:16])')\n",
    "print(iq_nn[1])\n",
    "\n",
    "print(iq_sequence)\n",
    "\n",
    "#print(hex_iq_sequence_flt)\n",
    "#print(hex_iq_sequence_dec)\n",
    "\n",
    "#for i in range(0,len(iq_sequence),2):\n",
    "#    print(\"I {:4.0f} {} {}\".format(iq_sequence[i], hex_iq_sequence_flt[i], hex_iq_sequence_dec[i]))\n",
    "#    print(\"Q {:4.0f} {} {}\".format(iq_sequence[i+1], hex_iq_sequence_flt[i+1], hex_iq_sequence_dec[i+1]))"
   ]
  },
  {
   "cell_type": "raw",
   "id": "bb3624b8",
   "metadata": {},
   "source": [
    "import csv\n",
    "import pandas as pd\n",
    "\n",
    "csv_file = 'iq_trace_nn.csv'\n",
    "\n",
    "with open(csv_file, mode='a', newline='') as file:\n",
    "    writer = csv.writer(file)\n",
    "    writer.writerows([iq_sequence])\n",
    "\n",
    "# Convert data to DataFrame for easier display\n",
    "df = pd.read_csv(csv_file, header=None)\n",
    "\n",
    "display(df)"
   ]
  },
  {
   "cell_type": "code",
   "execution_count": 47,
   "id": "4230bb6b",
   "metadata": {},
   "outputs": [
    {
     "data": {
      "text/plain": [
       "<matplotlib.legend.Legend at 0xffff5e1a63a0>"
      ]
     },
     "execution_count": 47,
     "metadata": {},
     "output_type": "execute_result"
    },
    {
     "data": {
      "image/png": "[encoded data removed]",
      "text/plain": [
       "<Figure size 432x288 with 1 Axes>"
      ]
     },
     "metadata": {
      "needs_background": "light"
     },
     "output_type": "display_data"
    }
   ],
   "source": [
    "plt.plot(iq_nn[0], markersize=0.5, color = 'C0', label=\"I value\")\n",
    "plt.plot(iq_nn[1], markersize=0.5, color = 'C1', label=\"Q value\")\n",
    "\n",
    "x = list(range(0, 101, 20))\n",
    "x_offset = list(range(285, 386, 20))\n",
    "plt.xticks(x, x_offset)\n",
    "\n",
    "plt.ylabel(\"a.u.\")\n",
    "plt.xlabel(\"Clock ticks\")\n",
    "plt.title(\"Averages = \" + str(config[\"soft_avgs\"]))\n",
    "plt.legend()"
   ]
  },
  {
   "cell_type": "code",
   "execution_count": 48,
   "id": "2ecdac0a",
   "metadata": {
    "scrolled": true
   },
   "outputs": [
    {
     "name": "stdout",
     "output_type": "stream",
     "text": [
      "Expected:   excited state\n",
      "Prediction: excited state, CORRECT\n",
      "\n",
      "Logit values as int: [ 3210199040 , 1063043072 ]\n",
      "Logit values as hex: [ 0xbf57c000 , 0x3f5cc000 ]\n",
      "Logit values as flt: [ -0.8427734375 , 0.8623046875 ]\n"
     ]
    }
   ],
   "source": [
    "#\n",
    "# ATTENTION: if the cell fails, please make sure that\n",
    "#            the base_address matches the associated\n",
    "#            value in the address editor of the Vivado\n",
    "#            project.\n",
    "# \n",
    "if HAS_NN:    \n",
    "    from ctypes import *\n",
    "    def to_float(i):\n",
    "        cp = pointer(c_int(i))\n",
    "        fp = cast(cp, POINTER(c_float))\n",
    "        return fp.contents.value\n",
    "\n",
    "    from pynq import MMIO\n",
    "\n",
    "    base_address = soccfg.axi_bram_ctrl_1.base_address\n",
    "    size = soccfg.axi_bram_ctrl_1.size\n",
    "\n",
    "    mmio = MMIO(base_address, size)\n",
    "    ground_state_logit = mmio.read(0)\n",
    "    excited_state_logit = mmio.read(4)\n",
    "\n",
    "    if config['pulse_style'] == 'g_state':\n",
    "        print('Expected:   ground state')\n",
    "    else:\n",
    "        print('Expected:   excited state')\n",
    "    \n",
    "    if (to_float(ground_state_logit) > to_float(excited_state_logit)):\n",
    "        print('Prediction: ground state', end='')\n",
    "        if config['pulse_style'] == 'g_state':\n",
    "            print(', CORRECT')\n",
    "        else:\n",
    "            print(', WRONG')\n",
    "    else:\n",
    "        print('Prediction: excited state', end='')\n",
    "        if config['pulse_style'] == 'e_state':\n",
    "            print(', CORRECT')\n",
    "        else:\n",
    "            print(', WRONG')\n",
    "    print('')\n",
    "    print('Logit values as int: [', ground_state_logit, ',', excited_state_logit, ']')\n",
    "    print('Logit values as hex: [', hex(ground_state_logit), ',', hex(excited_state_logit), ']')\n",
    "    print('Logit values as flt: [', to_float(ground_state_logit), ',', to_float(excited_state_logit), ']')\n",
    "else:\n",
    "    print('No NN in this bitstream!')"
   ]
  },
  {
   "cell_type": "code",
   "execution_count": 49,
   "id": "173462c0",
   "metadata": {},
   "outputs": [],
   "source": [
    "if HAS_NN:\n",
    "    import csv\n",
    "    import pandas as pd\n",
    "\n",
    "    X_fpga_csv_file = 'malab_{}_X_fpga.csv'.format(config['pulse_style'])\n",
    "    y_fpga_csv_file = 'malab_{}_y_fpga.csv'.format(config['pulse_style'])\n",
    "\n",
    "    with open(X_fpga_csv_file, mode='a', newline='') as file:\n",
    "        writer = csv.writer(file)\n",
    "        writer.writerows([iq_sequence])\n",
    "\n",
    "    with open(y_fpga_csv_file, mode='a', newline='') as file:\n",
    "        writer = csv.writer(file)\n",
    "        writer.writerows([[ground_state_logit, excited_state_logit]])"
   ]
  },
  {
   "cell_type": "code",
   "execution_count": 50,
   "id": "a5f06da3",
   "metadata": {},
   "outputs": [
    {
     "data": {
      "text/html": [
       "<div>\n",
       "<style scoped>\n",
       "    .dataframe tbody tr th:only-of-type {\n",
       "        vertical-align: middle;\n",
       "    }\n",
       "\n",
       "    .dataframe tbody tr th {\n",
       "        vertical-align: top;\n",
       "    }\n",
       "\n",
       "    .dataframe thead th {\n",
       "        text-align: right;\n",
       "    }\n",
       "</style>\n",
       "<table border=\"1\" class=\"dataframe\">\n",
       "  <thead>\n",
       "    <tr style=\"text-align: right;\">\n",
       "      <th></th>\n",
       "      <th>0</th>\n",
       "      <th>1</th>\n",
       "      <th>2</th>\n",
       "      <th>3</th>\n",
       "      <th>4</th>\n",
       "      <th>5</th>\n",
       "      <th>6</th>\n",
       "      <th>7</th>\n",
       "      <th>8</th>\n",
       "      <th>9</th>\n",
       "      <th>...</th>\n",
       "      <th>190</th>\n",
       "      <th>191</th>\n",
       "      <th>192</th>\n",
       "      <th>193</th>\n",
       "      <th>194</th>\n",
       "      <th>195</th>\n",
       "      <th>196</th>\n",
       "      <th>197</th>\n",
       "      <th>198</th>\n",
       "      <th>199</th>\n",
       "    </tr>\n",
       "  </thead>\n",
       "  <tbody>\n",
       "    <tr>\n",
       "      <th>0</th>\n",
       "      <td>378</td>\n",
       "      <td>-648</td>\n",
       "      <td>648</td>\n",
       "      <td>-675</td>\n",
       "      <td>405</td>\n",
       "      <td>-54</td>\n",
       "      <td>0</td>\n",
       "      <td>-810</td>\n",
       "      <td>324</td>\n",
       "      <td>-648</td>\n",
       "      <td>...</td>\n",
       "      <td>-189</td>\n",
       "      <td>-297</td>\n",
       "      <td>54</td>\n",
       "      <td>-459</td>\n",
       "      <td>432</td>\n",
       "      <td>189</td>\n",
       "      <td>540</td>\n",
       "      <td>-216</td>\n",
       "      <td>540</td>\n",
       "      <td>-513</td>\n",
       "    </tr>\n",
       "    <tr>\n",
       "      <th>1</th>\n",
       "      <td>513</td>\n",
       "      <td>-270</td>\n",
       "      <td>513</td>\n",
       "      <td>-729</td>\n",
       "      <td>567</td>\n",
       "      <td>-216</td>\n",
       "      <td>135</td>\n",
       "      <td>-351</td>\n",
       "      <td>27</td>\n",
       "      <td>-729</td>\n",
       "      <td>...</td>\n",
       "      <td>54</td>\n",
       "      <td>27</td>\n",
       "      <td>-108</td>\n",
       "      <td>-513</td>\n",
       "      <td>567</td>\n",
       "      <td>0</td>\n",
       "      <td>540</td>\n",
       "      <td>189</td>\n",
       "      <td>378</td>\n",
       "      <td>-513</td>\n",
       "    </tr>\n",
       "    <tr>\n",
       "      <th>2</th>\n",
       "      <td>135</td>\n",
       "      <td>-324</td>\n",
       "      <td>486</td>\n",
       "      <td>-135</td>\n",
       "      <td>1026</td>\n",
       "      <td>-189</td>\n",
       "      <td>648</td>\n",
       "      <td>-378</td>\n",
       "      <td>216</td>\n",
       "      <td>-702</td>\n",
       "      <td>...</td>\n",
       "      <td>216</td>\n",
       "      <td>-540</td>\n",
       "      <td>-189</td>\n",
       "      <td>-459</td>\n",
       "      <td>216</td>\n",
       "      <td>-432</td>\n",
       "      <td>324</td>\n",
       "      <td>-675</td>\n",
       "      <td>324</td>\n",
       "      <td>-1080</td>\n",
       "    </tr>\n",
       "    <tr>\n",
       "      <th>3</th>\n",
       "      <td>243</td>\n",
       "      <td>-432</td>\n",
       "      <td>270</td>\n",
       "      <td>-54</td>\n",
       "      <td>810</td>\n",
       "      <td>-162</td>\n",
       "      <td>999</td>\n",
       "      <td>-162</td>\n",
       "      <td>189</td>\n",
       "      <td>-459</td>\n",
       "      <td>...</td>\n",
       "      <td>486</td>\n",
       "      <td>-540</td>\n",
       "      <td>81</td>\n",
       "      <td>-540</td>\n",
       "      <td>54</td>\n",
       "      <td>-324</td>\n",
       "      <td>324</td>\n",
       "      <td>-567</td>\n",
       "      <td>216</td>\n",
       "      <td>-864</td>\n",
       "    </tr>\n",
       "    <tr>\n",
       "      <th>4</th>\n",
       "      <td>108</td>\n",
       "      <td>-243</td>\n",
       "      <td>459</td>\n",
       "      <td>-81</td>\n",
       "      <td>1107</td>\n",
       "      <td>-216</td>\n",
       "      <td>648</td>\n",
       "      <td>-162</td>\n",
       "      <td>54</td>\n",
       "      <td>-837</td>\n",
       "      <td>...</td>\n",
       "      <td>324</td>\n",
       "      <td>-567</td>\n",
       "      <td>0</td>\n",
       "      <td>-351</td>\n",
       "      <td>216</td>\n",
       "      <td>-324</td>\n",
       "      <td>324</td>\n",
       "      <td>-648</td>\n",
       "      <td>270</td>\n",
       "      <td>-1053</td>\n",
       "    </tr>\n",
       "    <tr>\n",
       "      <th>...</th>\n",
       "      <td>...</td>\n",
       "      <td>...</td>\n",
       "      <td>...</td>\n",
       "      <td>...</td>\n",
       "      <td>...</td>\n",
       "      <td>...</td>\n",
       "      <td>...</td>\n",
       "      <td>...</td>\n",
       "      <td>...</td>\n",
       "      <td>...</td>\n",
       "      <td>...</td>\n",
       "      <td>...</td>\n",
       "      <td>...</td>\n",
       "      <td>...</td>\n",
       "      <td>...</td>\n",
       "      <td>...</td>\n",
       "      <td>...</td>\n",
       "      <td>...</td>\n",
       "      <td>...</td>\n",
       "      <td>...</td>\n",
       "      <td>...</td>\n",
       "    </tr>\n",
       "    <tr>\n",
       "      <th>3097</th>\n",
       "      <td>81</td>\n",
       "      <td>-216</td>\n",
       "      <td>702</td>\n",
       "      <td>-243</td>\n",
       "      <td>1215</td>\n",
       "      <td>-189</td>\n",
       "      <td>513</td>\n",
       "      <td>-405</td>\n",
       "      <td>243</td>\n",
       "      <td>-783</td>\n",
       "      <td>...</td>\n",
       "      <td>108</td>\n",
       "      <td>-405</td>\n",
       "      <td>-189</td>\n",
       "      <td>-648</td>\n",
       "      <td>405</td>\n",
       "      <td>-540</td>\n",
       "      <td>297</td>\n",
       "      <td>-675</td>\n",
       "      <td>405</td>\n",
       "      <td>-1215</td>\n",
       "    </tr>\n",
       "    <tr>\n",
       "      <th>3098</th>\n",
       "      <td>432</td>\n",
       "      <td>-378</td>\n",
       "      <td>297</td>\n",
       "      <td>-108</td>\n",
       "      <td>783</td>\n",
       "      <td>0</td>\n",
       "      <td>1053</td>\n",
       "      <td>-324</td>\n",
       "      <td>648</td>\n",
       "      <td>-351</td>\n",
       "      <td>...</td>\n",
       "      <td>540</td>\n",
       "      <td>-297</td>\n",
       "      <td>-81</td>\n",
       "      <td>-864</td>\n",
       "      <td>135</td>\n",
       "      <td>-567</td>\n",
       "      <td>378</td>\n",
       "      <td>-324</td>\n",
       "      <td>351</td>\n",
       "      <td>-783</td>\n",
       "    </tr>\n",
       "    <tr>\n",
       "      <th>3099</th>\n",
       "      <td>108</td>\n",
       "      <td>-216</td>\n",
       "      <td>405</td>\n",
       "      <td>-189</td>\n",
       "      <td>1188</td>\n",
       "      <td>-270</td>\n",
       "      <td>783</td>\n",
       "      <td>-216</td>\n",
       "      <td>189</td>\n",
       "      <td>-756</td>\n",
       "      <td>...</td>\n",
       "      <td>351</td>\n",
       "      <td>-405</td>\n",
       "      <td>-243</td>\n",
       "      <td>-513</td>\n",
       "      <td>189</td>\n",
       "      <td>-486</td>\n",
       "      <td>405</td>\n",
       "      <td>-567</td>\n",
       "      <td>243</td>\n",
       "      <td>-1107</td>\n",
       "    </tr>\n",
       "    <tr>\n",
       "      <th>3100</th>\n",
       "      <td>243</td>\n",
       "      <td>-54</td>\n",
       "      <td>-135</td>\n",
       "      <td>-513</td>\n",
       "      <td>-270</td>\n",
       "      <td>-594</td>\n",
       "      <td>486</td>\n",
       "      <td>-567</td>\n",
       "      <td>891</td>\n",
       "      <td>-378</td>\n",
       "      <td>...</td>\n",
       "      <td>513</td>\n",
       "      <td>-540</td>\n",
       "      <td>540</td>\n",
       "      <td>-540</td>\n",
       "      <td>351</td>\n",
       "      <td>-378</td>\n",
       "      <td>324</td>\n",
       "      <td>-378</td>\n",
       "      <td>378</td>\n",
       "      <td>-243</td>\n",
       "    </tr>\n",
       "    <tr>\n",
       "      <th>3101</th>\n",
       "      <td>-27</td>\n",
       "      <td>-405</td>\n",
       "      <td>-108</td>\n",
       "      <td>-54</td>\n",
       "      <td>270</td>\n",
       "      <td>-54</td>\n",
       "      <td>702</td>\n",
       "      <td>-162</td>\n",
       "      <td>432</td>\n",
       "      <td>-324</td>\n",
       "      <td>...</td>\n",
       "      <td>-270</td>\n",
       "      <td>-378</td>\n",
       "      <td>-108</td>\n",
       "      <td>-567</td>\n",
       "      <td>621</td>\n",
       "      <td>-378</td>\n",
       "      <td>567</td>\n",
       "      <td>-702</td>\n",
       "      <td>216</td>\n",
       "      <td>-513</td>\n",
       "    </tr>\n",
       "  </tbody>\n",
       "</table>\n",
       "<p>3102 rows × 200 columns</p>\n",
       "</div>"
      ],
      "text/plain": [
       "      0    1    2    3     4    5     6    7    8    9    ...  190  191  192  \\\n",
       "0     378 -648  648 -675   405  -54     0 -810  324 -648  ... -189 -297   54   \n",
       "1     513 -270  513 -729   567 -216   135 -351   27 -729  ...   54   27 -108   \n",
       "2     135 -324  486 -135  1026 -189   648 -378  216 -702  ...  216 -540 -189   \n",
       "3     243 -432  270  -54   810 -162   999 -162  189 -459  ...  486 -540   81   \n",
       "4     108 -243  459  -81  1107 -216   648 -162   54 -837  ...  324 -567    0   \n",
       "...   ...  ...  ...  ...   ...  ...   ...  ...  ...  ...  ...  ...  ...  ...   \n",
       "3097   81 -216  702 -243  1215 -189   513 -405  243 -783  ...  108 -405 -189   \n",
       "3098  432 -378  297 -108   783    0  1053 -324  648 -351  ...  540 -297  -81   \n",
       "3099  108 -216  405 -189  1188 -270   783 -216  189 -756  ...  351 -405 -243   \n",
       "3100  243  -54 -135 -513  -270 -594   486 -567  891 -378  ...  513 -540  540   \n",
       "3101  -27 -405 -108  -54   270  -54   702 -162  432 -324  ... -270 -378 -108   \n",
       "\n",
       "      193  194  195  196  197  198   199  \n",
       "0    -459  432  189  540 -216  540  -513  \n",
       "1    -513  567    0  540  189  378  -513  \n",
       "2    -459  216 -432  324 -675  324 -1080  \n",
       "3    -540   54 -324  324 -567  216  -864  \n",
       "4    -351  216 -324  324 -648  270 -1053  \n",
       "...   ...  ...  ...  ...  ...  ...   ...  \n",
       "3097 -648  405 -540  297 -675  405 -1215  \n",
       "3098 -864  135 -567  378 -324  351  -783  \n",
       "3099 -513  189 -486  405 -567  243 -1107  \n",
       "3100 -540  351 -378  324 -378  378  -243  \n",
       "3101 -567  621 -378  567 -702  216  -513  \n",
       "\n",
       "[3102 rows x 200 columns]"
      ]
     },
     "metadata": {},
     "output_type": "display_data"
    },
    {
     "data": {
      "text/html": [
       "<div>\n",
       "<style scoped>\n",
       "    .dataframe tbody tr th:only-of-type {\n",
       "        vertical-align: middle;\n",
       "    }\n",
       "\n",
       "    .dataframe tbody tr th {\n",
       "        vertical-align: top;\n",
       "    }\n",
       "\n",
       "    .dataframe thead th {\n",
       "        text-align: right;\n",
       "    }\n",
       "</style>\n",
       "<table border=\"1\" class=\"dataframe\">\n",
       "  <thead>\n",
       "    <tr style=\"text-align: right;\">\n",
       "      <th></th>\n",
       "      <th>0</th>\n",
       "      <th>1</th>\n",
       "    </tr>\n",
       "  </thead>\n",
       "  <tbody>\n",
       "    <tr>\n",
       "      <th>0</th>\n",
       "      <td>3207233536</td>\n",
       "      <td>1065615360</td>\n",
       "    </tr>\n",
       "    <tr>\n",
       "      <th>1</th>\n",
       "      <td>3211198464</td>\n",
       "      <td>1062453248</td>\n",
       "    </tr>\n",
       "    <tr>\n",
       "      <th>2</th>\n",
       "      <td>3207397376</td>\n",
       "      <td>1060126720</td>\n",
       "    </tr>\n",
       "    <tr>\n",
       "      <th>3</th>\n",
       "      <td>3206791168</td>\n",
       "      <td>1061257216</td>\n",
       "    </tr>\n",
       "    <tr>\n",
       "      <th>4</th>\n",
       "      <td>3206512640</td>\n",
       "      <td>1059569664</td>\n",
       "    </tr>\n",
       "    <tr>\n",
       "      <th>...</th>\n",
       "      <td>...</td>\n",
       "      <td>...</td>\n",
       "    </tr>\n",
       "    <tr>\n",
       "      <th>3097</th>\n",
       "      <td>3208970240</td>\n",
       "      <td>1062027264</td>\n",
       "    </tr>\n",
       "    <tr>\n",
       "      <th>3098</th>\n",
       "      <td>3206430720</td>\n",
       "      <td>1064173568</td>\n",
       "    </tr>\n",
       "    <tr>\n",
       "      <th>3099</th>\n",
       "      <td>3209543680</td>\n",
       "      <td>1060683776</td>\n",
       "    </tr>\n",
       "    <tr>\n",
       "      <th>3100</th>\n",
       "      <td>3212689408</td>\n",
       "      <td>1062502400</td>\n",
       "    </tr>\n",
       "    <tr>\n",
       "      <th>3101</th>\n",
       "      <td>3210199040</td>\n",
       "      <td>1063043072</td>\n",
       "    </tr>\n",
       "  </tbody>\n",
       "</table>\n",
       "<p>3102 rows × 2 columns</p>\n",
       "</div>"
      ],
      "text/plain": [
       "               0           1\n",
       "0     3207233536  1065615360\n",
       "1     3211198464  1062453248\n",
       "2     3207397376  1060126720\n",
       "3     3206791168  1061257216\n",
       "4     3206512640  1059569664\n",
       "...          ...         ...\n",
       "3097  3208970240  1062027264\n",
       "3098  3206430720  1064173568\n",
       "3099  3209543680  1060683776\n",
       "3100  3212689408  1062502400\n",
       "3101  3210199040  1063043072\n",
       "\n",
       "[3102 rows x 2 columns]"
      ]
     },
     "metadata": {},
     "output_type": "display_data"
    }
   ],
   "source": [
    "if HAS_NN:\n",
    "    X_fpga_csv_file = 'malab_{}_X_fpga.csv'.format(config['pulse_style'])\n",
    "    y_fpga_csv_file = 'malab_{}_y_fpga.csv'.format(config['pulse_style'])\n",
    "\n",
    "\n",
    "    # Convert data to DataFrame for easier display\n",
    "    df = pd.read_csv(X_fpga_csv_file, header=None)\n",
    "    _ = display(df)\n",
    "\n",
    "\n",
    "    # Convert data to DataFrame for easier display\n",
    "    df = pd.read_csv(y_fpga_csv_file, header=None)\n",
    "\n",
    "    _ = display(df)"
   ]
  },
  {
   "cell_type": "raw",
   "id": "8d65eed8",
   "metadata": {},
   "source": [
    "print(iq_list[0,:,285:385]*ADC_fake_gain)"
   ]
  },
  {
   "cell_type": "raw",
   "id": "80b1f63a",
   "metadata": {},
   "source": [
    "tmp = iq_list[0,:,:]*ADC_fake_gain\n",
    "all_iq_sequence = [list(item) for item in zip(*tmp)]\n",
    "all_iq_sequence = [int(item) for sublist in all_iq_sequence for item in sublist]\n",
    "print(all_iq_sequence)"
   ]
  },
  {
   "cell_type": "markdown",
   "id": "d169b776",
   "metadata": {},
   "source": [
    "## Average in python"
   ]
  },
  {
   "cell_type": "code",
   "execution_count": 51,
   "id": "210bdd80",
   "metadata": {},
   "outputs": [
    {
     "name": "stdout",
     "output_type": "stream",
     "text": [
      "readout data length = 770 clock cycle\n"
     ]
    },
    {
     "data": {
      "application/vnd.jupyter.widget-view+json": {
       "model_id": "f5d1c823a46e4c79bec6f26d5bf01f59",
       "version_major": 2,
       "version_minor": 0
      },
      "text/plain": [
       "  0%|          | 0/1 [00:00<?, ?it/s]"
      ]
     },
     "metadata": {},
     "output_type": "display_data"
    },
    {
     "name": "stdout",
     "output_type": "stream",
     "text": [
      "readout data length = 770 clock cycle\n"
     ]
    },
    {
     "data": {
      "application/vnd.jupyter.widget-view+json": {
       "model_id": "40f020edd57741a0a94bc1510f7e63a2",
       "version_major": 2,
       "version_minor": 0
      },
      "text/plain": [
       "  0%|          | 0/1 [00:00<?, ?it/s]"
      ]
     },
     "metadata": {},
     "output_type": "display_data"
    },
    {
     "name": "stdout",
     "output_type": "stream",
     "text": [
      "readout data length = 770 clock cycle\n"
     ]
    },
    {
     "data": {
      "application/vnd.jupyter.widget-view+json": {
       "model_id": "ba405197773a48a38e1ee77d0808c13f",
       "version_major": 2,
       "version_minor": 0
      },
      "text/plain": [
       "  0%|          | 0/1 [00:00<?, ?it/s]"
      ]
     },
     "metadata": {},
     "output_type": "display_data"
    },
    {
     "name": "stdout",
     "output_type": "stream",
     "text": [
      "readout data length = 770 clock cycle\n"
     ]
    },
    {
     "data": {
      "application/vnd.jupyter.widget-view+json": {
       "model_id": "3298d3c2dc394914bfccc53383f7922a",
       "version_major": 2,
       "version_minor": 0
      },
      "text/plain": [
       "  0%|          | 0/1 [00:00<?, ?it/s]"
      ]
     },
     "metadata": {},
     "output_type": "display_data"
    },
    {
     "name": "stdout",
     "output_type": "stream",
     "text": [
      "readout data length = 770 clock cycle\n"
     ]
    },
    {
     "data": {
      "application/vnd.jupyter.widget-view+json": {
       "model_id": "33bf11132d8149f890ad7d4605772788",
       "version_major": 2,
       "version_minor": 0
      },
      "text/plain": [
       "  0%|          | 0/1 [00:00<?, ?it/s]"
      ]
     },
     "metadata": {},
     "output_type": "display_data"
    },
    {
     "name": "stdout",
     "output_type": "stream",
     "text": [
      "readout data length = 770 clock cycle\n"
     ]
    },
    {
     "data": {
      "application/vnd.jupyter.widget-view+json": {
       "model_id": "51f2eca077cd4cca80dbe2f6ccf4921b",
       "version_major": 2,
       "version_minor": 0
      },
      "text/plain": [
       "  0%|          | 0/1 [00:00<?, ?it/s]"
      ]
     },
     "metadata": {},
     "output_type": "display_data"
    },
    {
     "name": "stdout",
     "output_type": "stream",
     "text": [
      "readout data length = 770 clock cycle\n"
     ]
    },
    {
     "data": {
      "application/vnd.jupyter.widget-view+json": {
       "model_id": "45edc50de14d4628931cc7e9e1dd747e",
       "version_major": 2,
       "version_minor": 0
      },
      "text/plain": [
       "  0%|          | 0/1 [00:00<?, ?it/s]"
      ]
     },
     "metadata": {},
     "output_type": "display_data"
    },
    {
     "name": "stdout",
     "output_type": "stream",
     "text": [
      "readout data length = 770 clock cycle\n"
     ]
    },
    {
     "data": {
      "application/vnd.jupyter.widget-view+json": {
       "model_id": "fdff88f22f2643cb9562273c17d03db1",
       "version_major": 2,
       "version_minor": 0
      },
      "text/plain": [
       "  0%|          | 0/1 [00:00<?, ?it/s]"
      ]
     },
     "metadata": {},
     "output_type": "display_data"
    },
    {
     "name": "stdout",
     "output_type": "stream",
     "text": [
      "readout data length = 770 clock cycle\n"
     ]
    },
    {
     "data": {
      "application/vnd.jupyter.widget-view+json": {
       "model_id": "4bc5fbbde0434097aa9d8db0d89d199d",
       "version_major": 2,
       "version_minor": 0
      },
      "text/plain": [
       "  0%|          | 0/1 [00:00<?, ?it/s]"
      ]
     },
     "metadata": {},
     "output_type": "display_data"
    },
    {
     "name": "stdout",
     "output_type": "stream",
     "text": [
      "readout data length = 770 clock cycle\n"
     ]
    },
    {
     "data": {
      "application/vnd.jupyter.widget-view+json": {
       "model_id": "c7a0567dcda141f9b65aeed30e825640",
       "version_major": 2,
       "version_minor": 0
      },
      "text/plain": [
       "  0%|          | 0/1 [00:00<?, ?it/s]"
      ]
     },
     "metadata": {},
     "output_type": "display_data"
    },
    {
     "name": "stdout",
     "output_type": "stream",
     "text": [
      "readout data length = 770 clock cycle\n"
     ]
    },
    {
     "data": {
      "application/vnd.jupyter.widget-view+json": {
       "model_id": "5b3915f0b9fd413ebcee6d640a4a8eae",
       "version_major": 2,
       "version_minor": 0
      },
      "text/plain": [
       "  0%|          | 0/1 [00:00<?, ?it/s]"
      ]
     },
     "metadata": {},
     "output_type": "display_data"
    },
    {
     "name": "stdout",
     "output_type": "stream",
     "text": [
      "readout data length = 770 clock cycle\n"
     ]
    },
    {
     "data": {
      "application/vnd.jupyter.widget-view+json": {
       "model_id": "cf00f3940ea6469f888baa77d1417520",
       "version_major": 2,
       "version_minor": 0
      },
      "text/plain": [
       "  0%|          | 0/1 [00:00<?, ?it/s]"
      ]
     },
     "metadata": {},
     "output_type": "display_data"
    },
    {
     "name": "stdout",
     "output_type": "stream",
     "text": [
      "readout data length = 770 clock cycle\n"
     ]
    },
    {
     "data": {
      "application/vnd.jupyter.widget-view+json": {
       "model_id": "8f5130e1abee467185a85b47de79b78e",
       "version_major": 2,
       "version_minor": 0
      },
      "text/plain": [
       "  0%|          | 0/1 [00:00<?, ?it/s]"
      ]
     },
     "metadata": {},
     "output_type": "display_data"
    },
    {
     "name": "stdout",
     "output_type": "stream",
     "text": [
      "readout data length = 770 clock cycle\n"
     ]
    },
    {
     "data": {
      "application/vnd.jupyter.widget-view+json": {
       "model_id": "0fcf103190224a9881830a95e97f4dc8",
       "version_major": 2,
       "version_minor": 0
      },
      "text/plain": [
       "  0%|          | 0/1 [00:00<?, ?it/s]"
      ]
     },
     "metadata": {},
     "output_type": "display_data"
    },
    {
     "name": "stdout",
     "output_type": "stream",
     "text": [
      "readout data length = 770 clock cycle\n"
     ]
    },
    {
     "data": {
      "application/vnd.jupyter.widget-view+json": {
       "model_id": "5255a5915a834740a7d738077be1a38a",
       "version_major": 2,
       "version_minor": 0
      },
      "text/plain": [
       "  0%|          | 0/1 [00:00<?, ?it/s]"
      ]
     },
     "metadata": {},
     "output_type": "display_data"
    },
    {
     "name": "stdout",
     "output_type": "stream",
     "text": [
      "readout data length = 770 clock cycle\n"
     ]
    },
    {
     "data": {
      "application/vnd.jupyter.widget-view+json": {
       "model_id": "6c823fcee99d4d2086fe037d44620fb8",
       "version_major": 2,
       "version_minor": 0
      },
      "text/plain": [
       "  0%|          | 0/1 [00:00<?, ?it/s]"
      ]
     },
     "metadata": {},
     "output_type": "display_data"
    },
    {
     "name": "stdout",
     "output_type": "stream",
     "text": [
      "readout data length = 770 clock cycle\n"
     ]
    },
    {
     "data": {
      "application/vnd.jupyter.widget-view+json": {
       "model_id": "51f88eb1669044398869685a787c0a49",
       "version_major": 2,
       "version_minor": 0
      },
      "text/plain": [
       "  0%|          | 0/1 [00:00<?, ?it/s]"
      ]
     },
     "metadata": {},
     "output_type": "display_data"
    },
    {
     "name": "stdout",
     "output_type": "stream",
     "text": [
      "readout data length = 770 clock cycle\n"
     ]
    },
    {
     "data": {
      "application/vnd.jupyter.widget-view+json": {
       "model_id": "5b70019e999d42c8918004c08df35e9f",
       "version_major": 2,
       "version_minor": 0
      },
      "text/plain": [
       "  0%|          | 0/1 [00:00<?, ?it/s]"
      ]
     },
     "metadata": {},
     "output_type": "display_data"
    },
    {
     "name": "stdout",
     "output_type": "stream",
     "text": [
      "readout data length = 770 clock cycle\n"
     ]
    },
    {
     "data": {
      "application/vnd.jupyter.widget-view+json": {
       "model_id": "2b25cd86d822492cb5024942a9c58b5c",
       "version_major": 2,
       "version_minor": 0
      },
      "text/plain": [
       "  0%|          | 0/1 [00:00<?, ?it/s]"
      ]
     },
     "metadata": {},
     "output_type": "display_data"
    },
    {
     "name": "stdout",
     "output_type": "stream",
     "text": [
      "readout data length = 770 clock cycle\n"
     ]
    },
    {
     "data": {
      "application/vnd.jupyter.widget-view+json": {
       "model_id": "21f425a5ac634a9fa3092b52776a9587",
       "version_major": 2,
       "version_minor": 0
      },
      "text/plain": [
       "  0%|          | 0/1 [00:00<?, ?it/s]"
      ]
     },
     "metadata": {},
     "output_type": "display_data"
    },
    {
     "name": "stdout",
     "output_type": "stream",
     "text": [
      "readout data length = 770 clock cycle\n"
     ]
    },
    {
     "data": {
      "application/vnd.jupyter.widget-view+json": {
       "model_id": "ec5a230572314abc926200a9849ea432",
       "version_major": 2,
       "version_minor": 0
      },
      "text/plain": [
       "  0%|          | 0/1 [00:00<?, ?it/s]"
      ]
     },
     "metadata": {},
     "output_type": "display_data"
    },
    {
     "name": "stdout",
     "output_type": "stream",
     "text": [
      "readout data length = 770 clock cycle\n"
     ]
    },
    {
     "data": {
      "application/vnd.jupyter.widget-view+json": {
       "model_id": "f41718fd32d24e3592e82789efb63bb7",
       "version_major": 2,
       "version_minor": 0
      },
      "text/plain": [
       "  0%|          | 0/1 [00:00<?, ?it/s]"
      ]
     },
     "metadata": {},
     "output_type": "display_data"
    },
    {
     "name": "stdout",
     "output_type": "stream",
     "text": [
      "readout data length = 770 clock cycle\n"
     ]
    },
    {
     "data": {
      "application/vnd.jupyter.widget-view+json": {
       "model_id": "30755efbf4a445c386c0bab81e5e5c96",
       "version_major": 2,
       "version_minor": 0
      },
      "text/plain": [
       "  0%|          | 0/1 [00:00<?, ?it/s]"
      ]
     },
     "metadata": {},
     "output_type": "display_data"
    },
    {
     "name": "stdout",
     "output_type": "stream",
     "text": [
      "readout data length = 770 clock cycle\n"
     ]
    },
    {
     "data": {
      "application/vnd.jupyter.widget-view+json": {
       "model_id": "4713500c452b4be080c072dd242b743f",
       "version_major": 2,
       "version_minor": 0
      },
      "text/plain": [
       "  0%|          | 0/1 [00:00<?, ?it/s]"
      ]
     },
     "metadata": {},
     "output_type": "display_data"
    },
    {
     "name": "stdout",
     "output_type": "stream",
     "text": [
      "readout data length = 770 clock cycle\n"
     ]
    },
    {
     "data": {
      "application/vnd.jupyter.widget-view+json": {
       "model_id": "bbf30cb6c8064c5ab4a9e0c238effa6e",
       "version_major": 2,
       "version_minor": 0
      },
      "text/plain": [
       "  0%|          | 0/1 [00:00<?, ?it/s]"
      ]
     },
     "metadata": {},
     "output_type": "display_data"
    },
    {
     "name": "stdout",
     "output_type": "stream",
     "text": [
      "readout data length = 770 clock cycle\n"
     ]
    },
    {
     "data": {
      "application/vnd.jupyter.widget-view+json": {
       "model_id": "dc615230e50945e38d506872755a2ccc",
       "version_major": 2,
       "version_minor": 0
      },
      "text/plain": [
       "  0%|          | 0/1 [00:00<?, ?it/s]"
      ]
     },
     "metadata": {},
     "output_type": "display_data"
    },
    {
     "name": "stdout",
     "output_type": "stream",
     "text": [
      "readout data length = 770 clock cycle\n"
     ]
    },
    {
     "data": {
      "application/vnd.jupyter.widget-view+json": {
       "model_id": "235469cd5dfd4709bc99cac7b5a6d5e1",
       "version_major": 2,
       "version_minor": 0
      },
      "text/plain": [
       "  0%|          | 0/1 [00:00<?, ?it/s]"
      ]
     },
     "metadata": {},
     "output_type": "display_data"
    },
    {
     "name": "stdout",
     "output_type": "stream",
     "text": [
      "readout data length = 770 clock cycle\n"
     ]
    },
    {
     "data": {
      "application/vnd.jupyter.widget-view+json": {
       "model_id": "634e50dfe41d4fa5b444bcf276ef549f",
       "version_major": 2,
       "version_minor": 0
      },
      "text/plain": [
       "  0%|          | 0/1 [00:00<?, ?it/s]"
      ]
     },
     "metadata": {},
     "output_type": "display_data"
    },
    {
     "name": "stdout",
     "output_type": "stream",
     "text": [
      "readout data length = 770 clock cycle\n"
     ]
    },
    {
     "data": {
      "application/vnd.jupyter.widget-view+json": {
       "model_id": "c0f7836808944066b03c45a5f740cbd7",
       "version_major": 2,
       "version_minor": 0
      },
      "text/plain": [
       "  0%|          | 0/1 [00:00<?, ?it/s]"
      ]
     },
     "metadata": {},
     "output_type": "display_data"
    },
    {
     "name": "stdout",
     "output_type": "stream",
     "text": [
      "readout data length = 770 clock cycle\n"
     ]
    },
    {
     "data": {
      "application/vnd.jupyter.widget-view+json": {
       "model_id": "9d4796ddd31d4f3c8951e6d864297f82",
       "version_major": 2,
       "version_minor": 0
      },
      "text/plain": [
       "  0%|          | 0/1 [00:00<?, ?it/s]"
      ]
     },
     "metadata": {},
     "output_type": "display_data"
    },
    {
     "name": "stdout",
     "output_type": "stream",
     "text": [
      "readout data length = 770 clock cycle\n"
     ]
    },
    {
     "data": {
      "application/vnd.jupyter.widget-view+json": {
       "model_id": "76fb8a147601487db0ed20894810af45",
       "version_major": 2,
       "version_minor": 0
      },
      "text/plain": [
       "  0%|          | 0/1 [00:00<?, ?it/s]"
      ]
     },
     "metadata": {},
     "output_type": "display_data"
    },
    {
     "name": "stdout",
     "output_type": "stream",
     "text": [
      "readout data length = 770 clock cycle\n"
     ]
    },
    {
     "data": {
      "application/vnd.jupyter.widget-view+json": {
       "model_id": "00d410973909435c95ed876ee373f12b",
       "version_major": 2,
       "version_minor": 0
      },
      "text/plain": [
       "  0%|          | 0/1 [00:00<?, ?it/s]"
      ]
     },
     "metadata": {},
     "output_type": "display_data"
    },
    {
     "name": "stdout",
     "output_type": "stream",
     "text": [
      "readout data length = 770 clock cycle\n"
     ]
    },
    {
     "data": {
      "application/vnd.jupyter.widget-view+json": {
       "model_id": "0029e1006a91412bbf429c2fcbb92d81",
       "version_major": 2,
       "version_minor": 0
      },
      "text/plain": [
       "  0%|          | 0/1 [00:00<?, ?it/s]"
      ]
     },
     "metadata": {},
     "output_type": "display_data"
    },
    {
     "name": "stdout",
     "output_type": "stream",
     "text": [
      "readout data length = 770 clock cycle\n"
     ]
    },
    {
     "data": {
      "application/vnd.jupyter.widget-view+json": {
       "model_id": "94293f8407464681928ed9bbd26f5a6f",
       "version_major": 2,
       "version_minor": 0
      },
      "text/plain": [
       "  0%|          | 0/1 [00:00<?, ?it/s]"
      ]
     },
     "metadata": {},
     "output_type": "display_data"
    },
    {
     "name": "stdout",
     "output_type": "stream",
     "text": [
      "readout data length = 770 clock cycle\n"
     ]
    },
    {
     "data": {
      "application/vnd.jupyter.widget-view+json": {
       "model_id": "25d7d21de52b41808607d158004d68d4",
       "version_major": 2,
       "version_minor": 0
      },
      "text/plain": [
       "  0%|          | 0/1 [00:00<?, ?it/s]"
      ]
     },
     "metadata": {},
     "output_type": "display_data"
    },
    {
     "name": "stdout",
     "output_type": "stream",
     "text": [
      "readout data length = 770 clock cycle\n"
     ]
    },
    {
     "data": {
      "application/vnd.jupyter.widget-view+json": {
       "model_id": "6db2284fa7fe4beaa7bf44dbb8afa32d",
       "version_major": 2,
       "version_minor": 0
      },
      "text/plain": [
       "  0%|          | 0/1 [00:00<?, ?it/s]"
      ]
     },
     "metadata": {},
     "output_type": "display_data"
    },
    {
     "name": "stdout",
     "output_type": "stream",
     "text": [
      "readout data length = 770 clock cycle\n"
     ]
    },
    {
     "data": {
      "application/vnd.jupyter.widget-view+json": {
       "model_id": "c7fcec6566aa4a2e8b2c4fa07bc11122",
       "version_major": 2,
       "version_minor": 0
      },
      "text/plain": [
       "  0%|          | 0/1 [00:00<?, ?it/s]"
      ]
     },
     "metadata": {},
     "output_type": "display_data"
    },
    {
     "name": "stdout",
     "output_type": "stream",
     "text": [
      "readout data length = 770 clock cycle\n"
     ]
    },
    {
     "data": {
      "application/vnd.jupyter.widget-view+json": {
       "model_id": "005fe5ce275040c8b55bbbfc011faf35",
       "version_major": 2,
       "version_minor": 0
      },
      "text/plain": [
       "  0%|          | 0/1 [00:00<?, ?it/s]"
      ]
     },
     "metadata": {},
     "output_type": "display_data"
    },
    {
     "name": "stdout",
     "output_type": "stream",
     "text": [
      "readout data length = 770 clock cycle\n"
     ]
    },
    {
     "data": {
      "application/vnd.jupyter.widget-view+json": {
       "model_id": "b693c0eafd454a87b34485a524019061",
       "version_major": 2,
       "version_minor": 0
      },
      "text/plain": [
       "  0%|          | 0/1 [00:00<?, ?it/s]"
      ]
     },
     "metadata": {},
     "output_type": "display_data"
    },
    {
     "name": "stdout",
     "output_type": "stream",
     "text": [
      "readout data length = 770 clock cycle\n"
     ]
    },
    {
     "data": {
      "application/vnd.jupyter.widget-view+json": {
       "model_id": "fec0fb2b0add42dca9879d6f964e2ff0",
       "version_major": 2,
       "version_minor": 0
      },
      "text/plain": [
       "  0%|          | 0/1 [00:00<?, ?it/s]"
      ]
     },
     "metadata": {},
     "output_type": "display_data"
    },
    {
     "name": "stdout",
     "output_type": "stream",
     "text": [
      "readout data length = 770 clock cycle\n"
     ]
    },
    {
     "data": {
      "application/vnd.jupyter.widget-view+json": {
       "model_id": "a37f9544c17947feac11990be47256bf",
       "version_major": 2,
       "version_minor": 0
      },
      "text/plain": [
       "  0%|          | 0/1 [00:00<?, ?it/s]"
      ]
     },
     "metadata": {},
     "output_type": "display_data"
    },
    {
     "name": "stdout",
     "output_type": "stream",
     "text": [
      "readout data length = 770 clock cycle\n"
     ]
    },
    {
     "data": {
      "application/vnd.jupyter.widget-view+json": {
       "model_id": "b9f65b53118f4971a5d0cf59b50d9ec8",
       "version_major": 2,
       "version_minor": 0
      },
      "text/plain": [
       "  0%|          | 0/1 [00:00<?, ?it/s]"
      ]
     },
     "metadata": {},
     "output_type": "display_data"
    },
    {
     "name": "stdout",
     "output_type": "stream",
     "text": [
      "readout data length = 770 clock cycle\n"
     ]
    },
    {
     "data": {
      "application/vnd.jupyter.widget-view+json": {
       "model_id": "500f022a86e04def89f4d80c94302bb6",
       "version_major": 2,
       "version_minor": 0
      },
      "text/plain": [
       "  0%|          | 0/1 [00:00<?, ?it/s]"
      ]
     },
     "metadata": {},
     "output_type": "display_data"
    },
    {
     "name": "stdout",
     "output_type": "stream",
     "text": [
      "readout data length = 770 clock cycle\n"
     ]
    },
    {
     "data": {
      "application/vnd.jupyter.widget-view+json": {
       "model_id": "11b7a78532974df5b9b1f596f9ff44e7",
       "version_major": 2,
       "version_minor": 0
      },
      "text/plain": [
       "  0%|          | 0/1 [00:00<?, ?it/s]"
      ]
     },
     "metadata": {},
     "output_type": "display_data"
    },
    {
     "name": "stdout",
     "output_type": "stream",
     "text": [
      "readout data length = 770 clock cycle\n"
     ]
    },
    {
     "data": {
      "application/vnd.jupyter.widget-view+json": {
       "model_id": "c50e6faad7b24d5282a59fdea780fda9",
       "version_major": 2,
       "version_minor": 0
      },
      "text/plain": [
       "  0%|          | 0/1 [00:00<?, ?it/s]"
      ]
     },
     "metadata": {},
     "output_type": "display_data"
    },
    {
     "name": "stdout",
     "output_type": "stream",
     "text": [
      "readout data length = 770 clock cycle\n"
     ]
    },
    {
     "data": {
      "application/vnd.jupyter.widget-view+json": {
       "model_id": "57a870d674b8434ea342639dc0c11998",
       "version_major": 2,
       "version_minor": 0
      },
      "text/plain": [
       "  0%|          | 0/1 [00:00<?, ?it/s]"
      ]
     },
     "metadata": {},
     "output_type": "display_data"
    },
    {
     "name": "stdout",
     "output_type": "stream",
     "text": [
      "readout data length = 770 clock cycle\n"
     ]
    },
    {
     "data": {
      "application/vnd.jupyter.widget-view+json": {
       "model_id": "35c10050428c4bb39b9fedf747319aa9",
       "version_major": 2,
       "version_minor": 0
      },
      "text/plain": [
       "  0%|          | 0/1 [00:00<?, ?it/s]"
      ]
     },
     "metadata": {},
     "output_type": "display_data"
    },
    {
     "name": "stdout",
     "output_type": "stream",
     "text": [
      "readout data length = 770 clock cycle\n"
     ]
    },
    {
     "data": {
      "application/vnd.jupyter.widget-view+json": {
       "model_id": "b07bb364226e4d399362efd6a9f7ceb5",
       "version_major": 2,
       "version_minor": 0
      },
      "text/plain": [
       "  0%|          | 0/1 [00:00<?, ?it/s]"
      ]
     },
     "metadata": {},
     "output_type": "display_data"
    },
    {
     "name": "stdout",
     "output_type": "stream",
     "text": [
      "readout data length = 770 clock cycle\n"
     ]
    },
    {
     "data": {
      "application/vnd.jupyter.widget-view+json": {
       "model_id": "9793512fcf0e4992811f475136d9ead9",
       "version_major": 2,
       "version_minor": 0
      },
      "text/plain": [
       "  0%|          | 0/1 [00:00<?, ?it/s]"
      ]
     },
     "metadata": {},
     "output_type": "display_data"
    },
    {
     "name": "stdout",
     "output_type": "stream",
     "text": [
      "readout data length = 770 clock cycle\n"
     ]
    },
    {
     "data": {
      "application/vnd.jupyter.widget-view+json": {
       "model_id": "9fc6b1793bc74627b706ac9dee86bc50",
       "version_major": 2,
       "version_minor": 0
      },
      "text/plain": [
       "  0%|          | 0/1 [00:00<?, ?it/s]"
      ]
     },
     "metadata": {},
     "output_type": "display_data"
    },
    {
     "name": "stdout",
     "output_type": "stream",
     "text": [
      "readout data length = 770 clock cycle\n"
     ]
    },
    {
     "data": {
      "application/vnd.jupyter.widget-view+json": {
       "model_id": "7719e090afd14df2b0c09e47ed1b732f",
       "version_major": 2,
       "version_minor": 0
      },
      "text/plain": [
       "  0%|          | 0/1 [00:00<?, ?it/s]"
      ]
     },
     "metadata": {},
     "output_type": "display_data"
    },
    {
     "name": "stdout",
     "output_type": "stream",
     "text": [
      "readout data length = 770 clock cycle\n"
     ]
    },
    {
     "data": {
      "application/vnd.jupyter.widget-view+json": {
       "model_id": "03cd8b54aab94330b32497ec4ef6c43a",
       "version_major": 2,
       "version_minor": 0
      },
      "text/plain": [
       "  0%|          | 0/1 [00:00<?, ?it/s]"
      ]
     },
     "metadata": {},
     "output_type": "display_data"
    },
    {
     "name": "stdout",
     "output_type": "stream",
     "text": [
      "readout data length = 770 clock cycle\n"
     ]
    },
    {
     "data": {
      "application/vnd.jupyter.widget-view+json": {
       "model_id": "a6b7a7c56e9241ec9728f0be45b0b8b5",
       "version_major": 2,
       "version_minor": 0
      },
      "text/plain": [
       "  0%|          | 0/1 [00:00<?, ?it/s]"
      ]
     },
     "metadata": {},
     "output_type": "display_data"
    },
    {
     "name": "stdout",
     "output_type": "stream",
     "text": [
      "readout data length = 770 clock cycle\n"
     ]
    },
    {
     "data": {
      "application/vnd.jupyter.widget-view+json": {
       "model_id": "827af022975e4acfb607841073553fdd",
       "version_major": 2,
       "version_minor": 0
      },
      "text/plain": [
       "  0%|          | 0/1 [00:00<?, ?it/s]"
      ]
     },
     "metadata": {},
     "output_type": "display_data"
    },
    {
     "name": "stdout",
     "output_type": "stream",
     "text": [
      "readout data length = 770 clock cycle\n"
     ]
    },
    {
     "data": {
      "application/vnd.jupyter.widget-view+json": {
       "model_id": "d120ebd76b9344f0afbed8d9a9892d60",
       "version_major": 2,
       "version_minor": 0
      },
      "text/plain": [
       "  0%|          | 0/1 [00:00<?, ?it/s]"
      ]
     },
     "metadata": {},
     "output_type": "display_data"
    },
    {
     "name": "stdout",
     "output_type": "stream",
     "text": [
      "readout data length = 770 clock cycle\n"
     ]
    },
    {
     "data": {
      "application/vnd.jupyter.widget-view+json": {
       "model_id": "76340bda89fc42fb9fa9c96bed93cc84",
       "version_major": 2,
       "version_minor": 0
      },
      "text/plain": [
       "  0%|          | 0/1 [00:00<?, ?it/s]"
      ]
     },
     "metadata": {},
     "output_type": "display_data"
    },
    {
     "name": "stdout",
     "output_type": "stream",
     "text": [
      "readout data length = 770 clock cycle\n"
     ]
    },
    {
     "data": {
      "application/vnd.jupyter.widget-view+json": {
       "model_id": "f1fb82b1cdd64cb4a30b7b813a4c864f",
       "version_major": 2,
       "version_minor": 0
      },
      "text/plain": [
       "  0%|          | 0/1 [00:00<?, ?it/s]"
      ]
     },
     "metadata": {},
     "output_type": "display_data"
    },
    {
     "name": "stdout",
     "output_type": "stream",
     "text": [
      "readout data length = 770 clock cycle\n"
     ]
    },
    {
     "data": {
      "application/vnd.jupyter.widget-view+json": {
       "model_id": "717cf173ed0c464baaa9d4753637ebe2",
       "version_major": 2,
       "version_minor": 0
      },
      "text/plain": [
       "  0%|          | 0/1 [00:00<?, ?it/s]"
      ]
     },
     "metadata": {},
     "output_type": "display_data"
    },
    {
     "name": "stdout",
     "output_type": "stream",
     "text": [
      "readout data length = 770 clock cycle\n"
     ]
    },
    {
     "data": {
      "application/vnd.jupyter.widget-view+json": {
       "model_id": "9737c519c0d94620a349617cf3a2c91f",
       "version_major": 2,
       "version_minor": 0
      },
      "text/plain": [
       "  0%|          | 0/1 [00:00<?, ?it/s]"
      ]
     },
     "metadata": {},
     "output_type": "display_data"
    },
    {
     "name": "stdout",
     "output_type": "stream",
     "text": [
      "readout data length = 770 clock cycle\n"
     ]
    },
    {
     "data": {
      "application/vnd.jupyter.widget-view+json": {
       "model_id": "0b04bb0cca3b49888ca64bf0dbd51353",
       "version_major": 2,
       "version_minor": 0
      },
      "text/plain": [
       "  0%|          | 0/1 [00:00<?, ?it/s]"
      ]
     },
     "metadata": {},
     "output_type": "display_data"
    },
    {
     "name": "stdout",
     "output_type": "stream",
     "text": [
      "readout data length = 770 clock cycle\n"
     ]
    },
    {
     "data": {
      "application/vnd.jupyter.widget-view+json": {
       "model_id": "389efd56b71d4780bbdd64f0a6f9c434",
       "version_major": 2,
       "version_minor": 0
      },
      "text/plain": [
       "  0%|          | 0/1 [00:00<?, ?it/s]"
      ]
     },
     "metadata": {},
     "output_type": "display_data"
    },
    {
     "name": "stdout",
     "output_type": "stream",
     "text": [
      "readout data length = 770 clock cycle\n"
     ]
    },
    {
     "data": {
      "application/vnd.jupyter.widget-view+json": {
       "model_id": "5f59204357384f24a8e386a7724f450f",
       "version_major": 2,
       "version_minor": 0
      },
      "text/plain": [
       "  0%|          | 0/1 [00:00<?, ?it/s]"
      ]
     },
     "metadata": {},
     "output_type": "display_data"
    },
    {
     "name": "stdout",
     "output_type": "stream",
     "text": [
      "readout data length = 770 clock cycle\n"
     ]
    },
    {
     "data": {
      "application/vnd.jupyter.widget-view+json": {
       "model_id": "75db8bc6d5c141f4886d3f13f784035b",
       "version_major": 2,
       "version_minor": 0
      },
      "text/plain": [
       "  0%|          | 0/1 [00:00<?, ?it/s]"
      ]
     },
     "metadata": {},
     "output_type": "display_data"
    },
    {
     "name": "stdout",
     "output_type": "stream",
     "text": [
      "readout data length = 770 clock cycle\n"
     ]
    },
    {
     "data": {
      "application/vnd.jupyter.widget-view+json": {
       "model_id": "d82d8db5c82b43e190d2cba8e7a0831e",
       "version_major": 2,
       "version_minor": 0
      },
      "text/plain": [
       "  0%|          | 0/1 [00:00<?, ?it/s]"
      ]
     },
     "metadata": {},
     "output_type": "display_data"
    },
    {
     "name": "stdout",
     "output_type": "stream",
     "text": [
      "readout data length = 770 clock cycle\n"
     ]
    },
    {
     "data": {
      "application/vnd.jupyter.widget-view+json": {
       "model_id": "0e9c45a7bc23488bb2e869e2dc405cdf",
       "version_major": 2,
       "version_minor": 0
      },
      "text/plain": [
       "  0%|          | 0/1 [00:00<?, ?it/s]"
      ]
     },
     "metadata": {},
     "output_type": "display_data"
    },
    {
     "name": "stdout",
     "output_type": "stream",
     "text": [
      "readout data length = 770 clock cycle\n"
     ]
    },
    {
     "data": {
      "application/vnd.jupyter.widget-view+json": {
       "model_id": "71204ec2322648c59fb5c07576837eec",
       "version_major": 2,
       "version_minor": 0
      },
      "text/plain": [
       "  0%|          | 0/1 [00:00<?, ?it/s]"
      ]
     },
     "metadata": {},
     "output_type": "display_data"
    },
    {
     "name": "stdout",
     "output_type": "stream",
     "text": [
      "readout data length = 770 clock cycle\n"
     ]
    },
    {
     "data": {
      "application/vnd.jupyter.widget-view+json": {
       "model_id": "9059368ee8b049faa18c53d5f692e9e4",
       "version_major": 2,
       "version_minor": 0
      },
      "text/plain": [
       "  0%|          | 0/1 [00:00<?, ?it/s]"
      ]
     },
     "metadata": {},
     "output_type": "display_data"
    },
    {
     "name": "stdout",
     "output_type": "stream",
     "text": [
      "readout data length = 770 clock cycle\n"
     ]
    },
    {
     "data": {
      "application/vnd.jupyter.widget-view+json": {
       "model_id": "763911f0c27646a98d3d43cc07804034",
       "version_major": 2,
       "version_minor": 0
      },
      "text/plain": [
       "  0%|          | 0/1 [00:00<?, ?it/s]"
      ]
     },
     "metadata": {},
     "output_type": "display_data"
    },
    {
     "name": "stdout",
     "output_type": "stream",
     "text": [
      "readout data length = 770 clock cycle\n"
     ]
    },
    {
     "data": {
      "application/vnd.jupyter.widget-view+json": {
       "model_id": "4fe11c057113406f913a18a17741d4c4",
       "version_major": 2,
       "version_minor": 0
      },
      "text/plain": [
       "  0%|          | 0/1 [00:00<?, ?it/s]"
      ]
     },
     "metadata": {},
     "output_type": "display_data"
    },
    {
     "name": "stdout",
     "output_type": "stream",
     "text": [
      "readout data length = 770 clock cycle\n"
     ]
    },
    {
     "data": {
      "application/vnd.jupyter.widget-view+json": {
       "model_id": "2ac997a8be4a4dd2af2db27e042e88b5",
       "version_major": 2,
       "version_minor": 0
      },
      "text/plain": [
       "  0%|          | 0/1 [00:00<?, ?it/s]"
      ]
     },
     "metadata": {},
     "output_type": "display_data"
    },
    {
     "name": "stdout",
     "output_type": "stream",
     "text": [
      "readout data length = 770 clock cycle\n"
     ]
    },
    {
     "data": {
      "application/vnd.jupyter.widget-view+json": {
       "model_id": "03a95b94d47b43cd8eebc2508f3ea491",
       "version_major": 2,
       "version_minor": 0
      },
      "text/plain": [
       "  0%|          | 0/1 [00:00<?, ?it/s]"
      ]
     },
     "metadata": {},
     "output_type": "display_data"
    },
    {
     "name": "stdout",
     "output_type": "stream",
     "text": [
      "readout data length = 770 clock cycle\n"
     ]
    },
    {
     "data": {
      "application/vnd.jupyter.widget-view+json": {
       "model_id": "f995aacb0dd24da196d8f6a2496c1438",
       "version_major": 2,
       "version_minor": 0
      },
      "text/plain": [
       "  0%|          | 0/1 [00:00<?, ?it/s]"
      ]
     },
     "metadata": {},
     "output_type": "display_data"
    },
    {
     "name": "stdout",
     "output_type": "stream",
     "text": [
      "readout data length = 770 clock cycle\n"
     ]
    },
    {
     "data": {
      "application/vnd.jupyter.widget-view+json": {
       "model_id": "d535a30a79a5431cb7436c94973c9884",
       "version_major": 2,
       "version_minor": 0
      },
      "text/plain": [
       "  0%|          | 0/1 [00:00<?, ?it/s]"
      ]
     },
     "metadata": {},
     "output_type": "display_data"
    },
    {
     "name": "stdout",
     "output_type": "stream",
     "text": [
      "readout data length = 770 clock cycle\n"
     ]
    },
    {
     "data": {
      "application/vnd.jupyter.widget-view+json": {
       "model_id": "dd0244e102c84139bf8d2ab348318acc",
       "version_major": 2,
       "version_minor": 0
      },
      "text/plain": [
       "  0%|          | 0/1 [00:00<?, ?it/s]"
      ]
     },
     "metadata": {},
     "output_type": "display_data"
    },
    {
     "name": "stdout",
     "output_type": "stream",
     "text": [
      "readout data length = 770 clock cycle\n"
     ]
    },
    {
     "data": {
      "application/vnd.jupyter.widget-view+json": {
       "model_id": "e13139bc1ebf43328147d08809213ff2",
       "version_major": 2,
       "version_minor": 0
      },
      "text/plain": [
       "  0%|          | 0/1 [00:00<?, ?it/s]"
      ]
     },
     "metadata": {},
     "output_type": "display_data"
    },
    {
     "name": "stdout",
     "output_type": "stream",
     "text": [
      "readout data length = 770 clock cycle\n"
     ]
    },
    {
     "data": {
      "application/vnd.jupyter.widget-view+json": {
       "model_id": "67c0f30c38e24f20981708ef27f1fa94",
       "version_major": 2,
       "version_minor": 0
      },
      "text/plain": [
       "  0%|          | 0/1 [00:00<?, ?it/s]"
      ]
     },
     "metadata": {},
     "output_type": "display_data"
    },
    {
     "name": "stdout",
     "output_type": "stream",
     "text": [
      "readout data length = 770 clock cycle\n"
     ]
    },
    {
     "data": {
      "application/vnd.jupyter.widget-view+json": {
       "model_id": "8279c8bf97154b63a139bb096f7b981d",
       "version_major": 2,
       "version_minor": 0
      },
      "text/plain": [
       "  0%|          | 0/1 [00:00<?, ?it/s]"
      ]
     },
     "metadata": {},
     "output_type": "display_data"
    },
    {
     "name": "stdout",
     "output_type": "stream",
     "text": [
      "readout data length = 770 clock cycle\n"
     ]
    },
    {
     "data": {
      "application/vnd.jupyter.widget-view+json": {
       "model_id": "010351c1f12c4d1ebdae403340c819cd",
       "version_major": 2,
       "version_minor": 0
      },
      "text/plain": [
       "  0%|          | 0/1 [00:00<?, ?it/s]"
      ]
     },
     "metadata": {},
     "output_type": "display_data"
    },
    {
     "name": "stdout",
     "output_type": "stream",
     "text": [
      "readout data length = 770 clock cycle\n"
     ]
    },
    {
     "data": {
      "application/vnd.jupyter.widget-view+json": {
       "model_id": "50ce26d616e6485e929a152eb8e6a8cf",
       "version_major": 2,
       "version_minor": 0
      },
      "text/plain": [
       "  0%|          | 0/1 [00:00<?, ?it/s]"
      ]
     },
     "metadata": {},
     "output_type": "display_data"
    },
    {
     "name": "stdout",
     "output_type": "stream",
     "text": [
      "readout data length = 770 clock cycle\n"
     ]
    },
    {
     "data": {
      "application/vnd.jupyter.widget-view+json": {
       "model_id": "642d6a799f274e1db954c2599582fec2",
       "version_major": 2,
       "version_minor": 0
      },
      "text/plain": [
       "  0%|          | 0/1 [00:00<?, ?it/s]"
      ]
     },
     "metadata": {},
     "output_type": "display_data"
    },
    {
     "name": "stdout",
     "output_type": "stream",
     "text": [
      "readout data length = 770 clock cycle\n"
     ]
    },
    {
     "data": {
      "application/vnd.jupyter.widget-view+json": {
       "model_id": "3a4ab08a2271427a87ba4003e2d01615",
       "version_major": 2,
       "version_minor": 0
      },
      "text/plain": [
       "  0%|          | 0/1 [00:00<?, ?it/s]"
      ]
     },
     "metadata": {},
     "output_type": "display_data"
    },
    {
     "name": "stdout",
     "output_type": "stream",
     "text": [
      "readout data length = 770 clock cycle\n"
     ]
    },
    {
     "data": {
      "application/vnd.jupyter.widget-view+json": {
       "model_id": "405f7f25b70e43658c209a51c75bbceb",
       "version_major": 2,
       "version_minor": 0
      },
      "text/plain": [
       "  0%|          | 0/1 [00:00<?, ?it/s]"
      ]
     },
     "metadata": {},
     "output_type": "display_data"
    },
    {
     "name": "stdout",
     "output_type": "stream",
     "text": [
      "readout data length = 770 clock cycle\n"
     ]
    },
    {
     "data": {
      "application/vnd.jupyter.widget-view+json": {
       "model_id": "3572cfb7beb44e3d94fa4636d784840d",
       "version_major": 2,
       "version_minor": 0
      },
      "text/plain": [
       "  0%|          | 0/1 [00:00<?, ?it/s]"
      ]
     },
     "metadata": {},
     "output_type": "display_data"
    },
    {
     "name": "stdout",
     "output_type": "stream",
     "text": [
      "readout data length = 770 clock cycle\n"
     ]
    },
    {
     "data": {
      "application/vnd.jupyter.widget-view+json": {
       "model_id": "a547995199c8404ab6bfbc4cd04912ae",
       "version_major": 2,
       "version_minor": 0
      },
      "text/plain": [
       "  0%|          | 0/1 [00:00<?, ?it/s]"
      ]
     },
     "metadata": {},
     "output_type": "display_data"
    },
    {
     "name": "stdout",
     "output_type": "stream",
     "text": [
      "readout data length = 770 clock cycle\n"
     ]
    },
    {
     "data": {
      "application/vnd.jupyter.widget-view+json": {
       "model_id": "87901a73a0d74d03ba7fc22ca4915d83",
       "version_major": 2,
       "version_minor": 0
      },
      "text/plain": [
       "  0%|          | 0/1 [00:00<?, ?it/s]"
      ]
     },
     "metadata": {},
     "output_type": "display_data"
    },
    {
     "name": "stdout",
     "output_type": "stream",
     "text": [
      "readout data length = 770 clock cycle\n"
     ]
    },
    {
     "data": {
      "application/vnd.jupyter.widget-view+json": {
       "model_id": "83e15ffac86640e59e78316b4a99af77",
       "version_major": 2,
       "version_minor": 0
      },
      "text/plain": [
       "  0%|          | 0/1 [00:00<?, ?it/s]"
      ]
     },
     "metadata": {},
     "output_type": "display_data"
    },
    {
     "name": "stdout",
     "output_type": "stream",
     "text": [
      "readout data length = 770 clock cycle\n"
     ]
    },
    {
     "data": {
      "application/vnd.jupyter.widget-view+json": {
       "model_id": "3bcb5048155f418abbbe988af62c27ba",
       "version_major": 2,
       "version_minor": 0
      },
      "text/plain": [
       "  0%|          | 0/1 [00:00<?, ?it/s]"
      ]
     },
     "metadata": {},
     "output_type": "display_data"
    },
    {
     "name": "stdout",
     "output_type": "stream",
     "text": [
      "readout data length = 770 clock cycle\n"
     ]
    },
    {
     "data": {
      "application/vnd.jupyter.widget-view+json": {
       "model_id": "fa11989a4f2a45e4a83d9a6c731dc794",
       "version_major": 2,
       "version_minor": 0
      },
      "text/plain": [
       "  0%|          | 0/1 [00:00<?, ?it/s]"
      ]
     },
     "metadata": {},
     "output_type": "display_data"
    },
    {
     "name": "stdout",
     "output_type": "stream",
     "text": [
      "readout data length = 770 clock cycle\n"
     ]
    },
    {
     "data": {
      "application/vnd.jupyter.widget-view+json": {
       "model_id": "ead845224ef74b0d883dd2e06040b380",
       "version_major": 2,
       "version_minor": 0
      },
      "text/plain": [
       "  0%|          | 0/1 [00:00<?, ?it/s]"
      ]
     },
     "metadata": {},
     "output_type": "display_data"
    },
    {
     "name": "stdout",
     "output_type": "stream",
     "text": [
      "readout data length = 770 clock cycle\n"
     ]
    },
    {
     "data": {
      "application/vnd.jupyter.widget-view+json": {
       "model_id": "1bda156e73dc4a6a82cfebea339cb61d",
       "version_major": 2,
       "version_minor": 0
      },
      "text/plain": [
       "  0%|          | 0/1 [00:00<?, ?it/s]"
      ]
     },
     "metadata": {},
     "output_type": "display_data"
    },
    {
     "name": "stdout",
     "output_type": "stream",
     "text": [
      "readout data length = 770 clock cycle\n"
     ]
    },
    {
     "data": {
      "application/vnd.jupyter.widget-view+json": {
       "model_id": "e2818e3fe7c84842aae5e7816df4251d",
       "version_major": 2,
       "version_minor": 0
      },
      "text/plain": [
       "  0%|          | 0/1 [00:00<?, ?it/s]"
      ]
     },
     "metadata": {},
     "output_type": "display_data"
    },
    {
     "name": "stdout",
     "output_type": "stream",
     "text": [
      "readout data length = 770 clock cycle\n"
     ]
    },
    {
     "data": {
      "application/vnd.jupyter.widget-view+json": {
       "model_id": "1fe7ed5eaaea4bab8ca38c6de251a751",
       "version_major": 2,
       "version_minor": 0
      },
      "text/plain": [
       "  0%|          | 0/1 [00:00<?, ?it/s]"
      ]
     },
     "metadata": {},
     "output_type": "display_data"
    },
    {
     "name": "stdout",
     "output_type": "stream",
     "text": [
      "readout data length = 770 clock cycle\n"
     ]
    },
    {
     "data": {
      "application/vnd.jupyter.widget-view+json": {
       "model_id": "a670df623b774daea305b0742582e5e3",
       "version_major": 2,
       "version_minor": 0
      },
      "text/plain": [
       "  0%|          | 0/1 [00:00<?, ?it/s]"
      ]
     },
     "metadata": {},
     "output_type": "display_data"
    },
    {
     "name": "stdout",
     "output_type": "stream",
     "text": [
      "readout data length = 770 clock cycle\n"
     ]
    },
    {
     "data": {
      "application/vnd.jupyter.widget-view+json": {
       "model_id": "0505d57bb2934ccc8606c5061bfee1f8",
       "version_major": 2,
       "version_minor": 0
      },
      "text/plain": [
       "  0%|          | 0/1 [00:00<?, ?it/s]"
      ]
     },
     "metadata": {},
     "output_type": "display_data"
    },
    {
     "name": "stdout",
     "output_type": "stream",
     "text": [
      "readout data length = 770 clock cycle\n"
     ]
    },
    {
     "data": {
      "application/vnd.jupyter.widget-view+json": {
       "model_id": "5ef889fc45cc45b49e8148a1030fe406",
       "version_major": 2,
       "version_minor": 0
      },
      "text/plain": [
       "  0%|          | 0/1 [00:00<?, ?it/s]"
      ]
     },
     "metadata": {},
     "output_type": "display_data"
    },
    {
     "name": "stdout",
     "output_type": "stream",
     "text": [
      "readout data length = 770 clock cycle\n"
     ]
    },
    {
     "data": {
      "application/vnd.jupyter.widget-view+json": {
       "model_id": "a6bedc7723514c8f876c3c1220f3ac32",
       "version_major": 2,
       "version_minor": 0
      },
      "text/plain": [
       "  0%|          | 0/1 [00:00<?, ?it/s]"
      ]
     },
     "metadata": {},
     "output_type": "display_data"
    },
    {
     "name": "stdout",
     "output_type": "stream",
     "text": [
      "readout data length = 770 clock cycle\n"
     ]
    },
    {
     "data": {
      "application/vnd.jupyter.widget-view+json": {
       "model_id": "ca167980c00440c8b3036c74a367f456",
       "version_major": 2,
       "version_minor": 0
      },
      "text/plain": [
       "  0%|          | 0/1 [00:00<?, ?it/s]"
      ]
     },
     "metadata": {},
     "output_type": "display_data"
    },
    {
     "name": "stdout",
     "output_type": "stream",
     "text": [
      "readout data length = 770 clock cycle\n"
     ]
    },
    {
     "data": {
      "application/vnd.jupyter.widget-view+json": {
       "model_id": "17bd8c78cb8548de957df4be7a8183e4",
       "version_major": 2,
       "version_minor": 0
      },
      "text/plain": [
       "  0%|          | 0/1 [00:00<?, ?it/s]"
      ]
     },
     "metadata": {},
     "output_type": "display_data"
    },
    {
     "name": "stdout",
     "output_type": "stream",
     "text": [
      "readout data length = 770 clock cycle\n"
     ]
    },
    {
     "data": {
      "application/vnd.jupyter.widget-view+json": {
       "model_id": "8aebf185f5554bb0a0e1b0862c1a5140",
       "version_major": 2,
       "version_minor": 0
      },
      "text/plain": [
       "  0%|          | 0/1 [00:00<?, ?it/s]"
      ]
     },
     "metadata": {},
     "output_type": "display_data"
    },
    {
     "name": "stdout",
     "output_type": "stream",
     "text": [
      "readout data length = 770 clock cycle\n"
     ]
    },
    {
     "data": {
      "application/vnd.jupyter.widget-view+json": {
       "model_id": "0560ab24ac554f17b038c393354c6c09",
       "version_major": 2,
       "version_minor": 0
      },
      "text/plain": [
       "  0%|          | 0/1 [00:00<?, ?it/s]"
      ]
     },
     "metadata": {},
     "output_type": "display_data"
    },
    {
     "name": "stdout",
     "output_type": "stream",
     "text": [
      "readout data length = 770 clock cycle\n"
     ]
    },
    {
     "data": {
      "application/vnd.jupyter.widget-view+json": {
       "model_id": "fafc683bd79f467dab717fb18db0e6d2",
       "version_major": 2,
       "version_minor": 0
      },
      "text/plain": [
       "  0%|          | 0/1 [00:00<?, ?it/s]"
      ]
     },
     "metadata": {},
     "output_type": "display_data"
    },
    {
     "name": "stdout",
     "output_type": "stream",
     "text": [
      "readout data length = 770 clock cycle\n"
     ]
    },
    {
     "data": {
      "application/vnd.jupyter.widget-view+json": {
       "model_id": "7f32c22a758f4b9daad2374cb406aeee",
       "version_major": 2,
       "version_minor": 0
      },
      "text/plain": [
       "  0%|          | 0/1 [00:00<?, ?it/s]"
      ]
     },
     "metadata": {},
     "output_type": "display_data"
    },
    {
     "name": "stdout",
     "output_type": "stream",
     "text": [
      "readout data length = 770 clock cycle\n"
     ]
    },
    {
     "data": {
      "application/vnd.jupyter.widget-view+json": {
       "model_id": "2d999e789e724446a09d0267c53c7d19",
       "version_major": 2,
       "version_minor": 0
      },
      "text/plain": [
       "  0%|          | 0/1 [00:00<?, ?it/s]"
      ]
     },
     "metadata": {},
     "output_type": "display_data"
    },
    {
     "name": "stdout",
     "output_type": "stream",
     "text": [
      "readout data length = 770 clock cycle\n"
     ]
    },
    {
     "data": {
      "application/vnd.jupyter.widget-view+json": {
       "model_id": "325c385c23de43c9b401cb815831e410",
       "version_major": 2,
       "version_minor": 0
      },
      "text/plain": [
       "  0%|          | 0/1 [00:00<?, ?it/s]"
      ]
     },
     "metadata": {},
     "output_type": "display_data"
    },
    {
     "name": "stdout",
     "output_type": "stream",
     "text": [
      "readout data length = 770 clock cycle\n"
     ]
    },
    {
     "data": {
      "application/vnd.jupyter.widget-view+json": {
       "model_id": "0e6b390b9bd742f9ba8e07a37c56a3c1",
       "version_major": 2,
       "version_minor": 0
      },
      "text/plain": [
       "  0%|          | 0/1 [00:00<?, ?it/s]"
      ]
     },
     "metadata": {},
     "output_type": "display_data"
    },
    {
     "name": "stdout",
     "output_type": "stream",
     "text": [
      "readout data length = 770 clock cycle\n"
     ]
    },
    {
     "data": {
      "application/vnd.jupyter.widget-view+json": {
       "model_id": "d8a97f092c3e4430a57b185fd2e3ceb9",
       "version_major": 2,
       "version_minor": 0
      },
      "text/plain": [
       "  0%|          | 0/1 [00:00<?, ?it/s]"
      ]
     },
     "metadata": {},
     "output_type": "display_data"
    },
    {
     "name": "stdout",
     "output_type": "stream",
     "text": [
      "readout data length = 770 clock cycle\n"
     ]
    },
    {
     "data": {
      "application/vnd.jupyter.widget-view+json": {
       "model_id": "cfeac7ee82fd4762806d298dbf5e0631",
       "version_major": 2,
       "version_minor": 0
      },
      "text/plain": [
       "  0%|          | 0/1 [00:00<?, ?it/s]"
      ]
     },
     "metadata": {},
     "output_type": "display_data"
    },
    {
     "name": "stdout",
     "output_type": "stream",
     "text": [
      "readout data length = 770 clock cycle\n"
     ]
    },
    {
     "data": {
      "application/vnd.jupyter.widget-view+json": {
       "model_id": "b4c4552fd58642fc80198ca89e5bf287",
       "version_major": 2,
       "version_minor": 0
      },
      "text/plain": [
       "  0%|          | 0/1 [00:00<?, ?it/s]"
      ]
     },
     "metadata": {},
     "output_type": "display_data"
    },
    {
     "name": "stdout",
     "output_type": "stream",
     "text": [
      "readout data length = 770 clock cycle\n"
     ]
    },
    {
     "data": {
      "application/vnd.jupyter.widget-view+json": {
       "model_id": "61d2dcb90ba74c15b7f79aeebc94d58a",
       "version_major": 2,
       "version_minor": 0
      },
      "text/plain": [
       "  0%|          | 0/1 [00:00<?, ?it/s]"
      ]
     },
     "metadata": {},
     "output_type": "display_data"
    },
    {
     "name": "stdout",
     "output_type": "stream",
     "text": [
      "readout data length = 770 clock cycle\n"
     ]
    },
    {
     "data": {
      "application/vnd.jupyter.widget-view+json": {
       "model_id": "68b7cc8b8d5e433696fed458fe216c6e",
       "version_major": 2,
       "version_minor": 0
      },
      "text/plain": [
       "  0%|          | 0/1 [00:00<?, ?it/s]"
      ]
     },
     "metadata": {},
     "output_type": "display_data"
    },
    {
     "name": "stdout",
     "output_type": "stream",
     "text": [
      "readout data length = 770 clock cycle\n"
     ]
    },
    {
     "data": {
      "application/vnd.jupyter.widget-view+json": {
       "model_id": "3fcf1d78d0954ddfbd127a8dbcb54d69",
       "version_major": 2,
       "version_minor": 0
      },
      "text/plain": [
       "  0%|          | 0/1 [00:00<?, ?it/s]"
      ]
     },
     "metadata": {},
     "output_type": "display_data"
    },
    {
     "name": "stdout",
     "output_type": "stream",
     "text": [
      "readout data length = 770 clock cycle\n"
     ]
    },
    {
     "data": {
      "application/vnd.jupyter.widget-view+json": {
       "model_id": "cff9234b8c7447489667ecf5759b93dc",
       "version_major": 2,
       "version_minor": 0
      },
      "text/plain": [
       "  0%|          | 0/1 [00:00<?, ?it/s]"
      ]
     },
     "metadata": {},
     "output_type": "display_data"
    },
    {
     "name": "stdout",
     "output_type": "stream",
     "text": [
      "readout data length = 770 clock cycle\n"
     ]
    },
    {
     "data": {
      "application/vnd.jupyter.widget-view+json": {
       "model_id": "56b55bc69c304b6f92d9cccbb83a6089",
       "version_major": 2,
       "version_minor": 0
      },
      "text/plain": [
       "  0%|          | 0/1 [00:00<?, ?it/s]"
      ]
     },
     "metadata": {},
     "output_type": "display_data"
    },
    {
     "name": "stdout",
     "output_type": "stream",
     "text": [
      "readout data length = 770 clock cycle\n"
     ]
    },
    {
     "data": {
      "application/vnd.jupyter.widget-view+json": {
       "model_id": "942e0960325c438e95af0df0272e4c37",
       "version_major": 2,
       "version_minor": 0
      },
      "text/plain": [
       "  0%|          | 0/1 [00:00<?, ?it/s]"
      ]
     },
     "metadata": {},
     "output_type": "display_data"
    },
    {
     "name": "stdout",
     "output_type": "stream",
     "text": [
      "readout data length = 770 clock cycle\n"
     ]
    },
    {
     "data": {
      "application/vnd.jupyter.widget-view+json": {
       "model_id": "daacf8fccaab4cd4867f03101ba13a85",
       "version_major": 2,
       "version_minor": 0
      },
      "text/plain": [
       "  0%|          | 0/1 [00:00<?, ?it/s]"
      ]
     },
     "metadata": {},
     "output_type": "display_data"
    },
    {
     "name": "stdout",
     "output_type": "stream",
     "text": [
      "readout data length = 770 clock cycle\n"
     ]
    },
    {
     "data": {
      "application/vnd.jupyter.widget-view+json": {
       "model_id": "30ce6c0938d44aa0b38024555cffa236",
       "version_major": 2,
       "version_minor": 0
      },
      "text/plain": [
       "  0%|          | 0/1 [00:00<?, ?it/s]"
      ]
     },
     "metadata": {},
     "output_type": "display_data"
    },
    {
     "name": "stdout",
     "output_type": "stream",
     "text": [
      "readout data length = 770 clock cycle\n"
     ]
    },
    {
     "data": {
      "application/vnd.jupyter.widget-view+json": {
       "model_id": "787d12f068ab4c70a47d104abc33da08",
       "version_major": 2,
       "version_minor": 0
      },
      "text/plain": [
       "  0%|          | 0/1 [00:00<?, ?it/s]"
      ]
     },
     "metadata": {},
     "output_type": "display_data"
    },
    {
     "name": "stdout",
     "output_type": "stream",
     "text": [
      "readout data length = 770 clock cycle\n"
     ]
    },
    {
     "data": {
      "application/vnd.jupyter.widget-view+json": {
       "model_id": "c380bb4926024bf4ac1d06055e8f5e2a",
       "version_major": 2,
       "version_minor": 0
      },
      "text/plain": [
       "  0%|          | 0/1 [00:00<?, ?it/s]"
      ]
     },
     "metadata": {},
     "output_type": "display_data"
    },
    {
     "name": "stdout",
     "output_type": "stream",
     "text": [
      "readout data length = 770 clock cycle\n"
     ]
    },
    {
     "data": {
      "application/vnd.jupyter.widget-view+json": {
       "model_id": "609418b2b2ed4025a53602424eae804e",
       "version_major": 2,
       "version_minor": 0
      },
      "text/plain": [
       "  0%|          | 0/1 [00:00<?, ?it/s]"
      ]
     },
     "metadata": {},
     "output_type": "display_data"
    },
    {
     "name": "stdout",
     "output_type": "stream",
     "text": [
      "readout data length = 770 clock cycle\n"
     ]
    },
    {
     "data": {
      "application/vnd.jupyter.widget-view+json": {
       "model_id": "034740df14164d3fa8b39386bca9d92e",
       "version_major": 2,
       "version_minor": 0
      },
      "text/plain": [
       "  0%|          | 0/1 [00:00<?, ?it/s]"
      ]
     },
     "metadata": {},
     "output_type": "display_data"
    },
    {
     "name": "stdout",
     "output_type": "stream",
     "text": [
      "readout data length = 770 clock cycle\n"
     ]
    },
    {
     "data": {
      "application/vnd.jupyter.widget-view+json": {
       "model_id": "85439763f3e54f0f824825f8d7e4d962",
       "version_major": 2,
       "version_minor": 0
      },
      "text/plain": [
       "  0%|          | 0/1 [00:00<?, ?it/s]"
      ]
     },
     "metadata": {},
     "output_type": "display_data"
    },
    {
     "name": "stdout",
     "output_type": "stream",
     "text": [
      "readout data length = 770 clock cycle\n"
     ]
    },
    {
     "data": {
      "application/vnd.jupyter.widget-view+json": {
       "model_id": "3f81c3f35f104435b7f87f4484235382",
       "version_major": 2,
       "version_minor": 0
      },
      "text/plain": [
       "  0%|          | 0/1 [00:00<?, ?it/s]"
      ]
     },
     "metadata": {},
     "output_type": "display_data"
    },
    {
     "name": "stdout",
     "output_type": "stream",
     "text": [
      "readout data length = 770 clock cycle\n"
     ]
    },
    {
     "data": {
      "application/vnd.jupyter.widget-view+json": {
       "model_id": "f0975466d01f4c95897d82854da9a6a4",
       "version_major": 2,
       "version_minor": 0
      },
      "text/plain": [
       "  0%|          | 0/1 [00:00<?, ?it/s]"
      ]
     },
     "metadata": {},
     "output_type": "display_data"
    },
    {
     "name": "stdout",
     "output_type": "stream",
     "text": [
      "readout data length = 770 clock cycle\n"
     ]
    },
    {
     "data": {
      "application/vnd.jupyter.widget-view+json": {
       "model_id": "e50a27f0d63f499b9ee32dc53b058c47",
       "version_major": 2,
       "version_minor": 0
      },
      "text/plain": [
       "  0%|          | 0/1 [00:00<?, ?it/s]"
      ]
     },
     "metadata": {},
     "output_type": "display_data"
    },
    {
     "name": "stdout",
     "output_type": "stream",
     "text": [
      "readout data length = 770 clock cycle\n"
     ]
    },
    {
     "data": {
      "application/vnd.jupyter.widget-view+json": {
       "model_id": "1e81b2e5305044118e12b74cf9774039",
       "version_major": 2,
       "version_minor": 0
      },
      "text/plain": [
       "  0%|          | 0/1 [00:00<?, ?it/s]"
      ]
     },
     "metadata": {},
     "output_type": "display_data"
    },
    {
     "name": "stdout",
     "output_type": "stream",
     "text": [
      "readout data length = 770 clock cycle\n"
     ]
    },
    {
     "data": {
      "application/vnd.jupyter.widget-view+json": {
       "model_id": "a7b2bb4590ed436c8b52603d7b6749f2",
       "version_major": 2,
       "version_minor": 0
      },
      "text/plain": [
       "  0%|          | 0/1 [00:00<?, ?it/s]"
      ]
     },
     "metadata": {},
     "output_type": "display_data"
    },
    {
     "name": "stdout",
     "output_type": "stream",
     "text": [
      "readout data length = 770 clock cycle\n"
     ]
    },
    {
     "data": {
      "application/vnd.jupyter.widget-view+json": {
       "model_id": "fcf3b767c2d848fda1ef36312249c262",
       "version_major": 2,
       "version_minor": 0
      },
      "text/plain": [
       "  0%|          | 0/1 [00:00<?, ?it/s]"
      ]
     },
     "metadata": {},
     "output_type": "display_data"
    },
    {
     "name": "stdout",
     "output_type": "stream",
     "text": [
      "readout data length = 770 clock cycle\n"
     ]
    },
    {
     "data": {
      "application/vnd.jupyter.widget-view+json": {
       "model_id": "06eaf6b78811418ca0d04e720f943c85",
       "version_major": 2,
       "version_minor": 0
      },
      "text/plain": [
       "  0%|          | 0/1 [00:00<?, ?it/s]"
      ]
     },
     "metadata": {},
     "output_type": "display_data"
    },
    {
     "name": "stdout",
     "output_type": "stream",
     "text": [
      "readout data length = 770 clock cycle\n"
     ]
    },
    {
     "data": {
      "application/vnd.jupyter.widget-view+json": {
       "model_id": "aafe177830a643d38184b7c97645e17c",
       "version_major": 2,
       "version_minor": 0
      },
      "text/plain": [
       "  0%|          | 0/1 [00:00<?, ?it/s]"
      ]
     },
     "metadata": {},
     "output_type": "display_data"
    },
    {
     "name": "stdout",
     "output_type": "stream",
     "text": [
      "readout data length = 770 clock cycle\n"
     ]
    },
    {
     "data": {
      "application/vnd.jupyter.widget-view+json": {
       "model_id": "8abd9a950f284833820b3ad9f7831682",
       "version_major": 2,
       "version_minor": 0
      },
      "text/plain": [
       "  0%|          | 0/1 [00:00<?, ?it/s]"
      ]
     },
     "metadata": {},
     "output_type": "display_data"
    },
    {
     "name": "stdout",
     "output_type": "stream",
     "text": [
      "readout data length = 770 clock cycle\n"
     ]
    },
    {
     "data": {
      "application/vnd.jupyter.widget-view+json": {
       "model_id": "20d42650ece34e9f806e087897703006",
       "version_major": 2,
       "version_minor": 0
      },
      "text/plain": [
       "  0%|          | 0/1 [00:00<?, ?it/s]"
      ]
     },
     "metadata": {},
     "output_type": "display_data"
    },
    {
     "name": "stdout",
     "output_type": "stream",
     "text": [
      "readout data length = 770 clock cycle\n"
     ]
    },
    {
     "data": {
      "application/vnd.jupyter.widget-view+json": {
       "model_id": "582325816c3b4afe9b3b22b03f11380d",
       "version_major": 2,
       "version_minor": 0
      },
      "text/plain": [
       "  0%|          | 0/1 [00:00<?, ?it/s]"
      ]
     },
     "metadata": {},
     "output_type": "display_data"
    },
    {
     "name": "stdout",
     "output_type": "stream",
     "text": [
      "readout data length = 770 clock cycle\n"
     ]
    },
    {
     "data": {
      "application/vnd.jupyter.widget-view+json": {
       "model_id": "6a6ff164e5f3446aa198e6a05f6d6896",
       "version_major": 2,
       "version_minor": 0
      },
      "text/plain": [
       "  0%|          | 0/1 [00:00<?, ?it/s]"
      ]
     },
     "metadata": {},
     "output_type": "display_data"
    },
    {
     "name": "stdout",
     "output_type": "stream",
     "text": [
      "readout data length = 770 clock cycle\n"
     ]
    },
    {
     "data": {
      "application/vnd.jupyter.widget-view+json": {
       "model_id": "0069a1b9f73a44c0a06d5c4910bf6687",
       "version_major": 2,
       "version_minor": 0
      },
      "text/plain": [
       "  0%|          | 0/1 [00:00<?, ?it/s]"
      ]
     },
     "metadata": {},
     "output_type": "display_data"
    },
    {
     "name": "stdout",
     "output_type": "stream",
     "text": [
      "readout data length = 770 clock cycle\n"
     ]
    },
    {
     "data": {
      "application/vnd.jupyter.widget-view+json": {
       "model_id": "5ae81e01796e40ce8b3b7a8c5918b9ed",
       "version_major": 2,
       "version_minor": 0
      },
      "text/plain": [
       "  0%|          | 0/1 [00:00<?, ?it/s]"
      ]
     },
     "metadata": {},
     "output_type": "display_data"
    },
    {
     "name": "stdout",
     "output_type": "stream",
     "text": [
      "readout data length = 770 clock cycle\n"
     ]
    },
    {
     "data": {
      "application/vnd.jupyter.widget-view+json": {
       "model_id": "892a59bbe9264f65a11af80c4622259a",
       "version_major": 2,
       "version_minor": 0
      },
      "text/plain": [
       "  0%|          | 0/1 [00:00<?, ?it/s]"
      ]
     },
     "metadata": {},
     "output_type": "display_data"
    },
    {
     "name": "stdout",
     "output_type": "stream",
     "text": [
      "readout data length = 770 clock cycle\n"
     ]
    },
    {
     "data": {
      "application/vnd.jupyter.widget-view+json": {
       "model_id": "81e692f5ee3f4cd8a64611c985035b80",
       "version_major": 2,
       "version_minor": 0
      },
      "text/plain": [
       "  0%|          | 0/1 [00:00<?, ?it/s]"
      ]
     },
     "metadata": {},
     "output_type": "display_data"
    },
    {
     "name": "stdout",
     "output_type": "stream",
     "text": [
      "readout data length = 770 clock cycle\n"
     ]
    },
    {
     "data": {
      "application/vnd.jupyter.widget-view+json": {
       "model_id": "e3429d45fce143abb32423ea1841fa5e",
       "version_major": 2,
       "version_minor": 0
      },
      "text/plain": [
       "  0%|          | 0/1 [00:00<?, ?it/s]"
      ]
     },
     "metadata": {},
     "output_type": "display_data"
    },
    {
     "name": "stdout",
     "output_type": "stream",
     "text": [
      "readout data length = 770 clock cycle\n"
     ]
    },
    {
     "data": {
      "application/vnd.jupyter.widget-view+json": {
       "model_id": "b63b110a25e547f9aec1aa5e323a46c1",
       "version_major": 2,
       "version_minor": 0
      },
      "text/plain": [
       "  0%|          | 0/1 [00:00<?, ?it/s]"
      ]
     },
     "metadata": {},
     "output_type": "display_data"
    },
    {
     "name": "stdout",
     "output_type": "stream",
     "text": [
      "readout data length = 770 clock cycle\n"
     ]
    },
    {
     "data": {
      "application/vnd.jupyter.widget-view+json": {
       "model_id": "c3c4cc446523431e895d0bf60a08ca35",
       "version_major": 2,
       "version_minor": 0
      },
      "text/plain": [
       "  0%|          | 0/1 [00:00<?, ?it/s]"
      ]
     },
     "metadata": {},
     "output_type": "display_data"
    },
    {
     "name": "stdout",
     "output_type": "stream",
     "text": [
      "readout data length = 770 clock cycle\n"
     ]
    },
    {
     "data": {
      "application/vnd.jupyter.widget-view+json": {
       "model_id": "cbe6c636eb5843b3974c695c61e55c80",
       "version_major": 2,
       "version_minor": 0
      },
      "text/plain": [
       "  0%|          | 0/1 [00:00<?, ?it/s]"
      ]
     },
     "metadata": {},
     "output_type": "display_data"
    },
    {
     "name": "stdout",
     "output_type": "stream",
     "text": [
      "readout data length = 770 clock cycle\n"
     ]
    },
    {
     "data": {
      "application/vnd.jupyter.widget-view+json": {
       "model_id": "ad66a6dfbd1b48aba3ce12c4288502f6",
       "version_major": 2,
       "version_minor": 0
      },
      "text/plain": [
       "  0%|          | 0/1 [00:00<?, ?it/s]"
      ]
     },
     "metadata": {},
     "output_type": "display_data"
    },
    {
     "name": "stdout",
     "output_type": "stream",
     "text": [
      "readout data length = 770 clock cycle\n"
     ]
    },
    {
     "data": {
      "application/vnd.jupyter.widget-view+json": {
       "model_id": "9ecab4c9b6a8489bb41970c5722a949d",
       "version_major": 2,
       "version_minor": 0
      },
      "text/plain": [
       "  0%|          | 0/1 [00:00<?, ?it/s]"
      ]
     },
     "metadata": {},
     "output_type": "display_data"
    },
    {
     "name": "stdout",
     "output_type": "stream",
     "text": [
      "readout data length = 770 clock cycle\n"
     ]
    },
    {
     "data": {
      "application/vnd.jupyter.widget-view+json": {
       "model_id": "6c13b87991f74c0e8b4b324c705d9168",
       "version_major": 2,
       "version_minor": 0
      },
      "text/plain": [
       "  0%|          | 0/1 [00:00<?, ?it/s]"
      ]
     },
     "metadata": {},
     "output_type": "display_data"
    },
    {
     "name": "stdout",
     "output_type": "stream",
     "text": [
      "readout data length = 770 clock cycle\n"
     ]
    },
    {
     "data": {
      "application/vnd.jupyter.widget-view+json": {
       "model_id": "7c670902c55745c6a4fb49ab5a17239f",
       "version_major": 2,
       "version_minor": 0
      },
      "text/plain": [
       "  0%|          | 0/1 [00:00<?, ?it/s]"
      ]
     },
     "metadata": {},
     "output_type": "display_data"
    },
    {
     "name": "stdout",
     "output_type": "stream",
     "text": [
      "readout data length = 770 clock cycle\n"
     ]
    },
    {
     "data": {
      "application/vnd.jupyter.widget-view+json": {
       "model_id": "a6abeb5c6bac4744bf9197eda878f028",
       "version_major": 2,
       "version_minor": 0
      },
      "text/plain": [
       "  0%|          | 0/1 [00:00<?, ?it/s]"
      ]
     },
     "metadata": {},
     "output_type": "display_data"
    },
    {
     "name": "stdout",
     "output_type": "stream",
     "text": [
      "readout data length = 770 clock cycle\n"
     ]
    },
    {
     "data": {
      "application/vnd.jupyter.widget-view+json": {
       "model_id": "eeba1fb51b6349f9a40d0f673aa29c3d",
       "version_major": 2,
       "version_minor": 0
      },
      "text/plain": [
       "  0%|          | 0/1 [00:00<?, ?it/s]"
      ]
     },
     "metadata": {},
     "output_type": "display_data"
    },
    {
     "name": "stdout",
     "output_type": "stream",
     "text": [
      "readout data length = 770 clock cycle\n"
     ]
    },
    {
     "data": {
      "application/vnd.jupyter.widget-view+json": {
       "model_id": "f82219e7fd454e7a9058c433e5081367",
       "version_major": 2,
       "version_minor": 0
      },
      "text/plain": [
       "  0%|          | 0/1 [00:00<?, ?it/s]"
      ]
     },
     "metadata": {},
     "output_type": "display_data"
    },
    {
     "name": "stdout",
     "output_type": "stream",
     "text": [
      "readout data length = 770 clock cycle\n"
     ]
    },
    {
     "data": {
      "application/vnd.jupyter.widget-view+json": {
       "model_id": "7bb167d4b9a7437aae81ed4512fd7882",
       "version_major": 2,
       "version_minor": 0
      },
      "text/plain": [
       "  0%|          | 0/1 [00:00<?, ?it/s]"
      ]
     },
     "metadata": {},
     "output_type": "display_data"
    },
    {
     "name": "stdout",
     "output_type": "stream",
     "text": [
      "readout data length = 770 clock cycle\n"
     ]
    },
    {
     "data": {
      "application/vnd.jupyter.widget-view+json": {
       "model_id": "d4806790d37e4bb28b7908a4b679db0e",
       "version_major": 2,
       "version_minor": 0
      },
      "text/plain": [
       "  0%|          | 0/1 [00:00<?, ?it/s]"
      ]
     },
     "metadata": {},
     "output_type": "display_data"
    },
    {
     "name": "stdout",
     "output_type": "stream",
     "text": [
      "readout data length = 770 clock cycle\n"
     ]
    },
    {
     "data": {
      "application/vnd.jupyter.widget-view+json": {
       "model_id": "2af0e5a815e84f02a3fd1c17e05bd932",
       "version_major": 2,
       "version_minor": 0
      },
      "text/plain": [
       "  0%|          | 0/1 [00:00<?, ?it/s]"
      ]
     },
     "metadata": {},
     "output_type": "display_data"
    },
    {
     "name": "stdout",
     "output_type": "stream",
     "text": [
      "readout data length = 770 clock cycle\n"
     ]
    },
    {
     "data": {
      "application/vnd.jupyter.widget-view+json": {
       "model_id": "ae20b15fa1e24ad1aa30b6a86578251e",
       "version_major": 2,
       "version_minor": 0
      },
      "text/plain": [
       "  0%|          | 0/1 [00:00<?, ?it/s]"
      ]
     },
     "metadata": {},
     "output_type": "display_data"
    },
    {
     "name": "stdout",
     "output_type": "stream",
     "text": [
      "readout data length = 770 clock cycle\n"
     ]
    },
    {
     "data": {
      "application/vnd.jupyter.widget-view+json": {
       "model_id": "67000cbe515e4679b84e8ab36528ca34",
       "version_major": 2,
       "version_minor": 0
      },
      "text/plain": [
       "  0%|          | 0/1 [00:00<?, ?it/s]"
      ]
     },
     "metadata": {},
     "output_type": "display_data"
    },
    {
     "name": "stdout",
     "output_type": "stream",
     "text": [
      "readout data length = 770 clock cycle\n"
     ]
    },
    {
     "data": {
      "application/vnd.jupyter.widget-view+json": {
       "model_id": "d54e1717d4cb4699acffaad673357d28",
       "version_major": 2,
       "version_minor": 0
      },
      "text/plain": [
       "  0%|          | 0/1 [00:00<?, ?it/s]"
      ]
     },
     "metadata": {},
     "output_type": "display_data"
    },
    {
     "name": "stdout",
     "output_type": "stream",
     "text": [
      "readout data length = 770 clock cycle\n"
     ]
    },
    {
     "data": {
      "application/vnd.jupyter.widget-view+json": {
       "model_id": "680be5f9fb234c9c80eaa33ee676a8b7",
       "version_major": 2,
       "version_minor": 0
      },
      "text/plain": [
       "  0%|          | 0/1 [00:00<?, ?it/s]"
      ]
     },
     "metadata": {},
     "output_type": "display_data"
    },
    {
     "name": "stdout",
     "output_type": "stream",
     "text": [
      "readout data length = 770 clock cycle\n"
     ]
    },
    {
     "data": {
      "application/vnd.jupyter.widget-view+json": {
       "model_id": "51e94694def243369b8408c5d8cfd334",
       "version_major": 2,
       "version_minor": 0
      },
      "text/plain": [
       "  0%|          | 0/1 [00:00<?, ?it/s]"
      ]
     },
     "metadata": {},
     "output_type": "display_data"
    },
    {
     "name": "stdout",
     "output_type": "stream",
     "text": [
      "readout data length = 770 clock cycle\n"
     ]
    },
    {
     "data": {
      "application/vnd.jupyter.widget-view+json": {
       "model_id": "3a62ea8d3a5941bdb413a79bf803a428",
       "version_major": 2,
       "version_minor": 0
      },
      "text/plain": [
       "  0%|          | 0/1 [00:00<?, ?it/s]"
      ]
     },
     "metadata": {},
     "output_type": "display_data"
    },
    {
     "name": "stdout",
     "output_type": "stream",
     "text": [
      "readout data length = 770 clock cycle\n"
     ]
    },
    {
     "data": {
      "application/vnd.jupyter.widget-view+json": {
       "model_id": "73a446b94a8541949598d9bcaafdb9ca",
       "version_major": 2,
       "version_minor": 0
      },
      "text/plain": [
       "  0%|          | 0/1 [00:00<?, ?it/s]"
      ]
     },
     "metadata": {},
     "output_type": "display_data"
    },
    {
     "name": "stdout",
     "output_type": "stream",
     "text": [
      "readout data length = 770 clock cycle\n"
     ]
    },
    {
     "data": {
      "application/vnd.jupyter.widget-view+json": {
       "model_id": "553e5c032581424fbc9c75635f941a54",
       "version_major": 2,
       "version_minor": 0
      },
      "text/plain": [
       "  0%|          | 0/1 [00:00<?, ?it/s]"
      ]
     },
     "metadata": {},
     "output_type": "display_data"
    },
    {
     "name": "stdout",
     "output_type": "stream",
     "text": [
      "readout data length = 770 clock cycle\n"
     ]
    },
    {
     "data": {
      "application/vnd.jupyter.widget-view+json": {
       "model_id": "514d29770fd54db7a585c1a26766ac88",
       "version_major": 2,
       "version_minor": 0
      },
      "text/plain": [
       "  0%|          | 0/1 [00:00<?, ?it/s]"
      ]
     },
     "metadata": {},
     "output_type": "display_data"
    },
    {
     "name": "stdout",
     "output_type": "stream",
     "text": [
      "readout data length = 770 clock cycle\n"
     ]
    },
    {
     "data": {
      "application/vnd.jupyter.widget-view+json": {
       "model_id": "87946569723b48f3883222d3300d40ae",
       "version_major": 2,
       "version_minor": 0
      },
      "text/plain": [
       "  0%|          | 0/1 [00:00<?, ?it/s]"
      ]
     },
     "metadata": {},
     "output_type": "display_data"
    },
    {
     "name": "stdout",
     "output_type": "stream",
     "text": [
      "readout data length = 770 clock cycle\n"
     ]
    },
    {
     "data": {
      "application/vnd.jupyter.widget-view+json": {
       "model_id": "955d938da3494ba5b94d9f8b80f55182",
       "version_major": 2,
       "version_minor": 0
      },
      "text/plain": [
       "  0%|          | 0/1 [00:00<?, ?it/s]"
      ]
     },
     "metadata": {},
     "output_type": "display_data"
    },
    {
     "name": "stdout",
     "output_type": "stream",
     "text": [
      "readout data length = 770 clock cycle\n"
     ]
    },
    {
     "data": {
      "application/vnd.jupyter.widget-view+json": {
       "model_id": "80c67899344645ce8312ca3e4daa9629",
       "version_major": 2,
       "version_minor": 0
      },
      "text/plain": [
       "  0%|          | 0/1 [00:00<?, ?it/s]"
      ]
     },
     "metadata": {},
     "output_type": "display_data"
    },
    {
     "name": "stdout",
     "output_type": "stream",
     "text": [
      "readout data length = 770 clock cycle\n"
     ]
    },
    {
     "data": {
      "application/vnd.jupyter.widget-view+json": {
       "model_id": "39160f47489646cfab19cb26144da3c8",
       "version_major": 2,
       "version_minor": 0
      },
      "text/plain": [
       "  0%|          | 0/1 [00:00<?, ?it/s]"
      ]
     },
     "metadata": {},
     "output_type": "display_data"
    },
    {
     "name": "stdout",
     "output_type": "stream",
     "text": [
      "readout data length = 770 clock cycle\n"
     ]
    },
    {
     "data": {
      "application/vnd.jupyter.widget-view+json": {
       "model_id": "35446055d7fb41349ef63caaa274cf6b",
       "version_major": 2,
       "version_minor": 0
      },
      "text/plain": [
       "  0%|          | 0/1 [00:00<?, ?it/s]"
      ]
     },
     "metadata": {},
     "output_type": "display_data"
    },
    {
     "name": "stdout",
     "output_type": "stream",
     "text": [
      "readout data length = 770 clock cycle\n"
     ]
    },
    {
     "data": {
      "application/vnd.jupyter.widget-view+json": {
       "model_id": "559e40bd85b04f5cb8306b352f2e31f1",
       "version_major": 2,
       "version_minor": 0
      },
      "text/plain": [
       "  0%|          | 0/1 [00:00<?, ?it/s]"
      ]
     },
     "metadata": {},
     "output_type": "display_data"
    },
    {
     "name": "stdout",
     "output_type": "stream",
     "text": [
      "readout data length = 770 clock cycle\n"
     ]
    },
    {
     "data": {
      "application/vnd.jupyter.widget-view+json": {
       "model_id": "4fbc01df5a974d4080aff7aac3a9ac58",
       "version_major": 2,
       "version_minor": 0
      },
      "text/plain": [
       "  0%|          | 0/1 [00:00<?, ?it/s]"
      ]
     },
     "metadata": {},
     "output_type": "display_data"
    },
    {
     "name": "stdout",
     "output_type": "stream",
     "text": [
      "readout data length = 770 clock cycle\n"
     ]
    },
    {
     "data": {
      "application/vnd.jupyter.widget-view+json": {
       "model_id": "0fecc5993271466ea9c7059c102ec512",
       "version_major": 2,
       "version_minor": 0
      },
      "text/plain": [
       "  0%|          | 0/1 [00:00<?, ?it/s]"
      ]
     },
     "metadata": {},
     "output_type": "display_data"
    },
    {
     "name": "stdout",
     "output_type": "stream",
     "text": [
      "readout data length = 770 clock cycle\n"
     ]
    },
    {
     "data": {
      "application/vnd.jupyter.widget-view+json": {
       "model_id": "c1c56960e67c4b9c83437f03fcfa65f9",
       "version_major": 2,
       "version_minor": 0
      },
      "text/plain": [
       "  0%|          | 0/1 [00:00<?, ?it/s]"
      ]
     },
     "metadata": {},
     "output_type": "display_data"
    },
    {
     "name": "stdout",
     "output_type": "stream",
     "text": [
      "readout data length = 770 clock cycle\n"
     ]
    },
    {
     "data": {
      "application/vnd.jupyter.widget-view+json": {
       "model_id": "661accfe305a426ea61c54b28ae7f2dd",
       "version_major": 2,
       "version_minor": 0
      },
      "text/plain": [
       "  0%|          | 0/1 [00:00<?, ?it/s]"
      ]
     },
     "metadata": {},
     "output_type": "display_data"
    },
    {
     "name": "stdout",
     "output_type": "stream",
     "text": [
      "readout data length = 770 clock cycle\n"
     ]
    },
    {
     "data": {
      "application/vnd.jupyter.widget-view+json": {
       "model_id": "ecb2f6683771446ab599e2e97380dc48",
       "version_major": 2,
       "version_minor": 0
      },
      "text/plain": [
       "  0%|          | 0/1 [00:00<?, ?it/s]"
      ]
     },
     "metadata": {},
     "output_type": "display_data"
    },
    {
     "name": "stdout",
     "output_type": "stream",
     "text": [
      "readout data length = 770 clock cycle\n"
     ]
    },
    {
     "data": {
      "application/vnd.jupyter.widget-view+json": {
       "model_id": "cf14fdfbd7d5422fb5c61adcdab41dec",
       "version_major": 2,
       "version_minor": 0
      },
      "text/plain": [
       "  0%|          | 0/1 [00:00<?, ?it/s]"
      ]
     },
     "metadata": {},
     "output_type": "display_data"
    },
    {
     "name": "stdout",
     "output_type": "stream",
     "text": [
      "readout data length = 770 clock cycle\n"
     ]
    },
    {
     "data": {
      "application/vnd.jupyter.widget-view+json": {
       "model_id": "3410b1032a0f465b9395bcbfee72911a",
       "version_major": 2,
       "version_minor": 0
      },
      "text/plain": [
       "  0%|          | 0/1 [00:00<?, ?it/s]"
      ]
     },
     "metadata": {},
     "output_type": "display_data"
    },
    {
     "name": "stdout",
     "output_type": "stream",
     "text": [
      "readout data length = 770 clock cycle\n"
     ]
    },
    {
     "data": {
      "application/vnd.jupyter.widget-view+json": {
       "model_id": "0a6bd4cbb81940d78bb0330f50c8a765",
       "version_major": 2,
       "version_minor": 0
      },
      "text/plain": [
       "  0%|          | 0/1 [00:00<?, ?it/s]"
      ]
     },
     "metadata": {},
     "output_type": "display_data"
    },
    {
     "name": "stdout",
     "output_type": "stream",
     "text": [
      "readout data length = 770 clock cycle\n"
     ]
    },
    {
     "data": {
      "application/vnd.jupyter.widget-view+json": {
       "model_id": "f0f41df54af64879ae46c9e05dbd5ba1",
       "version_major": 2,
       "version_minor": 0
      },
      "text/plain": [
       "  0%|          | 0/1 [00:00<?, ?it/s]"
      ]
     },
     "metadata": {},
     "output_type": "display_data"
    },
    {
     "name": "stdout",
     "output_type": "stream",
     "text": [
      "readout data length = 770 clock cycle\n"
     ]
    },
    {
     "data": {
      "application/vnd.jupyter.widget-view+json": {
       "model_id": "2438e62b31fb4624ae2325cffe75f0bb",
       "version_major": 2,
       "version_minor": 0
      },
      "text/plain": [
       "  0%|          | 0/1 [00:00<?, ?it/s]"
      ]
     },
     "metadata": {},
     "output_type": "display_data"
    },
    {
     "name": "stdout",
     "output_type": "stream",
     "text": [
      "readout data length = 770 clock cycle\n"
     ]
    },
    {
     "data": {
      "application/vnd.jupyter.widget-view+json": {
       "model_id": "fc01a6568e6f437483d716f9a6e39342",
       "version_major": 2,
       "version_minor": 0
      },
      "text/plain": [
       "  0%|          | 0/1 [00:00<?, ?it/s]"
      ]
     },
     "metadata": {},
     "output_type": "display_data"
    },
    {
     "name": "stdout",
     "output_type": "stream",
     "text": [
      "readout data length = 770 clock cycle\n"
     ]
    },
    {
     "data": {
      "application/vnd.jupyter.widget-view+json": {
       "model_id": "940788950f4c4ce4b59f1d6f426d5bc8",
       "version_major": 2,
       "version_minor": 0
      },
      "text/plain": [
       "  0%|          | 0/1 [00:00<?, ?it/s]"
      ]
     },
     "metadata": {},
     "output_type": "display_data"
    },
    {
     "name": "stdout",
     "output_type": "stream",
     "text": [
      "readout data length = 770 clock cycle\n"
     ]
    },
    {
     "data": {
      "application/vnd.jupyter.widget-view+json": {
       "model_id": "8e8f5a8a9f9d45909c04ccc9088ae8bb",
       "version_major": 2,
       "version_minor": 0
      },
      "text/plain": [
       "  0%|          | 0/1 [00:00<?, ?it/s]"
      ]
     },
     "metadata": {},
     "output_type": "display_data"
    },
    {
     "name": "stdout",
     "output_type": "stream",
     "text": [
      "readout data length = 770 clock cycle\n"
     ]
    },
    {
     "data": {
      "application/vnd.jupyter.widget-view+json": {
       "model_id": "246b51c6e4c7425d899beeec3054765b",
       "version_major": 2,
       "version_minor": 0
      },
      "text/plain": [
       "  0%|          | 0/1 [00:00<?, ?it/s]"
      ]
     },
     "metadata": {},
     "output_type": "display_data"
    },
    {
     "name": "stdout",
     "output_type": "stream",
     "text": [
      "readout data length = 770 clock cycle\n"
     ]
    },
    {
     "data": {
      "application/vnd.jupyter.widget-view+json": {
       "model_id": "853504731c4443e89e2e0eb8ae0e8805",
       "version_major": 2,
       "version_minor": 0
      },
      "text/plain": [
       "  0%|          | 0/1 [00:00<?, ?it/s]"
      ]
     },
     "metadata": {},
     "output_type": "display_data"
    },
    {
     "name": "stdout",
     "output_type": "stream",
     "text": [
      "readout data length = 770 clock cycle\n"
     ]
    },
    {
     "data": {
      "application/vnd.jupyter.widget-view+json": {
       "model_id": "ed8293b018af4cb5b6b5e11b04d44f4d",
       "version_major": 2,
       "version_minor": 0
      },
      "text/plain": [
       "  0%|          | 0/1 [00:00<?, ?it/s]"
      ]
     },
     "metadata": {},
     "output_type": "display_data"
    },
    {
     "name": "stdout",
     "output_type": "stream",
     "text": [
      "readout data length = 770 clock cycle\n"
     ]
    },
    {
     "data": {
      "application/vnd.jupyter.widget-view+json": {
       "model_id": "6f71fdd900764cf1abe4133c445e56bb",
       "version_major": 2,
       "version_minor": 0
      },
      "text/plain": [
       "  0%|          | 0/1 [00:00<?, ?it/s]"
      ]
     },
     "metadata": {},
     "output_type": "display_data"
    },
    {
     "name": "stdout",
     "output_type": "stream",
     "text": [
      "readout data length = 770 clock cycle\n"
     ]
    },
    {
     "data": {
      "application/vnd.jupyter.widget-view+json": {
       "model_id": "868ff50089344fbdac3f337f447cd43e",
       "version_major": 2,
       "version_minor": 0
      },
      "text/plain": [
       "  0%|          | 0/1 [00:00<?, ?it/s]"
      ]
     },
     "metadata": {},
     "output_type": "display_data"
    },
    {
     "name": "stdout",
     "output_type": "stream",
     "text": [
      "readout data length = 770 clock cycle\n"
     ]
    },
    {
     "data": {
      "application/vnd.jupyter.widget-view+json": {
       "model_id": "8a078b966e40438283745109fc776cc5",
       "version_major": 2,
       "version_minor": 0
      },
      "text/plain": [
       "  0%|          | 0/1 [00:00<?, ?it/s]"
      ]
     },
     "metadata": {},
     "output_type": "display_data"
    },
    {
     "name": "stdout",
     "output_type": "stream",
     "text": [
      "readout data length = 770 clock cycle\n"
     ]
    },
    {
     "data": {
      "application/vnd.jupyter.widget-view+json": {
       "model_id": "eea664f4b00a4e72a60626e4ed5ae849",
       "version_major": 2,
       "version_minor": 0
      },
      "text/plain": [
       "  0%|          | 0/1 [00:00<?, ?it/s]"
      ]
     },
     "metadata": {},
     "output_type": "display_data"
    },
    {
     "name": "stdout",
     "output_type": "stream",
     "text": [
      "readout data length = 770 clock cycle\n"
     ]
    },
    {
     "data": {
      "application/vnd.jupyter.widget-view+json": {
       "model_id": "e6bbe7e0ddf9413ea15395c7785851ed",
       "version_major": 2,
       "version_minor": 0
      },
      "text/plain": [
       "  0%|          | 0/1 [00:00<?, ?it/s]"
      ]
     },
     "metadata": {},
     "output_type": "display_data"
    },
    {
     "name": "stdout",
     "output_type": "stream",
     "text": [
      "readout data length = 770 clock cycle\n"
     ]
    },
    {
     "data": {
      "application/vnd.jupyter.widget-view+json": {
       "model_id": "35a9a936697444698afc9fd8d7ca54f0",
       "version_major": 2,
       "version_minor": 0
      },
      "text/plain": [
       "  0%|          | 0/1 [00:00<?, ?it/s]"
      ]
     },
     "metadata": {},
     "output_type": "display_data"
    },
    {
     "name": "stdout",
     "output_type": "stream",
     "text": [
      "readout data length = 770 clock cycle\n"
     ]
    },
    {
     "data": {
      "application/vnd.jupyter.widget-view+json": {
       "model_id": "04ab63c8b1c44ae5b68c319a236f9625",
       "version_major": 2,
       "version_minor": 0
      },
      "text/plain": [
       "  0%|          | 0/1 [00:00<?, ?it/s]"
      ]
     },
     "metadata": {},
     "output_type": "display_data"
    },
    {
     "name": "stdout",
     "output_type": "stream",
     "text": [
      "readout data length = 770 clock cycle\n"
     ]
    },
    {
     "data": {
      "application/vnd.jupyter.widget-view+json": {
       "model_id": "4a2d832d25c74ff48ed1644e6eaf06d8",
       "version_major": 2,
       "version_minor": 0
      },
      "text/plain": [
       "  0%|          | 0/1 [00:00<?, ?it/s]"
      ]
     },
     "metadata": {},
     "output_type": "display_data"
    },
    {
     "name": "stdout",
     "output_type": "stream",
     "text": [
      "readout data length = 770 clock cycle\n"
     ]
    },
    {
     "data": {
      "application/vnd.jupyter.widget-view+json": {
       "model_id": "a7c98ca2d30848e3a1dc708eec534141",
       "version_major": 2,
       "version_minor": 0
      },
      "text/plain": [
       "  0%|          | 0/1 [00:00<?, ?it/s]"
      ]
     },
     "metadata": {},
     "output_type": "display_data"
    },
    {
     "name": "stdout",
     "output_type": "stream",
     "text": [
      "readout data length = 770 clock cycle\n"
     ]
    },
    {
     "data": {
      "application/vnd.jupyter.widget-view+json": {
       "model_id": "951609bfdfc14ca3bf1b91e95ff47542",
       "version_major": 2,
       "version_minor": 0
      },
      "text/plain": [
       "  0%|          | 0/1 [00:00<?, ?it/s]"
      ]
     },
     "metadata": {},
     "output_type": "display_data"
    },
    {
     "name": "stdout",
     "output_type": "stream",
     "text": [
      "readout data length = 770 clock cycle\n"
     ]
    },
    {
     "data": {
      "application/vnd.jupyter.widget-view+json": {
       "model_id": "0b1ae60c31d54020bd5047c9ab518477",
       "version_major": 2,
       "version_minor": 0
      },
      "text/plain": [
       "  0%|          | 0/1 [00:00<?, ?it/s]"
      ]
     },
     "metadata": {},
     "output_type": "display_data"
    },
    {
     "name": "stdout",
     "output_type": "stream",
     "text": [
      "readout data length = 770 clock cycle\n"
     ]
    },
    {
     "data": {
      "application/vnd.jupyter.widget-view+json": {
       "model_id": "67e58c3c534b4042a904dd3062240bef",
       "version_major": 2,
       "version_minor": 0
      },
      "text/plain": [
       "  0%|          | 0/1 [00:00<?, ?it/s]"
      ]
     },
     "metadata": {},
     "output_type": "display_data"
    },
    {
     "name": "stdout",
     "output_type": "stream",
     "text": [
      "readout data length = 770 clock cycle\n"
     ]
    },
    {
     "data": {
      "application/vnd.jupyter.widget-view+json": {
       "model_id": "6ed6996ef37e441f9b94bec383a74209",
       "version_major": 2,
       "version_minor": 0
      },
      "text/plain": [
       "  0%|          | 0/1 [00:00<?, ?it/s]"
      ]
     },
     "metadata": {},
     "output_type": "display_data"
    },
    {
     "name": "stdout",
     "output_type": "stream",
     "text": [
      "readout data length = 770 clock cycle\n"
     ]
    },
    {
     "data": {
      "application/vnd.jupyter.widget-view+json": {
       "model_id": "2c1c4425834346b39c9b8fa8fe5e2217",
       "version_major": 2,
       "version_minor": 0
      },
      "text/plain": [
       "  0%|          | 0/1 [00:00<?, ?it/s]"
      ]
     },
     "metadata": {},
     "output_type": "display_data"
    },
    {
     "name": "stdout",
     "output_type": "stream",
     "text": [
      "readout data length = 770 clock cycle\n"
     ]
    },
    {
     "data": {
      "application/vnd.jupyter.widget-view+json": {
       "model_id": "45e2b078e9bf48499b7799f303a95e90",
       "version_major": 2,
       "version_minor": 0
      },
      "text/plain": [
       "  0%|          | 0/1 [00:00<?, ?it/s]"
      ]
     },
     "metadata": {},
     "output_type": "display_data"
    },
    {
     "name": "stdout",
     "output_type": "stream",
     "text": [
      "readout data length = 770 clock cycle\n"
     ]
    },
    {
     "data": {
      "application/vnd.jupyter.widget-view+json": {
       "model_id": "4e7a833f43204e1faec3b58d990cbaac",
       "version_major": 2,
       "version_minor": 0
      },
      "text/plain": [
       "  0%|          | 0/1 [00:00<?, ?it/s]"
      ]
     },
     "metadata": {},
     "output_type": "display_data"
    },
    {
     "name": "stdout",
     "output_type": "stream",
     "text": [
      "readout data length = 770 clock cycle\n"
     ]
    },
    {
     "data": {
      "application/vnd.jupyter.widget-view+json": {
       "model_id": "c2d94ac61e4a410b9d9fb058b61ada80",
       "version_major": 2,
       "version_minor": 0
      },
      "text/plain": [
       "  0%|          | 0/1 [00:00<?, ?it/s]"
      ]
     },
     "metadata": {},
     "output_type": "display_data"
    },
    {
     "name": "stdout",
     "output_type": "stream",
     "text": [
      "readout data length = 770 clock cycle\n"
     ]
    },
    {
     "data": {
      "application/vnd.jupyter.widget-view+json": {
       "model_id": "28d90704b22e4627be74c1f8c70fc5eb",
       "version_major": 2,
       "version_minor": 0
      },
      "text/plain": [
       "  0%|          | 0/1 [00:00<?, ?it/s]"
      ]
     },
     "metadata": {},
     "output_type": "display_data"
    }
   ],
   "source": [
    "N_exp = 200 ### iteration in python\n",
    "\n",
    "data_tensor = np.zeros((N_exp, 2, data_len))\n",
    "\n",
    "for ii in range(N_exp):\n",
    "    #### load real qubit readout data\n",
    "    data_len = len(g_data[:,0,:].mean(axis = 0))\n",
    "    print(f'readout data length = {data_len} clock cycle')\n",
    "\n",
    "    ### we need to resample the data based on DAC freq\n",
    "    t_ns = data_len*1000/307.2\n",
    "    dac_len = int((t_ns/1000*6881.28)//16*16)\n",
    "\n",
    "    g_I_load = g_data[:,0,:].mean(axis = 0)\n",
    "    g_Q_load = g_data[:,1,:].mean(axis = 0)\n",
    "    e_I_load = e_data[:,0,:].mean(axis = 0)\n",
    "    e_Q_load = e_data[:,1,:].mean(axis = 0)\n",
    "    \n",
    "    \n",
    "    ### noise parameter\n",
    "    add_noise = True\n",
    "    noise_scale = 400\n",
    "\n",
    "    if add_noise == True:\n",
    "        g_I_add_noise = g_I_load + np.random.normal(0, noise_scale, size = g_I_load.shape[0])\n",
    "        g_Q_add_noise = g_Q_load + np.random.normal(0, noise_scale, size = g_Q_load.shape[0])\n",
    "        e_I_add_noise = e_I_load + np.random.normal(0, noise_scale, size = e_I_load.shape[0])\n",
    "        e_Q_add_noise = e_Q_load + np.random.normal(0, noise_scale, size = e_Q_load.shape[0])\n",
    "        \n",
    "    xp = np.linspace(1,data_len,data_len)\n",
    "    x = np.linspace(1,data_len,dac_len)\n",
    "    \n",
    "    ###################\n",
    "    ##   interp wf   ##\n",
    "    ###################\n",
    "    \n",
    "    g_I = np.interp(x, xp, g_I_load)\n",
    "    g_Q = np.interp(x, xp, g_Q_load)\n",
    "    e_I = np.interp(x, xp, e_I_load)\n",
    "    e_Q = np.interp(x, xp, e_Q_load)\n",
    "\n",
    "    if add_noise == True:\n",
    "        g_I = np.interp(x, xp, g_I_add_noise)\n",
    "        g_Q = np.interp(x, xp, g_Q_add_noise)\n",
    "        e_I = np.interp(x, xp, e_I_add_noise)\n",
    "        e_Q = np.interp(x, xp, e_Q_add_noise)\n",
    "        \n",
    "    ##########################\n",
    "    ##   loopback porgram   ##\n",
    "    ##########################\n",
    "        \n",
    "    DAC_gain = 1 ### tune this parameter to match the ADC level with the training data\n",
    "\n",
    "    class LoopbackProgram(AveragerProgram):\n",
    "        def initialize(self):\n",
    "            cfg=self.cfg   \n",
    "            res_ch = cfg[\"res_ch\"]\n",
    "\n",
    "            # set the nyquist zone\n",
    "            self.declare_gen(ch=cfg[\"res_ch\"], nqz=1)\n",
    "\n",
    "            # configure the readout lengths and downconversion frequencies (ensuring it is an available DAC frequency)\n",
    "            for ch in cfg[\"ro_chs\"]:\n",
    "                self.declare_readout(ch=ch, length=self.cfg[\"readout_length\"],\n",
    "                                     freq=self.cfg[\"pulse_freq\"], gen_ch=cfg[\"res_ch\"])\n",
    "\n",
    "            # convert frequency to DAC frequency (ensuring it is an available ADC frequency)\n",
    "            freq = self.freq2reg(cfg[\"pulse_freq\"],gen_ch=res_ch, ro_ch=cfg[\"ro_chs\"][0])\n",
    "            phase = self.deg2reg(cfg[\"res_phase\"], gen_ch=res_ch)\n",
    "            gain = cfg[\"pulse_gain\"]\n",
    "            self.default_pulse_registers(ch=res_ch, freq=freq, phase=phase, gain=gain)\n",
    "\n",
    "            style=self.cfg[\"pulse_style\"]\n",
    "\n",
    "\n",
    "            ########################\n",
    "            ### add g/e waveform ###\n",
    "            ########################\n",
    "    #         self.add_pulse(ch=cfg[\"res_ch\"], name = 'g_state', idata = DAC_gain*g_I, qdata = DAC_gain*g_Q)\n",
    "    #         self.add_pulse(ch=cfg[\"res_ch\"], name = 'e_state', idata = DAC_gain*e_I, qdata = DAC_gain*e_Q)\n",
    "            self.add_pulse(ch=cfg[\"res_ch\"], name = 'g_state', idata = DAC_gain*g_Q, qdata = DAC_gain*g_I)\n",
    "            self.add_pulse(ch=cfg[\"res_ch\"], name = 'e_state', idata = DAC_gain*e_Q, qdata = DAC_gain*e_I)\n",
    "\n",
    "            if style in [\"flat_top\",\"arb\"]:\n",
    "                sigma = cfg[\"sigma\"]\n",
    "                self.add_gauss(ch=res_ch, name=\"measure\", sigma=sigma, length=sigma*5)\n",
    "\n",
    "            if style == \"const\":\n",
    "                self.set_pulse_registers(ch=res_ch, style=style, length=cfg[\"length\"])\n",
    "            elif style == \"flat_top\":\n",
    "                # The first half of the waveform ramps up the pulse, the second half ramps down the pulse\n",
    "                self.set_pulse_registers(ch=res_ch, style=style, waveform=\"measure\", length=cfg[\"length\"])\n",
    "            elif style == \"arb\":\n",
    "                self.set_pulse_registers(ch=res_ch, style=style, waveform=\"measure\")\n",
    "\n",
    "            ########################\n",
    "            ### add g/e waveform ###\n",
    "            ########################   \n",
    "            elif style == \"g_state\":\n",
    "                self.set_pulse_registers(ch=res_ch, style=\"arb\", waveform=\"g_state\")\n",
    "            elif style == \"e_state\":\n",
    "                self.set_pulse_registers(ch=res_ch, style=\"arb\", waveform=\"e_state\")\n",
    "\n",
    "\n",
    "            self.synci(200)  # give processor some time to configure pulses\n",
    "\n",
    "        def body(self):\n",
    "            # fire the pulse\n",
    "            # trigger all declared ADCs\n",
    "            # pulse PMOD0_0 for a scope trigger\n",
    "            # pause the tProc until readout is done\n",
    "            # increment the time counter to give some time before the next measurement\n",
    "            # (the syncdelay also lets the tProc get back ahead of the clock)\n",
    "            self.measure(pulse_ch=self.cfg[\"res_ch\"], \n",
    "                         adcs=self.ro_chs,\n",
    "                         pins=[0], \n",
    "                         adc_trig_offset=self.cfg[\"adc_trig_offset\"],\n",
    "                         wait=True,\n",
    "                         syncdelay=self.us2cycles(self.cfg[\"relax_delay\"]))\n",
    "        \n",
    "    ##########################\n",
    "    ##   expt config        ##\n",
    "    ##########################            \n",
    "    DAC_phase = -90\n",
    "    readout_phase = phase_cal + DAC_phase\n",
    "\n",
    "    config={\"res_ch\":6, # --Fixed\n",
    "            \"ro_chs\":[0], # --Fixed\n",
    "            \"reps\":1, # --Fixed\n",
    "            \"relax_delay\":1.0, # --us\n",
    "            \"res_phase\": readout_phase, # updated readout phase\n",
    "            \"pulse_style\": \"e_state\", # --Fixed,\"const\"; \"g_state\"; \"e_state\"; \"arb\"\n",
    "\n",
    "            \"sigma\": 30, # [Clock ticks]\n",
    "\n",
    "            \"length\": 100, # [Clock ticks]\n",
    "            # Try varying length from 10-100 clock ticks\n",
    "\n",
    "            \"readout_length\":data_len, # [Clock ticks]\n",
    "            # Try varying readout_length from 50-1000 clock ticks\n",
    "\n",
    "            \"pulse_gain\": 30000, # [DAC units]\n",
    "            # Try varying pulse_gain from 500 to 30000 DAC units\n",
    "\n",
    "            \"pulse_freq\": 100, # [MHz]\n",
    "            # In this program the signal is up and downconverted digitally so you won't see any frequency\n",
    "            # components in the I/Q traces below. But since the signal gain depends on frequency, \n",
    "            # if you lower pulse_freq you will see an increased gain.\n",
    "\n",
    "            \"adc_trig_offset\": 190, # [Clock ticks]\n",
    "            # Try varying adc_trig_offset from 100 to 220 clock ticks\n",
    "\n",
    "            \"soft_avgs\":1\n",
    "            # Try varying soft_avgs from 1 to 200 averages\n",
    "\n",
    "           }\n",
    "\n",
    "    ###################\n",
    "    # Try it yourself !\n",
    "    ###################\n",
    "\n",
    "    prog =LoopbackProgram(soccfg, config)\n",
    "    iq_list = prog.acquire_decimated(soc, load_pulses=True, progress=True)#, debug=False)\n",
    "    data_tensor[ii] = iq_list[0]\n"
   ]
  },
  {
   "cell_type": "code",
   "execution_count": 52,
   "id": "6ab5bdf4",
   "metadata": {},
   "outputs": [
    {
     "data": {
      "text/plain": [
       "<matplotlib.legend.Legend at 0xffff649c0cd0>"
      ]
     },
     "execution_count": 52,
     "metadata": {},
     "output_type": "execute_result"
    },
    {
     "data": {
      "image/png": "[encoded data removed]",
      "text/plain": [
       "<Figure size 432x288 with 1 Axes>"
      ]
     },
     "metadata": {
      "needs_background": "light"
     },
     "output_type": "display_data"
    }
   ],
   "source": [
    "ADC_fake_gain = 27 ### tune this parameter to match the ADC level with the training data\n",
    "\n",
    "\n",
    "plt.plot(data_tensor[:,0,:].mean(axis = 0)*ADC_fake_gain, markersize=0.5, color = 'C0' , label=\"I value\")\n",
    "plt.plot(data_tensor[:,1,:].mean(axis = 0)*ADC_fake_gain, markersize=0.5, color = 'C1' ,label=\"Q value\")\n",
    "\n",
    "plt.plot(xp, e_I_load, markersize=1.5, color = 'grey', label = 'load - e-I', alpha = 0.5)\n",
    "plt.plot(xp, e_Q_load, markersize=1.5, color = 'grey', label = 'load - e-Q', alpha = 0.5)\n",
    "\n",
    "\n",
    "plt.ylabel(\"a.u.\")\n",
    "plt.xlabel(\"Clock ticks\")\n",
    "plt.title(\"Python Averages = \" + str(N_exp))\n",
    "plt.legend()"
   ]
  }
 ],
 "metadata": {
  "kernelspec": {
   "display_name": "Python 3",
   "language": "python",
   "name": "python3"
  },
  "language_info": {
   "codemirror_mode": {
    "name": "ipython",
    "version": 3
   },
   "file_extension": ".py",
   "mimetype": "text/x-python",
   "name": "python",
   "nbconvert_exporter": "python",
   "pygments_lexer": "ipython3",
   "version": "3.8.2"
  },
  "toc": {
   "base_numbering": 1,
   "nav_menu": {},
   "number_sections": true,
   "sideBar": true,
   "skip_h1_title": false,
   "title_cell": "Table of Contents",
   "title_sidebar": "Contents",
   "toc_cell": false,
   "toc_position": {
    "height": "calc(100% - 180px)",
    "left": "10px",
    "top": "150px",
    "width": "374.391px"
   },
   "toc_section_display": true,
   "toc_window_display": true
  }
 },
 "nbformat": 4,
 "nbformat_minor": 5
}
