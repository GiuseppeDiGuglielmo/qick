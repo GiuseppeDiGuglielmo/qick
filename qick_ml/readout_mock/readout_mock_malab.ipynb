{
 "cells": [
  {
   "cell_type": "markdown",
   "id": "1272a92e",
   "metadata": {},
   "source": [
    "# Overview\n",
    "\n",
    "- Load .bit file\n",
    "- Basic loopback program calibration\n",
    "    - original code from demo\n",
    "    - time of flight cal\n",
    "    - readout phase cal\n",
    "    \n",
    "- Load real qubit readout data (old data from ZCU111)\n",
    "    \n",
    "- Readout mock - averaged signal (as an example)\n",
    "- Readout mock - singel-shot signal\n",
    "    - single-shot with tunable guassian noise\n",
    "    - iterate the single-shot experiment in python loop"
   ]
  },
  {
   "cell_type": "markdown",
   "id": "de327454",
   "metadata": {},
   "source": [
    "# Load .bit file"
   ]
  },
  {
   "cell_type": "code",
   "execution_count": 1,
   "id": "26d33183",
   "metadata": {},
   "outputs": [
    {
     "data": {
      "application/javascript": [
       "\n",
       "try {\n",
       "require(['notebook/js/codecell'], function(codecell) {\n",
       "  codecell.CodeCell.options_default.highlight_modes[\n",
       "      'magic_text/x-csrc'] = {'reg':[/^%%microblaze/]};\n",
       "  Jupyter.notebook.events.one('kernel_ready.Kernel', function(){\n",
       "      Jupyter.notebook.get_cells().map(function(cell){\n",
       "          if (cell.cell_type == 'code'){ cell.auto_highlight(); } }) ;\n",
       "  });\n",
       "});\n",
       "} catch (e) {};\n"
      ]
     },
     "metadata": {},
     "output_type": "display_data"
    },
    {
     "data": {
      "application/javascript": [
       "\n",
       "try {\n",
       "require(['notebook/js/codecell'], function(codecell) {\n",
       "  codecell.CodeCell.options_default.highlight_modes[\n",
       "      'magic_text/x-csrc'] = {'reg':[/^%%pybind11/]};\n",
       "  Jupyter.notebook.events.one('kernel_ready.Kernel', function(){\n",
       "      Jupyter.notebook.get_cells().map(function(cell){\n",
       "          if (cell.cell_type == 'code'){ cell.auto_highlight(); } }) ;\n",
       "  });\n",
       "});\n",
       "} catch (e) {};\n"
      ]
     },
     "metadata": {},
     "output_type": "display_data"
    },
    {
     "name": "stdout",
     "output_type": "stream",
     "text": [
      "Populating the interactive namespace from numpy and matplotlib\n"
     ]
    }
   ],
   "source": [
    "# Import the QICK drivers and auxiliary libraries\n",
    "from qick import *\n",
    "%pylab inline"
   ]
  },
  {
   "cell_type": "code",
   "execution_count": 2,
   "id": "1cecf071",
   "metadata": {},
   "outputs": [
    {
     "name": "stdout",
     "output_type": "stream",
     "text": [
      "\n",
      "QICK configuration:\n",
      "\n",
      "\tBoard: ZCU216\n",
      "\n",
      "\tSoftware version: 0.2.200\n",
      "\tFirmware timestamp: Mon Aug 21 11:09:34 2023\n",
      "\n",
      "\tGlobal clocks (MHz): tProcessor 430.080, RF reference 245.760\n",
      "\n",
      "\t7 signal generator channels:\n",
      "\t0:\taxis_signal_gen_v6 - tProc output 1, envelope memory 65536 samples\n",
      "\t\tDAC tile 2, blk 0, 32-bit DDS, fabric=430.080 MHz, f_dds=6881.280 MHz\n",
      "\t1:\taxis_signal_gen_v6 - tProc output 2, envelope memory 65536 samples\n",
      "\t\tDAC tile 2, blk 1, 32-bit DDS, fabric=430.080 MHz, f_dds=6881.280 MHz\n",
      "\t2:\taxis_signal_gen_v6 - tProc output 3, envelope memory 65536 samples\n",
      "\t\tDAC tile 2, blk 2, 32-bit DDS, fabric=430.080 MHz, f_dds=6881.280 MHz\n",
      "\t3:\taxis_signal_gen_v6 - tProc output 4, envelope memory 65536 samples\n",
      "\t\tDAC tile 2, blk 3, 32-bit DDS, fabric=430.080 MHz, f_dds=6881.280 MHz\n",
      "\t4:\taxis_signal_gen_v6 - tProc output 5, envelope memory 65536 samples\n",
      "\t\tDAC tile 3, blk 0, 32-bit DDS, fabric=430.080 MHz, f_dds=6881.280 MHz\n",
      "\t5:\taxis_signal_gen_v6 - tProc output 6, envelope memory 65536 samples\n",
      "\t\tDAC tile 3, blk 1, 32-bit DDS, fabric=430.080 MHz, f_dds=6881.280 MHz\n",
      "\t6:\taxis_signal_gen_v6 - tProc output 7, envelope memory 65536 samples\n",
      "\t\tDAC tile 3, blk 2, 32-bit DDS, fabric=430.080 MHz, f_dds=6881.280 MHz\n",
      "\n",
      "\t2 readout channels:\n",
      "\t0:\taxis_readout_v2 - controlled by PYNQ\n",
      "\t\tADC tile 2, blk 0, 32-bit DDS, fabric=307.200 MHz, f_dds=2457.600 MHz\n",
      "\t\tmaxlen 16384 (avg) 1024 (decimated)\n",
      "\t\ttriggered by output 0, pin 14, feedback to tProc input 0\n",
      "\t1:\taxis_readout_v2 - controlled by PYNQ\n",
      "\t\tADC tile 2, blk 2, 32-bit DDS, fabric=307.200 MHz, f_dds=2457.600 MHz\n",
      "\t\tmaxlen 16384 (avg) 1024 (decimated)\n",
      "\t\ttriggered by output 0, pin 15, feedback to tProc input 1\n",
      "\n",
      "\t7 DACs:\n",
      "\t\tDAC tile 2, blk 0 is 0_230, on JHC3\n",
      "\t\tDAC tile 2, blk 1 is 1_230, on JHC4\n",
      "\t\tDAC tile 2, blk 2 is 2_230, on JHC3\n",
      "\t\tDAC tile 2, blk 3 is 3_230, on JHC4\n",
      "\t\tDAC tile 3, blk 0 is 0_231, on JHC3\n",
      "\t\tDAC tile 3, blk 1 is 1_231, on JHC4\n",
      "\t\tDAC tile 3, blk 2 is 2_231, on JHC3\n",
      "\n",
      "\t2 ADCs:\n",
      "\t\tADC tile 2, blk 0 is 0_226, on JHC7\n",
      "\t\tADC tile 2, blk 2 is 2_226, on JHC7\n",
      "\n",
      "\t8 digital output pins:\n",
      "\t0:\tPMOD0_0_LS (output 0, pin 0)\n",
      "\t1:\tPMOD0_1_LS (output 0, pin 1)\n",
      "\t2:\tPMOD0_2_LS (output 0, pin 2)\n",
      "\t3:\tPMOD0_3_LS (output 0, pin 3)\n",
      "\t4:\tPMOD0_4_LS (output 0, pin 4)\n",
      "\t5:\tPMOD0_5_LS (output 0, pin 5)\n",
      "\t6:\tPMOD0_6_LS (output 0, pin 6)\n",
      "\t7:\tPMOD0_7_LS (output 0, pin 7)\n",
      "\n",
      "\ttProc axis_tproc64x32_x8: program memory 8192 words, data memory 4096 words\n",
      "\t\texternal start pin: PMOD1_0_LS\n",
      "\n",
      "\tDDR4 memory buffer: 1073741824 samples, 128 samples/transfer\n",
      "\t\twired to readouts [0, 1], triggered by output 0, pin 13\n",
      "\n",
      "\tMR buffer: 8192 samples, wired to readouts [0, 1], triggered by output 0, pin 12\n"
     ]
    }
   ],
   "source": [
    "# Load bitstream with custom overlay\n",
    "soc = QickSoc()\n",
    "# soc = QickSoc(\"qick_216_0821.bit\")\n",
    "# Since we're running locally on the QICK, we don't need a separate QickConfig object.\n",
    "# If running remotely, you could generate a QickConfig from the QickSoc:\n",
    "#     soccfg = QickConfig(soc.get_cfg())\n",
    "# or save the config to file, and load it later:\n",
    "#     with open(\"qick_config.json\", \"w\") as f:\n",
    "#         f.write(soc.dump_cfg())\n",
    "#     soccfg = QickConfig(\"qick_config.json\")\n",
    "soccfg = soc\n",
    "print(soccfg)"
   ]
  },
  {
   "cell_type": "markdown",
   "id": "0382b91f",
   "metadata": {},
   "source": [
    "# Basic loopback program calibration"
   ]
  },
  {
   "cell_type": "markdown",
   "id": "3c56254c",
   "metadata": {},
   "source": [
    "## original code from demo\n",
    "\n",
    "- generator channel 6 : <-> Readout channel 0"
   ]
  },
  {
   "cell_type": "code",
   "execution_count": 3,
   "id": "5ba0f0ff",
   "metadata": {},
   "outputs": [],
   "source": [
    "class LoopbackProgram(AveragerProgram):\n",
    "    def initialize(self):\n",
    "        cfg=self.cfg   \n",
    "        res_ch = cfg[\"res_ch\"]\n",
    "\n",
    "        # set the nyquist zone\n",
    "        self.declare_gen(ch=cfg[\"res_ch\"], nqz=1)\n",
    "        \n",
    "        # configure the readout lengths and downconversion frequencies (ensuring it is an available DAC frequency)\n",
    "        for ch in cfg[\"ro_chs\"]:\n",
    "            self.declare_readout(ch=ch, length=self.cfg[\"readout_length\"],\n",
    "                                 freq=self.cfg[\"pulse_freq\"], gen_ch=cfg[\"res_ch\"])\n",
    "\n",
    "        # convert frequency to DAC frequency (ensuring it is an available ADC frequency)\n",
    "        freq = self.freq2reg(cfg[\"pulse_freq\"],gen_ch=res_ch, ro_ch=cfg[\"ro_chs\"][0])\n",
    "        phase = self.deg2reg(cfg[\"res_phase\"], gen_ch=res_ch)\n",
    "        gain = cfg[\"pulse_gain\"]\n",
    "        self.default_pulse_registers(ch=res_ch, freq=freq, phase=phase, gain=gain)\n",
    "\n",
    "        style=self.cfg[\"pulse_style\"]\n",
    "\n",
    "        if style in [\"flat_top\",\"arb\"]:\n",
    "            sigma = cfg[\"sigma\"]\n",
    "            self.add_gauss(ch=res_ch, name=\"measure\", sigma=sigma, length=sigma*5)\n",
    "            \n",
    "        if style == \"const\":\n",
    "            self.set_pulse_registers(ch=res_ch, style=style, length=cfg[\"length\"])\n",
    "        elif style == \"flat_top\":\n",
    "            # The first half of the waveform ramps up the pulse, the second half ramps down the pulse\n",
    "            self.set_pulse_registers(ch=res_ch, style=style, waveform=\"measure\", length=cfg[\"length\"])\n",
    "        elif style == \"arb\":\n",
    "            self.set_pulse_registers(ch=res_ch, style=style, waveform=\"measure\")\n",
    "        \n",
    "        self.synci(200)  # give processor some time to configure pulses\n",
    "    \n",
    "    def body(self):\n",
    "        # fire the pulse\n",
    "        # trigger all declared ADCs\n",
    "        # pulse PMOD0_0 for a scope trigger\n",
    "        # pause the tProc until readout is done\n",
    "        # increment the time counter to give some time before the next measurement\n",
    "        # (the syncdelay also lets the tProc get back ahead of the clock)\n",
    "        self.measure(pulse_ch=self.cfg[\"res_ch\"], \n",
    "                     adcs=self.ro_chs,\n",
    "                     pins=[0], \n",
    "                     adc_trig_offset=self.cfg[\"adc_trig_offset\"],\n",
    "                     wait=True,\n",
    "                     syncdelay=self.us2cycles(self.cfg[\"relax_delay\"]))"
   ]
  },
  {
   "cell_type": "code",
   "execution_count": 4,
   "id": "1b3ae991",
   "metadata": {},
   "outputs": [
    {
     "data": {
      "application/vnd.jupyter.widget-view+json": {
       "model_id": "5fab08509d7b4b5792f43618ad886f0c",
       "version_major": 2,
       "version_minor": 0
      },
      "text/plain": [
       "  0%|          | 0/100 [00:00<?, ?it/s]"
      ]
     },
     "metadata": {},
     "output_type": "display_data"
    }
   ],
   "source": [
    "config={\"res_ch\":6, # --Fixed\n",
    "        \"ro_chs\":[0], # --Fixed\n",
    "        \"reps\":1, # --Fixed\n",
    "        \"relax_delay\":1.0, # --us\n",
    "        \"res_phase\":0, # --degrees\n",
    "        \"pulse_style\": \"const\", # --Fixed\n",
    "        \n",
    "        \"length\":20, # [Clock ticks]\n",
    "        # Try varying length from 10-100 clock ticks\n",
    "        \n",
    "        \"readout_length\":100, # [Clock ticks]\n",
    "        # Try varying readout_length from 50-1000 clock ticks\n",
    "\n",
    "        \"pulse_gain\":3000, # [DAC units]\n",
    "        # Try varying pulse_gain from 500 to 30000 DAC units\n",
    "\n",
    "        \"pulse_freq\": 100, # [MHz]\n",
    "        # In this program the signal is up and downconverted digitally so you won't see any frequency\n",
    "        # components in the I/Q traces below. But since the signal gain depends on frequency, \n",
    "        # if you lower pulse_freq you will see an increased gain.\n",
    "\n",
    "        \"adc_trig_offset\": 100, # [Clock ticks]\n",
    "        # Try varying adc_trig_offset from 100 to 220 clock ticks\n",
    "\n",
    "        \"soft_avgs\":100\n",
    "        # Try varying soft_avgs from 1 to 200 averages\n",
    "\n",
    "       }\n",
    "\n",
    "###################\n",
    "# Try it yourself !\n",
    "###################\n",
    "\n",
    "prog =LoopbackProgram(soccfg, config)\n",
    "iq_list = prog.acquire_decimated(soc, load_pulses=True, progress=True)#, debug=False)"
   ]
  },
  {
   "cell_type": "code",
   "execution_count": 5,
   "id": "6de3e373",
   "metadata": {},
   "outputs": [
    {
     "data": {
      "text/plain": [
       "<matplotlib.legend.Legend at 0xffff8e4e4550>"
      ]
     },
     "execution_count": 5,
     "metadata": {},
     "output_type": "execute_result"
    },
    {
     "data": {
      "image/png": "[encoded data removed]",
      "text/plain": [
       "<Figure size 432x288 with 1 Axes>"
      ]
     },
     "metadata": {
      "needs_background": "light"
     },
     "output_type": "display_data"
    }
   ],
   "source": [
    "# Plot results.\n",
    "plt.figure(1)\n",
    "for ii, iq in enumerate(iq_list):\n",
    "    plt.plot(iq[0], label=\"I value, ADC %d\"%(config['ro_chs'][ii]))\n",
    "    plt.plot(iq[1], label=\"Q value, ADC %d\"%(config['ro_chs'][ii]))\n",
    "    plt.plot(np.abs(iq[0]+1j*iq[1]), label=\"mag, ADC %d\"%(config['ro_chs'][ii]))\n",
    "plt.ylabel(\"a.u.\")\n",
    "plt.xlabel(\"Clock ticks\")\n",
    "plt.title(\"Averages = \" + str(config[\"soft_avgs\"]))\n",
    "plt.legend()\n",
    "# plt.savefig(\"images/Send_recieve_pulse_const.pdf\", dpi=350)"
   ]
  },
  {
   "cell_type": "markdown",
   "id": "5c1d6b75",
   "metadata": {},
   "source": [
    "## Time of flight (tof) calibration"
   ]
  },
  {
   "cell_type": "markdown",
   "id": "dda363b0",
   "metadata": {},
   "source": [
    "Find the mis-alignment between the DAC and ADC readout window for previous experiment"
   ]
  },
  {
   "cell_type": "code",
   "execution_count": 6,
   "id": "6f19eca9",
   "metadata": {},
   "outputs": [
    {
     "data": {
      "text/plain": [
       "<matplotlib.legend.Legend at 0xffff8e2e08b0>"
      ]
     },
     "execution_count": 6,
     "metadata": {},
     "output_type": "execute_result"
    },
    {
     "data": {
      "image/png": "[encoded data removed]",
      "text/plain": [
       "<Figure size 432x288 with 1 Axes>"
      ]
     },
     "metadata": {
      "needs_background": "light"
     },
     "output_type": "display_data"
    }
   ],
   "source": [
    "# Plot results.\n",
    "plt.figure(1)\n",
    "for ii, iq in enumerate(iq_list):\n",
    "    plt.plot(iq[0], label=\"I value, ADC %d\"%(config['ro_chs'][ii]))\n",
    "    plt.plot(iq[1], label=\"Q value, ADC %d\"%(config['ro_chs'][ii]))\n",
    "    plt.plot(np.abs(iq[0]+1j*iq[1]), label=\"mag, ADC %d\"%(config['ro_chs'][ii]))\n",
    "plt.ylabel(\"a.u.\")\n",
    "plt.xlabel(\"Clock ticks\")\n",
    "plt.title(\"Averages = \" + str(config[\"soft_avgs\"]))\n",
    "\n",
    "axvline(64, ls = '--', color = 'grey', label = 'additional adc_trig_offset') ### using this 'cursor' to find the additional adc_trig_offset\n",
    "plt.legend()"
   ]
  },
  {
   "cell_type": "markdown",
   "id": "afe0a972",
   "metadata": {},
   "source": [
    "Adjust the `adc_trig_offset` in the `config` dict\n",
    "\n",
    "- The DAC and ADC has different fabric freq\n",
    "    - DAC: fabric=430.080 MHz\n",
    "    - ADC: fabric=307.200 MHz\n",
    "- the readout plot data is sampled at ADC fabric freq, but the adc_trig_offset is used in DAC fabric freq\n",
    "    - so we need to convert the measured delay into input delay:\n",
    "    - input delay = meausured delay * DAC fabric freq/ADC fabric freq //1"
   ]
  },
  {
   "cell_type": "code",
   "execution_count": 7,
   "id": "1a084812",
   "metadata": {},
   "outputs": [
    {
     "data": {
      "text/plain": [
       "89.6"
      ]
     },
     "execution_count": 7,
     "metadata": {},
     "output_type": "execute_result"
    }
   ],
   "source": [
    "64*430.080/307.2"
   ]
  },
  {
   "cell_type": "markdown",
   "id": "3ea175da",
   "metadata": {},
   "source": [
    "Now, the time of flight is calibrated"
   ]
  },
  {
   "cell_type": "code",
   "execution_count": 8,
   "id": "7a0ef783",
   "metadata": {
    "scrolled": false
   },
   "outputs": [
    {
     "data": {
      "application/vnd.jupyter.widget-view+json": {
       "model_id": "eccf0146b81348deb48f3a1384921f10",
       "version_major": 2,
       "version_minor": 0
      },
      "text/plain": [
       "  0%|          | 0/100 [00:00<?, ?it/s]"
      ]
     },
     "metadata": {},
     "output_type": "display_data"
    },
    {
     "data": {
      "text/plain": [
       "<matplotlib.legend.Legend at 0xffff8e2334f0>"
      ]
     },
     "execution_count": 8,
     "metadata": {},
     "output_type": "execute_result"
    },
    {
     "data": {
      "image/png": "[encoded data removed]",
      "text/plain": [
       "<Figure size 432x288 with 1 Axes>"
      ]
     },
     "metadata": {
      "needs_background": "light"
     },
     "output_type": "display_data"
    }
   ],
   "source": [
    "config={\"res_ch\":6, # --Fixed\n",
    "        \"ro_chs\":[0], # --Fixed\n",
    "        \"reps\":1, # --Fixed\n",
    "        \"relax_delay\":1.0, # --us\n",
    "        \"res_phase\":0, # --degrees\n",
    "        \"pulse_style\": \"const\", # --Fixed\n",
    "        \n",
    "        \"length\":20, # [Clock ticks]\n",
    "        # Try varying length from 10-100 clock ticks\n",
    "        \n",
    "        \"readout_length\":100, # [Clock ticks]\n",
    "        # Try varying readout_length from 50-1000 clock ticks\n",
    "\n",
    "        \"pulse_gain\":3000, # [DAC units]\n",
    "        # Try varying pulse_gain from 500 to 30000 DAC units\n",
    "\n",
    "        \"pulse_freq\": 100, # [MHz]\n",
    "        # In this program the signal is up and downconverted digitally so you won't see any frequency\n",
    "        # components in the I/Q traces below. But since the signal gain depends on frequency, \n",
    "        # if you lower pulse_freq you will see an increased gain.\n",
    "\n",
    "        \"adc_trig_offset\": 190, # [Clock ticks] ## pervious was 100\n",
    "        # Try varying adc_trig_offset from 100 to 220 clock ticks\n",
    "\n",
    "        \"soft_avgs\":100\n",
    "        # Try varying soft_avgs from 1 to 200 averages\n",
    "\n",
    "       }\n",
    "\n",
    "###################\n",
    "# Try it yourself !\n",
    "###################\n",
    "\n",
    "prog =LoopbackProgram(soccfg, config)\n",
    "iq_list = prog.acquire_decimated(soc, load_pulses=True, progress=True)#, debug=False)\n",
    "\n",
    "\n",
    "###################\n",
    "# plot the result\n",
    "###################\n",
    "\n",
    "# Plot results.\n",
    "plt.figure(1)\n",
    "for ii, iq in enumerate(iq_list):\n",
    "    plt.plot(iq[0], label=\"I value, ADC %d\"%(config['ro_chs'][ii]))\n",
    "    plt.plot(iq[1], label=\"Q value, ADC %d\"%(config['ro_chs'][ii]))\n",
    "    plt.plot(np.abs(iq[0]+1j*iq[1]), label=\"mag, ADC %d\"%(config['ro_chs'][ii]))\n",
    "plt.ylabel(\"a.u.\")\n",
    "plt.xlabel(\"Clock ticks\")\n",
    "plt.title(\"Averages = \" + str(config[\"soft_avgs\"]))\n",
    "\n",
    "axvline(63, ls = '--', color = 'grey', label = 'additional adc_trig_offset') ### using this 'cursor' to find the additional adc_trig_offset\n",
    "plt.legend()"
   ]
  },
  {
   "cell_type": "markdown",
   "id": "ea9f0e8e",
   "metadata": {},
   "source": [
    "## Readout phase calibration\n",
    "- code from qick_demos/05_PhaseCoherence_QickProgram.ipynb\n",
    "- remeber to update the `adc_trig_offset` in the `config` file"
   ]
  },
  {
   "cell_type": "code",
   "execution_count": 9,
   "id": "1a7e6347",
   "metadata": {},
   "outputs": [],
   "source": [
    "class LoopbackProgram(AveragerProgram):\n",
    "    def initialize(self):\n",
    "        cfg=self.cfg   \n",
    "\n",
    "        # set the nyquist zone\n",
    "        self.declare_gen(ch=cfg[\"res_ch\"], nqz=1)\n",
    "\n",
    "        self.r_rp=self.ch_page(self.cfg[\"res_ch\"])     # get register page for res_ch\n",
    "        self.r_gain=self.sreg(cfg[\"res_ch\"], \"gain\")   #Get gain register for res_ch\n",
    "        \n",
    "        #configure the readout lengths and downconversion frequencies\n",
    "        self.declare_readout(ch=cfg[\"ro_ch\"], length=self.cfg[\"readout_length\"],\n",
    "                             freq=self.cfg[\"pulse_freq\"], gen_ch=cfg[\"res_ch\"])\n",
    "        \n",
    "        freq=self.freq2reg(cfg[\"pulse_freq\"], gen_ch=cfg[\"res_ch\"], ro_ch=cfg[\"ro_ch\"])  # convert frequency to dac frequency (ensuring it is an available adc frequency)\n",
    "        self.set_pulse_registers(ch=cfg[\"res_ch\"], style=\"const\", freq=freq, phase=0, gain=cfg[\"pulse_gain\"], \n",
    "                                 length=cfg[\"length\"])\n",
    "        \n",
    "        self.synci(200)  # give processor some time to configure pulses\n",
    "    \n",
    "    def body(self):\n",
    "        self.measure(pulse_ch=self.cfg[\"res_ch\"], \n",
    "             adcs=[self.cfg[\"ro_ch\"]],\n",
    "             adc_trig_offset=self.cfg[\"adc_trig_offset\"],\n",
    "             t=0,\n",
    "             wait=True,\n",
    "             syncdelay=self.us2cycles(self.cfg[\"relax_delay\"]))"
   ]
  },
  {
   "cell_type": "markdown",
   "id": "b87ed981",
   "metadata": {},
   "source": [
    "### First, sanity check that we can see the pulse we want to calibrate"
   ]
  },
  {
   "cell_type": "code",
   "execution_count": 10,
   "id": "a8fbc9b2",
   "metadata": {},
   "outputs": [],
   "source": [
    "config={\"res_ch\":6, # --Fixed\n",
    "        \"ro_ch\":0, # --Fixed\n",
    "        \"relax_delay\":1.0, # --Fixed\n",
    "        \"res_phase\":0, # --Fixed\n",
    "        \"length\":400, # [Clock ticks] \n",
    "        \"readout_length\":200, # [Clock ticks]\n",
    "        \"pulse_gain\":10000, # [DAC units]\n",
    "        \"pulse_freq\": 100, # [MHz]\n",
    "        \"adc_trig_offset\": 190, # [Clock ticks]\n",
    "        \"reps\":1, \n",
    "        \"soft_avgs\":1,\n",
    "       }\n",
    "\n",
    "prog =LoopbackProgram(soccfg, config)\n",
    "(iq0,) = prog.acquire_decimated(soc,progress=False)"
   ]
  },
  {
   "cell_type": "code",
   "execution_count": 11,
   "id": "22bc98cd",
   "metadata": {},
   "outputs": [
    {
     "data": {
      "text/plain": [
       "<matplotlib.legend.Legend at 0xffff8e218520>"
      ]
     },
     "execution_count": 11,
     "metadata": {},
     "output_type": "execute_result"
    },
    {
     "data": {
      "image/png": "[encoded data removed]",
      "text/plain": [
       "<Figure size 432x288 with 1 Axes>"
      ]
     },
     "metadata": {
      "needs_background": "light"
     },
     "output_type": "display_data"
    }
   ],
   "source": [
    "# Plot results.\n",
    "plt.figure(1)\n",
    "plt.plot(iq0[0], label=\"I value; ADC 0\")\n",
    "plt.plot(iq0[1], label=\"Q value; ADC 0\")\n",
    "plt.ylabel(\"a.u.\")\n",
    "plt.xlabel(\"Clock ticks\")\n",
    "plt.title(\"Averages = \" + str(config[\"soft_avgs\"]))\n",
    "plt.legend()"
   ]
  },
  {
   "cell_type": "markdown",
   "id": "964c9522",
   "metadata": {},
   "source": [
    "### Params 3 (We zoom in on the frequency area of interest and then print out the associated phase of interest)"
   ]
  },
  {
   "cell_type": "code",
   "execution_count": 12,
   "id": "2778bbb0",
   "metadata": {},
   "outputs": [
    {
     "data": {
      "text/plain": [
       "array([ 99.998   ,  99.998125,  99.99825 ,  99.998375,  99.9985  ,\n",
       "        99.998625,  99.99875 ,  99.998875,  99.999   ,  99.999125,\n",
       "        99.99925 ,  99.999375,  99.9995  ,  99.999625,  99.99975 ,\n",
       "        99.999875, 100.      , 100.000125, 100.00025 , 100.000375,\n",
       "       100.0005  , 100.000625, 100.00075 , 100.000875, 100.001   ,\n",
       "       100.001125, 100.00125 , 100.001375, 100.0015  , 100.001625,\n",
       "       100.00175 , 100.001875])"
      ]
     },
     "execution_count": 12,
     "metadata": {},
     "output_type": "execute_result"
    }
   ],
   "source": [
    "config={\"res_ch\":6, # --Fixed\n",
    "        \"ro_ch\":0, # --Fixed\n",
    "        \"relax_delay\":1.0, # --Fixed\n",
    "        \"res_phase\":0, # --Fixed\n",
    "        \"length\":400, # [Clock ticks] \n",
    "        \"readout_length\":200, # [Clock ticks]\n",
    "        \"pulse_gain\":10000, # [DAC units]\n",
    "        \"pulse_freq\": 100, # [MHz]\n",
    "        \"adc_trig_offset\": 190, # [Clock ticks]\n",
    "        \"reps\":1, \n",
    "        \"soft_avgs\":1,\n",
    "       }\n",
    "\n",
    "\n",
    "freq_readout = config[\"pulse_freq\"]\n",
    "freq_start = freq_readout - 0.002 ##[MHz]\n",
    "freq_step = 0.000125  ##[MHz]\n",
    "expts = 32\n",
    "\n",
    "sweep_cfg={\"start\":freq_start, \"step\":freq_step, \"expts\":expts}\n",
    "\n",
    "gpts=sweep_cfg[\"start\"] + sweep_cfg[\"step\"]*np.arange(sweep_cfg[\"expts\"])\n",
    "gpts"
   ]
  },
  {
   "cell_type": "code",
   "execution_count": 13,
   "id": "7d8e75da",
   "metadata": {},
   "outputs": [],
   "source": [
    "resultsi=[]\n",
    "resultsq=[]\n",
    "for g in gpts:\n",
    "    time.sleep(0.1)\n",
    "    config[\"pulse_freq\"]=g\n",
    "    prog =LoopbackProgram(soccfg, config)\n",
    "    (iq0,) = prog.acquire_decimated(soc,progress=False)\n",
    "    di0 = np.sum(iq0[0])/config[\"readout_length\"]\n",
    "    dq0 = np.sum(iq0[1])/config[\"readout_length\"]\n",
    "    resultsi.append(di0)\n",
    "    resultsq.append(dq0)\n",
    "resultsi=np.array(resultsi)\n",
    "resultsq=np.array(resultsq)"
   ]
  },
  {
   "cell_type": "code",
   "execution_count": 14,
   "id": "fff30e9f",
   "metadata": {},
   "outputs": [
    {
     "name": "stdout",
     "output_type": "stream",
     "text": [
      "Iteration i = 0, freq_i = 99.998000 MHz, phi_i = 240.661931 degrees\n",
      "Iteration i = 1, freq_i = 99.998125 MHz, phi_i = 248.064686 degrees\n",
      "Iteration i = 2, freq_i = 99.998250 MHz, phi_i = 255.054407 degrees\n",
      "Iteration i = 3, freq_i = 99.998375 MHz, phi_i = 262.475027 degrees\n",
      "Iteration i = 4, freq_i = 99.998500 MHz, phi_i = 269.521159 degrees\n",
      "Iteration i = 5, freq_i = 99.998625 MHz, phi_i = 276.900674 degrees\n",
      "Iteration i = 6, freq_i = 99.998750 MHz, phi_i = 284.411839 degrees\n",
      "Iteration i = 7, freq_i = 99.998875 MHz, phi_i = 291.500362 degrees\n",
      "Iteration i = 8, freq_i = 99.999000 MHz, phi_i = 299.004894 degrees\n",
      "Iteration i = 9, freq_i = 99.999125 MHz, phi_i = 305.837968 degrees\n",
      "Iteration i = 10, freq_i = 99.999250 MHz, phi_i = 313.311158 degrees\n",
      "Iteration i = 11, freq_i = 99.999375 MHz, phi_i = 320.874569 degrees\n",
      "Iteration i = 12, freq_i = 99.999500 MHz, phi_i = 327.910780 degrees\n",
      "Iteration i = 13, freq_i = 99.999625 MHz, phi_i = 335.244938 degrees\n",
      "Iteration i = 14, freq_i = 99.999750 MHz, phi_i = 342.358089 degrees\n",
      "Iteration i = 15, freq_i = 99.999875 MHz, phi_i = 349.754446 degrees\n",
      "Iteration i = 16, freq_i = 100.000000 MHz, phi_i = 357.180962 degrees\n",
      "Iteration i = 17, freq_i = 100.000125 MHz, phi_i = 4.165655 degrees\n",
      "Iteration i = 18, freq_i = 100.000250 MHz, phi_i = 11.761135 degrees\n",
      "Iteration i = 19, freq_i = 100.000375 MHz, phi_i = 18.649704 degrees\n",
      "Iteration i = 20, freq_i = 100.000500 MHz, phi_i = 26.094168 degrees\n",
      "Iteration i = 21, freq_i = 100.000625 MHz, phi_i = 33.544608 degrees\n",
      "Iteration i = 22, freq_i = 100.000750 MHz, phi_i = 40.680257 degrees\n",
      "Iteration i = 23, freq_i = 100.000875 MHz, phi_i = 48.008614 degrees\n",
      "Iteration i = 24, freq_i = 100.001000 MHz, phi_i = 55.105810 degrees\n",
      "Iteration i = 25, freq_i = 100.001125 MHz, phi_i = 62.583150 degrees\n",
      "Iteration i = 26, freq_i = 100.001250 MHz, phi_i = 69.972308 degrees\n",
      "Iteration i = 27, freq_i = 100.001375 MHz, phi_i = 77.074547 degrees\n",
      "Iteration i = 28, freq_i = 100.001500 MHz, phi_i = 84.438859 degrees\n",
      "Iteration i = 29, freq_i = 100.001625 MHz, phi_i = 91.406365 degrees\n",
      "Iteration i = 30, freq_i = 100.001750 MHz, phi_i = 98.938080 degrees\n",
      "Iteration i = 31, freq_i = 100.001875 MHz, phi_i = 106.354263 degrees\n"
     ]
    },
    {
     "data": {
      "text/plain": [
       "<matplotlib.legend.Legend at 0xffff8a257460>"
      ]
     },
     "execution_count": 14,
     "metadata": {},
     "output_type": "execute_result"
    },
    {
     "data": {
      "image/png": "[encoded data removed]",
      "text/plain": [
       "<Figure size 432x288 with 1 Axes>"
      ]
     },
     "metadata": {
      "needs_background": "light"
     },
     "output_type": "display_data"
    }
   ],
   "source": [
    "# Plot results.\n",
    "sig = resultsi + 1j * resultsq\n",
    "amp_array = np.abs(sig)\n",
    "phase_array = np.angle(sig,deg=True)\n",
    "for x in range(0,len(phase_array)):\n",
    "    if phase_array[x] <0:\n",
    "        phase_array[x] = phase_array[x] +360\n",
    "    print(\"Iteration i = %d, freq_i = %f MHz, phi_i = %f degrees\" %(x,gpts[x], phase_array[x]))\n",
    "plt.figure(1)\n",
    "# plt.plot(gpts, resultsi,label=\"I value; ADC 0\")\n",
    "# plt.plot(gpts, resultsq,label=\"Q value; ADC 0\")\n",
    "# plt.plot(gpts, amp_array,label=\"Amplitude (DAC units); ADC 0\")\n",
    "plt.plot(gpts, phase_array, label=\"Phase (degrees); ADC 0\")\n",
    "plt.plot(gpts,phase_array, marker='.', linestyle=\"None\",color=\"Red\")\n",
    "plt.xticks(rotation=90)\n",
    "plt.title(r\"$\\phi$ vs $f$\")\n",
    "plt.ylabel(r\"$\\phi$ (degrees)\")\n",
    "plt.xlabel(r\"$f$ (MHz)\")\n",
    "plt.legend()\n",
    "# plt.savefig(\"images/Phase_sweep.pdf\", dpi=350)"
   ]
  },
  {
   "cell_type": "code",
   "execution_count": 15,
   "id": "08293953",
   "metadata": {},
   "outputs": [
    {
     "name": "stdout",
     "output_type": "stream",
     "text": [
      "At 100 MHz, Phase = 357.1809618238852 degree\n"
     ]
    },
    {
     "data": {
      "text/plain": [
       "<matplotlib.legend.Legend at 0xffff8a1a58b0>"
      ]
     },
     "execution_count": 15,
     "metadata": {},
     "output_type": "execute_result"
    },
    {
     "data": {
      "image/png": "[encoded data removed]",
      "text/plain": [
       "<Figure size 432x288 with 1 Axes>"
      ]
     },
     "metadata": {
      "needs_background": "light"
     },
     "output_type": "display_data"
    }
   ],
   "source": [
    "target_freq = freq_readout ### put the actual readout freq here\n",
    "\n",
    "freq_index = np.where(gpts == target_freq)[0][0]\n",
    "phase_cal = phase_array[freq_index]\n",
    "\n",
    "print(f'At {target_freq} MHz, Phase = {phase_cal} degree')\n",
    "\n",
    "plt.axvline(gpts[freq_index], ls = '--', color = 'grey')\n",
    "plt.axhline(phase_array[freq_index], ls = '--', color = 'grey')\n",
    "\n",
    "\n",
    "plt.plot(gpts, phase_array, label=\"Phase (degrees); ADC 0\")\n",
    "plt.plot(gpts,phase_array, marker='.', linestyle=\"None\",color=\"Red\")\n",
    "plt.xticks(rotation=90)\n",
    "plt.title(r\"$\\phi$ vs $f$\")\n",
    "plt.ylabel(r\"$\\phi$ (degrees)\")\n",
    "plt.xlabel(r\"$f$ (MHz)\")\n",
    "plt.legend()"
   ]
  },
  {
   "cell_type": "markdown",
   "id": "f9c00a35",
   "metadata": {},
   "source": [
    "### re-run the loopback program with compensate phase\n",
    "- Now the signal is only on I component"
   ]
  },
  {
   "cell_type": "code",
   "execution_count": 16,
   "id": "e04d0eb1",
   "metadata": {},
   "outputs": [],
   "source": [
    "class LoopbackProgram(AveragerProgram):\n",
    "    def initialize(self):\n",
    "        cfg=self.cfg   \n",
    "        res_ch = cfg[\"res_ch\"]\n",
    "\n",
    "        # set the nyquist zone\n",
    "        self.declare_gen(ch=cfg[\"res_ch\"], nqz=1)\n",
    "        \n",
    "        # configure the readout lengths and downconversion frequencies (ensuring it is an available DAC frequency)\n",
    "        for ch in cfg[\"ro_chs\"]:\n",
    "            self.declare_readout(ch=ch, length=self.cfg[\"readout_length\"],\n",
    "                                 freq=self.cfg[\"pulse_freq\"], gen_ch=cfg[\"res_ch\"])\n",
    "\n",
    "        # convert frequency to DAC frequency (ensuring it is an available ADC frequency)\n",
    "        freq = self.freq2reg(cfg[\"pulse_freq\"],gen_ch=res_ch, ro_ch=cfg[\"ro_chs\"][0])\n",
    "        phase = self.deg2reg(cfg[\"res_phase\"], gen_ch=res_ch)\n",
    "        gain = cfg[\"pulse_gain\"]\n",
    "        self.default_pulse_registers(ch=res_ch, freq=freq, phase=phase, gain=gain)\n",
    "\n",
    "        style=self.cfg[\"pulse_style\"]\n",
    "\n",
    "        if style in [\"flat_top\",\"arb\"]:\n",
    "            sigma = cfg[\"sigma\"]\n",
    "            self.add_gauss(ch=res_ch, name=\"measure\", sigma=sigma, length=sigma*5)\n",
    "            \n",
    "        if style == \"const\":\n",
    "            self.set_pulse_registers(ch=res_ch, style=style, length=cfg[\"length\"])\n",
    "        elif style == \"flat_top\":\n",
    "            # The first half of the waveform ramps up the pulse, the second half ramps down the pulse\n",
    "            self.set_pulse_registers(ch=res_ch, style=style, waveform=\"measure\", length=cfg[\"length\"])\n",
    "        elif style == \"arb\":\n",
    "            self.set_pulse_registers(ch=res_ch, style=style, waveform=\"measure\")\n",
    "        \n",
    "        self.synci(200)  # give processor some time to configure pulses\n",
    "    \n",
    "    def body(self):\n",
    "        # fire the pulse\n",
    "        # trigger all declared ADCs\n",
    "        # pulse PMOD0_0 for a scope trigger\n",
    "        # pause the tProc until readout is done\n",
    "        # increment the time counter to give some time before the next measurement\n",
    "        # (the syncdelay also lets the tProc get back ahead of the clock)\n",
    "        self.measure(pulse_ch=self.cfg[\"res_ch\"], \n",
    "                     adcs=self.ro_chs,\n",
    "                     pins=[0], \n",
    "                     adc_trig_offset=self.cfg[\"adc_trig_offset\"],\n",
    "                     wait=True,\n",
    "                     syncdelay=self.us2cycles(self.cfg[\"relax_delay\"]))"
   ]
  },
  {
   "cell_type": "code",
   "execution_count": 17,
   "id": "8890155e",
   "metadata": {},
   "outputs": [
    {
     "data": {
      "application/vnd.jupyter.widget-view+json": {
       "model_id": "0bf145d32e6a480b8d6ca95e478bc5f0",
       "version_major": 2,
       "version_minor": 0
      },
      "text/plain": [
       "  0%|          | 0/100 [00:00<?, ?it/s]"
      ]
     },
     "metadata": {},
     "output_type": "display_data"
    }
   ],
   "source": [
    "config={\"res_ch\":6, # --Fixed\n",
    "        \"ro_chs\":[0], # --Fixed\n",
    "        \"reps\":1, # --Fixed\n",
    "        \"relax_delay\":1.0, # --us\n",
    "        \"res_phase\": phase_cal, # updated readout phase\n",
    "        \"pulse_style\": \"const\", # --Fixed\n",
    "        \n",
    "        \"length\":20, # [Clock ticks]\n",
    "        # Try varying length from 10-100 clock ticks\n",
    "        \n",
    "        \"readout_length\":100, # [Clock ticks]\n",
    "        # Try varying readout_length from 50-1000 clock ticks\n",
    "\n",
    "        \"pulse_gain\":3000, # [DAC units]\n",
    "        # Try varying pulse_gain from 500 to 30000 DAC units\n",
    "\n",
    "        \"pulse_freq\": 100, # [MHz]\n",
    "        # In this program the signal is up and downconverted digitally so you won't see any frequency\n",
    "        # components in the I/Q traces below. But since the signal gain depends on frequency, \n",
    "        # if you lower pulse_freq you will see an increased gain.\n",
    "\n",
    "        \"adc_trig_offset\": 190, # [Clock ticks]\n",
    "        # Try varying adc_trig_offset from 100 to 220 clock ticks\n",
    "\n",
    "        \"soft_avgs\":100\n",
    "        # Try varying soft_avgs from 1 to 200 averages\n",
    "\n",
    "       }\n",
    "\n",
    "###################\n",
    "# Try it yourself !\n",
    "###################\n",
    "\n",
    "prog =LoopbackProgram(soccfg, config)\n",
    "iq_list = prog.acquire_decimated(soc, load_pulses=True, progress=True)#, debug=False)"
   ]
  },
  {
   "cell_type": "code",
   "execution_count": 18,
   "id": "01fbc821",
   "metadata": {},
   "outputs": [
    {
     "data": {
      "text/plain": [
       "<matplotlib.legend.Legend at 0xffff8a0ed610>"
      ]
     },
     "execution_count": 18,
     "metadata": {},
     "output_type": "execute_result"
    },
    {
     "data": {
      "image/png": "[encoded data removed]",
      "text/plain": [
       "<Figure size 432x288 with 1 Axes>"
      ]
     },
     "metadata": {
      "needs_background": "light"
     },
     "output_type": "display_data"
    }
   ],
   "source": [
    "# Plot results.\n",
    "plt.figure(1)\n",
    "for ii, iq in enumerate(iq_list):\n",
    "    plt.plot(iq[0], label=\"I value, ADC %d\"%(config['ro_chs'][ii]))\n",
    "    plt.plot(iq[1], label=\"Q value, ADC %d\"%(config['ro_chs'][ii]))\n",
    "    plt.plot(np.abs(iq[0]+1j*iq[1]), label=\"mag, ADC %d\"%(config['ro_chs'][ii]))\n",
    "plt.ylabel(\"a.u.\")\n",
    "plt.xlabel(\"Clock ticks\")\n",
    "plt.title(\"Averages = \" + str(config[\"soft_avgs\"]))\n",
    "plt.legend()\n",
    "# plt.savefig(\"images/Send_recieve_pulse_const.pdf\", dpi=350)"
   ]
  },
  {
   "cell_type": "markdown",
   "id": "84d96c8f",
   "metadata": {},
   "source": [
    "# Load real qubit readout data (old data from ZCU111)\n",
    "\n",
    "\n",
    "g_data[p1,p2,p3] for ground state readout\n",
    "\n",
    "e_data[p1,p2,p3] for excited state readout\n",
    "- p1: index for shot\n",
    "- p2: index for I/Q\n",
    "- p3: index for time, step of clock cycle = 2.6ns"
   ]
  },
  {
   "cell_type": "code",
   "execution_count": 19,
   "id": "76c19c3e",
   "metadata": {},
   "outputs": [],
   "source": [
    "with open('readout_data.npy', 'rb') as f:\n",
    "    g_data = np.load(f)\n",
    "    e_data = np.load(f)"
   ]
  },
  {
   "cell_type": "code",
   "execution_count": 20,
   "id": "1675bded",
   "metadata": {},
   "outputs": [
    {
     "data": {
      "text/plain": [
       "<matplotlib.legend.Legend at 0xffff8a01a490>"
      ]
     },
     "execution_count": 20,
     "metadata": {},
     "output_type": "execute_result"
    },
    {
     "data": {
      "image/png": "[encoded data removed]",
      "text/plain": [
       "<Figure size 432x288 with 1 Axes>"
      ]
     },
     "metadata": {
      "needs_background": "light"
     },
     "output_type": "display_data"
    }
   ],
   "source": [
    "# avargaed trace\n",
    "plt.plot(g_data[:,1,:].mean(axis = 0), label = 'g_Q', color = 'b')\n",
    "plt.plot(g_data[:,0,:].mean(axis = 0), label = 'g_I', color = 'b', ls = '--')\n",
    "\n",
    "plt.plot(e_data[:,1,:].mean(axis = 0), label = 'e_Q', color = 'r')\n",
    "plt.plot(e_data[:,0,:].mean(axis = 0), label = 'e_I', color = 'r', ls = '--')\n",
    "\n",
    "plt.ylabel('ADC unit')\n",
    "plt.xlabel('Time [clock cycle] ')\n",
    "plt.legend()"
   ]
  },
  {
   "cell_type": "code",
   "execution_count": 21,
   "id": "c3fe7a90",
   "metadata": {},
   "outputs": [
    {
     "data": {
      "image/png": "[encoded data removed]",
      "text/plain": [
       "<Figure size 432x288 with 1 Axes>"
      ]
     },
     "metadata": {
      "needs_background": "light"
     },
     "output_type": "display_data"
    },
    {
     "data": {
      "image/png": "[encoded data removed]",
      "text/plain": [
       "<Figure size 432x288 with 1 Axes>"
      ]
     },
     "metadata": {
      "needs_background": "light"
     },
     "output_type": "display_data"
    },
    {
     "name": "stdout",
     "output_type": "stream",
     "text": [
      "max fidelity =  0.9148000000000001\n",
      "\n",
      " rough estimation of n_th\n"
     ]
    },
    {
     "data": {
      "text/plain": [
       "1.74"
      ]
     },
     "execution_count": 21,
     "metadata": {},
     "output_type": "execute_result"
    }
   ],
   "source": [
    "# IQ plot\n",
    "I_g = g_data[:,0,:].mean(axis = 1)\n",
    "Q_g = g_data[:,1,:].mean(axis = 1)\n",
    "\n",
    "I_e = e_data[:,0,:].mean(axis = 1)\n",
    "Q_e = e_data[:,1,:].mean(axis = 1)\n",
    "\n",
    "plt.title('IQ Plot')\n",
    "plt.plot(I_g, Q_g, '.',label = 'g',markersize = 5)\n",
    "plt.plot(I_e, Q_e, '.',label = 'e',markersize = 5)\n",
    "plt.xlabel('I')\n",
    "plt.ylabel('Q')\n",
    "plt.legend()\n",
    "plt.axis('square')\n",
    "plt.show()\n",
    "\n",
    "vec_I = mean(I_e) - mean(I_g)\n",
    "vec_Q = mean(Q_e) - mean(Q_g)\n",
    "\n",
    "gstate = (I_g - mean(I_g))*vec_I + (Q_g - mean(Q_g))*vec_Q\n",
    "estate = (I_e - mean(I_g))*vec_I + (Q_e - mean(Q_g))*vec_Q\n",
    "gstate = gstate / abs(vec_I+1j*vec_Q)**2\n",
    "estate = estate / abs(vec_I+1j*vec_Q)**2\n",
    "plt.hist(gstate,bins = 100,label = 'g',alpha = 0.5)\n",
    "plt.hist(estate,bins = 100,label = 'e',alpha = 0.5)\n",
    "plt.legend()\n",
    "plt.show()\n",
    "\n",
    "th_min = min(gstate)\n",
    "th_max = max(estate)\n",
    "th_list = np.linspace(th_min,th_max,1000)\n",
    "\n",
    "fidelity = [(sum(gstate<th)+sum(estate>th))/np.shape(gstate)[0]/2 for i,th in enumerate(th_list)]\n",
    "print('max fidelity = ',max(fidelity)*2-1)\n",
    "\n",
    "print('\\n rough estimation of n_th')\n",
    "100*sum(gstate>th_list[argmax(fidelity)])/len(gstate)"
   ]
  },
  {
   "cell_type": "code",
   "execution_count": 22,
   "id": "3e09610c",
   "metadata": {},
   "outputs": [
    {
     "data": {
      "text/plain": [
       "<matplotlib.legend.Legend at 0xffff89dbec40>"
      ]
     },
     "execution_count": 22,
     "metadata": {},
     "output_type": "execute_result"
    },
    {
     "data": {
      "image/png": "[encoded data removed]",
      "text/plain": [
       "<Figure size 432x288 with 1 Axes>"
      ]
     },
     "metadata": {
      "needs_background": "light"
     },
     "output_type": "display_data"
    }
   ],
   "source": [
    "# signal shot\n",
    "shot_index = 0\n",
    "\n",
    "plt.plot(g_data[shot_index,1,:], color = 'grey')\n",
    "plt.plot(g_data[shot_index,0,:], color = 'grey', ls = '--')\n",
    "\n",
    "plt.plot(e_data[shot_index,1,:], color = 'grey')\n",
    "plt.plot(e_data[shot_index,0,:], color = 'grey', ls = '--')\n",
    "\n",
    "plt.plot(g_data[:,1,:].mean(axis = 0), label = 'g_Q', color = 'b')\n",
    "plt.plot(g_data[:,0,:].mean(axis = 0), label = 'g_I', color = 'b', ls = '--')\n",
    "\n",
    "plt.plot(e_data[:,1,:].mean(axis = 0), label = 'e_Q', color = 'r')\n",
    "plt.plot(e_data[:,0,:].mean(axis = 0), label = 'e_I', color = 'r', ls = '--')\n",
    "\n",
    "plt.ylabel('ADC unit')\n",
    "plt.xlabel('Time [clock cycle] ')\n",
    "plt.legend()\n",
    "# xlim(0,100)"
   ]
  },
  {
   "cell_type": "markdown",
   "id": "6f65da19",
   "metadata": {},
   "source": [
    "# readout mock - averaged signal (as an example)"
   ]
  },
  {
   "cell_type": "markdown",
   "id": "116eae36",
   "metadata": {},
   "source": [
    "- to get the wf for DAC, we need to resample the data due to \n",
    "    - the frequency on ADC and DAC are different\n",
    "    - the wf need to sample in dds frequency\n",
    "\n",
    "            DAC tile 3, blk 2, 32-bit DDS, fabric=430.080 MHz, f_dds=6881.280 MHz\n",
    "            ADC tile 2, blk 0, 32-bit DDS, fabric=307.200 MHz, fs=2457.600 MHz"
   ]
  },
  {
   "cell_type": "code",
   "execution_count": 23,
   "id": "5a97c7d4",
   "metadata": {},
   "outputs": [
    {
     "name": "stdout",
     "output_type": "stream",
     "text": [
      "real readout data length = 770 clock cycle\n"
     ]
    },
    {
     "data": {
      "image/png": "[encoded data removed]",
      "text/plain": [
       "<Figure size 432x288 with 1 Axes>"
      ]
     },
     "metadata": {
      "needs_background": "light"
     },
     "output_type": "display_data"
    }
   ],
   "source": [
    "#### load real qubit readout data\n",
    "data_len = len(g_data[:,0,:].mean(axis = 0))\n",
    "print(f'real readout data length = {data_len} clock cycle')\n",
    "\n",
    "\n",
    "### we need to resample the data based on DAC freq\n",
    "t_ns = data_len*1000/307.2\n",
    "dac_len = int((t_ns/1000*6881.28)//16*16)\n",
    "\n",
    "g_I_load = g_data[:,0,:].mean(axis = 0)\n",
    "g_Q_load = g_data[:,1,:].mean(axis = 0)\n",
    "e_I_load = e_data[:,0,:].mean(axis = 0)\n",
    "e_Q_load = e_data[:,1,:].mean(axis = 0)\n",
    "\n",
    "### resample the waveform\n",
    "xp = np.linspace(1,data_len,data_len) ### ADC side time array\n",
    "x = np.linspace(1,data_len,dac_len)   ### DAC side time array\n",
    "\n",
    "g_I = np.interp(x, xp, g_I_load)\n",
    "g_Q = np.interp(x, xp, g_Q_load)\n",
    "e_I = np.interp(x, xp, e_I_load)\n",
    "e_Q = np.interp(x, xp, e_Q_load)\n",
    "\n",
    "\n",
    "### plot one component of the resampled waveform\n",
    "plot(x,g_I, 'o' , label = 'data load')\n",
    "plot(xp,g_I_load, label = 'resample for DAC')\n",
    "legend()\n",
    "show()"
   ]
  },
  {
   "cell_type": "code",
   "execution_count": 24,
   "id": "7acc68c4",
   "metadata": {},
   "outputs": [],
   "source": [
    "DAC_gain = 1 ### tune this parameter to match the ADC level with the training data\n",
    "\n",
    "class LoopbackProgram(AveragerProgram):\n",
    "    def initialize(self):\n",
    "        cfg=self.cfg   \n",
    "        res_ch = cfg[\"res_ch\"]\n",
    "\n",
    "        # set the nyquist zone\n",
    "        self.declare_gen(ch=cfg[\"res_ch\"], nqz=1)\n",
    "        \n",
    "        # configure the readout lengths and downconversion frequencies (ensuring it is an available DAC frequency)\n",
    "        for ch in cfg[\"ro_chs\"]:\n",
    "            self.declare_readout(ch=ch, length=self.cfg[\"readout_length\"],\n",
    "                                 freq=self.cfg[\"pulse_freq\"], gen_ch=cfg[\"res_ch\"])\n",
    "\n",
    "        # convert frequency to DAC frequency (ensuring it is an available ADC frequency)\n",
    "        freq = self.freq2reg(cfg[\"pulse_freq\"],gen_ch=res_ch, ro_ch=cfg[\"ro_chs\"][0])\n",
    "        phase = self.deg2reg(cfg[\"res_phase\"], gen_ch=res_ch)\n",
    "        gain = cfg[\"pulse_gain\"]\n",
    "        self.default_pulse_registers(ch=res_ch, freq=freq, phase=phase, gain=gain)\n",
    "\n",
    "        style=self.cfg[\"pulse_style\"]\n",
    "        \n",
    "        \n",
    "        ########################\n",
    "        ### add g/e waveform ###\n",
    "        ########################\n",
    "#         self.add_pulse(ch=cfg[\"res_ch\"], name = 'g_state', idata = DAC_gain*g_I, qdata = DAC_gain*g_Q)\n",
    "#         self.add_pulse(ch=cfg[\"res_ch\"], name = 'e_state', idata = DAC_gain*e_I, qdata = DAC_gain*e_Q)\n",
    "        self.add_pulse(ch=cfg[\"res_ch\"], name = 'g_state', idata = DAC_gain*g_Q, qdata = DAC_gain*g_I)\n",
    "        self.add_pulse(ch=cfg[\"res_ch\"], name = 'e_state', idata = DAC_gain*e_Q, qdata = DAC_gain*e_I)\n",
    "\n",
    "        if style in [\"flat_top\",\"arb\"]:\n",
    "            sigma = cfg[\"sigma\"]\n",
    "            self.add_gauss(ch=res_ch, name=\"measure\", sigma=sigma, length=sigma*5)\n",
    "            \n",
    "        if style == \"const\":\n",
    "            self.set_pulse_registers(ch=res_ch, style=style, length=cfg[\"length\"])\n",
    "        elif style == \"flat_top\":\n",
    "            # The first half of the waveform ramps up the pulse, the second half ramps down the pulse\n",
    "            self.set_pulse_registers(ch=res_ch, style=style, waveform=\"measure\", length=cfg[\"length\"])\n",
    "        elif style == \"arb\":\n",
    "            self.set_pulse_registers(ch=res_ch, style=style, waveform=\"measure\")\n",
    "            \n",
    "        ########################\n",
    "        ### add g/e waveform ###\n",
    "        ########################   \n",
    "        elif style == \"g_state\":\n",
    "            self.set_pulse_registers(ch=res_ch, style=\"arb\", waveform=\"g_state\")\n",
    "        elif style == \"e_state\":\n",
    "            self.set_pulse_registers(ch=res_ch, style=\"arb\", waveform=\"e_state\")\n",
    "\n",
    "        \n",
    "        self.synci(200)  # give processor some time to configure pulses\n",
    "    \n",
    "    def body(self):\n",
    "        # fire the pulse\n",
    "        # trigger all declared ADCs\n",
    "        # pulse PMOD0_0 for a scope trigger\n",
    "        # pause the tProc until readout is done\n",
    "        # increment the time counter to give some time before the next measurement\n",
    "        # (the syncdelay also lets the tProc get back ahead of the clock)\n",
    "        self.measure(pulse_ch=self.cfg[\"res_ch\"], \n",
    "                     adcs=self.ro_chs,\n",
    "                     pins=[0], \n",
    "                     adc_trig_offset=self.cfg[\"adc_trig_offset\"],\n",
    "                     wait=True,\n",
    "                     syncdelay=self.us2cycles(self.cfg[\"relax_delay\"]))"
   ]
  },
  {
   "cell_type": "code",
   "execution_count": 25,
   "id": "95c1303c",
   "metadata": {},
   "outputs": [
    {
     "name": "stdout",
     "output_type": "stream",
     "text": [
      "max_amp =  32766.0\n"
     ]
    }
   ],
   "source": [
    "### calculate the DAC output range\n",
    "\n",
    "gencfg = soccfg['gens'][6]\n",
    "max_amp = gencfg['maxv']*gencfg['maxv_scale']\n",
    "print('max_amp = ',max_amp)"
   ]
  },
  {
   "cell_type": "code",
   "execution_count": 26,
   "id": "d9bb3768",
   "metadata": {},
   "outputs": [
    {
     "data": {
      "application/vnd.jupyter.widget-view+json": {
       "model_id": "eece3b24bd6f4ccab459769c3471b252",
       "version_major": 2,
       "version_minor": 0
      },
      "text/plain": [
       "  0%|          | 0/1 [00:00<?, ?it/s]"
      ]
     },
     "metadata": {},
     "output_type": "display_data"
    }
   ],
   "source": [
    "DAC_phase = -90\n",
    "readout_phase = phase_cal + DAC_phase\n",
    "\n",
    "config={\"res_ch\":6, # --Fixed\n",
    "        \"ro_chs\":[0], # --Fixed\n",
    "        \"reps\":1, # --Fixed\n",
    "        \"relax_delay\":1.0, # --us\n",
    "        \"res_phase\": readout_phase, # updated readout phase\n",
    "        \"pulse_style\": \"e_state\", # --Fixed,\"const\"; \"g_state\"; \"e_state\"; \"arb\"\n",
    "        \n",
    "        \"sigma\": 30, # [Clock ticks]\n",
    "        \n",
    "        \"length\": 100, # [Clock ticks]\n",
    "        # Try varying length from 10-100 clock ticks\n",
    "        \n",
    "        \"readout_length\":data_len, # [Clock ticks]\n",
    "        # Try varying readout_length from 50-1000 clock ticks\n",
    "\n",
    "        \"pulse_gain\": 30000, # [DAC units]\n",
    "        # Try varying pulse_gain from 500 to 30000 DAC units\n",
    "\n",
    "        \"pulse_freq\": 100, # [MHz]\n",
    "        # In this program the signal is up and downconverted digitally so you won't see any frequency\n",
    "        # components in the I/Q traces below. But since the signal gain depends on frequency, \n",
    "        # if you lower pulse_freq you will see an increased gain.\n",
    "\n",
    "        \"adc_trig_offset\": 190, # [Clock ticks]\n",
    "        # Try varying adc_trig_offset from 100 to 220 clock ticks\n",
    "\n",
    "        \"soft_avgs\":1\n",
    "        # Try varying soft_avgs from 1 to 200 averages\n",
    "\n",
    "       }\n",
    "\n",
    "###################\n",
    "# Try it yourself !\n",
    "###################\n",
    "\n",
    "prog =LoopbackProgram(soccfg, config)\n",
    "iq_list = prog.acquire_decimated(soc, load_pulses=True, progress=True)#, debug=False)"
   ]
  },
  {
   "cell_type": "code",
   "execution_count": 27,
   "id": "9280351e",
   "metadata": {},
   "outputs": [
    {
     "data": {
      "text/plain": [
       "<matplotlib.legend.Legend at 0xffff8a2ba820>"
      ]
     },
     "execution_count": 27,
     "metadata": {},
     "output_type": "execute_result"
    },
    {
     "data": {
      "image/png": "[encoded data removed]",
      "text/plain": [
       "<Figure size 432x288 with 1 Axes>"
      ]
     },
     "metadata": {
      "needs_background": "light"
     },
     "output_type": "display_data"
    }
   ],
   "source": [
    "# Plot results.\n",
    "plt.figure(1)\n",
    "for ii, iq in enumerate(iq_list):\n",
    "    plt.plot(iq[0], label=\"I value, ADC %d\"%(config['ro_chs'][ii]))\n",
    "    plt.plot(iq[1], label=\"Q value, ADC %d\"%(config['ro_chs'][ii]))\n",
    "#     plt.plot(np.abs(iq[0]+1j*iq[1]), label=\"mag, ADC %d\"%(config['ro_chs'][ii]))\n",
    "plt.ylabel(\"a.u.\")\n",
    "plt.xlabel(\"Clock ticks\")\n",
    "plt.title(\"Averages = \" + str(config[\"soft_avgs\"]))\n",
    "plt.legend()\n",
    "# plt.savefig(\"images/Send_recieve_pulse_const.pdf\", dpi=350)"
   ]
  },
  {
   "cell_type": "code",
   "execution_count": 28,
   "id": "0b41b4bc",
   "metadata": {},
   "outputs": [
    {
     "data": {
      "text/plain": [
       "<matplotlib.legend.Legend at 0xffff89c8ba90>"
      ]
     },
     "execution_count": 28,
     "metadata": {},
     "output_type": "execute_result"
    },
    {
     "data": {
      "image/png": "[encoded data removed]",
      "text/plain": [
       "<Figure size 432x288 with 1 Axes>"
      ]
     },
     "metadata": {
      "needs_background": "light"
     },
     "output_type": "display_data"
    }
   ],
   "source": [
    "ADC_fake_gain = 27 ### tune this parameter to match the ADC level with the training data\n",
    "\n",
    "\n",
    "for ii, iq in enumerate(iq_list):\n",
    "    plt.plot(iq[0]*ADC_fake_gain, markersize=0.5, color = 'C0' , label=\"I value, ADC %d\"%(config['ro_chs'][ii]))\n",
    "    plt.plot(iq[1]*ADC_fake_gain, markersize=0.5, color = 'C1' ,label=\"Q value, ADC %d\"%(config['ro_chs'][ii]))\n",
    "plt.plot(x,e_I, '-o', markersize=0.5, color = 'grey', label = 'load - e-I')\n",
    "plt.plot(x,e_Q, '-o', markersize=0.5, color = 'black', label = 'load - e-Q')\n",
    "\n",
    "\n",
    "plt.ylabel(\"a.u.\")\n",
    "plt.xlabel(\"Clock ticks\")\n",
    "plt.title(\"Averages = \" + str(config[\"soft_avgs\"]))\n",
    "plt.legend()"
   ]
  },
  {
   "cell_type": "markdown",
   "id": "4e72dc4a",
   "metadata": {},
   "source": [
    "# Readout mock - single-shot signal"
   ]
  },
  {
   "cell_type": "markdown",
   "id": "78e4cd2e",
   "metadata": {},
   "source": [
    "## single-shot with tunable gaussian noise"
   ]
  },
  {
   "cell_type": "code",
   "execution_count": 29,
   "id": "e842d6a5",
   "metadata": {},
   "outputs": [
    {
     "name": "stdout",
     "output_type": "stream",
     "text": [
      "readout data length = 770 clock cycle\n"
     ]
    },
    {
     "data": {
      "image/png": "[encoded data removed]",
      "text/plain": [
       "<Figure size 432x288 with 1 Axes>"
      ]
     },
     "metadata": {
      "needs_background": "light"
     },
     "output_type": "display_data"
    },
    {
     "data": {
      "image/png": "[encoded data removed]",
      "text/plain": [
       "<Figure size 432x288 with 1 Axes>"
      ]
     },
     "metadata": {
      "needs_background": "light"
     },
     "output_type": "display_data"
    }
   ],
   "source": [
    "#### load real qubit readout data\n",
    "data_len = len(g_data[:,0,:].mean(axis = 0))\n",
    "print(f'readout data length = {data_len} clock cycle')\n",
    "\n",
    "\n",
    "### we need to resample the data based on DAC freq\n",
    "t_ns = data_len*1000/307.2\n",
    "dac_len = int((t_ns/1000*6881.28)//16*16)\n",
    "\n",
    "g_I_load = g_data[:,0,:].mean(axis = 0)\n",
    "g_Q_load = g_data[:,1,:].mean(axis = 0)\n",
    "e_I_load = e_data[:,0,:].mean(axis = 0)\n",
    "e_Q_load = e_data[:,1,:].mean(axis = 0)\n",
    "\n",
    "### set noise parameter\n",
    "add_noise = True\n",
    "noise_scale = 400\n",
    "\n",
    "if add_noise == True:\n",
    "    g_I_add_noise = g_I_load + np.random.normal(0, noise_scale, size = g_I_load.shape[0])\n",
    "    g_Q_add_noise = g_Q_load + np.random.normal(0, noise_scale, size = g_Q_load.shape[0])\n",
    "    e_I_add_noise = e_I_load + np.random.normal(0, noise_scale, size = e_I_load.shape[0])\n",
    "    e_Q_add_noise = e_Q_load + np.random.normal(0, noise_scale, size = e_Q_load.shape[0])\n",
    "    \n",
    "plot(xp,g_I_load , label = 'data load')\n",
    "plot(xp,g_I_add_noise, label = 'data load + noise', alpha = 0.4)\n",
    "title('data vs data + noise')\n",
    "legend()\n",
    "show()\n",
    "### resample the waveform\n",
    "xp = np.linspace(1,data_len,data_len)\n",
    "x = np.linspace(1,data_len,dac_len)\n",
    "    \n",
    "g_I = np.interp(x, xp, g_I_load)\n",
    "g_Q = np.interp(x, xp, g_Q_load)\n",
    "e_I = np.interp(x, xp, e_I_load)\n",
    "e_Q = np.interp(x, xp, e_Q_load)\n",
    "\n",
    "if add_noise == True:\n",
    "    g_I = np.interp(x, xp, g_I_add_noise)\n",
    "    g_Q = np.interp(x, xp, g_Q_add_noise)\n",
    "    e_I = np.interp(x, xp, e_I_add_noise)\n",
    "    e_Q = np.interp(x, xp, e_Q_add_noise)\n",
    "    \n",
    "    title('Performance of the resampling')\n",
    "    plot(x, g_I, 'o', label = 'after resampling')\n",
    "    plot(xp, g_I_add_noise, label = 'before resampling')\n",
    "    legend()\n",
    "    show()"
   ]
  },
  {
   "cell_type": "code",
   "execution_count": 30,
   "id": "08eb76c7",
   "metadata": {},
   "outputs": [],
   "source": [
    "DAC_gain = 1 ### tune this parameter to match the ADC level with the training data\n",
    "\n",
    "class LoopbackProgram(AveragerProgram):\n",
    "    def initialize(self):\n",
    "        cfg=self.cfg   \n",
    "        res_ch = cfg[\"res_ch\"]\n",
    "\n",
    "        # set the nyquist zone\n",
    "        self.declare_gen(ch=cfg[\"res_ch\"], nqz=1)\n",
    "        \n",
    "        # configure the readout lengths and downconversion frequencies (ensuring it is an available DAC frequency)\n",
    "        for ch in cfg[\"ro_chs\"]:\n",
    "            self.declare_readout(ch=ch, length=self.cfg[\"readout_length\"],\n",
    "                                 freq=self.cfg[\"pulse_freq\"], gen_ch=cfg[\"res_ch\"])\n",
    "\n",
    "        # convert frequency to DAC frequency (ensuring it is an available ADC frequency)\n",
    "        freq = self.freq2reg(cfg[\"pulse_freq\"],gen_ch=res_ch, ro_ch=cfg[\"ro_chs\"][0])\n",
    "        phase = self.deg2reg(cfg[\"res_phase\"], gen_ch=res_ch)\n",
    "        gain = cfg[\"pulse_gain\"]\n",
    "        self.default_pulse_registers(ch=res_ch, freq=freq, phase=phase, gain=gain)\n",
    "\n",
    "        style=self.cfg[\"pulse_style\"]\n",
    "        \n",
    "        \n",
    "        ########################\n",
    "        ### add g/e waveform ###\n",
    "        ########################\n",
    "#         self.add_pulse(ch=cfg[\"res_ch\"], name = 'g_state', idata = DAC_gain*g_I, qdata = DAC_gain*g_Q)\n",
    "#         self.add_pulse(ch=cfg[\"res_ch\"], name = 'e_state', idata = DAC_gain*e_I, qdata = DAC_gain*e_Q)\n",
    "        self.add_pulse(ch=cfg[\"res_ch\"], name = 'g_state', idata = DAC_gain*g_Q, qdata = DAC_gain*g_I)\n",
    "        self.add_pulse(ch=cfg[\"res_ch\"], name = 'e_state', idata = DAC_gain*e_Q, qdata = DAC_gain*e_I)\n",
    "\n",
    "        if style in [\"flat_top\",\"arb\"]:\n",
    "            sigma = cfg[\"sigma\"]\n",
    "            self.add_gauss(ch=res_ch, name=\"measure\", sigma=sigma, length=sigma*5)\n",
    "            \n",
    "        if style == \"const\":\n",
    "            self.set_pulse_registers(ch=res_ch, style=style, length=cfg[\"length\"])\n",
    "        elif style == \"flat_top\":\n",
    "            # The first half of the waveform ramps up the pulse, the second half ramps down the pulse\n",
    "            self.set_pulse_registers(ch=res_ch, style=style, waveform=\"measure\", length=cfg[\"length\"])\n",
    "        elif style == \"arb\":\n",
    "            self.set_pulse_registers(ch=res_ch, style=style, waveform=\"measure\")\n",
    "            \n",
    "        ########################\n",
    "        ### add g/e waveform ###\n",
    "        ########################   \n",
    "        elif style == \"g_state\":\n",
    "            self.set_pulse_registers(ch=res_ch, style=\"arb\", waveform=\"g_state\")\n",
    "        elif style == \"e_state\":\n",
    "            self.set_pulse_registers(ch=res_ch, style=\"arb\", waveform=\"e_state\")\n",
    "\n",
    "        \n",
    "        self.synci(200)  # give processor some time to configure pulses\n",
    "    \n",
    "    def body(self):\n",
    "        # fire the pulse\n",
    "        # trigger all declared ADCs\n",
    "        # pulse PMOD0_0 for a scope trigger\n",
    "        # pause the tProc until readout is done\n",
    "        # increment the time counter to give some time before the next measurement\n",
    "        # (the syncdelay also lets the tProc get back ahead of the clock)\n",
    "        self.measure(pulse_ch=self.cfg[\"res_ch\"], \n",
    "                     adcs=self.ro_chs,\n",
    "                     pins=[0], \n",
    "                     adc_trig_offset=self.cfg[\"adc_trig_offset\"],\n",
    "                     wait=True,\n",
    "                     syncdelay=self.us2cycles(self.cfg[\"relax_delay\"]))"
   ]
  },
  {
   "cell_type": "code",
   "execution_count": 31,
   "id": "9993ef56",
   "metadata": {},
   "outputs": [
    {
     "name": "stdout",
     "output_type": "stream",
     "text": [
      "max_amp =  32766.0\n"
     ]
    }
   ],
   "source": [
    "### calculate the DAC output range\n",
    "\n",
    "gencfg = soccfg['gens'][6]\n",
    "max_amp = gencfg['maxv']*gencfg['maxv_scale']\n",
    "print('max_amp = ',max_amp)"
   ]
  },
  {
   "cell_type": "code",
   "execution_count": 32,
   "id": "51a5730c",
   "metadata": {},
   "outputs": [
    {
     "data": {
      "application/vnd.jupyter.widget-view+json": {
       "model_id": "4035821faa39417ca290c9a76425cb4d",
       "version_major": 2,
       "version_minor": 0
      },
      "text/plain": [
       "  0%|          | 0/1 [00:00<?, ?it/s]"
      ]
     },
     "metadata": {},
     "output_type": "display_data"
    }
   ],
   "source": [
    "DAC_phase = -90\n",
    "readout_phase = phase_cal + DAC_phase\n",
    "\n",
    "config={\"res_ch\":6, # --Fixed\n",
    "        \"ro_chs\":[0], # --Fixed\n",
    "        \"reps\":1, # --Fixed\n",
    "        \"relax_delay\":1.0, # --us\n",
    "        \"res_phase\": readout_phase, # updated readout phase\n",
    "        \"pulse_style\": \"e_state\", # --Fixed,\"const\"; \"g_state\"; \"e_state\"; \"arb\"\n",
    "        \n",
    "        \"sigma\": 30, # [Clock ticks]\n",
    "        \n",
    "        \"length\": 100, # [Clock ticks]\n",
    "        # Try varying length from 10-100 clock ticks\n",
    "        \n",
    "        \"readout_length\":data_len, # [Clock ticks]\n",
    "        # Try varying readout_length from 50-1000 clock ticks\n",
    "\n",
    "        \"pulse_gain\": 30000, # [DAC units]\n",
    "        # Try varying pulse_gain from 500 to 30000 DAC units\n",
    "\n",
    "        \"pulse_freq\": 100, # [MHz]\n",
    "        # In this program the signal is up and downconverted digitally so you won't see any frequency\n",
    "        # components in the I/Q traces below. But since the signal gain depends on frequency, \n",
    "        # if you lower pulse_freq you will see an increased gain.\n",
    "\n",
    "        \"adc_trig_offset\": 190, # [Clock ticks]\n",
    "        # Try varying adc_trig_offset from 100 to 220 clock ticks\n",
    "\n",
    "        \"soft_avgs\":1\n",
    "        # Try varying soft_avgs from 1 to 200 averages\n",
    "\n",
    "       }\n",
    "\n",
    "###################\n",
    "# Try it yourself !\n",
    "###################\n",
    "\n",
    "prog =LoopbackProgram(soccfg, config)\n",
    "iq_list = prog.acquire_decimated(soc, load_pulses=True, progress=True)#, debug=False)"
   ]
  },
  {
   "cell_type": "code",
   "execution_count": 33,
   "id": "900709fa",
   "metadata": {},
   "outputs": [
    {
     "data": {
      "text/plain": [
       "<matplotlib.legend.Legend at 0xffff89bf2910>"
      ]
     },
     "execution_count": 33,
     "metadata": {},
     "output_type": "execute_result"
    },
    {
     "data": {
      "image/png": "[encoded data removed]",
      "text/plain": [
       "<Figure size 432x288 with 1 Axes>"
      ]
     },
     "metadata": {
      "needs_background": "light"
     },
     "output_type": "display_data"
    }
   ],
   "source": [
    "# Plot results.\n",
    "plt.figure(1)\n",
    "for ii, iq in enumerate(iq_list):\n",
    "    plt.plot(iq[0], label=\"I value, ADC %d\"%(config['ro_chs'][ii]))\n",
    "    plt.plot(iq[1], label=\"Q value, ADC %d\"%(config['ro_chs'][ii]))\n",
    "#     plt.plot(np.abs(iq[0]+1j*iq[1]), label=\"mag, ADC %d\"%(config['ro_chs'][ii]))\n",
    "plt.ylabel(\"a.u.\")\n",
    "plt.xlabel(\"Clock ticks\")\n",
    "plt.title(\"Averages = \" + str(config[\"soft_avgs\"]))\n",
    "plt.legend()\n",
    "# plt.savefig(\"images/Send_recieve_pulse_const.pdf\", dpi=350)"
   ]
  },
  {
   "cell_type": "code",
   "execution_count": 34,
   "id": "359cdebf",
   "metadata": {},
   "outputs": [
    {
     "data": {
      "text/plain": [
       "<matplotlib.legend.Legend at 0xffff89acefd0>"
      ]
     },
     "execution_count": 34,
     "metadata": {},
     "output_type": "execute_result"
    },
    {
     "data": {
      "image/png": "[encoded data removed]",
      "text/plain": [
       "<Figure size 432x288 with 1 Axes>"
      ]
     },
     "metadata": {
      "needs_background": "light"
     },
     "output_type": "display_data"
    }
   ],
   "source": [
    "ADC_fake_gain = 27 ### tune this parameter to match the ADC level with the training data\n",
    "\n",
    "plt.plot(x,e_I, '-o', markersize=1.5, color = 'grey', label = 'load - e-I', alpha = 0.5)\n",
    "plt.plot(x,e_Q, '-o', markersize=1.5, color = 'black', label = 'load - e-Q', alpha = 0.5)\n",
    "\n",
    "for ii, iq in enumerate(iq_list):\n",
    "    plt.plot(iq[0]*ADC_fake_gain, markersize=0.5, color = 'C0' , label=\"I value, ADC %d\"%(config['ro_chs'][ii]))\n",
    "    plt.plot(iq[1]*ADC_fake_gain, markersize=0.5, color = 'C1' ,label=\"Q value, ADC %d\"%(config['ro_chs'][ii]))\n",
    "\n",
    "\n",
    "plt.ylabel(\"a.u.\")\n",
    "plt.xlabel(\"Clock ticks\")\n",
    "plt.title(\"Averages = \" + str(config[\"soft_avgs\"]))\n",
    "plt.legend()"
   ]
  },
  {
   "cell_type": "markdown",
   "id": "d169b776",
   "metadata": {},
   "source": [
    "## Average in python"
   ]
  },
  {
   "cell_type": "code",
   "execution_count": 35,
   "id": "731f6dc0",
   "metadata": {},
   "outputs": [
    {
     "name": "stdout",
     "output_type": "stream",
     "text": [
      "readout data length = 770 clock cycle\n"
     ]
    },
    {
     "data": {
      "application/vnd.jupyter.widget-view+json": {
       "model_id": "559f3049e92846f78431d4c47a547cdf",
       "version_major": 2,
       "version_minor": 0
      },
      "text/plain": [
       "  0%|          | 0/1 [00:00<?, ?it/s]"
      ]
     },
     "metadata": {},
     "output_type": "display_data"
    },
    {
     "name": "stdout",
     "output_type": "stream",
     "text": [
      "readout data length = 770 clock cycle\n"
     ]
    },
    {
     "data": {
      "application/vnd.jupyter.widget-view+json": {
       "model_id": "a259bd1d716b446db49c2f3e94e65ff3",
       "version_major": 2,
       "version_minor": 0
      },
      "text/plain": [
       "  0%|          | 0/1 [00:00<?, ?it/s]"
      ]
     },
     "metadata": {},
     "output_type": "display_data"
    },
    {
     "name": "stdout",
     "output_type": "stream",
     "text": [
      "readout data length = 770 clock cycle\n"
     ]
    },
    {
     "data": {
      "application/vnd.jupyter.widget-view+json": {
       "model_id": "43b4afed65154ef288c42525e7b6122c",
       "version_major": 2,
       "version_minor": 0
      },
      "text/plain": [
       "  0%|          | 0/1 [00:00<?, ?it/s]"
      ]
     },
     "metadata": {},
     "output_type": "display_data"
    },
    {
     "name": "stdout",
     "output_type": "stream",
     "text": [
      "readout data length = 770 clock cycle\n"
     ]
    },
    {
     "data": {
      "application/vnd.jupyter.widget-view+json": {
       "model_id": "52caadad55f847fd8d6ee99202265ef4",
       "version_major": 2,
       "version_minor": 0
      },
      "text/plain": [
       "  0%|          | 0/1 [00:00<?, ?it/s]"
      ]
     },
     "metadata": {},
     "output_type": "display_data"
    },
    {
     "name": "stdout",
     "output_type": "stream",
     "text": [
      "readout data length = 770 clock cycle\n"
     ]
    },
    {
     "data": {
      "application/vnd.jupyter.widget-view+json": {
       "model_id": "7f7a8989c555484685e0c8043e3a4fcc",
       "version_major": 2,
       "version_minor": 0
      },
      "text/plain": [
       "  0%|          | 0/1 [00:00<?, ?it/s]"
      ]
     },
     "metadata": {},
     "output_type": "display_data"
    },
    {
     "name": "stdout",
     "output_type": "stream",
     "text": [
      "readout data length = 770 clock cycle\n"
     ]
    },
    {
     "data": {
      "application/vnd.jupyter.widget-view+json": {
       "model_id": "c2238bd4289340ea8e93a3f333815971",
       "version_major": 2,
       "version_minor": 0
      },
      "text/plain": [
       "  0%|          | 0/1 [00:00<?, ?it/s]"
      ]
     },
     "metadata": {},
     "output_type": "display_data"
    },
    {
     "name": "stdout",
     "output_type": "stream",
     "text": [
      "readout data length = 770 clock cycle\n"
     ]
    },
    {
     "data": {
      "application/vnd.jupyter.widget-view+json": {
       "model_id": "cf81c8ec270545c6ab0be065fbf45741",
       "version_major": 2,
       "version_minor": 0
      },
      "text/plain": [
       "  0%|          | 0/1 [00:00<?, ?it/s]"
      ]
     },
     "metadata": {},
     "output_type": "display_data"
    },
    {
     "name": "stdout",
     "output_type": "stream",
     "text": [
      "readout data length = 770 clock cycle\n"
     ]
    },
    {
     "data": {
      "application/vnd.jupyter.widget-view+json": {
       "model_id": "465f56d9951f42378af543f54208037e",
       "version_major": 2,
       "version_minor": 0
      },
      "text/plain": [
       "  0%|          | 0/1 [00:00<?, ?it/s]"
      ]
     },
     "metadata": {},
     "output_type": "display_data"
    },
    {
     "name": "stdout",
     "output_type": "stream",
     "text": [
      "readout data length = 770 clock cycle\n"
     ]
    },
    {
     "data": {
      "application/vnd.jupyter.widget-view+json": {
       "model_id": "021f5e02fb344dfaaba56c0306417360",
       "version_major": 2,
       "version_minor": 0
      },
      "text/plain": [
       "  0%|          | 0/1 [00:00<?, ?it/s]"
      ]
     },
     "metadata": {},
     "output_type": "display_data"
    },
    {
     "name": "stdout",
     "output_type": "stream",
     "text": [
      "readout data length = 770 clock cycle\n"
     ]
    },
    {
     "data": {
      "application/vnd.jupyter.widget-view+json": {
       "model_id": "cd5b7ca310964f18b89c975261ca31f6",
       "version_major": 2,
       "version_minor": 0
      },
      "text/plain": [
       "  0%|          | 0/1 [00:00<?, ?it/s]"
      ]
     },
     "metadata": {},
     "output_type": "display_data"
    },
    {
     "name": "stdout",
     "output_type": "stream",
     "text": [
      "readout data length = 770 clock cycle\n"
     ]
    },
    {
     "data": {
      "application/vnd.jupyter.widget-view+json": {
       "model_id": "62263cb7a03044e2956c41284e2a5a0a",
       "version_major": 2,
       "version_minor": 0
      },
      "text/plain": [
       "  0%|          | 0/1 [00:00<?, ?it/s]"
      ]
     },
     "metadata": {},
     "output_type": "display_data"
    },
    {
     "name": "stdout",
     "output_type": "stream",
     "text": [
      "readout data length = 770 clock cycle\n"
     ]
    },
    {
     "data": {
      "application/vnd.jupyter.widget-view+json": {
       "model_id": "d48ef5a0f4bb454bbd320a9f211784d9",
       "version_major": 2,
       "version_minor": 0
      },
      "text/plain": [
       "  0%|          | 0/1 [00:00<?, ?it/s]"
      ]
     },
     "metadata": {},
     "output_type": "display_data"
    },
    {
     "name": "stdout",
     "output_type": "stream",
     "text": [
      "readout data length = 770 clock cycle\n"
     ]
    },
    {
     "data": {
      "application/vnd.jupyter.widget-view+json": {
       "model_id": "e2b083472c5f476db86348034c184483",
       "version_major": 2,
       "version_minor": 0
      },
      "text/plain": [
       "  0%|          | 0/1 [00:00<?, ?it/s]"
      ]
     },
     "metadata": {},
     "output_type": "display_data"
    },
    {
     "name": "stdout",
     "output_type": "stream",
     "text": [
      "readout data length = 770 clock cycle\n"
     ]
    },
    {
     "data": {
      "application/vnd.jupyter.widget-view+json": {
       "model_id": "dac782799ebf4672870fde75a8d1516e",
       "version_major": 2,
       "version_minor": 0
      },
      "text/plain": [
       "  0%|          | 0/1 [00:00<?, ?it/s]"
      ]
     },
     "metadata": {},
     "output_type": "display_data"
    },
    {
     "name": "stdout",
     "output_type": "stream",
     "text": [
      "readout data length = 770 clock cycle\n"
     ]
    },
    {
     "data": {
      "application/vnd.jupyter.widget-view+json": {
       "model_id": "96e2c088e6444e77b193462853feeeac",
       "version_major": 2,
       "version_minor": 0
      },
      "text/plain": [
       "  0%|          | 0/1 [00:00<?, ?it/s]"
      ]
     },
     "metadata": {},
     "output_type": "display_data"
    },
    {
     "name": "stdout",
     "output_type": "stream",
     "text": [
      "readout data length = 770 clock cycle\n"
     ]
    },
    {
     "data": {
      "application/vnd.jupyter.widget-view+json": {
       "model_id": "714be1144035497ca1f6667cd5dddb8e",
       "version_major": 2,
       "version_minor": 0
      },
      "text/plain": [
       "  0%|          | 0/1 [00:00<?, ?it/s]"
      ]
     },
     "metadata": {},
     "output_type": "display_data"
    },
    {
     "name": "stdout",
     "output_type": "stream",
     "text": [
      "readout data length = 770 clock cycle\n"
     ]
    },
    {
     "data": {
      "application/vnd.jupyter.widget-view+json": {
       "model_id": "cb6af152b5bf4b31b1c63d156fe6294d",
       "version_major": 2,
       "version_minor": 0
      },
      "text/plain": [
       "  0%|          | 0/1 [00:00<?, ?it/s]"
      ]
     },
     "metadata": {},
     "output_type": "display_data"
    },
    {
     "name": "stdout",
     "output_type": "stream",
     "text": [
      "readout data length = 770 clock cycle\n"
     ]
    },
    {
     "data": {
      "application/vnd.jupyter.widget-view+json": {
       "model_id": "88afcc77bb664e0d931df750bd4689f9",
       "version_major": 2,
       "version_minor": 0
      },
      "text/plain": [
       "  0%|          | 0/1 [00:00<?, ?it/s]"
      ]
     },
     "metadata": {},
     "output_type": "display_data"
    },
    {
     "name": "stdout",
     "output_type": "stream",
     "text": [
      "readout data length = 770 clock cycle\n"
     ]
    },
    {
     "data": {
      "application/vnd.jupyter.widget-view+json": {
       "model_id": "3c9a4b101bae409d8ae62edd04c784c7",
       "version_major": 2,
       "version_minor": 0
      },
      "text/plain": [
       "  0%|          | 0/1 [00:00<?, ?it/s]"
      ]
     },
     "metadata": {},
     "output_type": "display_data"
    },
    {
     "name": "stdout",
     "output_type": "stream",
     "text": [
      "readout data length = 770 clock cycle\n"
     ]
    },
    {
     "data": {
      "application/vnd.jupyter.widget-view+json": {
       "model_id": "8beab97f10ea4224872230c1e8c11759",
       "version_major": 2,
       "version_minor": 0
      },
      "text/plain": [
       "  0%|          | 0/1 [00:00<?, ?it/s]"
      ]
     },
     "metadata": {},
     "output_type": "display_data"
    },
    {
     "name": "stdout",
     "output_type": "stream",
     "text": [
      "readout data length = 770 clock cycle\n"
     ]
    },
    {
     "data": {
      "application/vnd.jupyter.widget-view+json": {
       "model_id": "389991430fa9432e8cb4a79c22bfe4b9",
       "version_major": 2,
       "version_minor": 0
      },
      "text/plain": [
       "  0%|          | 0/1 [00:00<?, ?it/s]"
      ]
     },
     "metadata": {},
     "output_type": "display_data"
    },
    {
     "name": "stdout",
     "output_type": "stream",
     "text": [
      "readout data length = 770 clock cycle\n"
     ]
    },
    {
     "data": {
      "application/vnd.jupyter.widget-view+json": {
       "model_id": "01397b868d474a49a2368741f43d8f4c",
       "version_major": 2,
       "version_minor": 0
      },
      "text/plain": [
       "  0%|          | 0/1 [00:00<?, ?it/s]"
      ]
     },
     "metadata": {},
     "output_type": "display_data"
    },
    {
     "name": "stdout",
     "output_type": "stream",
     "text": [
      "readout data length = 770 clock cycle\n"
     ]
    },
    {
     "data": {
      "application/vnd.jupyter.widget-view+json": {
       "model_id": "086a855ed9b5458baae9fe43844ee5ad",
       "version_major": 2,
       "version_minor": 0
      },
      "text/plain": [
       "  0%|          | 0/1 [00:00<?, ?it/s]"
      ]
     },
     "metadata": {},
     "output_type": "display_data"
    },
    {
     "name": "stdout",
     "output_type": "stream",
     "text": [
      "readout data length = 770 clock cycle\n"
     ]
    },
    {
     "data": {
      "application/vnd.jupyter.widget-view+json": {
       "model_id": "82d357f3e630485e9fcd38d9a329eb54",
       "version_major": 2,
       "version_minor": 0
      },
      "text/plain": [
       "  0%|          | 0/1 [00:00<?, ?it/s]"
      ]
     },
     "metadata": {},
     "output_type": "display_data"
    },
    {
     "name": "stdout",
     "output_type": "stream",
     "text": [
      "readout data length = 770 clock cycle\n"
     ]
    },
    {
     "data": {
      "application/vnd.jupyter.widget-view+json": {
       "model_id": "c413b065918346668d7095f810b21bb5",
       "version_major": 2,
       "version_minor": 0
      },
      "text/plain": [
       "  0%|          | 0/1 [00:00<?, ?it/s]"
      ]
     },
     "metadata": {},
     "output_type": "display_data"
    },
    {
     "name": "stdout",
     "output_type": "stream",
     "text": [
      "readout data length = 770 clock cycle\n"
     ]
    },
    {
     "data": {
      "application/vnd.jupyter.widget-view+json": {
       "model_id": "5f00035fa2c1417c98cc9c16b64cc514",
       "version_major": 2,
       "version_minor": 0
      },
      "text/plain": [
       "  0%|          | 0/1 [00:00<?, ?it/s]"
      ]
     },
     "metadata": {},
     "output_type": "display_data"
    },
    {
     "name": "stdout",
     "output_type": "stream",
     "text": [
      "readout data length = 770 clock cycle\n"
     ]
    },
    {
     "data": {
      "application/vnd.jupyter.widget-view+json": {
       "model_id": "1bc79b323846420891d1fde63c76cf8d",
       "version_major": 2,
       "version_minor": 0
      },
      "text/plain": [
       "  0%|          | 0/1 [00:00<?, ?it/s]"
      ]
     },
     "metadata": {},
     "output_type": "display_data"
    },
    {
     "name": "stdout",
     "output_type": "stream",
     "text": [
      "readout data length = 770 clock cycle\n"
     ]
    },
    {
     "data": {
      "application/vnd.jupyter.widget-view+json": {
       "model_id": "3d7d7d2e89bb442d82fea9d7b52e462e",
       "version_major": 2,
       "version_minor": 0
      },
      "text/plain": [
       "  0%|          | 0/1 [00:00<?, ?it/s]"
      ]
     },
     "metadata": {},
     "output_type": "display_data"
    },
    {
     "name": "stdout",
     "output_type": "stream",
     "text": [
      "readout data length = 770 clock cycle\n"
     ]
    },
    {
     "data": {
      "application/vnd.jupyter.widget-view+json": {
       "model_id": "031b8946dc494c5da84b20bdc03c1a4b",
       "version_major": 2,
       "version_minor": 0
      },
      "text/plain": [
       "  0%|          | 0/1 [00:00<?, ?it/s]"
      ]
     },
     "metadata": {},
     "output_type": "display_data"
    },
    {
     "name": "stdout",
     "output_type": "stream",
     "text": [
      "readout data length = 770 clock cycle\n"
     ]
    },
    {
     "data": {
      "application/vnd.jupyter.widget-view+json": {
       "model_id": "34b6c7ef71934ecf983e9e8c9ceeb3e2",
       "version_major": 2,
       "version_minor": 0
      },
      "text/plain": [
       "  0%|          | 0/1 [00:00<?, ?it/s]"
      ]
     },
     "metadata": {},
     "output_type": "display_data"
    },
    {
     "name": "stdout",
     "output_type": "stream",
     "text": [
      "readout data length = 770 clock cycle\n"
     ]
    },
    {
     "data": {
      "application/vnd.jupyter.widget-view+json": {
       "model_id": "78b507eb10af453183ea0bf88af7b6fa",
       "version_major": 2,
       "version_minor": 0
      },
      "text/plain": [
       "  0%|          | 0/1 [00:00<?, ?it/s]"
      ]
     },
     "metadata": {},
     "output_type": "display_data"
    },
    {
     "name": "stdout",
     "output_type": "stream",
     "text": [
      "readout data length = 770 clock cycle\n"
     ]
    },
    {
     "data": {
      "application/vnd.jupyter.widget-view+json": {
       "model_id": "b94bb29c137b459d8cf28e40b733f104",
       "version_major": 2,
       "version_minor": 0
      },
      "text/plain": [
       "  0%|          | 0/1 [00:00<?, ?it/s]"
      ]
     },
     "metadata": {},
     "output_type": "display_data"
    },
    {
     "name": "stdout",
     "output_type": "stream",
     "text": [
      "readout data length = 770 clock cycle\n"
     ]
    },
    {
     "data": {
      "application/vnd.jupyter.widget-view+json": {
       "model_id": "fc1fa30262dc46e2b26c62a0bb1b278c",
       "version_major": 2,
       "version_minor": 0
      },
      "text/plain": [
       "  0%|          | 0/1 [00:00<?, ?it/s]"
      ]
     },
     "metadata": {},
     "output_type": "display_data"
    },
    {
     "name": "stdout",
     "output_type": "stream",
     "text": [
      "readout data length = 770 clock cycle\n"
     ]
    },
    {
     "data": {
      "application/vnd.jupyter.widget-view+json": {
       "model_id": "4662ba108db045298f81b7682214a1c9",
       "version_major": 2,
       "version_minor": 0
      },
      "text/plain": [
       "  0%|          | 0/1 [00:00<?, ?it/s]"
      ]
     },
     "metadata": {},
     "output_type": "display_data"
    },
    {
     "name": "stdout",
     "output_type": "stream",
     "text": [
      "readout data length = 770 clock cycle\n"
     ]
    },
    {
     "data": {
      "application/vnd.jupyter.widget-view+json": {
       "model_id": "6dcfd00f156143a8b26c12c3080073ee",
       "version_major": 2,
       "version_minor": 0
      },
      "text/plain": [
       "  0%|          | 0/1 [00:00<?, ?it/s]"
      ]
     },
     "metadata": {},
     "output_type": "display_data"
    },
    {
     "name": "stdout",
     "output_type": "stream",
     "text": [
      "readout data length = 770 clock cycle\n"
     ]
    },
    {
     "data": {
      "application/vnd.jupyter.widget-view+json": {
       "model_id": "571b0e39a9d8453baa937e6a3e4454e1",
       "version_major": 2,
       "version_minor": 0
      },
      "text/plain": [
       "  0%|          | 0/1 [00:00<?, ?it/s]"
      ]
     },
     "metadata": {},
     "output_type": "display_data"
    },
    {
     "name": "stdout",
     "output_type": "stream",
     "text": [
      "readout data length = 770 clock cycle\n"
     ]
    },
    {
     "data": {
      "application/vnd.jupyter.widget-view+json": {
       "model_id": "3161cb119ea74508b96431d45173a808",
       "version_major": 2,
       "version_minor": 0
      },
      "text/plain": [
       "  0%|          | 0/1 [00:00<?, ?it/s]"
      ]
     },
     "metadata": {},
     "output_type": "display_data"
    },
    {
     "name": "stdout",
     "output_type": "stream",
     "text": [
      "readout data length = 770 clock cycle\n"
     ]
    },
    {
     "data": {
      "application/vnd.jupyter.widget-view+json": {
       "model_id": "65056d18d685470e89782f43c21a12c1",
       "version_major": 2,
       "version_minor": 0
      },
      "text/plain": [
       "  0%|          | 0/1 [00:00<?, ?it/s]"
      ]
     },
     "metadata": {},
     "output_type": "display_data"
    },
    {
     "name": "stdout",
     "output_type": "stream",
     "text": [
      "readout data length = 770 clock cycle\n"
     ]
    },
    {
     "data": {
      "application/vnd.jupyter.widget-view+json": {
       "model_id": "ac10fa8ebb90470d9adb9a46e76fd3a2",
       "version_major": 2,
       "version_minor": 0
      },
      "text/plain": [
       "  0%|          | 0/1 [00:00<?, ?it/s]"
      ]
     },
     "metadata": {},
     "output_type": "display_data"
    },
    {
     "name": "stdout",
     "output_type": "stream",
     "text": [
      "readout data length = 770 clock cycle\n"
     ]
    },
    {
     "data": {
      "application/vnd.jupyter.widget-view+json": {
       "model_id": "85967ec15cca4361beb6911b9de581d7",
       "version_major": 2,
       "version_minor": 0
      },
      "text/plain": [
       "  0%|          | 0/1 [00:00<?, ?it/s]"
      ]
     },
     "metadata": {},
     "output_type": "display_data"
    },
    {
     "name": "stdout",
     "output_type": "stream",
     "text": [
      "readout data length = 770 clock cycle\n"
     ]
    },
    {
     "data": {
      "application/vnd.jupyter.widget-view+json": {
       "model_id": "4c687f78ef9c4ef0a16fce82ca8d1acf",
       "version_major": 2,
       "version_minor": 0
      },
      "text/plain": [
       "  0%|          | 0/1 [00:00<?, ?it/s]"
      ]
     },
     "metadata": {},
     "output_type": "display_data"
    },
    {
     "name": "stdout",
     "output_type": "stream",
     "text": [
      "readout data length = 770 clock cycle\n"
     ]
    },
    {
     "data": {
      "application/vnd.jupyter.widget-view+json": {
       "model_id": "e9e37e862bd3454e8424b30dc4bac68a",
       "version_major": 2,
       "version_minor": 0
      },
      "text/plain": [
       "  0%|          | 0/1 [00:00<?, ?it/s]"
      ]
     },
     "metadata": {},
     "output_type": "display_data"
    },
    {
     "name": "stdout",
     "output_type": "stream",
     "text": [
      "readout data length = 770 clock cycle\n"
     ]
    },
    {
     "data": {
      "application/vnd.jupyter.widget-view+json": {
       "model_id": "cbe6ae923c1e4cfb92d99ade79f63ce6",
       "version_major": 2,
       "version_minor": 0
      },
      "text/plain": [
       "  0%|          | 0/1 [00:00<?, ?it/s]"
      ]
     },
     "metadata": {},
     "output_type": "display_data"
    },
    {
     "name": "stdout",
     "output_type": "stream",
     "text": [
      "readout data length = 770 clock cycle\n"
     ]
    },
    {
     "data": {
      "application/vnd.jupyter.widget-view+json": {
       "model_id": "00548b52dbed4b85a4bb7439d0cb877a",
       "version_major": 2,
       "version_minor": 0
      },
      "text/plain": [
       "  0%|          | 0/1 [00:00<?, ?it/s]"
      ]
     },
     "metadata": {},
     "output_type": "display_data"
    },
    {
     "name": "stdout",
     "output_type": "stream",
     "text": [
      "readout data length = 770 clock cycle\n"
     ]
    },
    {
     "data": {
      "application/vnd.jupyter.widget-view+json": {
       "model_id": "be565dea371441ae92adce0a50dcee17",
       "version_major": 2,
       "version_minor": 0
      },
      "text/plain": [
       "  0%|          | 0/1 [00:00<?, ?it/s]"
      ]
     },
     "metadata": {},
     "output_type": "display_data"
    },
    {
     "name": "stdout",
     "output_type": "stream",
     "text": [
      "readout data length = 770 clock cycle\n"
     ]
    },
    {
     "data": {
      "application/vnd.jupyter.widget-view+json": {
       "model_id": "0208ccf3e3d1410092b15d2b2b728342",
       "version_major": 2,
       "version_minor": 0
      },
      "text/plain": [
       "  0%|          | 0/1 [00:00<?, ?it/s]"
      ]
     },
     "metadata": {},
     "output_type": "display_data"
    },
    {
     "name": "stdout",
     "output_type": "stream",
     "text": [
      "readout data length = 770 clock cycle\n"
     ]
    },
    {
     "data": {
      "application/vnd.jupyter.widget-view+json": {
       "model_id": "ffc50997d8374576b66ce06d318e93a9",
       "version_major": 2,
       "version_minor": 0
      },
      "text/plain": [
       "  0%|          | 0/1 [00:00<?, ?it/s]"
      ]
     },
     "metadata": {},
     "output_type": "display_data"
    },
    {
     "name": "stdout",
     "output_type": "stream",
     "text": [
      "readout data length = 770 clock cycle\n"
     ]
    },
    {
     "data": {
      "application/vnd.jupyter.widget-view+json": {
       "model_id": "b833f28ed4a74ba1b4f138ed964ed39e",
       "version_major": 2,
       "version_minor": 0
      },
      "text/plain": [
       "  0%|          | 0/1 [00:00<?, ?it/s]"
      ]
     },
     "metadata": {},
     "output_type": "display_data"
    },
    {
     "name": "stdout",
     "output_type": "stream",
     "text": [
      "readout data length = 770 clock cycle\n"
     ]
    },
    {
     "data": {
      "application/vnd.jupyter.widget-view+json": {
       "model_id": "873ba36199ee43d6906f1bc457a12d58",
       "version_major": 2,
       "version_minor": 0
      },
      "text/plain": [
       "  0%|          | 0/1 [00:00<?, ?it/s]"
      ]
     },
     "metadata": {},
     "output_type": "display_data"
    },
    {
     "name": "stdout",
     "output_type": "stream",
     "text": [
      "readout data length = 770 clock cycle\n"
     ]
    },
    {
     "data": {
      "application/vnd.jupyter.widget-view+json": {
       "model_id": "ff74ad88b6554f1290b9a9f43528e6c8",
       "version_major": 2,
       "version_minor": 0
      },
      "text/plain": [
       "  0%|          | 0/1 [00:00<?, ?it/s]"
      ]
     },
     "metadata": {},
     "output_type": "display_data"
    },
    {
     "name": "stdout",
     "output_type": "stream",
     "text": [
      "readout data length = 770 clock cycle\n"
     ]
    },
    {
     "data": {
      "application/vnd.jupyter.widget-view+json": {
       "model_id": "35f49500c70e438a95acab86db9ffad8",
       "version_major": 2,
       "version_minor": 0
      },
      "text/plain": [
       "  0%|          | 0/1 [00:00<?, ?it/s]"
      ]
     },
     "metadata": {},
     "output_type": "display_data"
    },
    {
     "name": "stdout",
     "output_type": "stream",
     "text": [
      "readout data length = 770 clock cycle\n"
     ]
    },
    {
     "data": {
      "application/vnd.jupyter.widget-view+json": {
       "model_id": "d4d93003628f421891c915d4473b3739",
       "version_major": 2,
       "version_minor": 0
      },
      "text/plain": [
       "  0%|          | 0/1 [00:00<?, ?it/s]"
      ]
     },
     "metadata": {},
     "output_type": "display_data"
    },
    {
     "name": "stdout",
     "output_type": "stream",
     "text": [
      "readout data length = 770 clock cycle\n"
     ]
    },
    {
     "data": {
      "application/vnd.jupyter.widget-view+json": {
       "model_id": "634cfb55e66a4ced845f9c2974c0733e",
       "version_major": 2,
       "version_minor": 0
      },
      "text/plain": [
       "  0%|          | 0/1 [00:00<?, ?it/s]"
      ]
     },
     "metadata": {},
     "output_type": "display_data"
    },
    {
     "name": "stdout",
     "output_type": "stream",
     "text": [
      "readout data length = 770 clock cycle\n"
     ]
    },
    {
     "data": {
      "application/vnd.jupyter.widget-view+json": {
       "model_id": "3a00654fedc14d5eaf6e32bf77e18989",
       "version_major": 2,
       "version_minor": 0
      },
      "text/plain": [
       "  0%|          | 0/1 [00:00<?, ?it/s]"
      ]
     },
     "metadata": {},
     "output_type": "display_data"
    },
    {
     "name": "stdout",
     "output_type": "stream",
     "text": [
      "readout data length = 770 clock cycle\n"
     ]
    },
    {
     "data": {
      "application/vnd.jupyter.widget-view+json": {
       "model_id": "2690b159c17a484a98e607341a7c0158",
       "version_major": 2,
       "version_minor": 0
      },
      "text/plain": [
       "  0%|          | 0/1 [00:00<?, ?it/s]"
      ]
     },
     "metadata": {},
     "output_type": "display_data"
    },
    {
     "name": "stdout",
     "output_type": "stream",
     "text": [
      "readout data length = 770 clock cycle\n"
     ]
    },
    {
     "data": {
      "application/vnd.jupyter.widget-view+json": {
       "model_id": "02591725fb684bdbade58e9861ebc060",
       "version_major": 2,
       "version_minor": 0
      },
      "text/plain": [
       "  0%|          | 0/1 [00:00<?, ?it/s]"
      ]
     },
     "metadata": {},
     "output_type": "display_data"
    },
    {
     "name": "stdout",
     "output_type": "stream",
     "text": [
      "readout data length = 770 clock cycle\n"
     ]
    },
    {
     "data": {
      "application/vnd.jupyter.widget-view+json": {
       "model_id": "2d0583541ffa4155aec5d5b57021e136",
       "version_major": 2,
       "version_minor": 0
      },
      "text/plain": [
       "  0%|          | 0/1 [00:00<?, ?it/s]"
      ]
     },
     "metadata": {},
     "output_type": "display_data"
    },
    {
     "name": "stdout",
     "output_type": "stream",
     "text": [
      "readout data length = 770 clock cycle\n"
     ]
    },
    {
     "data": {
      "application/vnd.jupyter.widget-view+json": {
       "model_id": "323e1d6ff00b4392b14201c4864f216b",
       "version_major": 2,
       "version_minor": 0
      },
      "text/plain": [
       "  0%|          | 0/1 [00:00<?, ?it/s]"
      ]
     },
     "metadata": {},
     "output_type": "display_data"
    },
    {
     "name": "stdout",
     "output_type": "stream",
     "text": [
      "readout data length = 770 clock cycle\n"
     ]
    },
    {
     "data": {
      "application/vnd.jupyter.widget-view+json": {
       "model_id": "a5c61996d2614134bdd89fa65a14de76",
       "version_major": 2,
       "version_minor": 0
      },
      "text/plain": [
       "  0%|          | 0/1 [00:00<?, ?it/s]"
      ]
     },
     "metadata": {},
     "output_type": "display_data"
    },
    {
     "name": "stdout",
     "output_type": "stream",
     "text": [
      "readout data length = 770 clock cycle\n"
     ]
    },
    {
     "data": {
      "application/vnd.jupyter.widget-view+json": {
       "model_id": "26bb8e4bc24a462aa1837331884b12f9",
       "version_major": 2,
       "version_minor": 0
      },
      "text/plain": [
       "  0%|          | 0/1 [00:00<?, ?it/s]"
      ]
     },
     "metadata": {},
     "output_type": "display_data"
    },
    {
     "name": "stdout",
     "output_type": "stream",
     "text": [
      "readout data length = 770 clock cycle\n"
     ]
    },
    {
     "data": {
      "application/vnd.jupyter.widget-view+json": {
       "model_id": "95fea800615d481c8330e39abd743aef",
       "version_major": 2,
       "version_minor": 0
      },
      "text/plain": [
       "  0%|          | 0/1 [00:00<?, ?it/s]"
      ]
     },
     "metadata": {},
     "output_type": "display_data"
    },
    {
     "name": "stdout",
     "output_type": "stream",
     "text": [
      "readout data length = 770 clock cycle\n"
     ]
    },
    {
     "data": {
      "application/vnd.jupyter.widget-view+json": {
       "model_id": "3ef6acdff9a944c8bbe7b8f8414e43d4",
       "version_major": 2,
       "version_minor": 0
      },
      "text/plain": [
       "  0%|          | 0/1 [00:00<?, ?it/s]"
      ]
     },
     "metadata": {},
     "output_type": "display_data"
    },
    {
     "name": "stdout",
     "output_type": "stream",
     "text": [
      "readout data length = 770 clock cycle\n"
     ]
    },
    {
     "data": {
      "application/vnd.jupyter.widget-view+json": {
       "model_id": "10434c047c804127b8777ccb643675df",
       "version_major": 2,
       "version_minor": 0
      },
      "text/plain": [
       "  0%|          | 0/1 [00:00<?, ?it/s]"
      ]
     },
     "metadata": {},
     "output_type": "display_data"
    },
    {
     "name": "stdout",
     "output_type": "stream",
     "text": [
      "readout data length = 770 clock cycle\n"
     ]
    },
    {
     "data": {
      "application/vnd.jupyter.widget-view+json": {
       "model_id": "108170de87c94c939830b1d870c6627a",
       "version_major": 2,
       "version_minor": 0
      },
      "text/plain": [
       "  0%|          | 0/1 [00:00<?, ?it/s]"
      ]
     },
     "metadata": {},
     "output_type": "display_data"
    },
    {
     "name": "stdout",
     "output_type": "stream",
     "text": [
      "readout data length = 770 clock cycle\n"
     ]
    },
    {
     "data": {
      "application/vnd.jupyter.widget-view+json": {
       "model_id": "5a9173c12cf84c338c1a41b97b9645e9",
       "version_major": 2,
       "version_minor": 0
      },
      "text/plain": [
       "  0%|          | 0/1 [00:00<?, ?it/s]"
      ]
     },
     "metadata": {},
     "output_type": "display_data"
    },
    {
     "name": "stdout",
     "output_type": "stream",
     "text": [
      "readout data length = 770 clock cycle\n"
     ]
    },
    {
     "data": {
      "application/vnd.jupyter.widget-view+json": {
       "model_id": "b5f428c466ac473a92318e6aa40cb876",
       "version_major": 2,
       "version_minor": 0
      },
      "text/plain": [
       "  0%|          | 0/1 [00:00<?, ?it/s]"
      ]
     },
     "metadata": {},
     "output_type": "display_data"
    },
    {
     "name": "stdout",
     "output_type": "stream",
     "text": [
      "readout data length = 770 clock cycle\n"
     ]
    },
    {
     "data": {
      "application/vnd.jupyter.widget-view+json": {
       "model_id": "0b56e27669ac4833b650cea8e91933d0",
       "version_major": 2,
       "version_minor": 0
      },
      "text/plain": [
       "  0%|          | 0/1 [00:00<?, ?it/s]"
      ]
     },
     "metadata": {},
     "output_type": "display_data"
    },
    {
     "name": "stdout",
     "output_type": "stream",
     "text": [
      "readout data length = 770 clock cycle\n"
     ]
    },
    {
     "data": {
      "application/vnd.jupyter.widget-view+json": {
       "model_id": "48fc84f42c7c494aaec3303a51f67897",
       "version_major": 2,
       "version_minor": 0
      },
      "text/plain": [
       "  0%|          | 0/1 [00:00<?, ?it/s]"
      ]
     },
     "metadata": {},
     "output_type": "display_data"
    },
    {
     "name": "stdout",
     "output_type": "stream",
     "text": [
      "readout data length = 770 clock cycle\n"
     ]
    },
    {
     "data": {
      "application/vnd.jupyter.widget-view+json": {
       "model_id": "eaef4a10f7f0442eac5e29709a5608b2",
       "version_major": 2,
       "version_minor": 0
      },
      "text/plain": [
       "  0%|          | 0/1 [00:00<?, ?it/s]"
      ]
     },
     "metadata": {},
     "output_type": "display_data"
    },
    {
     "name": "stdout",
     "output_type": "stream",
     "text": [
      "readout data length = 770 clock cycle\n"
     ]
    },
    {
     "data": {
      "application/vnd.jupyter.widget-view+json": {
       "model_id": "bf0a31c6b23b46548f0679b1b1592d49",
       "version_major": 2,
       "version_minor": 0
      },
      "text/plain": [
       "  0%|          | 0/1 [00:00<?, ?it/s]"
      ]
     },
     "metadata": {},
     "output_type": "display_data"
    },
    {
     "name": "stdout",
     "output_type": "stream",
     "text": [
      "readout data length = 770 clock cycle\n"
     ]
    },
    {
     "data": {
      "application/vnd.jupyter.widget-view+json": {
       "model_id": "10654ce38ae646078a4fd92a209fb543",
       "version_major": 2,
       "version_minor": 0
      },
      "text/plain": [
       "  0%|          | 0/1 [00:00<?, ?it/s]"
      ]
     },
     "metadata": {},
     "output_type": "display_data"
    },
    {
     "name": "stdout",
     "output_type": "stream",
     "text": [
      "readout data length = 770 clock cycle\n"
     ]
    },
    {
     "data": {
      "application/vnd.jupyter.widget-view+json": {
       "model_id": "a13b607e8e8941e5b5db8918185aeab6",
       "version_major": 2,
       "version_minor": 0
      },
      "text/plain": [
       "  0%|          | 0/1 [00:00<?, ?it/s]"
      ]
     },
     "metadata": {},
     "output_type": "display_data"
    },
    {
     "name": "stdout",
     "output_type": "stream",
     "text": [
      "readout data length = 770 clock cycle\n"
     ]
    },
    {
     "data": {
      "application/vnd.jupyter.widget-view+json": {
       "model_id": "9c2097148b77449e9aa5eea580071e3f",
       "version_major": 2,
       "version_minor": 0
      },
      "text/plain": [
       "  0%|          | 0/1 [00:00<?, ?it/s]"
      ]
     },
     "metadata": {},
     "output_type": "display_data"
    },
    {
     "name": "stdout",
     "output_type": "stream",
     "text": [
      "readout data length = 770 clock cycle\n"
     ]
    },
    {
     "data": {
      "application/vnd.jupyter.widget-view+json": {
       "model_id": "b54a4cd80c4a4de8b5130f2916d772fa",
       "version_major": 2,
       "version_minor": 0
      },
      "text/plain": [
       "  0%|          | 0/1 [00:00<?, ?it/s]"
      ]
     },
     "metadata": {},
     "output_type": "display_data"
    },
    {
     "name": "stdout",
     "output_type": "stream",
     "text": [
      "readout data length = 770 clock cycle\n"
     ]
    },
    {
     "data": {
      "application/vnd.jupyter.widget-view+json": {
       "model_id": "70e0184775964f4682438974fd620a75",
       "version_major": 2,
       "version_minor": 0
      },
      "text/plain": [
       "  0%|          | 0/1 [00:00<?, ?it/s]"
      ]
     },
     "metadata": {},
     "output_type": "display_data"
    },
    {
     "name": "stdout",
     "output_type": "stream",
     "text": [
      "readout data length = 770 clock cycle\n"
     ]
    },
    {
     "data": {
      "application/vnd.jupyter.widget-view+json": {
       "model_id": "44760328ce8749c7ab7c4978f9b1f853",
       "version_major": 2,
       "version_minor": 0
      },
      "text/plain": [
       "  0%|          | 0/1 [00:00<?, ?it/s]"
      ]
     },
     "metadata": {},
     "output_type": "display_data"
    },
    {
     "name": "stdout",
     "output_type": "stream",
     "text": [
      "readout data length = 770 clock cycle\n"
     ]
    },
    {
     "data": {
      "application/vnd.jupyter.widget-view+json": {
       "model_id": "052d713702e048feb1a96d47e926c904",
       "version_major": 2,
       "version_minor": 0
      },
      "text/plain": [
       "  0%|          | 0/1 [00:00<?, ?it/s]"
      ]
     },
     "metadata": {},
     "output_type": "display_data"
    },
    {
     "name": "stdout",
     "output_type": "stream",
     "text": [
      "readout data length = 770 clock cycle\n"
     ]
    },
    {
     "data": {
      "application/vnd.jupyter.widget-view+json": {
       "model_id": "3308e693dffa42df88ad03961da71dd1",
       "version_major": 2,
       "version_minor": 0
      },
      "text/plain": [
       "  0%|          | 0/1 [00:00<?, ?it/s]"
      ]
     },
     "metadata": {},
     "output_type": "display_data"
    },
    {
     "name": "stdout",
     "output_type": "stream",
     "text": [
      "readout data length = 770 clock cycle\n"
     ]
    },
    {
     "data": {
      "application/vnd.jupyter.widget-view+json": {
       "model_id": "a7e4502b59f44e75863cb2205065b52d",
       "version_major": 2,
       "version_minor": 0
      },
      "text/plain": [
       "  0%|          | 0/1 [00:00<?, ?it/s]"
      ]
     },
     "metadata": {},
     "output_type": "display_data"
    },
    {
     "name": "stdout",
     "output_type": "stream",
     "text": [
      "readout data length = 770 clock cycle\n"
     ]
    },
    {
     "data": {
      "application/vnd.jupyter.widget-view+json": {
       "model_id": "3eaab20cce404eb084aa440e2a7e98bb",
       "version_major": 2,
       "version_minor": 0
      },
      "text/plain": [
       "  0%|          | 0/1 [00:00<?, ?it/s]"
      ]
     },
     "metadata": {},
     "output_type": "display_data"
    },
    {
     "name": "stdout",
     "output_type": "stream",
     "text": [
      "readout data length = 770 clock cycle\n"
     ]
    },
    {
     "data": {
      "application/vnd.jupyter.widget-view+json": {
       "model_id": "924a56c539f44f5d92c0c6c5884cc81e",
       "version_major": 2,
       "version_minor": 0
      },
      "text/plain": [
       "  0%|          | 0/1 [00:00<?, ?it/s]"
      ]
     },
     "metadata": {},
     "output_type": "display_data"
    },
    {
     "name": "stdout",
     "output_type": "stream",
     "text": [
      "readout data length = 770 clock cycle\n"
     ]
    },
    {
     "data": {
      "application/vnd.jupyter.widget-view+json": {
       "model_id": "9baf7202f89246129bf8ef447c1597c8",
       "version_major": 2,
       "version_minor": 0
      },
      "text/plain": [
       "  0%|          | 0/1 [00:00<?, ?it/s]"
      ]
     },
     "metadata": {},
     "output_type": "display_data"
    },
    {
     "name": "stdout",
     "output_type": "stream",
     "text": [
      "readout data length = 770 clock cycle\n"
     ]
    },
    {
     "data": {
      "application/vnd.jupyter.widget-view+json": {
       "model_id": "4dbd1c776cb347d688f9e443769fdc4f",
       "version_major": 2,
       "version_minor": 0
      },
      "text/plain": [
       "  0%|          | 0/1 [00:00<?, ?it/s]"
      ]
     },
     "metadata": {},
     "output_type": "display_data"
    },
    {
     "name": "stdout",
     "output_type": "stream",
     "text": [
      "readout data length = 770 clock cycle\n"
     ]
    },
    {
     "data": {
      "application/vnd.jupyter.widget-view+json": {
       "model_id": "dd5e143a90e7482cbe0f4f6c605a9825",
       "version_major": 2,
       "version_minor": 0
      },
      "text/plain": [
       "  0%|          | 0/1 [00:00<?, ?it/s]"
      ]
     },
     "metadata": {},
     "output_type": "display_data"
    },
    {
     "name": "stdout",
     "output_type": "stream",
     "text": [
      "readout data length = 770 clock cycle\n"
     ]
    },
    {
     "data": {
      "application/vnd.jupyter.widget-view+json": {
       "model_id": "7645dfe7cf0b423087e59e793eeb35ab",
       "version_major": 2,
       "version_minor": 0
      },
      "text/plain": [
       "  0%|          | 0/1 [00:00<?, ?it/s]"
      ]
     },
     "metadata": {},
     "output_type": "display_data"
    },
    {
     "name": "stdout",
     "output_type": "stream",
     "text": [
      "readout data length = 770 clock cycle\n"
     ]
    },
    {
     "data": {
      "application/vnd.jupyter.widget-view+json": {
       "model_id": "41ff6316e8b840aa9a9a639843ce63d8",
       "version_major": 2,
       "version_minor": 0
      },
      "text/plain": [
       "  0%|          | 0/1 [00:00<?, ?it/s]"
      ]
     },
     "metadata": {},
     "output_type": "display_data"
    },
    {
     "name": "stdout",
     "output_type": "stream",
     "text": [
      "readout data length = 770 clock cycle\n"
     ]
    },
    {
     "data": {
      "application/vnd.jupyter.widget-view+json": {
       "model_id": "5298e40c43194ca583c3dbb92cde7a36",
       "version_major": 2,
       "version_minor": 0
      },
      "text/plain": [
       "  0%|          | 0/1 [00:00<?, ?it/s]"
      ]
     },
     "metadata": {},
     "output_type": "display_data"
    },
    {
     "name": "stdout",
     "output_type": "stream",
     "text": [
      "readout data length = 770 clock cycle\n"
     ]
    },
    {
     "data": {
      "application/vnd.jupyter.widget-view+json": {
       "model_id": "61270b6213f0457db5a30b433259e85c",
       "version_major": 2,
       "version_minor": 0
      },
      "text/plain": [
       "  0%|          | 0/1 [00:00<?, ?it/s]"
      ]
     },
     "metadata": {},
     "output_type": "display_data"
    },
    {
     "name": "stdout",
     "output_type": "stream",
     "text": [
      "readout data length = 770 clock cycle\n"
     ]
    },
    {
     "data": {
      "application/vnd.jupyter.widget-view+json": {
       "model_id": "4544086b34834ff0a832140f5a3c8591",
       "version_major": 2,
       "version_minor": 0
      },
      "text/plain": [
       "  0%|          | 0/1 [00:00<?, ?it/s]"
      ]
     },
     "metadata": {},
     "output_type": "display_data"
    },
    {
     "name": "stdout",
     "output_type": "stream",
     "text": [
      "readout data length = 770 clock cycle\n"
     ]
    },
    {
     "data": {
      "application/vnd.jupyter.widget-view+json": {
       "model_id": "d6523ba3a9674706839afb05d802fb09",
       "version_major": 2,
       "version_minor": 0
      },
      "text/plain": [
       "  0%|          | 0/1 [00:00<?, ?it/s]"
      ]
     },
     "metadata": {},
     "output_type": "display_data"
    },
    {
     "name": "stdout",
     "output_type": "stream",
     "text": [
      "readout data length = 770 clock cycle\n"
     ]
    },
    {
     "data": {
      "application/vnd.jupyter.widget-view+json": {
       "model_id": "7fa18f6db6524decb2c992c913cce921",
       "version_major": 2,
       "version_minor": 0
      },
      "text/plain": [
       "  0%|          | 0/1 [00:00<?, ?it/s]"
      ]
     },
     "metadata": {},
     "output_type": "display_data"
    },
    {
     "name": "stdout",
     "output_type": "stream",
     "text": [
      "readout data length = 770 clock cycle\n"
     ]
    },
    {
     "data": {
      "application/vnd.jupyter.widget-view+json": {
       "model_id": "a643bd1a47cb4246abd2d7219fab982c",
       "version_major": 2,
       "version_minor": 0
      },
      "text/plain": [
       "  0%|          | 0/1 [00:00<?, ?it/s]"
      ]
     },
     "metadata": {},
     "output_type": "display_data"
    },
    {
     "name": "stdout",
     "output_type": "stream",
     "text": [
      "readout data length = 770 clock cycle\n"
     ]
    },
    {
     "data": {
      "application/vnd.jupyter.widget-view+json": {
       "model_id": "9ff888ebba284fb8b8c30d892f8db865",
       "version_major": 2,
       "version_minor": 0
      },
      "text/plain": [
       "  0%|          | 0/1 [00:00<?, ?it/s]"
      ]
     },
     "metadata": {},
     "output_type": "display_data"
    },
    {
     "name": "stdout",
     "output_type": "stream",
     "text": [
      "readout data length = 770 clock cycle\n"
     ]
    },
    {
     "data": {
      "application/vnd.jupyter.widget-view+json": {
       "model_id": "9188557f5f144c839d39bb7d8e2dcb9b",
       "version_major": 2,
       "version_minor": 0
      },
      "text/plain": [
       "  0%|          | 0/1 [00:00<?, ?it/s]"
      ]
     },
     "metadata": {},
     "output_type": "display_data"
    },
    {
     "name": "stdout",
     "output_type": "stream",
     "text": [
      "readout data length = 770 clock cycle\n"
     ]
    },
    {
     "data": {
      "application/vnd.jupyter.widget-view+json": {
       "model_id": "deba76d23e7b43738b4e24af0a58aa49",
       "version_major": 2,
       "version_minor": 0
      },
      "text/plain": [
       "  0%|          | 0/1 [00:00<?, ?it/s]"
      ]
     },
     "metadata": {},
     "output_type": "display_data"
    },
    {
     "name": "stdout",
     "output_type": "stream",
     "text": [
      "readout data length = 770 clock cycle\n"
     ]
    },
    {
     "data": {
      "application/vnd.jupyter.widget-view+json": {
       "model_id": "6430087c376d40f3acba064f7677695e",
       "version_major": 2,
       "version_minor": 0
      },
      "text/plain": [
       "  0%|          | 0/1 [00:00<?, ?it/s]"
      ]
     },
     "metadata": {},
     "output_type": "display_data"
    },
    {
     "name": "stdout",
     "output_type": "stream",
     "text": [
      "readout data length = 770 clock cycle\n"
     ]
    },
    {
     "data": {
      "application/vnd.jupyter.widget-view+json": {
       "model_id": "8352571fee1b464e9eca170d81d9367a",
       "version_major": 2,
       "version_minor": 0
      },
      "text/plain": [
       "  0%|          | 0/1 [00:00<?, ?it/s]"
      ]
     },
     "metadata": {},
     "output_type": "display_data"
    },
    {
     "name": "stdout",
     "output_type": "stream",
     "text": [
      "readout data length = 770 clock cycle\n"
     ]
    },
    {
     "data": {
      "application/vnd.jupyter.widget-view+json": {
       "model_id": "3430ac52423d4d65ad0528a9bfb3ed3d",
       "version_major": 2,
       "version_minor": 0
      },
      "text/plain": [
       "  0%|          | 0/1 [00:00<?, ?it/s]"
      ]
     },
     "metadata": {},
     "output_type": "display_data"
    },
    {
     "name": "stdout",
     "output_type": "stream",
     "text": [
      "readout data length = 770 clock cycle\n"
     ]
    },
    {
     "data": {
      "application/vnd.jupyter.widget-view+json": {
       "model_id": "ac4875beda884a0eacc8e6fe5d52617a",
       "version_major": 2,
       "version_minor": 0
      },
      "text/plain": [
       "  0%|          | 0/1 [00:00<?, ?it/s]"
      ]
     },
     "metadata": {},
     "output_type": "display_data"
    },
    {
     "name": "stdout",
     "output_type": "stream",
     "text": [
      "readout data length = 770 clock cycle\n"
     ]
    },
    {
     "data": {
      "application/vnd.jupyter.widget-view+json": {
       "model_id": "7aa49dcb019c49d8842af415568964a6",
       "version_major": 2,
       "version_minor": 0
      },
      "text/plain": [
       "  0%|          | 0/1 [00:00<?, ?it/s]"
      ]
     },
     "metadata": {},
     "output_type": "display_data"
    },
    {
     "name": "stdout",
     "output_type": "stream",
     "text": [
      "readout data length = 770 clock cycle\n"
     ]
    },
    {
     "data": {
      "application/vnd.jupyter.widget-view+json": {
       "model_id": "00f505f2a06d4f439586ae0040ef5013",
       "version_major": 2,
       "version_minor": 0
      },
      "text/plain": [
       "  0%|          | 0/1 [00:00<?, ?it/s]"
      ]
     },
     "metadata": {},
     "output_type": "display_data"
    },
    {
     "name": "stdout",
     "output_type": "stream",
     "text": [
      "readout data length = 770 clock cycle\n"
     ]
    },
    {
     "data": {
      "application/vnd.jupyter.widget-view+json": {
       "model_id": "31aac6192ee34f2fa6d197864d976e51",
       "version_major": 2,
       "version_minor": 0
      },
      "text/plain": [
       "  0%|          | 0/1 [00:00<?, ?it/s]"
      ]
     },
     "metadata": {},
     "output_type": "display_data"
    },
    {
     "name": "stdout",
     "output_type": "stream",
     "text": [
      "readout data length = 770 clock cycle\n"
     ]
    },
    {
     "data": {
      "application/vnd.jupyter.widget-view+json": {
       "model_id": "b0f2c1695b7145dfa9fa0de04dee8144",
       "version_major": 2,
       "version_minor": 0
      },
      "text/plain": [
       "  0%|          | 0/1 [00:00<?, ?it/s]"
      ]
     },
     "metadata": {},
     "output_type": "display_data"
    },
    {
     "name": "stdout",
     "output_type": "stream",
     "text": [
      "readout data length = 770 clock cycle\n"
     ]
    },
    {
     "data": {
      "application/vnd.jupyter.widget-view+json": {
       "model_id": "b894f529e06d4235b11f51ac6039e849",
       "version_major": 2,
       "version_minor": 0
      },
      "text/plain": [
       "  0%|          | 0/1 [00:00<?, ?it/s]"
      ]
     },
     "metadata": {},
     "output_type": "display_data"
    },
    {
     "name": "stdout",
     "output_type": "stream",
     "text": [
      "readout data length = 770 clock cycle\n"
     ]
    },
    {
     "data": {
      "application/vnd.jupyter.widget-view+json": {
       "model_id": "6de5c39f4b824204ba70a4bcc876ac27",
       "version_major": 2,
       "version_minor": 0
      },
      "text/plain": [
       "  0%|          | 0/1 [00:00<?, ?it/s]"
      ]
     },
     "metadata": {},
     "output_type": "display_data"
    },
    {
     "name": "stdout",
     "output_type": "stream",
     "text": [
      "readout data length = 770 clock cycle\n"
     ]
    },
    {
     "data": {
      "application/vnd.jupyter.widget-view+json": {
       "model_id": "51693b98052240f99c9b7c56abbb611f",
       "version_major": 2,
       "version_minor": 0
      },
      "text/plain": [
       "  0%|          | 0/1 [00:00<?, ?it/s]"
      ]
     },
     "metadata": {},
     "output_type": "display_data"
    },
    {
     "name": "stdout",
     "output_type": "stream",
     "text": [
      "readout data length = 770 clock cycle\n"
     ]
    },
    {
     "data": {
      "application/vnd.jupyter.widget-view+json": {
       "model_id": "277c162d94af47e18619802a799a6778",
       "version_major": 2,
       "version_minor": 0
      },
      "text/plain": [
       "  0%|          | 0/1 [00:00<?, ?it/s]"
      ]
     },
     "metadata": {},
     "output_type": "display_data"
    },
    {
     "name": "stdout",
     "output_type": "stream",
     "text": [
      "readout data length = 770 clock cycle\n"
     ]
    },
    {
     "data": {
      "application/vnd.jupyter.widget-view+json": {
       "model_id": "d9fc17a794cb40cea0ef1d1a2c14d54b",
       "version_major": 2,
       "version_minor": 0
      },
      "text/plain": [
       "  0%|          | 0/1 [00:00<?, ?it/s]"
      ]
     },
     "metadata": {},
     "output_type": "display_data"
    },
    {
     "name": "stdout",
     "output_type": "stream",
     "text": [
      "readout data length = 770 clock cycle\n"
     ]
    },
    {
     "data": {
      "application/vnd.jupyter.widget-view+json": {
       "model_id": "894b3398eb784d8581b0226c33926b61",
       "version_major": 2,
       "version_minor": 0
      },
      "text/plain": [
       "  0%|          | 0/1 [00:00<?, ?it/s]"
      ]
     },
     "metadata": {},
     "output_type": "display_data"
    },
    {
     "name": "stdout",
     "output_type": "stream",
     "text": [
      "readout data length = 770 clock cycle\n"
     ]
    },
    {
     "data": {
      "application/vnd.jupyter.widget-view+json": {
       "model_id": "08b440f1eced455a9d561a2fbc3d00c9",
       "version_major": 2,
       "version_minor": 0
      },
      "text/plain": [
       "  0%|          | 0/1 [00:00<?, ?it/s]"
      ]
     },
     "metadata": {},
     "output_type": "display_data"
    },
    {
     "name": "stdout",
     "output_type": "stream",
     "text": [
      "readout data length = 770 clock cycle\n"
     ]
    },
    {
     "data": {
      "application/vnd.jupyter.widget-view+json": {
       "model_id": "e57332be1b504415a55c96715e6eb4a7",
       "version_major": 2,
       "version_minor": 0
      },
      "text/plain": [
       "  0%|          | 0/1 [00:00<?, ?it/s]"
      ]
     },
     "metadata": {},
     "output_type": "display_data"
    },
    {
     "name": "stdout",
     "output_type": "stream",
     "text": [
      "readout data length = 770 clock cycle\n"
     ]
    },
    {
     "data": {
      "application/vnd.jupyter.widget-view+json": {
       "model_id": "358ae58417c1492e9415588d99dc4a04",
       "version_major": 2,
       "version_minor": 0
      },
      "text/plain": [
       "  0%|          | 0/1 [00:00<?, ?it/s]"
      ]
     },
     "metadata": {},
     "output_type": "display_data"
    },
    {
     "name": "stdout",
     "output_type": "stream",
     "text": [
      "readout data length = 770 clock cycle\n"
     ]
    },
    {
     "data": {
      "application/vnd.jupyter.widget-view+json": {
       "model_id": "f4d393466446411dba408fd9e04ca9ae",
       "version_major": 2,
       "version_minor": 0
      },
      "text/plain": [
       "  0%|          | 0/1 [00:00<?, ?it/s]"
      ]
     },
     "metadata": {},
     "output_type": "display_data"
    },
    {
     "name": "stdout",
     "output_type": "stream",
     "text": [
      "readout data length = 770 clock cycle\n"
     ]
    },
    {
     "data": {
      "application/vnd.jupyter.widget-view+json": {
       "model_id": "09a52b8dca774d339952d1f404b520ca",
       "version_major": 2,
       "version_minor": 0
      },
      "text/plain": [
       "  0%|          | 0/1 [00:00<?, ?it/s]"
      ]
     },
     "metadata": {},
     "output_type": "display_data"
    },
    {
     "name": "stdout",
     "output_type": "stream",
     "text": [
      "readout data length = 770 clock cycle\n"
     ]
    },
    {
     "data": {
      "application/vnd.jupyter.widget-view+json": {
       "model_id": "9e3d480a151b43b0a2b698cf49a0a049",
       "version_major": 2,
       "version_minor": 0
      },
      "text/plain": [
       "  0%|          | 0/1 [00:00<?, ?it/s]"
      ]
     },
     "metadata": {},
     "output_type": "display_data"
    },
    {
     "name": "stdout",
     "output_type": "stream",
     "text": [
      "readout data length = 770 clock cycle\n"
     ]
    },
    {
     "data": {
      "application/vnd.jupyter.widget-view+json": {
       "model_id": "50cf2145ee494873915920bbc1b3d285",
       "version_major": 2,
       "version_minor": 0
      },
      "text/plain": [
       "  0%|          | 0/1 [00:00<?, ?it/s]"
      ]
     },
     "metadata": {},
     "output_type": "display_data"
    },
    {
     "name": "stdout",
     "output_type": "stream",
     "text": [
      "readout data length = 770 clock cycle\n"
     ]
    },
    {
     "data": {
      "application/vnd.jupyter.widget-view+json": {
       "model_id": "d8a48a99f9114b85b4d017b1cb1ef2b2",
       "version_major": 2,
       "version_minor": 0
      },
      "text/plain": [
       "  0%|          | 0/1 [00:00<?, ?it/s]"
      ]
     },
     "metadata": {},
     "output_type": "display_data"
    },
    {
     "name": "stdout",
     "output_type": "stream",
     "text": [
      "readout data length = 770 clock cycle\n"
     ]
    },
    {
     "data": {
      "application/vnd.jupyter.widget-view+json": {
       "model_id": "bd24d7c0e5464049bad0d6e4cafb349d",
       "version_major": 2,
       "version_minor": 0
      },
      "text/plain": [
       "  0%|          | 0/1 [00:00<?, ?it/s]"
      ]
     },
     "metadata": {},
     "output_type": "display_data"
    },
    {
     "name": "stdout",
     "output_type": "stream",
     "text": [
      "readout data length = 770 clock cycle\n"
     ]
    },
    {
     "data": {
      "application/vnd.jupyter.widget-view+json": {
       "model_id": "d587885d008c42cd8e0848f4d8e51fcc",
       "version_major": 2,
       "version_minor": 0
      },
      "text/plain": [
       "  0%|          | 0/1 [00:00<?, ?it/s]"
      ]
     },
     "metadata": {},
     "output_type": "display_data"
    },
    {
     "name": "stdout",
     "output_type": "stream",
     "text": [
      "readout data length = 770 clock cycle\n"
     ]
    },
    {
     "data": {
      "application/vnd.jupyter.widget-view+json": {
       "model_id": "865b0d9b6a40459d8fd5602af24ee1a2",
       "version_major": 2,
       "version_minor": 0
      },
      "text/plain": [
       "  0%|          | 0/1 [00:00<?, ?it/s]"
      ]
     },
     "metadata": {},
     "output_type": "display_data"
    },
    {
     "name": "stdout",
     "output_type": "stream",
     "text": [
      "readout data length = 770 clock cycle\n"
     ]
    },
    {
     "data": {
      "application/vnd.jupyter.widget-view+json": {
       "model_id": "a12572a91fba4ffe9db3fc0692d86634",
       "version_major": 2,
       "version_minor": 0
      },
      "text/plain": [
       "  0%|          | 0/1 [00:00<?, ?it/s]"
      ]
     },
     "metadata": {},
     "output_type": "display_data"
    },
    {
     "name": "stdout",
     "output_type": "stream",
     "text": [
      "readout data length = 770 clock cycle\n"
     ]
    },
    {
     "data": {
      "application/vnd.jupyter.widget-view+json": {
       "model_id": "83409627af934711b25fcb69014152a1",
       "version_major": 2,
       "version_minor": 0
      },
      "text/plain": [
       "  0%|          | 0/1 [00:00<?, ?it/s]"
      ]
     },
     "metadata": {},
     "output_type": "display_data"
    },
    {
     "name": "stdout",
     "output_type": "stream",
     "text": [
      "readout data length = 770 clock cycle\n"
     ]
    },
    {
     "data": {
      "application/vnd.jupyter.widget-view+json": {
       "model_id": "adcf77cf8b7b45bda7e8bb7f232688ec",
       "version_major": 2,
       "version_minor": 0
      },
      "text/plain": [
       "  0%|          | 0/1 [00:00<?, ?it/s]"
      ]
     },
     "metadata": {},
     "output_type": "display_data"
    },
    {
     "name": "stdout",
     "output_type": "stream",
     "text": [
      "readout data length = 770 clock cycle\n"
     ]
    },
    {
     "data": {
      "application/vnd.jupyter.widget-view+json": {
       "model_id": "40fdf01f441c4fc29c8ff7dfd6ee71cf",
       "version_major": 2,
       "version_minor": 0
      },
      "text/plain": [
       "  0%|          | 0/1 [00:00<?, ?it/s]"
      ]
     },
     "metadata": {},
     "output_type": "display_data"
    },
    {
     "name": "stdout",
     "output_type": "stream",
     "text": [
      "readout data length = 770 clock cycle\n"
     ]
    },
    {
     "data": {
      "application/vnd.jupyter.widget-view+json": {
       "model_id": "3bdf41424dec4ffdbd0812e82ee67dd2",
       "version_major": 2,
       "version_minor": 0
      },
      "text/plain": [
       "  0%|          | 0/1 [00:00<?, ?it/s]"
      ]
     },
     "metadata": {},
     "output_type": "display_data"
    },
    {
     "name": "stdout",
     "output_type": "stream",
     "text": [
      "readout data length = 770 clock cycle\n"
     ]
    },
    {
     "data": {
      "application/vnd.jupyter.widget-view+json": {
       "model_id": "ff7f568479234604bd95392f62afaeb3",
       "version_major": 2,
       "version_minor": 0
      },
      "text/plain": [
       "  0%|          | 0/1 [00:00<?, ?it/s]"
      ]
     },
     "metadata": {},
     "output_type": "display_data"
    },
    {
     "name": "stdout",
     "output_type": "stream",
     "text": [
      "readout data length = 770 clock cycle\n"
     ]
    },
    {
     "data": {
      "application/vnd.jupyter.widget-view+json": {
       "model_id": "90d0223681c24b3487233b1722793fc0",
       "version_major": 2,
       "version_minor": 0
      },
      "text/plain": [
       "  0%|          | 0/1 [00:00<?, ?it/s]"
      ]
     },
     "metadata": {},
     "output_type": "display_data"
    },
    {
     "name": "stdout",
     "output_type": "stream",
     "text": [
      "readout data length = 770 clock cycle\n"
     ]
    },
    {
     "data": {
      "application/vnd.jupyter.widget-view+json": {
       "model_id": "cfd859461a614c989892c777080b6b0b",
       "version_major": 2,
       "version_minor": 0
      },
      "text/plain": [
       "  0%|          | 0/1 [00:00<?, ?it/s]"
      ]
     },
     "metadata": {},
     "output_type": "display_data"
    },
    {
     "name": "stdout",
     "output_type": "stream",
     "text": [
      "readout data length = 770 clock cycle\n"
     ]
    },
    {
     "data": {
      "application/vnd.jupyter.widget-view+json": {
       "model_id": "45e20388e8d64377b2bcf23693b51421",
       "version_major": 2,
       "version_minor": 0
      },
      "text/plain": [
       "  0%|          | 0/1 [00:00<?, ?it/s]"
      ]
     },
     "metadata": {},
     "output_type": "display_data"
    },
    {
     "name": "stdout",
     "output_type": "stream",
     "text": [
      "readout data length = 770 clock cycle\n"
     ]
    },
    {
     "data": {
      "application/vnd.jupyter.widget-view+json": {
       "model_id": "9af63ef822d14151b49bd8e0cc6bc63a",
       "version_major": 2,
       "version_minor": 0
      },
      "text/plain": [
       "  0%|          | 0/1 [00:00<?, ?it/s]"
      ]
     },
     "metadata": {},
     "output_type": "display_data"
    },
    {
     "name": "stdout",
     "output_type": "stream",
     "text": [
      "readout data length = 770 clock cycle\n"
     ]
    },
    {
     "data": {
      "application/vnd.jupyter.widget-view+json": {
       "model_id": "a0d74c98b400441ba51659ed5f6178d4",
       "version_major": 2,
       "version_minor": 0
      },
      "text/plain": [
       "  0%|          | 0/1 [00:00<?, ?it/s]"
      ]
     },
     "metadata": {},
     "output_type": "display_data"
    },
    {
     "name": "stdout",
     "output_type": "stream",
     "text": [
      "readout data length = 770 clock cycle\n"
     ]
    },
    {
     "data": {
      "application/vnd.jupyter.widget-view+json": {
       "model_id": "f75c7bdeb69c4ba7ba7003ca9910c565",
       "version_major": 2,
       "version_minor": 0
      },
      "text/plain": [
       "  0%|          | 0/1 [00:00<?, ?it/s]"
      ]
     },
     "metadata": {},
     "output_type": "display_data"
    },
    {
     "name": "stdout",
     "output_type": "stream",
     "text": [
      "readout data length = 770 clock cycle\n"
     ]
    },
    {
     "data": {
      "application/vnd.jupyter.widget-view+json": {
       "model_id": "856cdb44f1084218a8335d4f2386a236",
       "version_major": 2,
       "version_minor": 0
      },
      "text/plain": [
       "  0%|          | 0/1 [00:00<?, ?it/s]"
      ]
     },
     "metadata": {},
     "output_type": "display_data"
    },
    {
     "name": "stdout",
     "output_type": "stream",
     "text": [
      "readout data length = 770 clock cycle\n"
     ]
    },
    {
     "data": {
      "application/vnd.jupyter.widget-view+json": {
       "model_id": "d3be6e66d8dc42599bd8852cc2dfa0e7",
       "version_major": 2,
       "version_minor": 0
      },
      "text/plain": [
       "  0%|          | 0/1 [00:00<?, ?it/s]"
      ]
     },
     "metadata": {},
     "output_type": "display_data"
    },
    {
     "name": "stdout",
     "output_type": "stream",
     "text": [
      "readout data length = 770 clock cycle\n"
     ]
    },
    {
     "data": {
      "application/vnd.jupyter.widget-view+json": {
       "model_id": "558e9e9bae3a4f83bf292c78bb7d2a8b",
       "version_major": 2,
       "version_minor": 0
      },
      "text/plain": [
       "  0%|          | 0/1 [00:00<?, ?it/s]"
      ]
     },
     "metadata": {},
     "output_type": "display_data"
    },
    {
     "name": "stdout",
     "output_type": "stream",
     "text": [
      "readout data length = 770 clock cycle\n"
     ]
    },
    {
     "data": {
      "application/vnd.jupyter.widget-view+json": {
       "model_id": "ccd48d78408740c1bb347ed80b1100de",
       "version_major": 2,
       "version_minor": 0
      },
      "text/plain": [
       "  0%|          | 0/1 [00:00<?, ?it/s]"
      ]
     },
     "metadata": {},
     "output_type": "display_data"
    },
    {
     "name": "stdout",
     "output_type": "stream",
     "text": [
      "readout data length = 770 clock cycle\n"
     ]
    },
    {
     "data": {
      "application/vnd.jupyter.widget-view+json": {
       "model_id": "1caa37289e0543efacacdb384e8f1c05",
       "version_major": 2,
       "version_minor": 0
      },
      "text/plain": [
       "  0%|          | 0/1 [00:00<?, ?it/s]"
      ]
     },
     "metadata": {},
     "output_type": "display_data"
    },
    {
     "name": "stdout",
     "output_type": "stream",
     "text": [
      "readout data length = 770 clock cycle\n"
     ]
    },
    {
     "data": {
      "application/vnd.jupyter.widget-view+json": {
       "model_id": "d022a7c7913246aeaf5f67a3ef9d9782",
       "version_major": 2,
       "version_minor": 0
      },
      "text/plain": [
       "  0%|          | 0/1 [00:00<?, ?it/s]"
      ]
     },
     "metadata": {},
     "output_type": "display_data"
    },
    {
     "name": "stdout",
     "output_type": "stream",
     "text": [
      "readout data length = 770 clock cycle\n"
     ]
    },
    {
     "data": {
      "application/vnd.jupyter.widget-view+json": {
       "model_id": "c703a3b2a89b452fa606f3117c7bc6b6",
       "version_major": 2,
       "version_minor": 0
      },
      "text/plain": [
       "  0%|          | 0/1 [00:00<?, ?it/s]"
      ]
     },
     "metadata": {},
     "output_type": "display_data"
    },
    {
     "name": "stdout",
     "output_type": "stream",
     "text": [
      "readout data length = 770 clock cycle\n"
     ]
    },
    {
     "data": {
      "application/vnd.jupyter.widget-view+json": {
       "model_id": "da349e2a95134e08b6e0f8ed7419c07e",
       "version_major": 2,
       "version_minor": 0
      },
      "text/plain": [
       "  0%|          | 0/1 [00:00<?, ?it/s]"
      ]
     },
     "metadata": {},
     "output_type": "display_data"
    },
    {
     "name": "stdout",
     "output_type": "stream",
     "text": [
      "readout data length = 770 clock cycle\n"
     ]
    },
    {
     "data": {
      "application/vnd.jupyter.widget-view+json": {
       "model_id": "4505fa63f8bb4cdabfc32a790c9b075c",
       "version_major": 2,
       "version_minor": 0
      },
      "text/plain": [
       "  0%|          | 0/1 [00:00<?, ?it/s]"
      ]
     },
     "metadata": {},
     "output_type": "display_data"
    },
    {
     "name": "stdout",
     "output_type": "stream",
     "text": [
      "readout data length = 770 clock cycle\n"
     ]
    },
    {
     "data": {
      "application/vnd.jupyter.widget-view+json": {
       "model_id": "fd47b1122df44fc992f3e58a356b0715",
       "version_major": 2,
       "version_minor": 0
      },
      "text/plain": [
       "  0%|          | 0/1 [00:00<?, ?it/s]"
      ]
     },
     "metadata": {},
     "output_type": "display_data"
    },
    {
     "name": "stdout",
     "output_type": "stream",
     "text": [
      "readout data length = 770 clock cycle\n"
     ]
    },
    {
     "data": {
      "application/vnd.jupyter.widget-view+json": {
       "model_id": "ebf2fe220102426cb6d9c79f2649001d",
       "version_major": 2,
       "version_minor": 0
      },
      "text/plain": [
       "  0%|          | 0/1 [00:00<?, ?it/s]"
      ]
     },
     "metadata": {},
     "output_type": "display_data"
    },
    {
     "name": "stdout",
     "output_type": "stream",
     "text": [
      "readout data length = 770 clock cycle\n"
     ]
    },
    {
     "data": {
      "application/vnd.jupyter.widget-view+json": {
       "model_id": "65a893ef1b1742fab5639b3be41cd44f",
       "version_major": 2,
       "version_minor": 0
      },
      "text/plain": [
       "  0%|          | 0/1 [00:00<?, ?it/s]"
      ]
     },
     "metadata": {},
     "output_type": "display_data"
    },
    {
     "name": "stdout",
     "output_type": "stream",
     "text": [
      "readout data length = 770 clock cycle\n"
     ]
    },
    {
     "data": {
      "application/vnd.jupyter.widget-view+json": {
       "model_id": "ee5ef1be6a44452bbe25014a25f65ac0",
       "version_major": 2,
       "version_minor": 0
      },
      "text/plain": [
       "  0%|          | 0/1 [00:00<?, ?it/s]"
      ]
     },
     "metadata": {},
     "output_type": "display_data"
    },
    {
     "name": "stdout",
     "output_type": "stream",
     "text": [
      "readout data length = 770 clock cycle\n"
     ]
    },
    {
     "data": {
      "application/vnd.jupyter.widget-view+json": {
       "model_id": "651354b470c7493794b24f016d269292",
       "version_major": 2,
       "version_minor": 0
      },
      "text/plain": [
       "  0%|          | 0/1 [00:00<?, ?it/s]"
      ]
     },
     "metadata": {},
     "output_type": "display_data"
    },
    {
     "name": "stdout",
     "output_type": "stream",
     "text": [
      "readout data length = 770 clock cycle\n"
     ]
    },
    {
     "data": {
      "application/vnd.jupyter.widget-view+json": {
       "model_id": "7f98f62f7f2c474f850b53a9e112519e",
       "version_major": 2,
       "version_minor": 0
      },
      "text/plain": [
       "  0%|          | 0/1 [00:00<?, ?it/s]"
      ]
     },
     "metadata": {},
     "output_type": "display_data"
    },
    {
     "name": "stdout",
     "output_type": "stream",
     "text": [
      "readout data length = 770 clock cycle\n"
     ]
    },
    {
     "data": {
      "application/vnd.jupyter.widget-view+json": {
       "model_id": "1a04b3d249d644f08b4530c5ddf66821",
       "version_major": 2,
       "version_minor": 0
      },
      "text/plain": [
       "  0%|          | 0/1 [00:00<?, ?it/s]"
      ]
     },
     "metadata": {},
     "output_type": "display_data"
    },
    {
     "name": "stdout",
     "output_type": "stream",
     "text": [
      "readout data length = 770 clock cycle\n"
     ]
    },
    {
     "data": {
      "application/vnd.jupyter.widget-view+json": {
       "model_id": "399f33eeffa3449584c72d82e22a7f08",
       "version_major": 2,
       "version_minor": 0
      },
      "text/plain": [
       "  0%|          | 0/1 [00:00<?, ?it/s]"
      ]
     },
     "metadata": {},
     "output_type": "display_data"
    },
    {
     "name": "stdout",
     "output_type": "stream",
     "text": [
      "readout data length = 770 clock cycle\n"
     ]
    },
    {
     "data": {
      "application/vnd.jupyter.widget-view+json": {
       "model_id": "d9111b38458c4d029ece29453a0c9a8f",
       "version_major": 2,
       "version_minor": 0
      },
      "text/plain": [
       "  0%|          | 0/1 [00:00<?, ?it/s]"
      ]
     },
     "metadata": {},
     "output_type": "display_data"
    },
    {
     "name": "stdout",
     "output_type": "stream",
     "text": [
      "readout data length = 770 clock cycle\n"
     ]
    },
    {
     "data": {
      "application/vnd.jupyter.widget-view+json": {
       "model_id": "9c9ac16afe314b07815e086beffbc72c",
       "version_major": 2,
       "version_minor": 0
      },
      "text/plain": [
       "  0%|          | 0/1 [00:00<?, ?it/s]"
      ]
     },
     "metadata": {},
     "output_type": "display_data"
    },
    {
     "name": "stdout",
     "output_type": "stream",
     "text": [
      "readout data length = 770 clock cycle\n"
     ]
    },
    {
     "data": {
      "application/vnd.jupyter.widget-view+json": {
       "model_id": "cf00a5a4ac32424bab8c4811eed3f05d",
       "version_major": 2,
       "version_minor": 0
      },
      "text/plain": [
       "  0%|          | 0/1 [00:00<?, ?it/s]"
      ]
     },
     "metadata": {},
     "output_type": "display_data"
    },
    {
     "name": "stdout",
     "output_type": "stream",
     "text": [
      "readout data length = 770 clock cycle\n"
     ]
    },
    {
     "data": {
      "application/vnd.jupyter.widget-view+json": {
       "model_id": "3afd76a5519342e2862fbd1fc349bdba",
       "version_major": 2,
       "version_minor": 0
      },
      "text/plain": [
       "  0%|          | 0/1 [00:00<?, ?it/s]"
      ]
     },
     "metadata": {},
     "output_type": "display_data"
    },
    {
     "name": "stdout",
     "output_type": "stream",
     "text": [
      "readout data length = 770 clock cycle\n"
     ]
    },
    {
     "data": {
      "application/vnd.jupyter.widget-view+json": {
       "model_id": "d6417ead16ef420ebcb6efaa43d6b12f",
       "version_major": 2,
       "version_minor": 0
      },
      "text/plain": [
       "  0%|          | 0/1 [00:00<?, ?it/s]"
      ]
     },
     "metadata": {},
     "output_type": "display_data"
    },
    {
     "name": "stdout",
     "output_type": "stream",
     "text": [
      "readout data length = 770 clock cycle\n"
     ]
    },
    {
     "data": {
      "application/vnd.jupyter.widget-view+json": {
       "model_id": "a255a5ad39014983b3ebfc2678d0dd94",
       "version_major": 2,
       "version_minor": 0
      },
      "text/plain": [
       "  0%|          | 0/1 [00:00<?, ?it/s]"
      ]
     },
     "metadata": {},
     "output_type": "display_data"
    },
    {
     "name": "stdout",
     "output_type": "stream",
     "text": [
      "readout data length = 770 clock cycle\n"
     ]
    },
    {
     "data": {
      "application/vnd.jupyter.widget-view+json": {
       "model_id": "dca2b5fe43cb433699388d3c126afc2d",
       "version_major": 2,
       "version_minor": 0
      },
      "text/plain": [
       "  0%|          | 0/1 [00:00<?, ?it/s]"
      ]
     },
     "metadata": {},
     "output_type": "display_data"
    },
    {
     "name": "stdout",
     "output_type": "stream",
     "text": [
      "readout data length = 770 clock cycle\n"
     ]
    },
    {
     "data": {
      "application/vnd.jupyter.widget-view+json": {
       "model_id": "356b64c0025e48bba87dbf5b10e902c9",
       "version_major": 2,
       "version_minor": 0
      },
      "text/plain": [
       "  0%|          | 0/1 [00:00<?, ?it/s]"
      ]
     },
     "metadata": {},
     "output_type": "display_data"
    },
    {
     "name": "stdout",
     "output_type": "stream",
     "text": [
      "readout data length = 770 clock cycle\n"
     ]
    },
    {
     "data": {
      "application/vnd.jupyter.widget-view+json": {
       "model_id": "337c1d018eb547148e92a3fa11f14c89",
       "version_major": 2,
       "version_minor": 0
      },
      "text/plain": [
       "  0%|          | 0/1 [00:00<?, ?it/s]"
      ]
     },
     "metadata": {},
     "output_type": "display_data"
    },
    {
     "name": "stdout",
     "output_type": "stream",
     "text": [
      "readout data length = 770 clock cycle\n"
     ]
    },
    {
     "data": {
      "application/vnd.jupyter.widget-view+json": {
       "model_id": "b516dc0adf884ef48dffd0b4a148c033",
       "version_major": 2,
       "version_minor": 0
      },
      "text/plain": [
       "  0%|          | 0/1 [00:00<?, ?it/s]"
      ]
     },
     "metadata": {},
     "output_type": "display_data"
    },
    {
     "name": "stdout",
     "output_type": "stream",
     "text": [
      "readout data length = 770 clock cycle\n"
     ]
    },
    {
     "data": {
      "application/vnd.jupyter.widget-view+json": {
       "model_id": "b9aae50e311341b8a5c855d77a761cdd",
       "version_major": 2,
       "version_minor": 0
      },
      "text/plain": [
       "  0%|          | 0/1 [00:00<?, ?it/s]"
      ]
     },
     "metadata": {},
     "output_type": "display_data"
    },
    {
     "name": "stdout",
     "output_type": "stream",
     "text": [
      "readout data length = 770 clock cycle\n"
     ]
    },
    {
     "data": {
      "application/vnd.jupyter.widget-view+json": {
       "model_id": "d5bcf6914bf64027be7a9d578e23db35",
       "version_major": 2,
       "version_minor": 0
      },
      "text/plain": [
       "  0%|          | 0/1 [00:00<?, ?it/s]"
      ]
     },
     "metadata": {},
     "output_type": "display_data"
    },
    {
     "name": "stdout",
     "output_type": "stream",
     "text": [
      "readout data length = 770 clock cycle\n"
     ]
    },
    {
     "data": {
      "application/vnd.jupyter.widget-view+json": {
       "model_id": "f39e8c213429487480ba4697e40cb4fb",
       "version_major": 2,
       "version_minor": 0
      },
      "text/plain": [
       "  0%|          | 0/1 [00:00<?, ?it/s]"
      ]
     },
     "metadata": {},
     "output_type": "display_data"
    },
    {
     "name": "stdout",
     "output_type": "stream",
     "text": [
      "readout data length = 770 clock cycle\n"
     ]
    },
    {
     "data": {
      "application/vnd.jupyter.widget-view+json": {
       "model_id": "28a26680e12a44f6a99bba4a815eb03f",
       "version_major": 2,
       "version_minor": 0
      },
      "text/plain": [
       "  0%|          | 0/1 [00:00<?, ?it/s]"
      ]
     },
     "metadata": {},
     "output_type": "display_data"
    },
    {
     "name": "stdout",
     "output_type": "stream",
     "text": [
      "readout data length = 770 clock cycle\n"
     ]
    },
    {
     "data": {
      "application/vnd.jupyter.widget-view+json": {
       "model_id": "a4d50a10acc34c90a4d2c5c94462c9b6",
       "version_major": 2,
       "version_minor": 0
      },
      "text/plain": [
       "  0%|          | 0/1 [00:00<?, ?it/s]"
      ]
     },
     "metadata": {},
     "output_type": "display_data"
    },
    {
     "name": "stdout",
     "output_type": "stream",
     "text": [
      "readout data length = 770 clock cycle\n"
     ]
    },
    {
     "data": {
      "application/vnd.jupyter.widget-view+json": {
       "model_id": "d88adad21db24c369e745c83e59bf08d",
       "version_major": 2,
       "version_minor": 0
      },
      "text/plain": [
       "  0%|          | 0/1 [00:00<?, ?it/s]"
      ]
     },
     "metadata": {},
     "output_type": "display_data"
    },
    {
     "name": "stdout",
     "output_type": "stream",
     "text": [
      "readout data length = 770 clock cycle\n"
     ]
    },
    {
     "data": {
      "application/vnd.jupyter.widget-view+json": {
       "model_id": "a24356343d24426aa3ca6939cee5e8f2",
       "version_major": 2,
       "version_minor": 0
      },
      "text/plain": [
       "  0%|          | 0/1 [00:00<?, ?it/s]"
      ]
     },
     "metadata": {},
     "output_type": "display_data"
    },
    {
     "name": "stdout",
     "output_type": "stream",
     "text": [
      "readout data length = 770 clock cycle\n"
     ]
    },
    {
     "data": {
      "application/vnd.jupyter.widget-view+json": {
       "model_id": "32e41afd8295415f9e089f926871df04",
       "version_major": 2,
       "version_minor": 0
      },
      "text/plain": [
       "  0%|          | 0/1 [00:00<?, ?it/s]"
      ]
     },
     "metadata": {},
     "output_type": "display_data"
    },
    {
     "name": "stdout",
     "output_type": "stream",
     "text": [
      "readout data length = 770 clock cycle\n"
     ]
    },
    {
     "data": {
      "application/vnd.jupyter.widget-view+json": {
       "model_id": "ad307a3af1774d87b88dd8490216b606",
       "version_major": 2,
       "version_minor": 0
      },
      "text/plain": [
       "  0%|          | 0/1 [00:00<?, ?it/s]"
      ]
     },
     "metadata": {},
     "output_type": "display_data"
    },
    {
     "name": "stdout",
     "output_type": "stream",
     "text": [
      "readout data length = 770 clock cycle\n"
     ]
    },
    {
     "data": {
      "application/vnd.jupyter.widget-view+json": {
       "model_id": "e43540341dc94466b1ca73676d83376c",
       "version_major": 2,
       "version_minor": 0
      },
      "text/plain": [
       "  0%|          | 0/1 [00:00<?, ?it/s]"
      ]
     },
     "metadata": {},
     "output_type": "display_data"
    },
    {
     "name": "stdout",
     "output_type": "stream",
     "text": [
      "readout data length = 770 clock cycle\n"
     ]
    },
    {
     "data": {
      "application/vnd.jupyter.widget-view+json": {
       "model_id": "491af0704b7d45c681c412acbabc93d8",
       "version_major": 2,
       "version_minor": 0
      },
      "text/plain": [
       "  0%|          | 0/1 [00:00<?, ?it/s]"
      ]
     },
     "metadata": {},
     "output_type": "display_data"
    },
    {
     "name": "stdout",
     "output_type": "stream",
     "text": [
      "readout data length = 770 clock cycle\n"
     ]
    },
    {
     "data": {
      "application/vnd.jupyter.widget-view+json": {
       "model_id": "89655386d95e4a1e8105d67dcb832551",
       "version_major": 2,
       "version_minor": 0
      },
      "text/plain": [
       "  0%|          | 0/1 [00:00<?, ?it/s]"
      ]
     },
     "metadata": {},
     "output_type": "display_data"
    },
    {
     "name": "stdout",
     "output_type": "stream",
     "text": [
      "readout data length = 770 clock cycle\n"
     ]
    },
    {
     "data": {
      "application/vnd.jupyter.widget-view+json": {
       "model_id": "072bfad5bd0f4e558ae9f52bca3395dd",
       "version_major": 2,
       "version_minor": 0
      },
      "text/plain": [
       "  0%|          | 0/1 [00:00<?, ?it/s]"
      ]
     },
     "metadata": {},
     "output_type": "display_data"
    },
    {
     "name": "stdout",
     "output_type": "stream",
     "text": [
      "readout data length = 770 clock cycle\n"
     ]
    },
    {
     "data": {
      "application/vnd.jupyter.widget-view+json": {
       "model_id": "9306aadcb0bd403c9ea9cc8bdeba3a8f",
       "version_major": 2,
       "version_minor": 0
      },
      "text/plain": [
       "  0%|          | 0/1 [00:00<?, ?it/s]"
      ]
     },
     "metadata": {},
     "output_type": "display_data"
    },
    {
     "name": "stdout",
     "output_type": "stream",
     "text": [
      "readout data length = 770 clock cycle\n"
     ]
    },
    {
     "data": {
      "application/vnd.jupyter.widget-view+json": {
       "model_id": "49f395ec2de14a6a937685304348a3c7",
       "version_major": 2,
       "version_minor": 0
      },
      "text/plain": [
       "  0%|          | 0/1 [00:00<?, ?it/s]"
      ]
     },
     "metadata": {},
     "output_type": "display_data"
    },
    {
     "name": "stdout",
     "output_type": "stream",
     "text": [
      "readout data length = 770 clock cycle\n"
     ]
    },
    {
     "data": {
      "application/vnd.jupyter.widget-view+json": {
       "model_id": "1822bad90f764d82a6c9d0be76625e16",
       "version_major": 2,
       "version_minor": 0
      },
      "text/plain": [
       "  0%|          | 0/1 [00:00<?, ?it/s]"
      ]
     },
     "metadata": {},
     "output_type": "display_data"
    },
    {
     "name": "stdout",
     "output_type": "stream",
     "text": [
      "readout data length = 770 clock cycle\n"
     ]
    },
    {
     "data": {
      "application/vnd.jupyter.widget-view+json": {
       "model_id": "771d3dcc49fc41ff8982ae1e0fbbe5e2",
       "version_major": 2,
       "version_minor": 0
      },
      "text/plain": [
       "  0%|          | 0/1 [00:00<?, ?it/s]"
      ]
     },
     "metadata": {},
     "output_type": "display_data"
    },
    {
     "name": "stdout",
     "output_type": "stream",
     "text": [
      "readout data length = 770 clock cycle\n"
     ]
    },
    {
     "data": {
      "application/vnd.jupyter.widget-view+json": {
       "model_id": "3e55f788f04049f8b61a8d0e02b42c7f",
       "version_major": 2,
       "version_minor": 0
      },
      "text/plain": [
       "  0%|          | 0/1 [00:00<?, ?it/s]"
      ]
     },
     "metadata": {},
     "output_type": "display_data"
    },
    {
     "name": "stdout",
     "output_type": "stream",
     "text": [
      "readout data length = 770 clock cycle\n"
     ]
    },
    {
     "data": {
      "application/vnd.jupyter.widget-view+json": {
       "model_id": "4ebad2f2b2d5476b85705999db2c76a5",
       "version_major": 2,
       "version_minor": 0
      },
      "text/plain": [
       "  0%|          | 0/1 [00:00<?, ?it/s]"
      ]
     },
     "metadata": {},
     "output_type": "display_data"
    },
    {
     "name": "stdout",
     "output_type": "stream",
     "text": [
      "readout data length = 770 clock cycle\n"
     ]
    },
    {
     "data": {
      "application/vnd.jupyter.widget-view+json": {
       "model_id": "1c0a28a8c28a41d5951b561e40508cff",
       "version_major": 2,
       "version_minor": 0
      },
      "text/plain": [
       "  0%|          | 0/1 [00:00<?, ?it/s]"
      ]
     },
     "metadata": {},
     "output_type": "display_data"
    },
    {
     "name": "stdout",
     "output_type": "stream",
     "text": [
      "readout data length = 770 clock cycle\n"
     ]
    },
    {
     "data": {
      "application/vnd.jupyter.widget-view+json": {
       "model_id": "6f7852afb8af4807a4702ae9ded9e265",
       "version_major": 2,
       "version_minor": 0
      },
      "text/plain": [
       "  0%|          | 0/1 [00:00<?, ?it/s]"
      ]
     },
     "metadata": {},
     "output_type": "display_data"
    },
    {
     "name": "stdout",
     "output_type": "stream",
     "text": [
      "readout data length = 770 clock cycle\n"
     ]
    },
    {
     "data": {
      "application/vnd.jupyter.widget-view+json": {
       "model_id": "ead9b30395494b278759404f64c9a47b",
       "version_major": 2,
       "version_minor": 0
      },
      "text/plain": [
       "  0%|          | 0/1 [00:00<?, ?it/s]"
      ]
     },
     "metadata": {},
     "output_type": "display_data"
    },
    {
     "name": "stdout",
     "output_type": "stream",
     "text": [
      "readout data length = 770 clock cycle\n"
     ]
    },
    {
     "data": {
      "application/vnd.jupyter.widget-view+json": {
       "model_id": "6acd11cd2cb54db28a2748f690b5d725",
       "version_major": 2,
       "version_minor": 0
      },
      "text/plain": [
       "  0%|          | 0/1 [00:00<?, ?it/s]"
      ]
     },
     "metadata": {},
     "output_type": "display_data"
    },
    {
     "name": "stdout",
     "output_type": "stream",
     "text": [
      "readout data length = 770 clock cycle\n"
     ]
    },
    {
     "data": {
      "application/vnd.jupyter.widget-view+json": {
       "model_id": "46ca6d8bb649474889b987e906fed5c6",
       "version_major": 2,
       "version_minor": 0
      },
      "text/plain": [
       "  0%|          | 0/1 [00:00<?, ?it/s]"
      ]
     },
     "metadata": {},
     "output_type": "display_data"
    },
    {
     "name": "stdout",
     "output_type": "stream",
     "text": [
      "readout data length = 770 clock cycle\n"
     ]
    },
    {
     "data": {
      "application/vnd.jupyter.widget-view+json": {
       "model_id": "c7c33a183279430c84c5e926a7d9706e",
       "version_major": 2,
       "version_minor": 0
      },
      "text/plain": [
       "  0%|          | 0/1 [00:00<?, ?it/s]"
      ]
     },
     "metadata": {},
     "output_type": "display_data"
    },
    {
     "name": "stdout",
     "output_type": "stream",
     "text": [
      "readout data length = 770 clock cycle\n"
     ]
    },
    {
     "data": {
      "application/vnd.jupyter.widget-view+json": {
       "model_id": "f1d30368c86245ae8e363483c109dfbe",
       "version_major": 2,
       "version_minor": 0
      },
      "text/plain": [
       "  0%|          | 0/1 [00:00<?, ?it/s]"
      ]
     },
     "metadata": {},
     "output_type": "display_data"
    },
    {
     "name": "stdout",
     "output_type": "stream",
     "text": [
      "readout data length = 770 clock cycle\n"
     ]
    },
    {
     "data": {
      "application/vnd.jupyter.widget-view+json": {
       "model_id": "e3c9fdefd09d4ef2b004572bae33d57c",
       "version_major": 2,
       "version_minor": 0
      },
      "text/plain": [
       "  0%|          | 0/1 [00:00<?, ?it/s]"
      ]
     },
     "metadata": {},
     "output_type": "display_data"
    },
    {
     "name": "stdout",
     "output_type": "stream",
     "text": [
      "readout data length = 770 clock cycle\n"
     ]
    },
    {
     "data": {
      "application/vnd.jupyter.widget-view+json": {
       "model_id": "c21409c255f24fd6a242784de631e5b5",
       "version_major": 2,
       "version_minor": 0
      },
      "text/plain": [
       "  0%|          | 0/1 [00:00<?, ?it/s]"
      ]
     },
     "metadata": {},
     "output_type": "display_data"
    },
    {
     "name": "stdout",
     "output_type": "stream",
     "text": [
      "readout data length = 770 clock cycle\n"
     ]
    },
    {
     "data": {
      "application/vnd.jupyter.widget-view+json": {
       "model_id": "2b04d698241e4619ba187cd20dcfe56f",
       "version_major": 2,
       "version_minor": 0
      },
      "text/plain": [
       "  0%|          | 0/1 [00:00<?, ?it/s]"
      ]
     },
     "metadata": {},
     "output_type": "display_data"
    },
    {
     "name": "stdout",
     "output_type": "stream",
     "text": [
      "readout data length = 770 clock cycle\n"
     ]
    },
    {
     "data": {
      "application/vnd.jupyter.widget-view+json": {
       "model_id": "a03f2d4b822b432786113e03a2008d93",
       "version_major": 2,
       "version_minor": 0
      },
      "text/plain": [
       "  0%|          | 0/1 [00:00<?, ?it/s]"
      ]
     },
     "metadata": {},
     "output_type": "display_data"
    },
    {
     "name": "stdout",
     "output_type": "stream",
     "text": [
      "readout data length = 770 clock cycle\n"
     ]
    },
    {
     "data": {
      "application/vnd.jupyter.widget-view+json": {
       "model_id": "5b160799aed3456991c7d895febcc4b7",
       "version_major": 2,
       "version_minor": 0
      },
      "text/plain": [
       "  0%|          | 0/1 [00:00<?, ?it/s]"
      ]
     },
     "metadata": {},
     "output_type": "display_data"
    },
    {
     "name": "stdout",
     "output_type": "stream",
     "text": [
      "readout data length = 770 clock cycle\n"
     ]
    },
    {
     "data": {
      "application/vnd.jupyter.widget-view+json": {
       "model_id": "9577c7a3ab524abe82ca1aba749e808a",
       "version_major": 2,
       "version_minor": 0
      },
      "text/plain": [
       "  0%|          | 0/1 [00:00<?, ?it/s]"
      ]
     },
     "metadata": {},
     "output_type": "display_data"
    },
    {
     "name": "stdout",
     "output_type": "stream",
     "text": [
      "readout data length = 770 clock cycle\n"
     ]
    },
    {
     "data": {
      "application/vnd.jupyter.widget-view+json": {
       "model_id": "5528e22346334ec4a1cccca7b1d4ea0c",
       "version_major": 2,
       "version_minor": 0
      },
      "text/plain": [
       "  0%|          | 0/1 [00:00<?, ?it/s]"
      ]
     },
     "metadata": {},
     "output_type": "display_data"
    },
    {
     "name": "stdout",
     "output_type": "stream",
     "text": [
      "readout data length = 770 clock cycle\n"
     ]
    },
    {
     "data": {
      "application/vnd.jupyter.widget-view+json": {
       "model_id": "1e2765583e9a413f849e5f317134c64d",
       "version_major": 2,
       "version_minor": 0
      },
      "text/plain": [
       "  0%|          | 0/1 [00:00<?, ?it/s]"
      ]
     },
     "metadata": {},
     "output_type": "display_data"
    },
    {
     "name": "stdout",
     "output_type": "stream",
     "text": [
      "readout data length = 770 clock cycle\n"
     ]
    },
    {
     "data": {
      "application/vnd.jupyter.widget-view+json": {
       "model_id": "737b0d64d40d4026b7596c47620ea408",
       "version_major": 2,
       "version_minor": 0
      },
      "text/plain": [
       "  0%|          | 0/1 [00:00<?, ?it/s]"
      ]
     },
     "metadata": {},
     "output_type": "display_data"
    },
    {
     "name": "stdout",
     "output_type": "stream",
     "text": [
      "readout data length = 770 clock cycle\n"
     ]
    },
    {
     "data": {
      "application/vnd.jupyter.widget-view+json": {
       "model_id": "b738475e3d90446db69bf03e6a6da925",
       "version_major": 2,
       "version_minor": 0
      },
      "text/plain": [
       "  0%|          | 0/1 [00:00<?, ?it/s]"
      ]
     },
     "metadata": {},
     "output_type": "display_data"
    },
    {
     "name": "stdout",
     "output_type": "stream",
     "text": [
      "readout data length = 770 clock cycle\n"
     ]
    },
    {
     "data": {
      "application/vnd.jupyter.widget-view+json": {
       "model_id": "baa4e84883c7450c8a7dd4840a76d2a9",
       "version_major": 2,
       "version_minor": 0
      },
      "text/plain": [
       "  0%|          | 0/1 [00:00<?, ?it/s]"
      ]
     },
     "metadata": {},
     "output_type": "display_data"
    },
    {
     "name": "stdout",
     "output_type": "stream",
     "text": [
      "readout data length = 770 clock cycle\n"
     ]
    },
    {
     "data": {
      "application/vnd.jupyter.widget-view+json": {
       "model_id": "8a22c9d8ac56489e9ea35c94491c3ee2",
       "version_major": 2,
       "version_minor": 0
      },
      "text/plain": [
       "  0%|          | 0/1 [00:00<?, ?it/s]"
      ]
     },
     "metadata": {},
     "output_type": "display_data"
    },
    {
     "name": "stdout",
     "output_type": "stream",
     "text": [
      "readout data length = 770 clock cycle\n"
     ]
    },
    {
     "data": {
      "application/vnd.jupyter.widget-view+json": {
       "model_id": "4efd1c0f36f849c4bd138bcdbc3c4aec",
       "version_major": 2,
       "version_minor": 0
      },
      "text/plain": [
       "  0%|          | 0/1 [00:00<?, ?it/s]"
      ]
     },
     "metadata": {},
     "output_type": "display_data"
    },
    {
     "name": "stdout",
     "output_type": "stream",
     "text": [
      "readout data length = 770 clock cycle\n"
     ]
    },
    {
     "data": {
      "application/vnd.jupyter.widget-view+json": {
       "model_id": "4269a96106e54af6a13ed1b969fbad81",
       "version_major": 2,
       "version_minor": 0
      },
      "text/plain": [
       "  0%|          | 0/1 [00:00<?, ?it/s]"
      ]
     },
     "metadata": {},
     "output_type": "display_data"
    },
    {
     "name": "stdout",
     "output_type": "stream",
     "text": [
      "readout data length = 770 clock cycle\n"
     ]
    },
    {
     "data": {
      "application/vnd.jupyter.widget-view+json": {
       "model_id": "307cc3bd58c14e10bcde38307570d1d4",
       "version_major": 2,
       "version_minor": 0
      },
      "text/plain": [
       "  0%|          | 0/1 [00:00<?, ?it/s]"
      ]
     },
     "metadata": {},
     "output_type": "display_data"
    }
   ],
   "source": [
    "N_exp = 200 ### iteration in python\n",
    "\n",
    "data_tensor = np.zeros((N_exp, 2, data_len))\n",
    "\n",
    "for ii in range(N_exp):\n",
    "    #### load real qubit readout data\n",
    "    data_len = len(g_data[:,0,:].mean(axis = 0))\n",
    "    print(f'readout data length = {data_len} clock cycle')\n",
    "\n",
    "    ### we need to resample the data based on DAC freq\n",
    "    t_ns = data_len*1000/307.2\n",
    "    dac_len = int((t_ns/1000*6881.28)//16*16)\n",
    "\n",
    "    g_I_load = g_data[:,0,:].mean(axis = 0)\n",
    "    g_Q_load = g_data[:,1,:].mean(axis = 0)\n",
    "    e_I_load = e_data[:,0,:].mean(axis = 0)\n",
    "    e_Q_load = e_data[:,1,:].mean(axis = 0)\n",
    "    \n",
    "    \n",
    "    ### noise parameter\n",
    "    add_noise = True\n",
    "    noise_scale = 400\n",
    "\n",
    "    if add_noise == True:\n",
    "        g_I_add_noise = g_I_load + np.random.normal(0, noise_scale, size = g_I_load.shape[0])\n",
    "        g_Q_add_noise = g_Q_load + np.random.normal(0, noise_scale, size = g_Q_load.shape[0])\n",
    "        e_I_add_noise = e_I_load + np.random.normal(0, noise_scale, size = e_I_load.shape[0])\n",
    "        e_Q_add_noise = e_Q_load + np.random.normal(0, noise_scale, size = e_Q_load.shape[0])\n",
    "        \n",
    "    xp = np.linspace(1,data_len,data_len)\n",
    "    x = np.linspace(1,data_len,dac_len)\n",
    "    \n",
    "    ###################\n",
    "    ##   interp wf   ##\n",
    "    ###################\n",
    "    \n",
    "    g_I = np.interp(x, xp, g_I_load)\n",
    "    g_Q = np.interp(x, xp, g_Q_load)\n",
    "    e_I = np.interp(x, xp, e_I_load)\n",
    "    e_Q = np.interp(x, xp, e_Q_load)\n",
    "\n",
    "    if add_noise == True:\n",
    "        g_I = np.interp(x, xp, g_I_add_noise)\n",
    "        g_Q = np.interp(x, xp, g_Q_add_noise)\n",
    "        e_I = np.interp(x, xp, e_I_add_noise)\n",
    "        e_Q = np.interp(x, xp, e_Q_add_noise)\n",
    "        \n",
    "    ##########################\n",
    "    ##   loopback porgram   ##\n",
    "    ##########################\n",
    "        \n",
    "    DAC_gain = 1 ### tune this parameter to match the ADC level with the training data\n",
    "\n",
    "    class LoopbackProgram(AveragerProgram):\n",
    "        def initialize(self):\n",
    "            cfg=self.cfg   \n",
    "            res_ch = cfg[\"res_ch\"]\n",
    "\n",
    "            # set the nyquist zone\n",
    "            self.declare_gen(ch=cfg[\"res_ch\"], nqz=1)\n",
    "\n",
    "            # configure the readout lengths and downconversion frequencies (ensuring it is an available DAC frequency)\n",
    "            for ch in cfg[\"ro_chs\"]:\n",
    "                self.declare_readout(ch=ch, length=self.cfg[\"readout_length\"],\n",
    "                                     freq=self.cfg[\"pulse_freq\"], gen_ch=cfg[\"res_ch\"])\n",
    "\n",
    "            # convert frequency to DAC frequency (ensuring it is an available ADC frequency)\n",
    "            freq = self.freq2reg(cfg[\"pulse_freq\"],gen_ch=res_ch, ro_ch=cfg[\"ro_chs\"][0])\n",
    "            phase = self.deg2reg(cfg[\"res_phase\"], gen_ch=res_ch)\n",
    "            gain = cfg[\"pulse_gain\"]\n",
    "            self.default_pulse_registers(ch=res_ch, freq=freq, phase=phase, gain=gain)\n",
    "\n",
    "            style=self.cfg[\"pulse_style\"]\n",
    "\n",
    "\n",
    "            ########################\n",
    "            ### add g/e waveform ###\n",
    "            ########################\n",
    "    #         self.add_pulse(ch=cfg[\"res_ch\"], name = 'g_state', idata = DAC_gain*g_I, qdata = DAC_gain*g_Q)\n",
    "    #         self.add_pulse(ch=cfg[\"res_ch\"], name = 'e_state', idata = DAC_gain*e_I, qdata = DAC_gain*e_Q)\n",
    "            self.add_pulse(ch=cfg[\"res_ch\"], name = 'g_state', idata = DAC_gain*g_Q, qdata = DAC_gain*g_I)\n",
    "            self.add_pulse(ch=cfg[\"res_ch\"], name = 'e_state', idata = DAC_gain*e_Q, qdata = DAC_gain*e_I)\n",
    "\n",
    "            if style in [\"flat_top\",\"arb\"]:\n",
    "                sigma = cfg[\"sigma\"]\n",
    "                self.add_gauss(ch=res_ch, name=\"measure\", sigma=sigma, length=sigma*5)\n",
    "\n",
    "            if style == \"const\":\n",
    "                self.set_pulse_registers(ch=res_ch, style=style, length=cfg[\"length\"])\n",
    "            elif style == \"flat_top\":\n",
    "                # The first half of the waveform ramps up the pulse, the second half ramps down the pulse\n",
    "                self.set_pulse_registers(ch=res_ch, style=style, waveform=\"measure\", length=cfg[\"length\"])\n",
    "            elif style == \"arb\":\n",
    "                self.set_pulse_registers(ch=res_ch, style=style, waveform=\"measure\")\n",
    "\n",
    "            ########################\n",
    "            ### add g/e waveform ###\n",
    "            ########################   \n",
    "            elif style == \"g_state\":\n",
    "                self.set_pulse_registers(ch=res_ch, style=\"arb\", waveform=\"g_state\")\n",
    "            elif style == \"e_state\":\n",
    "                self.set_pulse_registers(ch=res_ch, style=\"arb\", waveform=\"e_state\")\n",
    "\n",
    "\n",
    "            self.synci(200)  # give processor some time to configure pulses\n",
    "\n",
    "        def body(self):\n",
    "            # fire the pulse\n",
    "            # trigger all declared ADCs\n",
    "            # pulse PMOD0_0 for a scope trigger\n",
    "            # pause the tProc until readout is done\n",
    "            # increment the time counter to give some time before the next measurement\n",
    "            # (the syncdelay also lets the tProc get back ahead of the clock)\n",
    "            self.measure(pulse_ch=self.cfg[\"res_ch\"], \n",
    "                         adcs=self.ro_chs,\n",
    "                         pins=[0], \n",
    "                         adc_trig_offset=self.cfg[\"adc_trig_offset\"],\n",
    "                         wait=True,\n",
    "                         syncdelay=self.us2cycles(self.cfg[\"relax_delay\"]))\n",
    "        \n",
    "    ##########################\n",
    "    ##   expt config        ##\n",
    "    ##########################            \n",
    "    DAC_phase = -90\n",
    "    readout_phase = phase_cal + DAC_phase\n",
    "\n",
    "    config={\"res_ch\":6, # --Fixed\n",
    "            \"ro_chs\":[0], # --Fixed\n",
    "            \"reps\":1, # --Fixed\n",
    "            \"relax_delay\":1.0, # --us\n",
    "            \"res_phase\": readout_phase, # updated readout phase\n",
    "            \"pulse_style\": \"e_state\", # --Fixed,\"const\"; \"g_state\"; \"e_state\"; \"arb\"\n",
    "\n",
    "            \"sigma\": 30, # [Clock ticks]\n",
    "\n",
    "            \"length\": 100, # [Clock ticks]\n",
    "            # Try varying length from 10-100 clock ticks\n",
    "\n",
    "            \"readout_length\":data_len, # [Clock ticks]\n",
    "            # Try varying readout_length from 50-1000 clock ticks\n",
    "\n",
    "            \"pulse_gain\": 30000, # [DAC units]\n",
    "            # Try varying pulse_gain from 500 to 30000 DAC units\n",
    "\n",
    "            \"pulse_freq\": 100, # [MHz]\n",
    "            # In this program the signal is up and downconverted digitally so you won't see any frequency\n",
    "            # components in the I/Q traces below. But since the signal gain depends on frequency, \n",
    "            # if you lower pulse_freq you will see an increased gain.\n",
    "\n",
    "            \"adc_trig_offset\": 190, # [Clock ticks]\n",
    "            # Try varying adc_trig_offset from 100 to 220 clock ticks\n",
    "\n",
    "            \"soft_avgs\":1\n",
    "            # Try varying soft_avgs from 1 to 200 averages\n",
    "\n",
    "           }\n",
    "\n",
    "    ###################\n",
    "    # Try it yourself !\n",
    "    ###################\n",
    "\n",
    "    prog =LoopbackProgram(soccfg, config)\n",
    "    iq_list = prog.acquire_decimated(soc, load_pulses=True, progress=True)#, debug=False)\n",
    "    data_tensor[ii] = iq_list[0]\n"
   ]
  },
  {
   "cell_type": "code",
   "execution_count": 36,
   "id": "4b9873d4",
   "metadata": {},
   "outputs": [
    {
     "data": {
      "text/plain": [
       "<matplotlib.legend.Legend at 0xffff89c75730>"
      ]
     },
     "execution_count": 36,
     "metadata": {},
     "output_type": "execute_result"
    },
    {
     "data": {
      "image/png": "[encoded data removed]",
      "text/plain": [
       "<Figure size 432x288 with 1 Axes>"
      ]
     },
     "metadata": {
      "needs_background": "light"
     },
     "output_type": "display_data"
    }
   ],
   "source": [
    "ADC_fake_gain = 27 ### tune this parameter to match the ADC level with the training data\n",
    "\n",
    "\n",
    "plt.plot(data_tensor[:,0,:].mean(axis = 0)*ADC_fake_gain, markersize=0.5, color = 'C0' , label=\"I value\")\n",
    "plt.plot(data_tensor[:,1,:].mean(axis = 0)*ADC_fake_gain, markersize=0.5, color = 'C1' ,label=\"Q value\")\n",
    "\n",
    "plt.plot(xp, e_I_load, markersize=1.5, color = 'grey', label = 'load - e-I', alpha = 0.5)\n",
    "plt.plot(xp, e_Q_load, markersize=1.5, color = 'grey', label = 'load - e-Q', alpha = 0.5)\n",
    "\n",
    "\n",
    "plt.ylabel(\"a.u.\")\n",
    "plt.xlabel(\"Clock ticks\")\n",
    "plt.title(\"Python Averages = \" + str(N_exp))\n",
    "plt.legend()"
   ]
  }
 ],
 "metadata": {
  "kernelspec": {
   "display_name": "Python 3",
   "language": "python",
   "name": "python3"
  },
  "language_info": {
   "codemirror_mode": {
    "name": "ipython",
    "version": 3
   },
   "file_extension": ".py",
   "mimetype": "text/x-python",
   "name": "python",
   "nbconvert_exporter": "python",
   "pygments_lexer": "ipython3",
   "version": "3.8.2"
  },
  "toc": {
   "base_numbering": 1,
   "nav_menu": {},
   "number_sections": true,
   "sideBar": true,
   "skip_h1_title": false,
   "title_cell": "Table of Contents",
   "title_sidebar": "Contents",
   "toc_cell": false,
   "toc_position": {
    "height": "calc(100% - 180px)",
    "left": "10px",
    "top": "150px",
    "width": "374.391px"
   },
   "toc_section_display": true,
   "toc_window_display": true
  }
 },
 "nbformat": 4,
 "nbformat_minor": 5
}
